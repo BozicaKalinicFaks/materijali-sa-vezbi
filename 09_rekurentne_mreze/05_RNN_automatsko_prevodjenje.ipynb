{
 "cells": [
  {
   "cell_type": "markdown",
   "metadata": {},
   "source": [
    "Ovaj primer demonstrira koriscenje rekurentnih neuronskih mreza u zadatku automatskog prevodjenja. Bice koriscen **sequence-to-sequence** pristup kojim se recenica izvornog jezika prevodi u recenicu ciljnog jezika. Recenice ce se posmatrati kao sekvence karaktera, iako je u praksi cesci pristup sekvenci reci. Recenice izvornog jezika i recenice ciljnog jezika mogu biti proizvoljnih duzina.  "
   ]
  },
  {
   "cell_type": "code",
   "execution_count": 91,
   "metadata": {},
   "outputs": [],
   "source": [
    "import numpy as np\n",
    "from matplotlib import pyplot as plt"
   ]
  },
  {
   "cell_type": "code",
   "execution_count": 41,
   "metadata": {},
   "outputs": [],
   "source": [
    "from keras.models import Model\n",
    "from keras.layers import Input, LSTM, Dense"
   ]
  },
  {
   "cell_type": "code",
   "execution_count": null,
   "metadata": {},
   "outputs": [],
   "source": []
  },
  {
   "cell_type": "markdown",
   "metadata": {},
   "source": [
    "#### Ideja algoritma."
   ]
  },
  {
   "cell_type": "markdown",
   "metadata": {},
   "source": [
    "Za ucenje ce se koristiti kompozicija mreza koja ima deo za kodiranje i deo za dekodiranje nalik slici. \n",
    "<img src='./encoder_decoder.png'>\n",
    "\n",
    "Zadatak mreze za kodiranje ce biti da svakoj recenici, niski karaktera izvornog jezika, pridruzi odgovarajucu medjureprezentaciju fiksne duzine. Zadatak mreze za dekodiranje ce biti da na osnovu dobijene medjureprezentacije generise odgovarajucu recenicu, nisku karaktera ciljnog jezika.\n",
    "\n",
    "Mreza za kodiranje i mreza da dekodiranje ce se trenirati zajednicki tako da maksimizuju verovatnocu predvidjanja tacne recenice.  \n",
    "\n",
    "\n",
    "Obe mreze ce biti LSTM mreze zbog pracenja zavisnosti u ulazima. \n",
    "\n",
    "Koraci algoritma:\n",
    "\n",
    "1) Pocecemo sa sekvencom izvornog jezika i njoj odgovarajucom sekvencom izlaznog jezika. \n",
    "2) Deo za kodiranje ce transformisati sekvencu izvornog jezika u vektor stanja i aktivacija koji ce predstavljati medjureprezentaciju recenice. Izlazi mreze nece biti interesantni. Tip ove mreze je many-to-one.  \n",
    "3) Deo za dekodiranje ce biti treniran tako da uci jezicki model ciljnog jezika. Jezicki model za dati ulazni karakter generise vektor verovatnoca izlaznih karaktera. Ovaj model se uci tako sto se mrezi prosledjuje ulaz oblika $<start\\ sequence>c_1c_2...c_k$ i zahteva izlaz oblika $c_1c_2...c_k<end\\ sequence>$ (tzv. teacher forcing). Pocetno stanje ove mreze odgovara medjureprezentaciji koju je generisao deo za kodiranje, a ulaz je token koji predstavlja pocetak sekvence. Treniranjem, dekoder uci da generise $targets[t+1...]$ za dato $targets[...t]$ i pocetno stanje."
   ]
  },
  {
   "cell_type": "markdown",
   "metadata": {},
   "source": [
    "#### Priprema podataka."
   ]
  },
  {
   "cell_type": "markdown",
   "metadata": {},
   "source": [
    "U primeru se koristi englesko-francuski skup podataka koji sadrzi recenice na engleskom jeziku i njihove prevode na francuski jezik. Skup se moze preuzeti sa adrese http://www.manythings.org/anki/."
   ]
  },
  {
   "cell_type": "code",
   "execution_count": 42,
   "metadata": {},
   "outputs": [],
   "source": [
    "# recenice izvornog jezika\n",
    "input_texts = []\n",
    "\n",
    "# skup karaktera izvornog jezika\n",
    "input_characters = set()\n",
    "\n",
    "# recenice ciljnog jezika\n",
    "target_texts = []\n",
    "\n",
    "# skup karaktera ciljnog jezika\n",
    "target_characters = set()"
   ]
  },
  {
   "cell_type": "code",
   "execution_count": null,
   "metadata": {},
   "outputs": [],
   "source": []
  },
  {
   "cell_type": "code",
   "execution_count": 43,
   "metadata": {},
   "outputs": [],
   "source": [
    "# putanja do skupa podataka koji ce se koristiti\n",
    "data_path = 'datasets/fra-eng/fra.txt'"
   ]
  },
  {
   "cell_type": "code",
   "execution_count": 44,
   "metadata": {},
   "outputs": [],
   "source": [
    "with open(data_path, 'r', encoding='utf-8') as f:\n",
    "    lines = f.read().split('\\n')"
   ]
  },
  {
   "cell_type": "code",
   "execution_count": 45,
   "metadata": {},
   "outputs": [
    {
     "name": "stdout",
     "output_type": "stream",
     "text": [
      "154884\n"
     ]
    }
   ],
   "source": [
    "# broj raspolozivih recenica\n",
    "number_of_sentence_pairs = len(lines)\n",
    "print (number_of_sentence_pairs)"
   ]
  },
  {
   "cell_type": "code",
   "execution_count": 46,
   "metadata": {},
   "outputs": [
    {
     "data": {
      "text/plain": [
       "'Wait!\\tAttendez !'"
      ]
     },
     "execution_count": 46,
     "metadata": {},
     "output_type": "execute_result"
    }
   ],
   "source": [
    "# primer jednog para recenica \n",
    "lines[10]"
   ]
  },
  {
   "cell_type": "code",
   "execution_count": 47,
   "metadata": {},
   "outputs": [],
   "source": [
    "# broj recenica koje ce se koristiti za treniranje\n",
    "number_of_samples = 10000  "
   ]
  },
  {
   "cell_type": "code",
   "execution_count": 48,
   "metadata": {},
   "outputs": [],
   "source": [
    "# vrsi se izdvajanje recenica izvornog i ciljnog jezika, kao i kreiranje odgovarajucih skupova karaktera \n",
    "\n",
    "for line in lines[: min(number_of_samples, number_of_sentence_pairs - 1)]:\n",
    "    \n",
    "    input_text, target_text = line.split('\\t')\n",
    "    \n",
    "    \n",
    "    # svakoj recenici ciljnog jezika pridruzicemo \"tab\" kao \"start sequence\" karakter i \"new line\" kao \"end sequence\" karakter\n",
    "    target_text = '\\t' + target_text + '\\n'\n",
    "    \n",
    "    input_texts.append(input_text)\n",
    "    target_texts.append(target_text)\n",
    "    \n",
    "    \n",
    "    for char in input_text:\n",
    "        if char not in input_characters:\n",
    "            input_characters.add(char)\n",
    "            \n",
    "    for char in target_text:\n",
    "        if char not in target_characters:\n",
    "            target_characters.add(char)"
   ]
  },
  {
   "cell_type": "code",
   "execution_count": null,
   "metadata": {},
   "outputs": [],
   "source": []
  },
  {
   "cell_type": "code",
   "execution_count": 49,
   "metadata": {},
   "outputs": [
    {
     "name": "stdout",
     "output_type": "stream",
     "text": [
      "Karakeri izvornog jezika:  [' ', '!', '$', '%', '&', \"'\", ',', '-', '.', '0', '1', '2', '3', '4', '5', '6', '7', '8', '9', ':', '?', 'A', 'B', 'C', 'D', 'E', 'F', 'G', 'H', 'I', 'J', 'K', 'L', 'M', 'N', 'O', 'P', 'Q', 'R', 'S', 'T', 'U', 'V', 'W', 'Y', 'a', 'b', 'c', 'd', 'e', 'f', 'g', 'h', 'i', 'j', 'k', 'l', 'm', 'n', 'o', 'p', 'q', 'r', 's', 't', 'u', 'v', 'w', 'x', 'y', 'z']\n",
      "Karakteri ciljnog jezika:  ['\\t', '\\n', ' ', '!', '$', '%', '&', \"'\", '(', ')', ',', '-', '.', '0', '1', '3', '5', '6', '8', '9', ':', '?', 'A', 'B', 'C', 'D', 'E', 'F', 'G', 'H', 'I', 'J', 'K', 'L', 'M', 'N', 'O', 'P', 'Q', 'R', 'S', 'T', 'U', 'V', 'Y', 'a', 'b', 'c', 'd', 'e', 'f', 'g', 'h', 'i', 'j', 'k', 'l', 'm', 'n', 'o', 'p', 'q', 'r', 's', 't', 'u', 'v', 'w', 'x', 'y', 'z', '\\xa0', '«', '»', 'À', 'Ç', 'É', 'Ê', 'à', 'â', 'ç', 'è', 'é', 'ê', 'ë', 'î', 'ï', 'ô', 'ù', 'û', 'œ', '\\u2009', '’', '\\u202f']\n"
     ]
    }
   ],
   "source": [
    "# sortiramo alfabetski skupove karaktera\n",
    "input_characters = sorted(list(input_characters))\n",
    "print ('Karakeri izvornog jezika: ', input_characters)\n",
    "target_characters = sorted(list(target_characters))\n",
    "print ('Karakteri ciljnog jezika: ', target_characters)"
   ]
  },
  {
   "cell_type": "code",
   "execution_count": null,
   "metadata": {},
   "outputs": [],
   "source": []
  },
  {
   "cell_type": "code",
   "execution_count": 50,
   "metadata": {},
   "outputs": [
    {
     "name": "stdout",
     "output_type": "stream",
     "text": [
      "Broj karaktera izvornog jezika:  71\n",
      "Broj karaktera ciljnog jezika:  94\n"
     ]
    }
   ],
   "source": [
    "# odredjujemo broj razlicitih karaktera sa kojima radimo u izvornom i ciljnom jeziku\n",
    "num_encoder_tokens = len(input_characters)\n",
    "print ('Broj karaktera izvornog jezika: ', num_encoder_tokens)\n",
    "num_decoder_tokens = len(target_characters)\n",
    "print ('Broj karaktera ciljnog jezika: ', num_decoder_tokens)"
   ]
  },
  {
   "cell_type": "code",
   "execution_count": null,
   "metadata": {},
   "outputs": [],
   "source": []
  },
  {
   "cell_type": "code",
   "execution_count": 51,
   "metadata": {},
   "outputs": [
    {
     "name": "stdout",
     "output_type": "stream",
     "text": [
      "Maksimalna duzina ulazne recenice:  16\n",
      "Maksimalna duzina ciljne recenice:  59\n"
     ]
    }
   ],
   "source": [
    "# odredjujemo duzinu najduze recenice izvornog tj. ciljnog jezika\n",
    "max_encoder_seq_length = max([len(txt) for txt in input_texts])\n",
    "print ('Maksimalna duzina ulazne recenice: ', max_encoder_seq_length)\n",
    "max_decoder_seq_length = max([len(txt) for txt in target_texts])\n",
    "print ('Maksimalna duzina ciljne recenice: ', max_decoder_seq_length)"
   ]
  },
  {
   "cell_type": "code",
   "execution_count": null,
   "metadata": {},
   "outputs": [],
   "source": []
  },
  {
   "cell_type": "code",
   "execution_count": 52,
   "metadata": {},
   "outputs": [],
   "source": [
    "# formiramo recnike koje preslikavaju karaktere u odgovarajuce numericke vrednosti\n",
    "input_token_index = dict([(char, i) for i, char in enumerate(input_characters)])\n",
    "target_token_index = dict([(char, i) for i, char in enumerate(target_characters)])"
   ]
  },
  {
   "cell_type": "code",
   "execution_count": 54,
   "metadata": {},
   "outputs": [
    {
     "name": "stdout",
     "output_type": "stream",
     "text": [
      "45\n",
      "75\n"
     ]
    }
   ],
   "source": [
    "# na primer, slovo 'a' engleskog jezika se prislikava u kod 45, \n",
    "# dok se slovo 'Ç' francuskog jezika preslikava u kod 75 \n",
    "print (input_token_index['a'])\n",
    "print (target_token_index['Ç'])"
   ]
  },
  {
   "cell_type": "code",
   "execution_count": null,
   "metadata": {},
   "outputs": [],
   "source": []
  },
  {
   "cell_type": "markdown",
   "metadata": {},
   "source": [
    "** Kreiranje skupova za ucenje. **"
   ]
  },
  {
   "cell_type": "markdown",
   "metadata": {},
   "source": [
    "Za ucenje su nam potrebna tri skupa: skup koji kodira recenice izvornog jezika (encoder_input_data) koji je nephodan za obucavanje mreze za kodiranje, i dva skupa koja ce biti koriscena od strane mreze za dekodiranje (decoder_input_data i decoder_target_data) kojim ce se uciti jezicki model ciljnog jezika. \n",
    "\n",
    "Ovi skupovi ce biti prikazani kao 3D tenzori: svakoj recenici ce biti pridruzen niz brojeva koji odgovaraju pozicijama karaktera u skupu karaktera, a zatim ce se pojedinacni karakteri kodirati odgovarajucim one-hot reprezentacijama. Prva dimenzija ce predstavljati broj recenica sa kojima se radi, druga maksimalni broj karaktera koji se moze naci u recenici, a treca broj karaktera kojim se raspolaze u jeziku. "
   ]
  },
  {
   "cell_type": "code",
   "execution_count": 55,
   "metadata": {},
   "outputs": [],
   "source": [
    "encoder_input_data = np.zeros((len(input_texts), max_encoder_seq_length, num_encoder_tokens), dtype='float32')\n",
    "decoder_input_data = np.zeros((len(input_texts), max_decoder_seq_length, num_decoder_tokens), dtype='float32')\n",
    "decoder_target_data = np.zeros((len(input_texts), max_decoder_seq_length, num_decoder_tokens),dtype='float32')"
   ]
  },
  {
   "cell_type": "code",
   "execution_count": 56,
   "metadata": {},
   "outputs": [],
   "source": [
    "for i, (input_text, target_text) in enumerate(zip(input_texts, target_texts)):\n",
    "    for t, char in enumerate(input_text):\n",
    "        encoder_input_data[i, t, input_token_index[char]] = 1.\n",
    "        \n",
    "    for t, char in enumerate(target_text):\n",
    "        decoder_input_data[i, t, target_token_index[char]] = 1.\n",
    "        if t > 0:\n",
    "            decoder_target_data[i, t - 1, target_token_index[char]] = 1."
   ]
  },
  {
   "cell_type": "code",
   "execution_count": 57,
   "metadata": {},
   "outputs": [
    {
     "data": {
      "text/plain": [
       "(10000, 16, 71)"
      ]
     },
     "execution_count": 57,
     "metadata": {},
     "output_type": "execute_result"
    }
   ],
   "source": [
    "# primeri dobijenih skupova podataka \n",
    "encoder_input_data.shape"
   ]
  },
  {
   "cell_type": "markdown",
   "metadata": {},
   "source": [
    "Model mreze sa kojim se radi nije sekvencijalni. Sekvencijalni modeli pretpostavljaju da mreza ima tacno jedan ulaz i tacno jedan izlaz i da se izmedju nalaze uvezani slojevi. Mreza koja se koristi u automatskom prevodjenju zajednicki uci i koder i dekoder sa svojim ulazima. Praksa je da se u ovakvim slucajevima koristi funkcionalni API Keras biblioteke. "
   ]
  },
  {
   "cell_type": "markdown",
   "metadata": {},
   "source": [
    "#### Deo za kodiranje. "
   ]
  },
  {
   "cell_type": "code",
   "execution_count": 90,
   "metadata": {},
   "outputs": [],
   "source": [
    "# duzina medjureprezentacije recenice izvornog jezika; u literaturi se ovo zove i latentna dimenzija dela za kodiranje\n",
    "latent_dim = 256  \n",
    "\n",
    "# ulazni tenzor\n",
    "encoder_inputs = Input(shape=(None, num_encoder_tokens))\n",
    "\n",
    "# LSTM sloj: broj LSTM celija u sloju odgovara duzini medjureprezentacije recenice izvornog jezika \n",
    "encoder_lstm = LSTM(latent_dim, return_state=True)\n",
    "\n",
    "# rezultat LSTM sloja je izlaz samo poslednje celije sloja, njene aktivacije i njeno stanje  \n",
    "encoder_outputs, state_h, state_c = encoder_lstm(encoder_inputs)\n",
    "\n",
    "# za dalji rad bice potrebne samo vrednosti aktivacija i stanje mreze - one ce sluziti kao kontekst za prevodjenje\n",
    "encoder_states = [state_h, state_c]"
   ]
  },
  {
   "cell_type": "markdown",
   "metadata": {},
   "source": [
    "#### Deo za dekodiranje."
   ]
  },
  {
   "cell_type": "code",
   "execution_count": 59,
   "metadata": {},
   "outputs": [],
   "source": [
    "# ulazni tenzor\n",
    "decoder_inputs = Input(shape=(None, num_decoder_tokens))\n",
    "\n",
    "# LSTM sloj: broj LSTM celija u sloju odgovara duzini medjureprezentacije recenice dela za kodiranje \n",
    "# ovaj sloj ce vratiti izlaz svih pojedinacnih celija, vrednosti njihovih aktivacija i stanja \n",
    "# vrednosti stanja necemo koristiti u procesu treniranja modela, ali cemo ih koristiti u delu vezanom za zakljucivanje\n",
    "decoder_lstm = LSTM(latent_dim, return_sequences=True, return_state=True)\n",
    "\n",
    "# prilikom kreiranje sloja, za inicijalno stanje LSTM sloja se koristi medjureprezentacija dobijena od strane dela za kodiranje \n",
    "decoder_outputs, _, _ = decoder_lstm(decoder_inputs, initial_state=encoder_states)\n",
    "\n",
    "# kako dekoder koristimo za predikciju verovatnoca pojedinacnih karaktera, dodajemo gusti sloj \n",
    "# koji ima onoliko celija koliko ima karaktera u ciljnom jeziku; kao aktivaciju koristimo softmax\n",
    "decoder_dense = Dense(num_decoder_tokens, activation='softmax')\n",
    "\n",
    "# izlazni tenzor\n",
    "decoder_outputs = decoder_dense(decoder_outputs)"
   ]
  },
  {
   "cell_type": "markdown",
   "metadata": {},
   "source": [
    "#### Konacan model.  "
   ]
  },
  {
   "cell_type": "code",
   "execution_count": 60,
   "metadata": {},
   "outputs": [],
   "source": [
    "# model ocekuje zadavanje ulaznih tenzora i izlazne transformacije\n",
    "model = Model([encoder_inputs, decoder_inputs], decoder_outputs)"
   ]
  },
  {
   "cell_type": "code",
   "execution_count": 103,
   "metadata": {},
   "outputs": [],
   "source": [
    "# duzina paketica za treniranje\n",
    "batch_size = 64\n",
    "\n",
    "# broj epoha\n",
    "epochs = 20"
   ]
  },
  {
   "cell_type": "code",
   "execution_count": 104,
   "metadata": {},
   "outputs": [],
   "source": [
    "# koristice se rmsprop optimizator, a kao loss funkcija ce se koristiti kategoricka unakrsna entropija\n",
    "model.compile(optimizer='rmsprop', loss='categorical_crossentropy', metrics=['acc'])"
   ]
  },
  {
   "cell_type": "code",
   "execution_count": 105,
   "metadata": {},
   "outputs": [],
   "source": [
    "history = model.fit([encoder_input_data, decoder_input_data], decoder_target_data, batch_size=batch_size, epochs=epochs, validation_split=0.2, verbose = 0)"
   ]
  },
  {
   "cell_type": "code",
   "execution_count": 106,
   "metadata": {},
   "outputs": [
    {
     "data": {
      "text/plain": [
       "<matplotlib.legend.Legend at 0x11d2fd550>"
      ]
     },
     "execution_count": 106,
     "metadata": {},
     "output_type": "execute_result"
    },
    {
     "data": {
      "image/png": "[encoded data removed]",
      "text/plain": [
       "<matplotlib.figure.Figure at 0x11d072e10>"
      ]
     },
     "metadata": {},
     "output_type": "display_data"
    }
   ],
   "source": [
    "epochs_vals = range(0, epochs)\n",
    "losses=history.history['loss']\n",
    "val_losses=history.history['val_loss']\n",
    "plt.title('Losses')\n",
    "plt.plot(epochs_vals, losses, label='train loss')\n",
    "plt.plot(epochs_vals, val_losses, label='validation loss')\n",
    "plt.legend(loc='best')"
   ]
  },
  {
   "cell_type": "code",
   "execution_count": 107,
   "metadata": {},
   "outputs": [
    {
     "data": {
      "text/plain": [
       "<matplotlib.legend.Legend at 0x11dc5ca90>"
      ]
     },
     "execution_count": 107,
     "metadata": {},
     "output_type": "execute_result"
    },
    {
     "data": {
      "image/png": "[encoded data removed]",
      "text/plain": [
       "<matplotlib.figure.Figure at 0x11d1f1cc0>"
      ]
     },
     "metadata": {},
     "output_type": "display_data"
    }
   ],
   "source": [
    "epochs_vals = range(0, epochs)\n",
    "acc=history.history['acc']\n",
    "val_acc=history.history['val_acc']\n",
    "plt.title('Accuracy')\n",
    "plt.plot(epochs_vals, acc, label='train accuracy')\n",
    "plt.plot(epochs_vals, val_acc, label='validation accuracy')\n",
    "plt.legend(loc='best')"
   ]
  },
  {
   "cell_type": "code",
   "execution_count": null,
   "metadata": {},
   "outputs": [],
   "source": [
    "# Cuvamo model\n",
    "model.save('s2s.h5')"
   ]
  },
  {
   "cell_type": "markdown",
   "metadata": {},
   "source": [
    "** Evaluacija modela. **"
   ]
  },
  {
   "cell_type": "markdown",
   "metadata": {},
   "source": [
    "Da bi se evaluirao ovako dobijeni model, potrebno je za recenice skupa za testiranje generisati odgovarajuce prevode. Ovo se radi tako sto se: \n",
    "\n",
    "1) ulazna recenica prevede u odgovarajucu medjureprezentaciju tako sto se propusti kroz deo za kodiranje\n",
    "\n",
    "2) na osnovu ovako dobijene reprezentacije i \"start sequence\" ulaza, pusta se da dekoder generise recenicu ciljnog jezika. Do kraja recenice se stize ili kada se generise \"end sequence\" karakter ili kada se dostigne maksimalna dozvoljena duzina. Proces generisanja se sastoji u pracenju pojedinacnih izlaza i njihovom prosledjivanju na ulazu sledecim iteracijama. "
   ]
  },
  {
   "cell_type": "code",
   "execution_count": 73,
   "metadata": {},
   "outputs": [
    {
     "name": "stdout",
     "output_type": "stream",
     "text": [
      "_________________________________________________________________\n",
      "Layer (type)                 Output Shape              Param #   \n",
      "=================================================================\n",
      "input_6 (InputLayer)         (None, None, 71)          0         \n",
      "_________________________________________________________________\n",
      "lstm_6 (LSTM)                [(None, 256), (None, 256) 335872    \n",
      "=================================================================\n",
      "Total params: 335,872\n",
      "Trainable params: 335,872\n",
      "Non-trainable params: 0\n",
      "_________________________________________________________________\n"
     ]
    }
   ],
   "source": [
    "# 1) encode input and retrieve initial decoder state\n",
    "# 2) run one step of decoder with this initial state and a \"start of sequence\" token as target. Output will be the next target token\n",
    "# 3) Repeat with the current target token and current states\n",
    "\n",
    "# Model koji odgovara delu za kodiranje\n",
    "# nacin zadavanja je u skladu sa funkcionalnim API-jem Keras biblioteke pa se ocekuju ulazni i izlazni tenzor \n",
    "encoder_model = Model(encoder_inputs, encoder_states)\n",
    "\n",
    "\n",
    "encoder_model.summary()"
   ]
  },
  {
   "cell_type": "code",
   "execution_count": 75,
   "metadata": {},
   "outputs": [
    {
     "name": "stdout",
     "output_type": "stream",
     "text": [
      "__________________________________________________________________________________________________\n",
      "Layer (type)                    Output Shape         Param #     Connected to                     \n",
      "==================================================================================================\n",
      "input_7 (InputLayer)            (None, None, 94)     0                                            \n",
      "__________________________________________________________________________________________________\n",
      "input_10 (InputLayer)           (None, 256)          0                                            \n",
      "__________________________________________________________________________________________________\n",
      "input_11 (InputLayer)           (None, 256)          0                                            \n",
      "__________________________________________________________________________________________________\n",
      "lstm_7 (LSTM)                   [(None, None, 256),  359424      input_7[0][0]                    \n",
      "                                                                 input_10[0][0]                   \n",
      "                                                                 input_11[0][0]                   \n",
      "__________________________________________________________________________________________________\n",
      "dense_3 (Dense)                 (None, None, 94)     24158       lstm_7[2][0]                     \n",
      "==================================================================================================\n",
      "Total params: 383,582\n",
      "Trainable params: 383,582\n",
      "Non-trainable params: 0\n",
      "__________________________________________________________________________________________________\n"
     ]
    }
   ],
   "source": [
    "# Model koji odgovara delu za dekodiranje \n",
    "\n",
    "# ulazni tenzori\n",
    "decoder_state_input_h = Input(shape=(latent_dim,))\n",
    "decoder_state_input_c = Input(shape=(latent_dim,))\n",
    "decoder_states_inputs = [decoder_state_input_h, decoder_state_input_c]\n",
    "\n",
    "# propustanje kroz lstm sloj\n",
    "decoder_outputs, state_h, state_c = decoder_lstm(decoder_inputs, initial_state=decoder_states_inputs)\n",
    "decoder_states = [state_h, state_c]\n",
    "\n",
    "# uvezivanje sa izlaznim slojem\n",
    "decoder_outputs = decoder_dense(decoder_outputs)\n",
    "\n",
    "# spajanje svih delova u model \n",
    "decoder_model = Model([decoder_inputs] + decoder_states_inputs, [decoder_outputs] + decoder_states)\n",
    "\n",
    "decoder_model.summary()"
   ]
  },
  {
   "cell_type": "code",
   "execution_count": 81,
   "metadata": {},
   "outputs": [],
   "source": [
    "# funkcije koje vracaju vrednosti karaktera za zadate numericke vrednosti \n",
    "reverse_input_char_index = dict( (i, char) for char, i in input_token_index.items())\n",
    "reverse_target_char_index = dict( (i, char) for char, i in target_token_index.items())"
   ]
  },
  {
   "cell_type": "code",
   "execution_count": 82,
   "metadata": {},
   "outputs": [
    {
     "name": "stdout",
     "output_type": "stream",
     "text": [
      "a\n",
      "Ç\n"
     ]
    }
   ],
   "source": [
    "print(reverse_input_char_index[45])\n",
    "print(reverse_target_char_index[75])"
   ]
  },
  {
   "cell_type": "code",
   "execution_count": 83,
   "metadata": {},
   "outputs": [],
   "source": [
    "def decode_sequence(input_seq):\n",
    "\n",
    "    # zbog jednostavnosti je pretpostavka da je velicina paketica za testiranje 1 (batch_size =1)\n",
    "\n",
    "\n",
    "    # ulazna sekvenca se propusta kroz deo za kodiranje\n",
    "    states_value = encoder_model.predict(input_seq)\n",
    "\n",
    "    # generise se vektor koji odgovara \"start sequence\" karakteru (\\t)\n",
    "    target_seq = np.zeros((1, 1, num_decoder_tokens))\n",
    "    target_seq[0, 0, target_token_index['\\t']] = 1.\n",
    "\n",
    "    # postavlja se indikator kojim se proverava da li je generisana izlazna recenica ili ne\n",
    "    stop_condition = False\n",
    "    \n",
    "    # izlazna recenica\n",
    "    decoded_sentence = ''\n",
    "    \n",
    "    \n",
    "    # sve dok se ne stigne do kraja recenice\n",
    "    while not stop_condition:\n",
    "        \n",
    "        # prati se izlaz mreze za dekodiranje: prosledjuje joj se ulazni karakter i trenutno stanje mreze\n",
    "        # u prvoj iteraciji trenutno stanje mreze odgovara izlazu dela za kodiranje\n",
    "        output_tokens, h, c = decoder_model.predict([target_seq] + states_value)\n",
    "\n",
    "        # na osnovu izlazne raspodele verovatnoca, odredjuje se karakter sa najvecom verovatnocom \n",
    "        sampled_token_index = np.argmax(output_tokens[0, -1, :])\n",
    "        sampled_char = reverse_target_char_index[sampled_token_index]\n",
    "        \n",
    "        # izdvojeni karakter se nadovezuje na izlaznu recenicu\n",
    "        decoded_sentence += sampled_char\n",
    "\n",
    "        \n",
    "        # proverava se da li se stiglo do kraja recenice \n",
    "        # tj. da li se doslo do \"end sequence\" karaktera (znaka za novi red) ili maksimalne duzine izlaza\n",
    "        if (sampled_char == '\\n' or len(decoded_sentence) > max_decoder_seq_length):\n",
    "            stop_condition = True\n",
    "\n",
    "            \n",
    "        # pripreme za nerednu iteraciju:\n",
    "        \n",
    "        # odredjuje se naredni ulazni karakter - izlaz prethodne iteracije \n",
    "        target_seq = np.zeros((1, 1, num_decoder_tokens))\n",
    "        target_seq[0, 0, sampled_token_index] = 1.\n",
    "\n",
    "        # azuriraju se stanja mreze \n",
    "        states_value = [h, c]\n",
    "\n",
    "    return decoded_sentence"
   ]
  },
  {
   "cell_type": "code",
   "execution_count": 89,
   "metadata": {},
   "outputs": [
    {
     "name": "stdout",
     "output_type": "stream",
     "text": [
      "-\n",
      "Input sentence: Wait!\n",
      "Decoded sentence: Arrête de chent !\n",
      "\n",
      "Humman translated sentence: \tAttendez !\n",
      "\n",
      "-\n",
      "Input sentence: Go on.\n",
      "Decoded sentence: Arrête de chent !\n",
      "\n",
      "Humman translated sentence: \tPoursuis.\n",
      "\n",
      "-\n",
      "Input sentence: Go on.\n",
      "Decoded sentence: Arrête de chent !\n",
      "\n",
      "Humman translated sentence: \tContinuez.\n",
      "\n",
      "-\n",
      "Input sentence: Go on.\n",
      "Decoded sentence: Arrête de chent !\n",
      "\n",
      "Humman translated sentence: \tPoursuivez.\n",
      "\n",
      "-\n",
      "Input sentence: I see.\n",
      "Decoded sentence: Je suis prait de chante.\n",
      "\n",
      "Humman translated sentence: \tJe comprends.\n",
      "\n",
      "-\n",
      "Input sentence: I try.\n",
      "Decoded sentence: Je suis prait de chante.\n",
      "\n",
      "Humman translated sentence: \tJ'essaye.\n",
      "\n",
      "-\n",
      "Input sentence: I won!\n",
      "Decoded sentence: Je suis prais de coure.\n",
      "\n",
      "Humman translated sentence: \tJ'ai gagné !\n",
      "\n",
      "-\n",
      "Input sentence: I won!\n",
      "Decoded sentence: Je suis prais de coure.\n",
      "\n",
      "Humman translated sentence: \tJe l'ai emporté !\n",
      "\n",
      "-\n",
      "Input sentence: Oh no!\n",
      "Decoded sentence: Qui l'a parte ?\n",
      "\n",
      "Humman translated sentence: \tOh non !\n",
      "\n",
      "-\n",
      "Input sentence: Attack!\n",
      "Decoded sentence: Arrête de chent !\n",
      "\n",
      "Humman translated sentence: \tAttaque !\n",
      "\n",
      "-\n",
      "Input sentence: Attack!\n",
      "Decoded sentence: Arrête de chent !\n",
      "\n",
      "Humman translated sentence: \tAttaquez !\n",
      "\n",
      "-\n",
      "Input sentence: Cheers!\n",
      "Decoded sentence: Laissez-moi !\n",
      "\n",
      "Humman translated sentence: \tSanté !\n",
      "\n",
      "-\n",
      "Input sentence: Cheers!\n",
      "Decoded sentence: Laissez-moi !\n",
      "\n",
      "Humman translated sentence: \tÀ votre santé !\n",
      "\n",
      "-\n",
      "Input sentence: Cheers!\n",
      "Decoded sentence: Laissez-moi !\n",
      "\n",
      "Humman translated sentence: \tMerci !\n",
      "\n",
      "-\n",
      "Input sentence: Cheers!\n",
      "Decoded sentence: Laissez-moi !\n",
      "\n",
      "Humman translated sentence: \tTchin-tchin !\n",
      "\n",
      "-\n",
      "Input sentence: Get up.\n",
      "Decoded sentence: Arrête de chent !\n",
      "\n",
      "Humman translated sentence: \tLève-toi.\n",
      "\n",
      "-\n",
      "Input sentence: Go now.\n",
      "Decoded sentence: Arrête de chent !\n",
      "\n",
      "Humman translated sentence: \tVa, maintenant.\n",
      "\n",
      "-\n",
      "Input sentence: Go now.\n",
      "Decoded sentence: Arrête de chent !\n",
      "\n",
      "Humman translated sentence: \tAllez-y maintenant.\n",
      "\n",
      "-\n",
      "Input sentence: Go now.\n",
      "Decoded sentence: Arrête de chent !\n",
      "\n",
      "Humman translated sentence: \tVas-y maintenant.\n",
      "\n",
      "-\n",
      "Input sentence: Got it!\n",
      "Decoded sentence: Arrête de chent !\n",
      "\n",
      "Humman translated sentence: \tJ'ai pigé !\n",
      "\n",
      "-\n",
      "Input sentence: Got it!\n",
      "Decoded sentence: Arrête de chent !\n",
      "\n",
      "Humman translated sentence: \tCompris !\n",
      "\n",
      "-\n",
      "Input sentence: Got it?\n",
      "Decoded sentence: Arrête de chent !\n",
      "\n",
      "Humman translated sentence: \tPigé ?\n",
      "\n",
      "-\n",
      "Input sentence: Got it?\n",
      "Decoded sentence: Arrête de chent !\n",
      "\n",
      "Humman translated sentence: \tCompris ?\n",
      "\n",
      "-\n",
      "Input sentence: Got it?\n",
      "Decoded sentence: Arrête de chent !\n",
      "\n",
      "Humman translated sentence: \tT'as capté ?\n",
      "\n",
      "-\n",
      "Input sentence: Hop in.\n",
      "Decoded sentence: Fais en chent !\n",
      "\n",
      "Humman translated sentence: \tMonte.\n",
      "\n",
      "-\n",
      "Input sentence: Hop in.\n",
      "Decoded sentence: Fais en chent !\n",
      "\n",
      "Humman translated sentence: \tMontez.\n",
      "\n",
      "-\n",
      "Input sentence: Hug me.\n",
      "Decoded sentence: Fais en chent !\n",
      "\n",
      "Humman translated sentence: \tSerre-moi dans tes bras !\n",
      "\n",
      "-\n",
      "Input sentence: Hug me.\n",
      "Decoded sentence: Fais en chent !\n",
      "\n",
      "Humman translated sentence: \tSerrez-moi dans vos bras !\n",
      "\n",
      "-\n",
      "Input sentence: I fell.\n",
      "Decoded sentence: Je suis prais de coure.\n",
      "\n",
      "Humman translated sentence: \tJe suis tombée.\n",
      "\n",
      "-\n",
      "Input sentence: I fell.\n",
      "Decoded sentence: Je suis prais de coure.\n",
      "\n",
      "Humman translated sentence: \tJe suis tombé.\n",
      "\n"
     ]
    }
   ],
   "source": [
    "# test na jednom delu skupa za treniranje \n",
    "for seq_index in range(10, 40):\n",
    "    \n",
    "    # ulazna recenica - izdvajamo je iz skupa koji je koriscen za treniranje \n",
    "    input_seq = encoder_input_data[seq_index: seq_index + 1]\n",
    "    \n",
    "    # njoj pridruzen prevod\n",
    "    decoded_sentence = decode_sequence(input_seq)\n",
    "    print('-')\n",
    "    print('Input sentence:', input_texts[seq_index])\n",
    "    print('Decoded sentence:', decoded_sentence)\n",
    "    print('Humman translated sentence:', target_texts[seq_index])"
   ]
  },
  {
   "cell_type": "markdown",
   "metadata": {},
   "source": [
    "Formalno, za evaluaciju sistema za prevodjenje se koristi **BLUE** mera. Svakoj od prevedenih recenica se pridruzuje skor sa vrednoscu iz intervala [0, 1], a zatim se dobijene vrednosti uprosece da bi se dobila konacna ocena sistema. Na nivou pojedinacnih recenica skorovi se izracunavaju tako sto se prati broj preklapanja n-grama u recenici prevedenoj od strane sistema i recenici prevedenoj od strane profesionalnih prevodilaca. Vrednosti za $n$ variraju od jezika do jezika,  a obicno vece vrednosti odgovaraju \"boljem\" prevodu.  "
   ]
  },
  {
   "cell_type": "code",
   "execution_count": null,
   "metadata": {},
   "outputs": [],
   "source": []
  },
  {
   "cell_type": "markdown",
   "metadata": {},
   "source": [
    "** Zadaci: ** \n",
    "\n",
    "* Napraviti zaseban test skup na osnovu recenica koje nisu iskoriscene i testirati model.\n",
    "* Eksperimentisati sa modelima koji koriste GRU celije. "
   ]
  },
  {
   "cell_type": "markdown",
   "metadata": {},
   "source": [
    "#### Korisceni linkovi:"
   ]
  },
  {
   "cell_type": "markdown",
   "metadata": {},
   "source": [
    "* referentni rad \"Sequence to Sequence Learning with Neural Networks\" na nivou reci: https://arxiv.org/abs/1409.3215\n",
    "* rad koji je prethodio ovoj ideji \"Learning Phrase Representations using RNN Encoder-Decoder for Statistical Machine Translation\": https://arxiv.org/abs/1406.1078 \n",
    "\n",
    "* Keras tutorial: https://blog.keras.io/a-ten-minute-introduction-to-sequence-to-sequence-learning-in-keras.html\n",
    "* https://github.com/keras-team/keras/blob/master/examples/lstm_seq2seq.py\n",
    "* http://nmt-keras.readthedocs.io/en/latest/index.html\n",
    "* TensorFlow tutorial: https://www.tensorflow.org/versions/r1.1/tutorials/seq2seq\n",
    "* Neural Machine Translation: https://github.com/tensorflow/nmt\n",
    "* Razne primene generativnog karakterskog modela: http://karpathy.github.io/2015/05/21/rnn-effectiveness/"
   ]
  },
  {
   "cell_type": "code",
   "execution_count": null,
   "metadata": {},
   "outputs": [],
   "source": []
  }
 ],
 "metadata": {
  "kernelspec": {
   "display_name": "Python 3",
   "language": "python",
   "name": "python3"
  },
  "language_info": {
   "codemirror_mode": {
    "name": "ipython",
    "version": 3
   },
   "file_extension": ".py",
   "mimetype": "text/x-python",
   "name": "python",
   "nbconvert_exporter": "python",
   "pygments_lexer": "ipython3",
   "version": "3.7.0"
  }
 },
 "nbformat": 4,
 "nbformat_minor": 2
}
