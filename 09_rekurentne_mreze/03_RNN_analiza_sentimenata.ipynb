{
 "cells": [
  {
   "cell_type": "markdown",
   "metadata": {},
   "source": [
    "Primer demonstrira podrsku u radu sa rekurentnim neuronskim mrezama Keras biblioteke. Zadatak koji se resava je klasifikacija pregleda IMDB platforme na pozitivne ili negativne preglede. Ovaj zadatak se ustaljeno naziva analiza sentimenata. "
   ]
  },
  {
   "cell_type": "code",
   "execution_count": 2,
   "metadata": {},
   "outputs": [],
   "source": [
    "import numpy as np\n",
    "from matplotlib import pyplot as plt"
   ]
  },
  {
   "cell_type": "code",
   "execution_count": 3,
   "metadata": {},
   "outputs": [
    {
     "name": "stderr",
     "output_type": "stream",
     "text": [
      "Using TensorFlow backend.\n"
     ]
    }
   ],
   "source": [
    "from keras.models import Sequential\n",
    "from keras.layers import Embedding, Flatten, Dense, SimpleRNN, LSTM\n",
    "from keras.datasets import imdb\n",
    "from keras import preprocessing\n",
    "import keras.backend as K"
   ]
  },
  {
   "cell_type": "code",
   "execution_count": 4,
   "metadata": {},
   "outputs": [],
   "source": [
    "# Prilikom obrade pregleda nece se razmatrati ceo vokabular (skup svih reci jezika) vec samo npr. 10000 najfrekventnijih reci. \n",
    "# Sve reci koje se pojave u pregledima, a nisu u ovom skupu, imace reprezentaciju koja odgovara nepoznatoj reci. To je obicno nula vektor.\n",
    "max_features = 10000\n",
    "\n",
    "# Duzina pojedinacnih pregleda se ogranicava na 500 reci.\n",
    "maxlen = 500"
   ]
  },
  {
   "cell_type": "code",
   "execution_count": null,
   "metadata": {},
   "outputs": [],
   "source": []
  },
  {
   "cell_type": "markdown",
   "metadata": {},
   "source": [
    "Ucitavaju se skupovi podataka za ucenje i testiranje i pripremaju za dalji rad."
   ]
  },
  {
   "cell_type": "code",
   "execution_count": 5,
   "metadata": {},
   "outputs": [],
   "source": [
    "(x_train, y_train), (x_test, y_test)= imdb.load_data(num_words=max_features)"
   ]
  },
  {
   "cell_type": "code",
   "execution_count": 6,
   "metadata": {},
   "outputs": [
    {
     "name": "stdout",
     "output_type": "stream",
     "text": [
      "Training set shape: (25000,)\n",
      "Testing set shape: (25000,)\n"
     ]
    }
   ],
   "source": [
    "print('Training set shape: {}'.format(x_train.shape))\n",
    "print('Testing set shape: {}'.format(x_test.shape))"
   ]
  },
  {
   "cell_type": "markdown",
   "metadata": {},
   "source": [
    "Nadalje slede primeri dva pregleda - jednog kraceg i jednog duzeg od *maxlen* reci. U pitanju su liste brojeva u kojima svaki od brojeva predstavalja jednu rec. tj njenu poziciju u vokabularu."
   ]
  },
  {
   "cell_type": "code",
   "execution_count": 7,
   "metadata": {},
   "outputs": [
    {
     "name": "stdout",
     "output_type": "stream",
     "text": [
      "[1, 14, 47, 8, 30, 31, 7, 4, 249, 108, 7, 4, 5974, 54, 61, 369, 13, 71, 149, 14, 22, 112, 4, 2401, 311, 12, 16, 3711, 33, 75, 43, 1829, 296, 4, 86, 320, 35, 534, 19, 263, 4821, 1301, 4, 1873, 33, 89, 78, 12, 66, 16, 4, 360, 7, 4, 58, 316, 334, 11, 4, 1716, 43, 645, 662, 8, 257, 85, 1200, 42, 1228, 2578, 83, 68, 3912, 15, 36, 165, 1539, 278, 36, 69, 2, 780, 8, 106, 14, 6905, 1338, 18, 6, 22, 12, 215, 28, 610, 40, 6, 87, 326, 23, 2300, 21, 23, 22, 12, 272, 40, 57, 31, 11, 4, 22, 47, 6, 2307, 51, 9, 170, 23, 595, 116, 595, 1352, 13, 191, 79, 638, 89, 2, 14, 9, 8, 106, 607, 624, 35, 534, 6, 227, 7, 129, 113]\n"
     ]
    }
   ],
   "source": [
    "print(x_train[2])"
   ]
  },
  {
   "cell_type": "code",
   "execution_count": 8,
   "metadata": {},
   "outputs": [
    {
     "name": "stdout",
     "output_type": "stream",
     "text": [
      "141\n"
     ]
    }
   ],
   "source": [
    "print(len(x_train[2]))"
   ]
  },
  {
   "cell_type": "code",
   "execution_count": 9,
   "metadata": {},
   "outputs": [
    {
     "name": "stdout",
     "output_type": "stream",
     "text": [
      "[1, 4, 2, 716, 4, 65, 7, 4, 689, 4367, 6308, 2343, 4804, 2, 2, 5270, 2, 2315, 2, 2, 2, 2, 4, 2, 628, 7685, 37, 9, 150, 4, 9820, 4069, 11, 2909, 4, 2, 847, 313, 6, 176, 2, 9, 6202, 138, 9, 4434, 19, 4, 96, 183, 26, 4, 192, 15, 27, 5842, 799, 7101, 2, 588, 84, 11, 4, 3231, 152, 339, 5206, 42, 4869, 2, 6293, 345, 4804, 2, 142, 43, 218, 208, 54, 29, 853, 659, 46, 4, 882, 183, 80, 115, 30, 4, 172, 174, 10, 10, 1001, 398, 1001, 1055, 526, 34, 3717, 2, 5262, 2, 17, 4, 6706, 1094, 871, 64, 85, 22, 2030, 1109, 38, 230, 9, 4, 4324, 2, 251, 5056, 1034, 195, 301, 14, 16, 31, 7, 4, 2, 8, 783, 2, 33, 4, 2945, 103, 465, 2, 42, 845, 45, 446, 11, 1895, 19, 184, 76, 32, 4, 5310, 207, 110, 13, 197, 4, 2, 16, 601, 964, 2152, 595, 13, 258, 4, 1730, 66, 338, 55, 5312, 4, 550, 728, 65, 1196, 8, 1839, 61, 1546, 42, 8361, 61, 602, 120, 45, 7304, 6, 320, 786, 99, 196, 2, 786, 5936, 4, 225, 4, 373, 1009, 33, 4, 130, 63, 69, 72, 1104, 46, 1292, 225, 14, 66, 194, 2, 1703, 56, 8, 803, 1004, 6, 2, 155, 11, 4, 2, 3231, 45, 853, 2029, 8, 30, 6, 117, 430, 19, 6, 8941, 9, 15, 66, 424, 8, 2337, 178, 9, 15, 66, 424, 8, 1465, 178, 9, 15, 66, 142, 15, 9, 424, 8, 28, 178, 662, 44, 12, 17, 4, 130, 898, 1686, 9, 6, 5623, 267, 185, 430, 4, 118, 2, 277, 15, 4, 1188, 100, 216, 56, 19, 4, 357, 114, 2, 367, 45, 115, 93, 788, 121, 4, 2, 79, 32, 68, 278, 39, 8, 818, 162, 4165, 237, 600, 7, 98, 306, 8, 157, 549, 628, 11, 6, 2, 13, 824, 15, 4104, 76, 42, 138, 36, 774, 77, 1059, 159, 150, 4, 229, 497, 8, 1493, 11, 175, 251, 453, 19, 8651, 189, 12, 43, 127, 6, 394, 292, 7, 8253, 4, 107, 8, 4, 2826, 15, 1082, 1251, 9, 906, 42, 1134, 6, 66, 78, 22, 15, 13, 244, 2519, 8, 135, 233, 52, 44, 10, 10, 466, 112, 398, 526, 34, 4, 1572, 4413, 6706, 1094, 225, 57, 599, 133, 225, 6, 227, 7, 541, 4323, 6, 171, 139, 7, 539, 2, 56, 11, 6, 3231, 21, 164, 25, 426, 81, 33, 344, 624, 19, 6, 4617, 7, 2, 2, 6, 5802, 4, 22, 9, 1082, 629, 237, 45, 188, 6, 55, 655, 707, 6371, 956, 225, 1456, 841, 42, 1310, 225, 6, 2493, 1467, 7722, 2828, 21, 4, 2, 9, 364, 23, 4, 2228, 2407, 225, 24, 76, 133, 18, 4, 189, 2293, 10, 10, 814, 11, 2, 11, 2642, 14, 47, 15, 682, 364, 352, 168, 44, 12, 45, 24, 913, 93, 21, 247, 2441, 4, 116, 34, 35, 1859, 8, 72, 177, 9, 164, 8, 901, 344, 44, 13, 191, 135, 13, 126, 421, 233, 18, 259, 10, 10, 4, 2, 6847, 4, 2, 3074, 7, 112, 199, 753, 357, 39, 63, 12, 115, 2, 763, 8, 15, 35, 3282, 1523, 65, 57, 599, 6, 1916, 277, 1730, 37, 25, 92, 202, 6, 8848, 44, 25, 28, 6, 22, 15, 122, 24, 4171, 72, 33, 32]\n"
     ]
    }
   ],
   "source": [
    "print(x_train[7])"
   ]
  },
  {
   "cell_type": "code",
   "execution_count": 10,
   "metadata": {},
   "outputs": [
    {
     "name": "stdout",
     "output_type": "stream",
     "text": [
      "562\n"
     ]
    }
   ],
   "source": [
    "print(len(x_train[7]))"
   ]
  },
  {
   "cell_type": "code",
   "execution_count": 11,
   "metadata": {},
   "outputs": [],
   "source": [
    "# pad_sequences je funkcija koja se koristi za ujednacavanje duzina sekvenci.\n",
    "# U zavisnosti od argumenata koji se zadaju, moze dopuniti sekvencu odgovarajucim vrednostima ili je svesti na zeljenu duzinu odsecanjem. \n",
    "# U ovom primeru svi pregledi se svode na duzinu maxlen - oni koji su kraci bice dopunjeni nulama, a oni koji su duzi bice skraceni.\n",
    "x_train = preprocessing.sequence.pad_sequences(x_train, maxlen = maxlen)\n",
    "x_test = preprocessing.sequence.pad_sequences(x_test, maxlen = maxlen)"
   ]
  },
  {
   "cell_type": "code",
   "execution_count": 12,
   "metadata": {},
   "outputs": [
    {
     "name": "stdout",
     "output_type": "stream",
     "text": [
      "(25000, 500)\n"
     ]
    }
   ],
   "source": [
    "print(x_train.shape)"
   ]
  },
  {
   "cell_type": "code",
   "execution_count": 13,
   "metadata": {},
   "outputs": [
    {
     "name": "stdout",
     "output_type": "stream",
     "text": [
      "[   4 3231  152  339 5206   42 4869    2 6293  345 4804    2  142   43  218\n",
      "  208   54   29  853  659   46    4  882  183   80  115   30    4  172  174\n",
      "   10   10 1001  398 1001 1055  526   34 3717    2 5262    2   17    4 6706\n",
      " 1094  871   64   85   22 2030 1109   38  230    9    4 4324    2  251 5056\n",
      " 1034  195  301   14   16   31    7    4    2    8  783    2   33    4 2945\n",
      "  103  465    2   42  845   45  446   11 1895   19  184   76   32    4 5310\n",
      "  207  110   13  197    4    2   16  601  964 2152  595   13  258    4 1730\n",
      "   66  338   55 5312    4  550  728   65 1196    8 1839   61 1546   42 8361\n",
      "   61  602  120   45 7304    6  320  786   99  196    2  786 5936    4  225\n",
      "    4  373 1009   33    4  130   63   69   72 1104   46 1292  225   14   66\n",
      "  194    2 1703   56    8  803 1004    6    2  155   11    4    2 3231   45\n",
      "  853 2029    8   30    6  117  430   19    6 8941    9   15   66  424    8\n",
      " 2337  178    9   15   66  424    8 1465  178    9   15   66  142   15    9\n",
      "  424    8   28  178  662   44   12   17    4  130  898 1686    9    6 5623\n",
      "  267  185  430    4  118    2  277   15    4 1188  100  216   56   19    4\n",
      "  357  114    2  367   45  115   93  788  121    4    2   79   32   68  278\n",
      "   39    8  818  162 4165  237  600    7   98  306    8  157  549  628   11\n",
      "    6    2   13  824   15 4104   76   42  138   36  774   77 1059  159  150\n",
      "    4  229  497    8 1493   11  175  251  453   19 8651  189   12   43  127\n",
      "    6  394  292    7 8253    4  107    8    4 2826   15 1082 1251    9  906\n",
      "   42 1134    6   66   78   22   15   13  244 2519    8  135  233   52   44\n",
      "   10   10  466  112  398  526   34    4 1572 4413 6706 1094  225   57  599\n",
      "  133  225    6  227    7  541 4323    6  171  139    7  539    2   56   11\n",
      "    6 3231   21  164   25  426   81   33  344  624   19    6 4617    7    2\n",
      "    2    6 5802    4   22    9 1082  629  237   45  188    6   55  655  707\n",
      " 6371  956  225 1456  841   42 1310  225    6 2493 1467 7722 2828   21    4\n",
      "    2    9  364   23    4 2228 2407  225   24   76  133   18    4  189 2293\n",
      "   10   10  814   11    2   11 2642   14   47   15  682  364  352  168   44\n",
      "   12   45   24  913   93   21  247 2441    4  116   34   35 1859    8   72\n",
      "  177    9  164    8  901  344   44   13  191  135   13  126  421  233   18\n",
      "  259   10   10    4    2 6847    4    2 3074    7  112  199  753  357   39\n",
      "   63   12  115    2  763    8   15   35 3282 1523   65   57  599    6 1916\n",
      "  277 1730   37   25   92  202    6 8848   44   25   28    6   22   15  122\n",
      "   24 4171   72   33   32]\n"
     ]
    }
   ],
   "source": [
    "# primer filmskog pregleda nakon skracivanja na duzinu od mexlen reci \n",
    "print(x_train[7])"
   ]
  },
  {
   "cell_type": "code",
   "execution_count": 14,
   "metadata": {},
   "outputs": [
    {
     "name": "stdout",
     "output_type": "stream",
     "text": [
      "500\n"
     ]
    }
   ],
   "source": [
    "print(len(x_train[7]))"
   ]
  },
  {
   "cell_type": "code",
   "execution_count": 15,
   "metadata": {},
   "outputs": [
    {
     "name": "stdout",
     "output_type": "stream",
     "text": [
      "[   0    0    0    0    0    0    0    0    0    0    0    0    0    0    0\n",
      "    0    0    0    0    0    0    0    0    0    0    0    0    0    0    0\n",
      "    0    0    0    0    0    0    0    0    0    0    0    0    0    0    0\n",
      "    0    0    0    0    0    0    0    0    0    0    0    0    0    0    0\n",
      "    0    0    0    0    0    0    0    0    0    0    0    0    0    0    0\n",
      "    0    0    0    0    0    0    0    0    0    0    0    0    0    0    0\n",
      "    0    0    0    0    0    0    0    0    0    0    0    0    0    0    0\n",
      "    0    0    0    0    0    0    0    0    0    0    0    0    0    0    0\n",
      "    0    0    0    0    0    0    0    0    0    0    0    0    0    0    0\n",
      "    0    0    0    0    0    0    0    0    0    0    0    0    0    0    0\n",
      "    0    0    0    0    0    0    0    0    0    0    0    0    0    0    0\n",
      "    0    0    0    0    0    0    0    0    0    0    0    0    0    0    0\n",
      "    0    0    0    0    0    0    0    0    0    0    0    0    0    0    0\n",
      "    0    0    0    0    0    0    0    0    0    0    0    0    0    0    0\n",
      "    0    0    0    0    0    0    0    0    0    0    0    0    0    0    0\n",
      "    0    0    0    0    0    0    0    0    0    0    0    0    0    0    0\n",
      "    0    0    0    0    0    0    0    0    0    0    0    0    0    0    0\n",
      "    0    0    0    0    0    0    0    0    0    0    0    0    0    0    0\n",
      "    0    0    0    0    0    0    0    0    0    0    0    0    0    0    0\n",
      "    0    0    0    0    0    0    0    0    0    0    0    0    0    0    0\n",
      "    0    0    0    0    0    0    0    0    0    0    0    0    0    0    0\n",
      "    0    0    0    0    0    0    0    0    0    0    0    0    0    0    0\n",
      "    0    0    0    0    0    0    0    0    0    0    0    0    0    0    0\n",
      "    0    0    0    0    0    0    0    0    0    0    0    0    0    0    1\n",
      "   14   47    8   30   31    7    4  249  108    7    4 5974   54   61  369\n",
      "   13   71  149   14   22  112    4 2401  311   12   16 3711   33   75   43\n",
      " 1829  296    4   86  320   35  534   19  263 4821 1301    4 1873   33   89\n",
      "   78   12   66   16    4  360    7    4   58  316  334   11    4 1716   43\n",
      "  645  662    8  257   85 1200   42 1228 2578   83   68 3912   15   36  165\n",
      " 1539  278   36   69    2  780    8  106   14 6905 1338   18    6   22   12\n",
      "  215   28  610   40    6   87  326   23 2300   21   23   22   12  272   40\n",
      "   57   31   11    4   22   47    6 2307   51    9  170   23  595  116  595\n",
      " 1352   13  191   79  638   89    2   14    9    8  106  607  624   35  534\n",
      "    6  227    7  129  113]\n"
     ]
    }
   ],
   "source": [
    "# primer filmskog pregleda nakon produzavanja do duzine mexlen  \n",
    "print(x_train[2])"
   ]
  },
  {
   "cell_type": "code",
   "execution_count": 16,
   "metadata": {},
   "outputs": [
    {
     "name": "stdout",
     "output_type": "stream",
     "text": [
      "500\n"
     ]
    }
   ],
   "source": [
    "print(len(x_train[2]))"
   ]
  },
  {
   "cell_type": "code",
   "execution_count": null,
   "metadata": {},
   "outputs": [],
   "source": []
  },
  {
   "cell_type": "markdown",
   "metadata": {},
   "source": [
    "Analiza vrednosti ciljne funkcije. Broj pozitivnih i broj negativnih pregleda je isti."
   ]
  },
  {
   "cell_type": "code",
   "execution_count": 17,
   "metadata": {},
   "outputs": [],
   "source": [
    "negative = np.sum(y_train == 1)\n",
    "positive = np.sum(y_train == 0)"
   ]
  },
  {
   "cell_type": "code",
   "execution_count": 18,
   "metadata": {},
   "outputs": [
    {
     "name": "stdout",
     "output_type": "stream",
     "text": [
      "Number of positive reviews: 12500\n",
      "Number of negative reviews: 12500\n"
     ]
    }
   ],
   "source": [
    "print('Number of positive reviews: {}'.format(positive))\n",
    "print('Number of negative reviews: {}'.format(negative))"
   ]
  },
  {
   "cell_type": "markdown",
   "metadata": {},
   "source": [
    "### Rekurentne neuronske mreze"
   ]
  },
  {
   "cell_type": "code",
   "execution_count": 19,
   "metadata": {},
   "outputs": [],
   "source": [
    "embedding_dimensionality = 64"
   ]
  },
  {
   "cell_type": "code",
   "execution_count": 21,
   "metadata": {},
   "outputs": [],
   "source": [
    "model = Sequential()\n",
    "model.add(Embedding(max_features, embedding_dimensionality, input_length=maxlen))\n",
    "model.add(SimpleRNN(128))\n",
    "model.add(Dense(1, activation='sigmoid'))"
   ]
  },
  {
   "cell_type": "code",
   "execution_count": 22,
   "metadata": {},
   "outputs": [
    {
     "name": "stdout",
     "output_type": "stream",
     "text": [
      "_________________________________________________________________\n",
      "Layer (type)                 Output Shape              Param #   \n",
      "=================================================================\n",
      "embedding_2 (Embedding)      (None, 500, 64)           640000    \n",
      "_________________________________________________________________\n",
      "simple_rnn_2 (SimpleRNN)     (None, 128)               24704     \n",
      "_________________________________________________________________\n",
      "dense_2 (Dense)              (None, 1)                 129       \n",
      "=================================================================\n",
      "Total params: 664,833\n",
      "Trainable params: 664,833\n",
      "Non-trainable params: 0\n",
      "_________________________________________________________________\n"
     ]
    }
   ],
   "source": [
    "model.summary()"
   ]
  },
  {
   "cell_type": "code",
   "execution_count": 23,
   "metadata": {},
   "outputs": [],
   "source": [
    "model.compile(optimizer='rmsprop', loss='binary_crossentropy', metrics=['acc'])"
   ]
  },
  {
   "cell_type": "code",
   "execution_count": 129,
   "metadata": {},
   "outputs": [
    {
     "name": "stdout",
     "output_type": "stream",
     "text": [
      "Train on 20000 samples, validate on 5000 samples\n",
      "Epoch 1/5\n",
      "20000/20000 [==============================] - 71s 4ms/step - loss: 0.6146 - acc: 0.6612 - val_loss: 0.4973 - val_acc: 0.7814\n",
      "Epoch 2/5\n",
      "20000/20000 [==============================] - 71s 4ms/step - loss: 0.3847 - acc: 0.8354 - val_loss: 0.3825 - val_acc: 0.8430\n",
      "Epoch 3/5\n",
      "20000/20000 [==============================] - 70s 4ms/step - loss: 0.3127 - acc: 0.8720 - val_loss: 0.4333 - val_acc: 0.8196\n",
      "Epoch 4/5\n",
      "20000/20000 [==============================] - 73s 4ms/step - loss: 0.2517 - acc: 0.9012 - val_loss: 0.3894 - val_acc: 0.8586\n",
      "Epoch 5/5\n",
      "20000/20000 [==============================] - 75s 4ms/step - loss: 0.1998 - acc: 0.9231 - val_loss: 0.4069 - val_acc: 0.8498\n"
     ]
    }
   ],
   "source": [
    "epoches = 5\n",
    "batch_size = 128\n",
    "\n",
    "# treniranje mreze traje nesto duze\n",
    "history = model.fit(x_train, y_train, epochs=epoches, batch_size=batch_size, validation_split=0.2)"
   ]
  },
  {
   "cell_type": "code",
   "execution_count": 131,
   "metadata": {},
   "outputs": [
    {
     "data": {
      "text/plain": [
       "<matplotlib.legend.Legend at 0x1228666d8>"
      ]
     },
     "execution_count": 131,
     "metadata": {},
     "output_type": "execute_result"
    },
    {
     "data": {
      "image/png": "[encoded data removed]",
      "text/plain": [
       "<matplotlib.figure.Figure at 0x12ad86da0>"
      ]
     },
     "metadata": {},
     "output_type": "display_data"
    }
   ],
   "source": [
    "acc = history.history['acc']\n",
    "val_acc = history.history['val_acc']\n",
    "plt.plot(range(epoches), acc, color='red', label='training')\n",
    "plt.plot(range(epoches), val_acc, color='orange', label='validation')\n",
    "plt.legend(loc='best')"
   ]
  },
  {
   "cell_type": "code",
   "execution_count": 132,
   "metadata": {},
   "outputs": [
    {
     "data": {
      "text/plain": [
       "<matplotlib.legend.Legend at 0x125d19be0>"
      ]
     },
     "execution_count": 132,
     "metadata": {},
     "output_type": "execute_result"
    },
    {
     "data": {
      "image/png": "[encoded data removed]",
      "text/plain": [
       "<matplotlib.figure.Figure at 0x12adb0898>"
      ]
     },
     "metadata": {},
     "output_type": "display_data"
    }
   ],
   "source": [
    "loss = history.history['loss']\n",
    "val_loss = history.history['val_loss']\n",
    "plt.plot(range(epoches), loss, color='red', label='training')\n",
    "plt.plot(range(epoches), val_loss, color='orange', label='validation')\n",
    "plt.legend(loc='best')"
   ]
  },
  {
   "cell_type": "code",
   "execution_count": null,
   "metadata": {},
   "outputs": [],
   "source": []
  },
  {
   "cell_type": "code",
   "execution_count": null,
   "metadata": {},
   "outputs": [],
   "source": []
  },
  {
   "cell_type": "markdown",
   "metadata": {},
   "source": [
    "### LSTM rekurentne neuronske mreze "
   ]
  },
  {
   "cell_type": "markdown",
   "metadata": {},
   "source": [
    "<img src='LSTM_cell.png'>"
   ]
  },
  {
   "cell_type": "markdown",
   "metadata": {},
   "source": [
    "Svojom specificnom strukturom, LSTM celije nude resenje za pracenje dugorocnih zavisnosti na nivou sekvenci koje zbog problema iscezavajucih gradijenata (prakticno) nije bilo moguce sa stanradnim RNN celijama. \n",
    "<br>\n",
    "\n",
    "Ove celije imaju svoje interno stanje, ulaznu kapiju, kapiju za zaboravljanje i izlaznu kapiju kojima, redom, mogu da kontrolisu prisutnost informacija iz prethodnog stanja, njihovu selekciju i generisanju vrednosti koje ce dalje emitovati.\n",
    "\n",
    "<br> \n",
    "Originalni rad je Sepp Hochreiter and Jürgen Schmidhuber, “Long Short-Term Memory,” Neural Computation 9, no. 8 (1997)."
   ]
  },
  {
   "cell_type": "code",
   "execution_count": 24,
   "metadata": {},
   "outputs": [],
   "source": [
    "K.clear_session()"
   ]
  },
  {
   "cell_type": "code",
   "execution_count": 26,
   "metadata": {},
   "outputs": [],
   "source": [
    "embedding_dimensionality = 64"
   ]
  },
  {
   "cell_type": "code",
   "execution_count": 27,
   "metadata": {},
   "outputs": [],
   "source": [
    "model = Sequential()\n",
    "model.add(Embedding(max_features, embedding_dimensionality, input_length=maxlen))\n",
    "model.add(LSTM(64))\n",
    "model.add(Dense(1, activation='sigmoid'))"
   ]
  },
  {
   "cell_type": "code",
   "execution_count": 28,
   "metadata": {},
   "outputs": [
    {
     "name": "stdout",
     "output_type": "stream",
     "text": [
      "_________________________________________________________________\n",
      "Layer (type)                 Output Shape              Param #   \n",
      "=================================================================\n",
      "embedding_2 (Embedding)      (None, 500, 64)           640000    \n",
      "_________________________________________________________________\n",
      "lstm_2 (LSTM)                (None, 64)                33024     \n",
      "_________________________________________________________________\n",
      "dense_2 (Dense)              (None, 1)                 65        \n",
      "=================================================================\n",
      "Total params: 673,089\n",
      "Trainable params: 673,089\n",
      "Non-trainable params: 0\n",
      "_________________________________________________________________\n"
     ]
    }
   ],
   "source": [
    "model.summary()"
   ]
  },
  {
   "cell_type": "code",
   "execution_count": 29,
   "metadata": {},
   "outputs": [],
   "source": [
    "model.compile(optimizer='rmsprop', loss='binary_crossentropy', metrics=['acc'])"
   ]
  },
  {
   "cell_type": "code",
   "execution_count": 30,
   "metadata": {},
   "outputs": [
    {
     "name": "stdout",
     "output_type": "stream",
     "text": [
      "Train on 20000 samples, validate on 5000 samples\n",
      "Epoch 1/5\n",
      "20000/20000 [==============================] - 256s 13ms/step - loss: 0.5339 - acc: 0.7481 - val_loss: 0.3736 - val_acc: 0.8556\n",
      "Epoch 2/5\n",
      "20000/20000 [==============================] - 220s 11ms/step - loss: 0.3099 - acc: 0.8788 - val_loss: 0.3248 - val_acc: 0.8682\n",
      "Epoch 3/5\n",
      "20000/20000 [==============================] - 227s 11ms/step - loss: 0.2540 - acc: 0.9018 - val_loss: 0.3321 - val_acc: 0.8820\n",
      "Epoch 4/5\n",
      "20000/20000 [==============================] - 241s 12ms/step - loss: 0.2098 - acc: 0.9210 - val_loss: 0.5197 - val_acc: 0.7870\n",
      "Epoch 5/5\n",
      "20000/20000 [==============================] - 232s 12ms/step - loss: 0.1878 - acc: 0.9297 - val_loss: 0.3213 - val_acc: 0.8644\n"
     ]
    }
   ],
   "source": [
    "epoches = 5\n",
    "batch_size = 128\n",
    "\n",
    "# treniranje mreze traje nesto duze\n",
    "history = model.fit(x_train, y_train, epochs=epoches, batch_size=batch_size, validation_split=0.2)"
   ]
  },
  {
   "cell_type": "code",
   "execution_count": 31,
   "metadata": {},
   "outputs": [
    {
     "data": {
      "text/plain": [
       "<matplotlib.legend.Legend at 0x1188a5e10>"
      ]
     },
     "execution_count": 31,
     "metadata": {},
     "output_type": "execute_result"
    },
    {
     "data": {
      "image/png": "[encoded data removed]",
      "text/plain": [
       "<matplotlib.figure.Figure at 0x118727d68>"
      ]
     },
     "metadata": {},
     "output_type": "display_data"
    }
   ],
   "source": [
    "acc = history.history['acc']\n",
    "val_acc = history.history['val_acc']\n",
    "plt.plot(range(epoches), acc, color='red', label='training')\n",
    "plt.plot(range(epoches), val_acc, color='orange', label='validation')\n",
    "plt.legend(loc='best')"
   ]
  },
  {
   "cell_type": "code",
   "execution_count": 32,
   "metadata": {},
   "outputs": [
    {
     "data": {
      "text/plain": [
       "<matplotlib.legend.Legend at 0x1188d7ba8>"
      ]
     },
     "execution_count": 32,
     "metadata": {},
     "output_type": "execute_result"
    },
    {
     "data": {
      "image/png": "[encoded data removed]",
      "text/plain": [
       "<matplotlib.figure.Figure at 0x118892128>"
      ]
     },
     "metadata": {},
     "output_type": "display_data"
    }
   ],
   "source": [
    "loss = history.history['loss']\n",
    "val_loss = history.history['val_loss']\n",
    "plt.plot(range(epoches), loss, color='red', label='training')\n",
    "plt.plot(range(epoches), val_loss, color='orange', label='validation')\n",
    "plt.legend(loc='best')"
   ]
  },
  {
   "cell_type": "code",
   "execution_count": null,
   "metadata": {},
   "outputs": [],
   "source": []
  },
  {
   "cell_type": "markdown",
   "metadata": {},
   "source": [
    "** Zadatak: ** \n",
    "* Ispitati ponasanje mreza koje se duze treniraju. \n",
    "* Ispitati ponasanje mreze koje imaju nesto drugacije arhitekture. "
   ]
  },
  {
   "cell_type": "code",
   "execution_count": null,
   "metadata": {},
   "outputs": [],
   "source": []
  },
  {
   "cell_type": "markdown",
   "metadata": {},
   "source": [
    "** Koriscena literatura: **\n",
    "* Deep Learning with Python, Francois Chollet\n",
    "* LSTM: \n",
    "<br>\n",
    "http://colah.github.io/posts/2015-08-Understanding-LSTMs/\n",
    "* Coursera, Deep learning Specialization - Sequence Modeling (part 5):\n",
    "<br>\n",
    "https://www.coursera.org/specializations/deep-learning (video lekcije su dostupne na YouTube-u)"
   ]
  },
  {
   "cell_type": "code",
   "execution_count": null,
   "metadata": {},
   "outputs": [],
   "source": []
  }
 ],
 "metadata": {
  "kernelspec": {
   "display_name": "Python 3",
   "language": "python",
   "name": "python3"
  },
  "language_info": {
   "codemirror_mode": {
    "name": "ipython",
    "version": 3
   },
   "file_extension": ".py",
   "mimetype": "text/x-python",
   "name": "python",
   "nbconvert_exporter": "python",
   "pygments_lexer": "ipython3",
   "version": "3.7.0"
  }
 },
 "nbformat": 4,
 "nbformat_minor": 2
}
