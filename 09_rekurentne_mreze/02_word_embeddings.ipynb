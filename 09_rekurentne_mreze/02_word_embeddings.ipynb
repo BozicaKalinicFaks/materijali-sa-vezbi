{
 "cells": [
  {
   "cell_type": "markdown",
   "metadata": {},
   "source": [
    "Prilikom obrade teksta, osim *one-hot* reprezentacija reci u kojima se na pozicijama koje odgovaraju indeksima reci u vokabularu reci nalaze jedinice, a na ostalim pozicijama nule, koriste se i takozvane ugnjezdene (eng. embedded) reprezentacije reci. One predstavljaju guste kratke vektorske ekvivalente reci koje cuvaju semantiku reci. \n",
    "<br>\n",
    "Postoji nekoliko nacina generisanja ovakvih reprezentacija. Neki od njih su bazirani na faktorizaciji rec-kontekst matrice npr. latentna semanticka analiza, a neki su bazirani na prediktivnim modelima jezika i neuronskim mrezama. Na primer, [**word2vec**](https://code.google.com/archive/p/word2vec/) i [**Glove**](https://nlp.stanford.edu/projects/glove/) su dve cesto koriscenje kolekcije pritreniranih reprezentacija reci."
   ]
  },
  {
   "cell_type": "markdown",
   "metadata": {},
   "source": [
    "Ovaj primer priblizava koriscenje *Embedded* sloja koji postoji u Keras biblioteci kojim se, usput, mogu uciti reprezentacije reci. Korpus koji se koristi predstavlja bazu filmskih pregleda (IMDB kolekcija), a zadatak koji se resava je klasifikacija ovih pregleda na pozitivne i negativne (tzv. analiza sentimenata)."
   ]
  },
  {
   "cell_type": "code",
   "execution_count": 26,
   "metadata": {},
   "outputs": [],
   "source": [
    "import numpy as np\n",
    "from matplotlib import pyplot as plt"
   ]
  },
  {
   "cell_type": "code",
   "execution_count": 27,
   "metadata": {},
   "outputs": [],
   "source": [
    "from keras.models import Sequential\n",
    "from keras.layers import Embedding, Flatten, Dense\n",
    "from keras.datasets import imdb\n",
    "from keras import preprocessing"
   ]
  },
  {
   "cell_type": "code",
   "execution_count": 28,
   "metadata": {},
   "outputs": [],
   "source": [
    "# Prilikom obrade pregleda nece se razmatrati ceo vokabular (skup svih reci jednog jezika) vec samo npr. 10000 najfrekventnijih reci. \n",
    "# Sve reci koje se pojave u pregledima, a nisu u ovom skupu, imace reprezentaciju koja odgovara nepoznatoj reci. To je obicno nula vektor.\n",
    "max_features = 10000\n",
    "\n",
    "# Duzina pojedinacnih pregleda se ogranicava na 20 reci.\n",
    "# Ovo su vrlo kratke duzine, odabrane su zbog lakseg treniranja mreze. \n",
    "maxlen = 20 "
   ]
  },
  {
   "cell_type": "markdown",
   "metadata": {},
   "source": [
    "Ucitavaju se skupovi podataka za ucenje i testiranje, ispituju se njegove dimenzije i vrsi se prilagodjavanje duzina."
   ]
  },
  {
   "cell_type": "code",
   "execution_count": 29,
   "metadata": {},
   "outputs": [],
   "source": [
    "(x_train, y_train), (x_test, y_test)= imdb.load_data(num_words=max_features)"
   ]
  },
  {
   "cell_type": "code",
   "execution_count": 30,
   "metadata": {},
   "outputs": [
    {
     "name": "stdout",
     "output_type": "stream",
     "text": [
      "Training set shape: (25000,)\n",
      "Testing set shape: (25000,)\n"
     ]
    }
   ],
   "source": [
    "print('Training set shape: {}'.format(x_train.shape))\n",
    "print('Testing set shape: {}'.format(x_test.shape))"
   ]
  },
  {
   "cell_type": "code",
   "execution_count": 31,
   "metadata": {},
   "outputs": [
    {
     "name": "stdout",
     "output_type": "stream",
     "text": [
      "[1, 14, 22, 16, 43, 530, 973, 1622, 1385, 65, 458, 4468, 66, 3941, 4, 173, 36, 256, 5, 25, 100, 43, 838, 112, 50, 670, 2, 9, 35, 480, 284, 5, 150, 4, 172, 112, 167, 2, 336, 385, 39, 4, 172, 4536, 1111, 17, 546, 38, 13, 447, 4, 192, 50, 16, 6, 147, 2025, 19, 14, 22, 4, 1920, 4613, 469, 4, 22, 71, 87, 12, 16, 43, 530, 38, 76, 15, 13, 1247, 4, 22, 17, 515, 17, 12, 16, 626, 18, 2, 5, 62, 386, 12, 8, 316, 8, 106, 5, 4, 2223, 5244, 16, 480, 66, 3785, 33, 4, 130, 12, 16, 38, 619, 5, 25, 124, 51, 36, 135, 48, 25, 1415, 33, 6, 22, 12, 215, 28, 77, 52, 5, 14, 407, 16, 82, 2, 8, 4, 107, 117, 5952, 15, 256, 4, 2, 7, 3766, 5, 723, 36, 71, 43, 530, 476, 26, 400, 317, 46, 7, 4, 2, 1029, 13, 104, 88, 4, 381, 15, 297, 98, 32, 2071, 56, 26, 141, 6, 194, 7486, 18, 4, 226, 22, 21, 134, 476, 26, 480, 5, 144, 30, 5535, 18, 51, 36, 28, 224, 92, 25, 104, 4, 226, 65, 16, 38, 1334, 88, 12, 16, 283, 5, 16, 4472, 113, 103, 32, 15, 16, 5345, 19, 178, 32]\n"
     ]
    }
   ],
   "source": [
    "# primer jednog filmskog pregleda: \n",
    "print(x_train[0])"
   ]
  },
  {
   "cell_type": "code",
   "execution_count": 32,
   "metadata": {},
   "outputs": [],
   "source": [
    "negative = np.sum(y_train == 1)\n",
    "positive = np.sum(y_train == 0)"
   ]
  },
  {
   "cell_type": "code",
   "execution_count": 33,
   "metadata": {},
   "outputs": [
    {
     "name": "stdout",
     "output_type": "stream",
     "text": [
      "Number of positive reviews: 12500\n",
      "Number of negative reviews: 12500\n"
     ]
    }
   ],
   "source": [
    "print('Number of positive reviews: {}'.format(positive))\n",
    "print('Number of negative reviews: {}'.format(negative))"
   ]
  },
  {
   "cell_type": "code",
   "execution_count": 34,
   "metadata": {},
   "outputs": [],
   "source": [
    "# pad_sequences je funkcija koja se koristi za ujednacavanje duzina sekvenci.\n",
    "# U zavisnosti od argumenata koji se zadaju, moze dopuniti sekvencu odgovarajucim vrednostima ili je svesti na zeljenu duzinu odsecanjem. \n",
    "# U ovom primeru svi pregledi se svode na duzinu maxlen - oni koji su kraci bice dopunjeni nulama, a oni koji su duzi bice skraceni.\n",
    "# sekvence se ravnaju po kraju!\n",
    "x_train = preprocessing.sequence.pad_sequences(x_train, maxlen = maxlen)\n",
    "x_test = preprocessing.sequence.pad_sequences(x_test, maxlen = maxlen)"
   ]
  },
  {
   "cell_type": "code",
   "execution_count": 35,
   "metadata": {},
   "outputs": [
    {
     "name": "stdout",
     "output_type": "stream",
     "text": [
      "[  65   16   38 1334   88   12   16  283    5   16 4472  113  103   32   15\n",
      "   16 5345   19  178   32]\n"
     ]
    }
   ],
   "source": [
    "print(x_train[0])"
   ]
  },
  {
   "cell_type": "code",
   "execution_count": 36,
   "metadata": {},
   "outputs": [
    {
     "name": "stdout",
     "output_type": "stream",
     "text": [
      "(25000, 20)\n"
     ]
    }
   ],
   "source": [
    "print(x_train.shape)"
   ]
  },
  {
   "cell_type": "code",
   "execution_count": 37,
   "metadata": {},
   "outputs": [],
   "source": [
    "# duzina ugnjezdene reprezentacije reci\n",
    "# 8 je vrlo kratka reprezentacija - ovde je odabrana samo zbog brzeg treniranja\n",
    "embedding_dimensionality = 8"
   ]
  },
  {
   "cell_type": "markdown",
   "metadata": {},
   "source": [
    "Smisao ugnjezdenog sloja je da svaku rec vokabulara predstavi kao vektorsku reprezentaciju zeljene duzine. Ove reprezentacije se uce u toku treniranja mreze. Motivacija za ucenje reprezentacija, a ne koriscenje pritreniranih modela, lezi u pracenju specificnih semantickih relacija domena.\n",
    "\n",
    "Ulaz u sloj je matrica oblika (samples, sequence_length), a izlaz matrica oblika (samples, sequence_length, embedding_dimensionality). "
   ]
  },
  {
   "cell_type": "code",
   "execution_count": 38,
   "metadata": {},
   "outputs": [],
   "source": [
    "model = Sequential()\n",
    "model.add(Embedding(max_features, embedding_dimensionality, input_length = maxlen))\n",
    "model.add(Flatten())\n",
    "model.add(Dense(1, activation='sigmoid'))"
   ]
  },
  {
   "cell_type": "code",
   "execution_count": 39,
   "metadata": {},
   "outputs": [
    {
     "name": "stdout",
     "output_type": "stream",
     "text": [
      "_________________________________________________________________\n",
      "Layer (type)                 Output Shape              Param #   \n",
      "=================================================================\n",
      "embedding_3 (Embedding)      (None, 20, 8)             80000     \n",
      "_________________________________________________________________\n",
      "flatten_3 (Flatten)          (None, 160)               0         \n",
      "_________________________________________________________________\n",
      "dense_3 (Dense)              (None, 1)                 161       \n",
      "=================================================================\n",
      "Total params: 80,161\n",
      "Trainable params: 80,161\n",
      "Non-trainable params: 0\n",
      "_________________________________________________________________\n"
     ]
    }
   ],
   "source": [
    "model.summary()"
   ]
  },
  {
   "cell_type": "code",
   "execution_count": 40,
   "metadata": {},
   "outputs": [],
   "source": [
    "model.compile(optimizer='rmsprop', loss='binary_crossentropy', metrics=['acc'])"
   ]
  },
  {
   "cell_type": "code",
   "execution_count": 41,
   "metadata": {},
   "outputs": [
    {
     "name": "stdout",
     "output_type": "stream",
     "text": [
      "Train on 20000 samples, validate on 5000 samples\n",
      "Epoch 1/10\n",
      "20000/20000 [==============================] - 2s 100us/step - loss: 0.6759 - acc: 0.6048 - val_loss: 0.6398 - val_acc: 0.6808\n",
      "Epoch 2/10\n",
      "20000/20000 [==============================] - 2s 91us/step - loss: 0.5658 - acc: 0.7427 - val_loss: 0.5468 - val_acc: 0.7204\n",
      "Epoch 3/10\n",
      "20000/20000 [==============================] - 2s 91us/step - loss: 0.4752 - acc: 0.7807 - val_loss: 0.5113 - val_acc: 0.7384\n",
      "Epoch 4/10\n",
      "20000/20000 [==============================] - 2s 88us/step - loss: 0.4264 - acc: 0.8078 - val_loss: 0.5008 - val_acc: 0.7450\n",
      "Epoch 5/10\n",
      "20000/20000 [==============================] - 2s 89us/step - loss: 0.3931 - acc: 0.8256 - val_loss: 0.4981 - val_acc: 0.7536\n",
      "Epoch 6/10\n",
      "20000/20000 [==============================] - 2s 97us/step - loss: 0.3668 - acc: 0.8396 - val_loss: 0.5014 - val_acc: 0.7530\n",
      "Epoch 7/10\n",
      "20000/20000 [==============================] - 2s 101us/step - loss: 0.3435 - acc: 0.8533 - val_loss: 0.5052 - val_acc: 0.7518\n",
      "Epoch 8/10\n",
      "20000/20000 [==============================] - 2s 92us/step - loss: 0.3223 - acc: 0.8656 - val_loss: 0.5132 - val_acc: 0.7486\n",
      "Epoch 9/10\n",
      "20000/20000 [==============================] - 2s 98us/step - loss: 0.3023 - acc: 0.8765 - val_loss: 0.5213 - val_acc: 0.7492\n",
      "Epoch 10/10\n",
      "20000/20000 [==============================] - 2s 90us/step - loss: 0.2839 - acc: 0.8860 - val_loss: 0.5302 - val_acc: 0.7466\n"
     ]
    }
   ],
   "source": [
    "epoches = 10\n",
    "batch_size = 32\n",
    "\n",
    "history = model.fit(x_train, y_train, epochs=epoches, batch_size=batch_size, validation_split=0.2)"
   ]
  },
  {
   "cell_type": "code",
   "execution_count": 42,
   "metadata": {},
   "outputs": [
    {
     "data": {
      "text/plain": [
       "<matplotlib.legend.Legend at 0x1321c8828>"
      ]
     },
     "execution_count": 42,
     "metadata": {},
     "output_type": "execute_result"
    },
    {
     "data": {
      "image/png": "[encoded data removed]",
      "text/plain": [
       "<matplotlib.figure.Figure at 0x11cb55320>"
      ]
     },
     "metadata": {},
     "output_type": "display_data"
    }
   ],
   "source": [
    "acc = history.history['acc']\n",
    "val_acc = history.history['val_acc']\n",
    "plt.plot(range(epoches), acc, color='red', label='training')\n",
    "plt.plot(range(epoches), val_acc, color='orange', label='validation')\n",
    "plt.legend(loc='best')"
   ]
  },
  {
   "cell_type": "code",
   "execution_count": 43,
   "metadata": {},
   "outputs": [
    {
     "data": {
      "text/plain": [
       "<matplotlib.legend.Legend at 0x132140f28>"
      ]
     },
     "execution_count": 43,
     "metadata": {},
     "output_type": "execute_result"
    },
    {
     "data": {
      "image/png": "[encoded data removed]",
      "text/plain": [
       "<matplotlib.figure.Figure at 0x1321cf048>"
      ]
     },
     "metadata": {},
     "output_type": "display_data"
    }
   ],
   "source": [
    "loss = history.history['loss']\n",
    "val_loss = history.history['val_loss']\n",
    "plt.plot(range(epoches), loss, color='red', label='training')\n",
    "plt.plot(range(epoches), val_loss, color='orange', label='validation')\n",
    "plt.legend(loc='best')"
   ]
  },
  {
   "cell_type": "code",
   "execution_count": null,
   "metadata": {},
   "outputs": [],
   "source": []
  },
  {
   "cell_type": "code",
   "execution_count": null,
   "metadata": {},
   "outputs": [],
   "source": []
  },
  {
   "cell_type": "markdown",
   "metadata": {},
   "source": [
    "** Zadatak: **\n",
    "* Eksperimentisati sa razlicitim velicinama pregleda.\n",
    "* Eksperimentisati sa razlicitim velicinama ugnjezdenih reprezentacija reci."
   ]
  },
  {
   "cell_type": "code",
   "execution_count": null,
   "metadata": {},
   "outputs": [],
   "source": []
  }
 ],
 "metadata": {
  "kernelspec": {
   "display_name": "Python 3",
   "language": "python",
   "name": "python3"
  },
  "language_info": {
   "codemirror_mode": {
    "name": "ipython",
    "version": 3
   },
   "file_extension": ".py",
   "mimetype": "text/x-python",
   "name": "python",
   "nbconvert_exporter": "python",
   "pygments_lexer": "ipython3",
   "version": "3.6.4"
  }
 },
 "nbformat": 4,
 "nbformat_minor": 2
}
