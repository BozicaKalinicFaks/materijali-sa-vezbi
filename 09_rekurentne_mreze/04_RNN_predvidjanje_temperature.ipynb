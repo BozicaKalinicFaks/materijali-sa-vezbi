{
 "cells": [
  {
   "cell_type": "markdown",
   "metadata": {},
   "source": [
    "Primer ilustruje rad sa rekurentnim neuronskim mrezama u analizi vremenskih serija. \n",
    "\n",
    "Datoteka **jena_climate_2009_2016.csv** sadrzi podatke meteoroloske stanice Maks Plank instituta u Jeni. U periodu od 2009. godine do 2016. godine na svakih 10 minuta merene su 14 razlicitih vrednosti kao sto su temperatura, atmosferski pritisak, vlaznost vazduha, pravac vetra, ... \n",
    "\n",
    "Potrebno je osmisliti model koji ce predvidjati vrednosti temperature u toku jednog dana na osnovu nekoliko prethodnih merenja."
   ]
  },
  {
   "cell_type": "code",
   "execution_count": 91,
   "metadata": {},
   "outputs": [],
   "source": [
    "import os\n",
    "import numpy as np \n",
    "from matplotlib import pyplot as plt"
   ]
  },
  {
   "cell_type": "code",
   "execution_count": 92,
   "metadata": {},
   "outputs": [],
   "source": [
    "from keras.preprocessing import sequence\n",
    "from keras.layers import Embedding, Dense , LSTM, GRU\n",
    "from keras.models import Sequential\n",
    "import keras.backend as K"
   ]
  },
  {
   "cell_type": "markdown",
   "metadata": {},
   "source": [
    "#### Ucitavanje i analiza raspolozivih podataka. "
   ]
  },
  {
   "cell_type": "code",
   "execution_count": 93,
   "metadata": {},
   "outputs": [],
   "source": [
    "data_directory = './datasets/'\n",
    "file_name = os.path.join(data_directory, 'jena_climate_2009-2016.csv')\n",
    "f = open(file_name, 'r')\n",
    "data = f.read()\n",
    "f.close()"
   ]
  },
  {
   "cell_type": "markdown",
   "metadata": {},
   "source": [
    "Ovako procitani podaci su u tekstualnoj formi."
   ]
  },
  {
   "cell_type": "code",
   "execution_count": 94,
   "metadata": {},
   "outputs": [
    {
     "data": {
      "text/plain": [
       "420552"
      ]
     },
     "execution_count": 94,
     "metadata": {},
     "output_type": "execute_result"
    }
   ],
   "source": [
    "all_lines = data.split('\\n')\n",
    "number_of_lines = len(all_lines)\n",
    "number_of_lines"
   ]
  },
  {
   "cell_type": "code",
   "execution_count": 95,
   "metadata": {},
   "outputs": [
    {
     "name": "stdout",
     "output_type": "stream",
     "text": [
      "\"Date Time\",\"p (mbar)\",\"T (degC)\",\"Tpot (K)\",\"Tdew (degC)\",\"rh (%)\",\"VPmax (mbar)\",\"VPact (mbar)\",\"VPdef (mbar)\",\"sh (g/kg)\",\"H2OC (mmol/mol)\",\"rho (g/m**3)\",\"wv (m/s)\",\"max. wv (m/s)\",\"wd (deg)\"\n"
     ]
    }
   ],
   "source": [
    "# Prva linija sadrzaja je zaglavlje sa imenima kolona. \n",
    "header = all_lines[0]\n",
    "print(header)"
   ]
  },
  {
   "cell_type": "code",
   "execution_count": 96,
   "metadata": {},
   "outputs": [],
   "source": [
    "header = header.split(',')"
   ]
  },
  {
   "cell_type": "code",
   "execution_count": 97,
   "metadata": {},
   "outputs": [
    {
     "data": {
      "text/plain": [
       "['\"Date Time\"',\n",
       " '\"p (mbar)\"',\n",
       " '\"T (degC)\"',\n",
       " '\"Tpot (K)\"',\n",
       " '\"Tdew (degC)\"',\n",
       " '\"rh (%)\"',\n",
       " '\"VPmax (mbar)\"',\n",
       " '\"VPact (mbar)\"',\n",
       " '\"VPdef (mbar)\"',\n",
       " '\"sh (g/kg)\"',\n",
       " '\"H2OC (mmol/mol)\"',\n",
       " '\"rho (g/m**3)\"',\n",
       " '\"wv (m/s)\"',\n",
       " '\"max. wv (m/s)\"',\n",
       " '\"wd (deg)\"']"
      ]
     },
     "execution_count": 97,
     "metadata": {},
     "output_type": "execute_result"
    }
   ],
   "source": [
    "header"
   ]
  },
  {
   "cell_type": "code",
   "execution_count": 98,
   "metadata": {},
   "outputs": [
    {
     "data": {
      "text/plain": [
       "15"
      ]
     },
     "execution_count": 98,
     "metadata": {},
     "output_type": "execute_result"
    }
   ],
   "source": [
    "len(header)"
   ]
  },
  {
   "cell_type": "code",
   "execution_count": 99,
   "metadata": {},
   "outputs": [],
   "source": [
    "# Preostale linije sadrzaja su linije sa podacima. \n",
    "lines = all_lines[1:]"
   ]
  },
  {
   "cell_type": "code",
   "execution_count": 100,
   "metadata": {},
   "outputs": [
    {
     "data": {
      "text/plain": [
       "'01.01.2009 00:20:00,996.57,-8.41,265.01,-9.28,93.40,3.23,3.02,0.21,1.89,3.03,1309.80,0.72,1.50,136.10'"
      ]
     },
     "execution_count": 100,
     "metadata": {},
     "output_type": "execute_result"
    }
   ],
   "source": [
    "# Primer linije sa podacima.\n",
    "lines[1]"
   ]
  },
  {
   "cell_type": "markdown",
   "metadata": {},
   "source": [
    "Podatke je potrebno prebaciti u numericku formu."
   ]
  },
  {
   "cell_type": "code",
   "execution_count": 101,
   "metadata": {},
   "outputs": [],
   "source": [
    "# Informacija o datumu i vremenu merenja se ignorise.\n",
    "number_of_features = len(header)-1\n",
    "number_of_mesurements = len(lines)\n",
    "float_data = np.zeros((number_of_mesurements, number_of_features))"
   ]
  },
  {
   "cell_type": "code",
   "execution_count": 102,
   "metadata": {},
   "outputs": [],
   "source": [
    "for i, line in enumerate(lines):\n",
    "    values = [ float(m) for m in line.split(',')[1:]]\n",
    "    float_data[i, :] = values"
   ]
  },
  {
   "cell_type": "code",
   "execution_count": 103,
   "metadata": {},
   "outputs": [
    {
     "data": {
      "text/plain": [
       "(420551, 14)"
      ]
     },
     "execution_count": 103,
     "metadata": {},
     "output_type": "execute_result"
    }
   ],
   "source": [
    "float_data.shape"
   ]
  },
  {
   "cell_type": "markdown",
   "metadata": {},
   "source": [
    "Vizuelizacija podataka."
   ]
  },
  {
   "cell_type": "code",
   "execution_count": 104,
   "metadata": {},
   "outputs": [
    {
     "data": {
      "text/plain": [
       "[<matplotlib.lines.Line2D at 0x1393b0b70>]"
      ]
     },
     "execution_count": 104,
     "metadata": {},
     "output_type": "execute_result"
    },
    {
     "data": {
      "image/png": "[encoded data removed]",
      "text/plain": [
       "<matplotlib.figure.Figure at 0x1393b0ba8>"
      ]
     },
     "metadata": {},
     "output_type": "display_data"
    }
   ],
   "source": [
    "temp = float_data[:, 1]\n",
    "plt.title('Grafik promene temperature u periodu 2009-2016')\n",
    "plt.plot(range(0, len(lines)) , temp)"
   ]
  },
  {
   "cell_type": "code",
   "execution_count": 105,
   "metadata": {},
   "outputs": [],
   "source": [
    "# Merenja su vrsena na svakih 10 minuta.\n",
    "# To je 6 puta na sat vremena.\n",
    "# To je 6X24 = 144 puta u toku dana. "
   ]
  },
  {
   "cell_type": "code",
   "execution_count": 106,
   "metadata": {},
   "outputs": [
    {
     "data": {
      "text/plain": [
       "[<matplotlib.lines.Line2D at 0x130025ef0>]"
      ]
     },
     "execution_count": 106,
     "metadata": {},
     "output_type": "execute_result"
    },
    {
     "data": {
      "image/png": "[encoded data removed]",
      "text/plain": [
       "<matplotlib.figure.Figure at 0x130025ba8>"
      ]
     },
     "metadata": {},
     "output_type": "display_data"
    }
   ],
   "source": [
    "plt.title(\"Grafik promene temperature u prvih 10 dana 2009. godine\")\n",
    "plt.plot(range(0, 1440) , temp[0:1440])"
   ]
  },
  {
   "cell_type": "code",
   "execution_count": null,
   "metadata": {},
   "outputs": [],
   "source": []
  },
  {
   "cell_type": "code",
   "execution_count": null,
   "metadata": {},
   "outputs": [],
   "source": []
  },
  {
   "cell_type": "markdown",
   "metadata": {},
   "source": [
    "Potrebno je kreirati model koji ce predvidjati vrednosti temperature u toku jednog dana (144 vrednosti) na osnovu svakog sestog merenja protekllih 720 merenja. Motivacija za preskakanje nekih vrednosti prethodnih merenja je nepromenljivost temperature u kratkim vremenskim periodima kao sto je 10 minuta.   "
   ]
  },
  {
   "cell_type": "code",
   "execution_count": 107,
   "metadata": {},
   "outputs": [],
   "source": [
    "# broj prethodnih merenja \n",
    "lookback = 720 \n",
    "\n",
    "# frekvencija sa kojom ce se uzimati prethodna merenja\n",
    "steps = 6 \n",
    "\n",
    "# udaljenost trenutka u buducnosti u kojem treba dati ocenu merenja, konkretno, temperature. \n",
    "delay = 144 "
   ]
  },
  {
   "cell_type": "code",
   "execution_count": null,
   "metadata": {},
   "outputs": [],
   "source": []
  },
  {
   "cell_type": "code",
   "execution_count": null,
   "metadata": {},
   "outputs": [],
   "source": []
  },
  {
   "cell_type": "markdown",
   "metadata": {},
   "source": [
    "#### Generisanje skupova za treniranje, validaciju i testiranje."
   ]
  },
  {
   "cell_type": "markdown",
   "metadata": {},
   "source": [
    "Skupovi za treniranje, validaciju i testiranje treba da sadrze vrednosti merenja, sa odgovarajucim vremenskim razmakom, i temperature koje su im odgovarale u trenucima u buducnosti. Da bi se odrzala disjunktnost ovih skupova, merenja ce biti birana iz razlicitih opsega vrednosti odredjenih svojom donjom i gornjom granicom. Merenja u skupu za treniranje treba da prethode merenjima u validacionom skupa, a ona zajedno, treba da prethode merenjima u skupu za testiranje. \n",
    "\n",
    "Nadalje sledi funkcija koja vraca odgovarajuce generatore vrednosti."
   ]
  },
  {
   "cell_type": "code",
   "execution_count": 108,
   "metadata": {},
   "outputs": [],
   "source": [
    "# data - zadati podaci\n",
    "# lookback - broj merenja iz proslosti koje treba uzeti u obzir\n",
    "# delay - broj merenja u buducnosti za koje treba dati ocene merenja\n",
    "# min_index, max_index - vrednosti koje predstavljaju donju i gornju granicu merenja \n",
    "# shuffle - indikator mesanja podataka\n",
    "# batch_size - velicina skupa podataka koje treba generisati\n",
    "# step - korak sa kojim ce biti birana merenja iz proslosti\n",
    "\n",
    "def generator(data, lookback, delay, min_index, max_index, shuffle = False, batch_size = 128, step = 6):       \n",
    "        \n",
    "        # za slucaj da max_index nije zadat, bira se vrednost koja garantuje izbor odgovarajuceg broj predikcija\n",
    "        if max_index is None: \n",
    "            max_index = len(data)- delay -1\n",
    "            \n",
    "            \n",
    "        # indeks i oznavacava minimalni indeks merenja od kojeg se mogu birati podaci za zeljeni skup \n",
    "        # izraz garantuje da postoji odgovarajuci broj merenja u proslosti\n",
    "        \n",
    "        i = min_index + lookback \n",
    "        \n",
    "        # U smernicama Keras biblioteke za implementaciju generatorske funkcije stoji: \n",
    "        # The generator is expected to loop over its data indefinitely.\n",
    "        while True: \n",
    "            \n",
    "            \n",
    "            # generise se odgovarajuci skup indeksa vrednosti merenja\n",
    "            if shuffle: \n",
    "                rows = np.random.randint(low = i, high=max_index, size= batch_size)\n",
    "        \n",
    "            else: \n",
    "                if i + batch_size >=max_index:\n",
    "                    i = min_index + lookback\n",
    "                rows = np.arange(i, min(i + batch_size, max_index))\n",
    "                \n",
    "                i += len(rows)\n",
    "\n",
    "            # samples ce biti skup odgovarajucih merenja\n",
    "            samples = np.zeros((len(rows), lookback//step, float_data.shape[-1]))\n",
    "            \n",
    "            # targets ce biti skup odgovarajucih predikcija \n",
    "            targets = np.zeros(len(rows))\n",
    "            \n",
    "            for j, row in enumerate(rows):\n",
    "                indexes = range(rows[j]-lookback, rows[j], step)\n",
    "                samples[j] = data[indexes]\n",
    "                targets[j] = data[rows[j] + delay][1]\n",
    "    \n",
    "    \n",
    "            yield samples, targets"
   ]
  },
  {
   "cell_type": "code",
   "execution_count": null,
   "metadata": {},
   "outputs": [],
   "source": []
  },
  {
   "cell_type": "code",
   "execution_count": 109,
   "metadata": {},
   "outputs": [],
   "source": [
    "# fiksira se broj instanci skupa za treniranje\n",
    "number_of_training_data = 200000"
   ]
  },
  {
   "cell_type": "code",
   "execution_count": null,
   "metadata": {},
   "outputs": [],
   "source": [
    "# vrsi se standardizacija podataka \n",
    "mean = float_data[: number_of_training_data].mean(axis=0)\n",
    "float_data -= mean\n",
    "std = float_data[: number_of_training_data].std(axis=0)\n",
    "float_data /= std"
   ]
  },
  {
   "cell_type": "code",
   "execution_count": null,
   "metadata": {},
   "outputs": [],
   "source": []
  },
  {
   "cell_type": "code",
   "execution_count": 1,
   "metadata": {},
   "outputs": [],
   "source": [
    "# fiksira se velicina skupova koje treba generisati\n",
    "batch_size = 32"
   ]
  },
  {
   "cell_type": "code",
   "execution_count": 60,
   "metadata": {},
   "outputs": [],
   "source": [
    "# generisu se odgovarajuci skupovi\n",
    "train_gen = generator(float_data, lookback, delay, min_index = 0, max_index = 200000, shuffle = True, batch_size = batch_size, step = steps)\n",
    "val_gen = generator(float_data, lookback, delay, min_index = 200001, max_index = 300001, shuffle = True, batch_size = batch_size, step = steps)\n",
    "test_gen = generator(float_data, lookback, delay, min_index = 300001, max_index=None, shuffle = True, batch_size = batch_size, step = steps)"
   ]
  },
  {
   "cell_type": "code",
   "execution_count": 61,
   "metadata": {},
   "outputs": [],
   "source": [
    "# odredjuje se broj validacionih i test koraka\n",
    "val_steps = (300000 - 200001 - lookback) // batch_size\n",
    "test_steps = (len(float_data) - 300001 - lookback) // batch_size"
   ]
  },
  {
   "cell_type": "code",
   "execution_count": null,
   "metadata": {},
   "outputs": [],
   "source": []
  },
  {
   "cell_type": "markdown",
   "metadata": {},
   "source": [
    "#### GRU (eng. Gated Recurrent Units)"
   ]
  },
  {
   "cell_type": "markdown",
   "metadata": {},
   "source": [
    "GRU celije predstavljaju pojednostavljenje LSTM rekurentnih celija kod kojih su objedinjeni koraci azuriranja i zaboravljanja. "
   ]
  },
  {
   "cell_type": "code",
   "execution_count": null,
   "metadata": {},
   "outputs": [],
   "source": [
    "model = Sequential()\n",
    "model.add(GRU(32, input_shape = (None, float_data.shape[-1])))\n",
    "model.add(Dense(1))"
   ]
  },
  {
   "cell_type": "code",
   "execution_count": 63,
   "metadata": {},
   "outputs": [],
   "source": [
    "model.compile(optimizer='rmsprop', loss='mae')"
   ]
  },
  {
   "cell_type": "markdown",
   "metadata": {},
   "source": [
    "*fit_generator* je metoda ekvivalentna *fit* metodi uz izuzetak koriscenja generatorskih funkcija za kreiranje paketica za treniranje. Argumentom *steps_per_epoch* se kontrolise koliko obradjenih paketica traje jedna epoha. Ova metoda koristi generatorske funkcije i za kreiranje paketica za validaciju. Argument *validation_steps* kontrolise koliko validacionih paketica treba generisati na nivou jedne epohe. \n",
    "\n",
    "Vise o funkciji se moze pronaci u zvanicnoj dokumentaciji: \n",
    "https://keras.io/models/sequential/#fit_generator"
   ]
  },
  {
   "cell_type": "code",
   "execution_count": 64,
   "metadata": {},
   "outputs": [
    {
     "name": "stdout",
     "output_type": "stream",
     "text": [
      "Epoch 1/20\n",
      "500/500 [==============================] - 253s 507ms/step - loss: 0.3136 - val_loss: 0.2845\n",
      "Epoch 2/20\n",
      "500/500 [==============================] - 257s 514ms/step - loss: 0.2917 - val_loss: 0.2719\n",
      "Epoch 3/20\n",
      "500/500 [==============================] - 254s 508ms/step - loss: 0.2895 - val_loss: 0.2720\n",
      "Epoch 4/20\n",
      "500/500 [==============================] - 257s 514ms/step - loss: 0.2837 - val_loss: 0.2683\n",
      "Epoch 5/20\n",
      "500/500 [==============================] - 255s 510ms/step - loss: 0.2835 - val_loss: 0.2736\n",
      "Epoch 6/20\n",
      "500/500 [==============================] - 254s 508ms/step - loss: 0.2773 - val_loss: 0.2650\n",
      "Epoch 7/20\n",
      "500/500 [==============================] - 258s 516ms/step - loss: 0.2774 - val_loss: 0.2752\n",
      "Epoch 8/20\n",
      "500/500 [==============================] - 263s 527ms/step - loss: 0.2705 - val_loss: 0.2766\n",
      "Epoch 9/20\n",
      "500/500 [==============================] - 263s 525ms/step - loss: 0.2734 - val_loss: 0.2758\n",
      "Epoch 10/20\n",
      "500/500 [==============================] - 256s 512ms/step - loss: 0.2679 - val_loss: 0.2733\n",
      "Epoch 11/20\n",
      "500/500 [==============================] - 260s 519ms/step - loss: 0.2635 - val_loss: 0.2672\n",
      "Epoch 12/20\n",
      "500/500 [==============================] - 261s 522ms/step - loss: 0.2637 - val_loss: 0.2674\n",
      "Epoch 13/20\n",
      "500/500 [==============================] - 258s 516ms/step - loss: 0.2603 - val_loss: 0.2723\n",
      "Epoch 14/20\n",
      "500/500 [==============================] - 260s 520ms/step - loss: 0.2603 - val_loss: 0.2603\n",
      "Epoch 15/20\n",
      "500/500 [==============================] - 256s 513ms/step - loss: 0.2597 - val_loss: 0.2659\n",
      "Epoch 16/20\n",
      "500/500 [==============================] - 257s 514ms/step - loss: 0.2548 - val_loss: 0.2695\n",
      "Epoch 17/20\n",
      "500/500 [==============================] - 253s 505ms/step - loss: 0.2531 - val_loss: 0.2657\n",
      "Epoch 18/20\n",
      "500/500 [==============================] - 254s 508ms/step - loss: 0.2498 - val_loss: 0.2669\n",
      "Epoch 19/20\n",
      "500/500 [==============================] - 251s 503ms/step - loss: 0.2461 - val_loss: 0.2721\n",
      "Epoch 20/20\n",
      "500/500 [==============================] - 253s 505ms/step - loss: 0.2482 - val_loss: 0.2709\n"
     ]
    }
   ],
   "source": [
    "history = model.fit_generator(train_gen, steps_per_epoch=500, epochs=20, \\\n",
    "                              validation_data=val_gen, validation_steps=val_steps )"
   ]
  },
  {
   "cell_type": "code",
   "execution_count": 81,
   "metadata": {},
   "outputs": [
    {
     "data": {
      "text/plain": [
       "<matplotlib.legend.Legend at 0x12fd28f98>"
      ]
     },
     "execution_count": 81,
     "metadata": {},
     "output_type": "execute_result"
    },
    {
     "data": {
      "image/png": "[encoded data removed]",
      "text/plain": [
       "<matplotlib.figure.Figure at 0x12fa2ca90>"
      ]
     },
     "metadata": {},
     "output_type": "display_data"
    }
   ],
   "source": [
    "loss = history.history['loss']\n",
    "val_loss = history.history['val_loss']\n",
    "epochs = range(0, 20)\n",
    "plt.plot(epochs, loss, label ='loss')\n",
    "plt.plot(epochs, val_loss, label='val_loss', linestyle ='--', color='orange')\n",
    "plt.legend(loc='best')"
   ]
  },
  {
   "cell_type": "code",
   "execution_count": 87,
   "metadata": {},
   "outputs": [
    {
     "name": "stdout",
     "output_type": "stream",
     "text": [
      "0.26033139565\n"
     ]
    }
   ],
   "source": [
    "min_val_loss = np.min(val_loss)\n",
    "print(min_val_loss)"
   ]
  },
  {
   "cell_type": "markdown",
   "metadata": {},
   "source": [
    "Najmanja greska na validacionom skupu je oko 0.26 ~ 2.35 stepeni."
   ]
  },
  {
   "cell_type": "markdown",
   "metadata": {},
   "source": [
    "**Zadatak za vezbu:**\n",
    "\n",
    "* Kako se ponasa mreza ukoliko se doda *recurrent_dropout* argument sa vrednoscu 0.2 GRU sloju?\n",
    "\n",
    "* Uporediti dobijene rezultate sa rezultatima koje generise mreza ciji su ulazi prethodna merenja (njih lookback//steps), koja ima jedan gusti sloj velicine 32 neurona i izlazni sloj koji daje vrednost temperature.  \n",
    "\n",
    "* Uporediti dobijene rezultate sa mrezom koja umesto GRU sloja koristi LSTM sloj.\n"
   ]
  },
  {
   "cell_type": "markdown",
   "metadata": {},
   "source": [
    "** Koriscena literatura: **\n",
    "\n",
    "* Python podsetnik na generatore: https://wiki.python.org/moin/Generators\n",
    "* knjiga: Deep Learning with Python, Francois Chollet\n",
    "* Github repozitorijum: https://github.com/fchollet/deep-learning-with-python-notebooks/blob/master/6.3-advanced-usage-of-recurrent-neural-networks.ipynb"
   ]
  },
  {
   "cell_type": "code",
   "execution_count": null,
   "metadata": {},
   "outputs": [],
   "source": []
  }
 ],
 "metadata": {
  "kernelspec": {
   "display_name": "Python 3",
   "language": "python",
   "name": "python3"
  },
  "language_info": {
   "codemirror_mode": {
    "name": "ipython",
    "version": 3
   },
   "file_extension": ".py",
   "mimetype": "text/x-python",
   "name": "python",
   "nbconvert_exporter": "python",
   "pygments_lexer": "ipython3",
   "version": "3.7.0"
  }
 },
 "nbformat": 4,
 "nbformat_minor": 2
}
