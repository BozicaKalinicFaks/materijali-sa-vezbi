{
 "cells": [
  {
   "cell_type": "markdown",
   "metadata": {},
   "source": [
    "### Rekurentne neuronske mreze"
   ]
  },
  {
   "cell_type": "markdown",
   "metadata": {},
   "source": [
    "<img src='RNN.png'>\n",
    "<p style='text-align: right; color: gray; font-size: 10px;'> Slika je pozajmljena iz prezentacije Recurrent Neural Networks Momcila Vasiljevica, MDCS </p>"
   ]
  },
  {
   "cell_type": "code",
   "execution_count": null,
   "metadata": {},
   "outputs": [],
   "source": []
  },
  {
   "cell_type": "markdown",
   "metadata": {},
   "source": [
    "#### Jedan prolaz unapred kroz rekurentnu neuronsku mrezu."
   ]
  },
  {
   "cell_type": "code",
   "execution_count": 44,
   "metadata": {},
   "outputs": [],
   "source": [
    "import numpy as np"
   ]
  },
  {
   "cell_type": "code",
   "execution_count": 45,
   "metadata": {},
   "outputs": [],
   "source": [
    "# velicina ulaza\n",
    "input_size = 32 \n",
    "\n",
    "# velicina izlaza\n",
    "output_size = 64 \n",
    "\n",
    "# duzina sekvence koja se obradjuje\n",
    "timestamps = 100"
   ]
  },
  {
   "cell_type": "code",
   "execution_count": 46,
   "metadata": {},
   "outputs": [],
   "source": [
    "# mreza obradjuje sekvencu po sekvencu\n",
    "# izmedju dvedju razlicitih sekvenci, stanje mreze se resetuje\n",
    "inputs = np.random.random((timestamps, input_size))\n",
    "\n",
    "# pocetno stanje mreze \n",
    "state_t = np.zeros(output_size)"
   ]
  },
  {
   "cell_type": "code",
   "execution_count": 47,
   "metadata": {},
   "outputs": [],
   "source": [
    "# matrice parametrizacija\n",
    "W = np.random.random((output_size, input_size))\n",
    "U = np.random.random((output_size, output_size))\n",
    "b = np.random.random(output_size)"
   ]
  },
  {
   "cell_type": "code",
   "execution_count": 48,
   "metadata": {},
   "outputs": [],
   "source": [
    "successive_outputs = []\n",
    "\n",
    "# za svaki ulaz u sekvenci\n",
    "for input_t in inputs:\n",
    "    \n",
    "    # kombinuje se tekuci ulaz i trenutno stanje mreze da bi se dobio izlaz mreze\n",
    "    output_t = np.tanh(np.dot(W, input_t) + np.dot(U, state_t) + b)\n",
    "    \n",
    "    # tekuci izlaz postaje stanje mreze za narednu iteraciju\n",
    "    state_t = output_t\n",
    "    \n",
    "    successive_outputs.append(output_t)"
   ]
  },
  {
   "cell_type": "code",
   "execution_count": 49,
   "metadata": {},
   "outputs": [
    {
     "data": {
      "text/plain": [
       "100"
      ]
     },
     "execution_count": 49,
     "metadata": {},
     "output_type": "execute_result"
    }
   ],
   "source": [
    "len(successive_outputs)"
   ]
  },
  {
   "cell_type": "code",
   "execution_count": 50,
   "metadata": {},
   "outputs": [
    {
     "data": {
      "text/plain": [
       "(100, 64)"
      ]
     },
     "execution_count": 50,
     "metadata": {},
     "output_type": "execute_result"
    }
   ],
   "source": [
    "np.array(successive_outputs).shape"
   ]
  },
  {
   "cell_type": "code",
   "execution_count": null,
   "metadata": {},
   "outputs": [],
   "source": []
  },
  {
   "cell_type": "code",
   "execution_count": null,
   "metadata": {},
   "outputs": [],
   "source": []
  },
  {
   "cell_type": "markdown",
   "metadata": {},
   "source": [
    "#### Odgovarajuca Keras podrska. "
   ]
  },
  {
   "cell_type": "markdown",
   "metadata": {},
   "source": [
    "Rad sa rekurentnim neuronskim mrezama je moguc kroz **SimpleRNN** sloj. Ulaz u mrezu je oblika **(batch_size, timestamps, input_size)** gde batch_size predstavlja broj sekvenci koje mreza ocekuje na ulazu, a izlaz moze da bude ili u formi **(batch_size, timestamps, output_size)** ili u formi **(batch_size, output_size)**. Ovo ponasanje se kontrolise kroz **return_sequence** argument sloja i u prvom slucaju naglasava da treba vratiti izlaz za svaki ulaz svake sekvence, dok u drugom slucaju naglasava da treba vratiti izlaz samo poslednjeg ulaza sekvence.   "
   ]
  },
  {
   "cell_type": "code",
   "execution_count": 84,
   "metadata": {},
   "outputs": [],
   "source": [
    "from keras.models import Sequential\n",
    "from keras.layers import SimpleRNN"
   ]
  },
  {
   "cell_type": "code",
   "execution_count": 85,
   "metadata": {},
   "outputs": [],
   "source": [
    "# velicina ulaza\n",
    "input_size = 32 \n",
    "\n",
    "# velicina izlaza\n",
    "output_size = 64 \n",
    "\n",
    "# duzina sekvence koja se obradjuje\n",
    "timestamps = 100\n",
    "\n",
    "# broj sekvenci sa kojima se radi\n",
    "batch_size = 32"
   ]
  },
  {
   "cell_type": "code",
   "execution_count": 86,
   "metadata": {},
   "outputs": [],
   "source": [
    "# ulaz u mrezu je oblika (batch_size, timestamps, input_size)\n",
    "inputs = np.random.random((batch_size, timestamps, input_size))"
   ]
  },
  {
   "cell_type": "code",
   "execution_count": 87,
   "metadata": {},
   "outputs": [],
   "source": []
  },
  {
   "cell_type": "code",
   "execution_count": 114,
   "metadata": {},
   "outputs": [],
   "source": [
    "# varijanta 1: vracaju se izlazi svih ulaza svih sekvenci\n",
    "model = Sequential()\n",
    "model.add(SimpleRNN(batch_size, input_shape=(timestamps, input_size), return_sequences=True))"
   ]
  },
  {
   "cell_type": "code",
   "execution_count": 115,
   "metadata": {},
   "outputs": [
    {
     "name": "stdout",
     "output_type": "stream",
     "text": [
      "_________________________________________________________________\n",
      "Layer (type)                 Output Shape              Param #   \n",
      "=================================================================\n",
      "simple_rnn_31 (SimpleRNN)    (None, 100, 32)           2080      \n",
      "=================================================================\n",
      "Total params: 2,080\n",
      "Trainable params: 2,080\n",
      "Non-trainable params: 0\n",
      "_________________________________________________________________\n"
     ]
    }
   ],
   "source": [
    "model.summary()"
   ]
  },
  {
   "cell_type": "code",
   "execution_count": null,
   "metadata": {},
   "outputs": [],
   "source": []
  },
  {
   "cell_type": "code",
   "execution_count": 116,
   "metadata": {},
   "outputs": [],
   "source": [
    "# varijanta 2: vraca se izlaz samo poslednjeg ulaza pojedinacnih sekvenci\n",
    "model = Sequential()\n",
    "model.add(SimpleRNN(batch_size, input_shape = (timestamps, input_size)))"
   ]
  },
  {
   "cell_type": "code",
   "execution_count": 117,
   "metadata": {},
   "outputs": [
    {
     "name": "stdout",
     "output_type": "stream",
     "text": [
      "_________________________________________________________________\n",
      "Layer (type)                 Output Shape              Param #   \n",
      "=================================================================\n",
      "simple_rnn_32 (SimpleRNN)    (None, 32)                2080      \n",
      "=================================================================\n",
      "Total params: 2,080\n",
      "Trainable params: 2,080\n",
      "Non-trainable params: 0\n",
      "_________________________________________________________________\n"
     ]
    }
   ],
   "source": [
    "model.summary()"
   ]
  },
  {
   "cell_type": "code",
   "execution_count": null,
   "metadata": {},
   "outputs": [],
   "source": []
  },
  {
   "cell_type": "code",
   "execution_count": null,
   "metadata": {},
   "outputs": [],
   "source": []
  },
  {
   "cell_type": "markdown",
   "metadata": {},
   "source": [
    "Keras biblioteka nudi mogucnost koriscenja i nesto kompleksnijih rekurentnih celija kao sto su LSTM celije i GRU celije. Njihovo koriscenje ce biti simulirano u narednim primerima. "
   ]
  },
  {
   "cell_type": "code",
   "execution_count": null,
   "metadata": {},
   "outputs": [],
   "source": []
  },
  {
   "cell_type": "code",
   "execution_count": null,
   "metadata": {},
   "outputs": [],
   "source": []
  },
  {
   "cell_type": "markdown",
   "metadata": {},
   "source": [
    "** Koriscena literatura: **\n",
    "* Deep Learning with Python, Francois Chollet"
   ]
  },
  {
   "cell_type": "code",
   "execution_count": null,
   "metadata": {},
   "outputs": [],
   "source": []
  }
 ],
 "metadata": {
  "kernelspec": {
   "display_name": "Python 3",
   "language": "python",
   "name": "python3"
  },
  "language_info": {
   "codemirror_mode": {
    "name": "ipython",
    "version": 3
   },
   "file_extension": ".py",
   "mimetype": "text/x-python",
   "name": "python",
   "nbconvert_exporter": "python",
   "pygments_lexer": "ipython3",
   "version": "3.7.0"
  }
 },
 "nbformat": 4,
 "nbformat_minor": 2
}
