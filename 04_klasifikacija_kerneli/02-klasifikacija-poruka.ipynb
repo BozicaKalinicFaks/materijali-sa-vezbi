{
 "cells": [
  {
   "cell_type": "code",
   "execution_count": 1,
   "metadata": {},
   "outputs": [],
   "source": [
    "import os\n",
    "import numpy as np\n",
    "from matplotlib import pyplot as plt"
   ]
  },
  {
   "cell_type": "code",
   "execution_count": 2,
   "metadata": {},
   "outputs": [],
   "source": [
    "from sklearn import linear_model\n",
    "from sklearn import svm\n",
    "from sklearn import neighbors\n",
    "from sklearn import model_selection\n",
    "from sklearn import metrics\n",
    "from sklearn import preprocessing\n",
    "from sklearn import feature_extraction"
   ]
  },
  {
   "cell_type": "markdown",
   "metadata": {},
   "source": [
    "Generisemo neki skup podataka koji ce se koristiti da se ilustruju koncepti vektorizacije recenica."
   ]
  },
  {
   "cell_type": "code",
   "execution_count": 3,
   "metadata": {},
   "outputs": [],
   "source": [
    "x = ['It is quite strange to have show in spring.',\n",
    "     'Spring is strange to.']"
   ]
  },
  {
   "cell_type": "markdown",
   "metadata": {},
   "source": [
    "## Vreca reci (eng. Bag of Words)\n",
    "Osnovna ideja sa modelom *vrece reci* je da se u tekstu pronadju *sve* reci koje ostanu nakon koraka pretprocesiranja i da se na osnovu njih izgradi *vokabular* $V$ koji sadrzi $|V|$ reci.\n",
    "\n",
    "Korak *pretprocesiranja* je korak u kojem se eliminisu interpunkcijski znaci, velika slova se pretvaraju u mala i slicno.\n",
    "\n",
    "Reci se potom redjaju redom i dodeljuje im se redni broj. Recenica se predstavlja kao vektor dimenzije $|V|$ tako sto je $i$-ta koordinata 1 ukoliko je $i$-ta rec vokabulara prisutna u recenici, a 0 inace.\n",
    "\n",
    "Bibiloteka `scikit-learn` sadrzi klasu `CountVectorizer` koja nudi funkcionalnost vektorizacije teksta u model vrece reci."
   ]
  },
  {
   "cell_type": "code",
   "execution_count": 4,
   "metadata": {},
   "outputs": [],
   "source": [
    "vectorized = feature_extraction.text.CountVectorizer()"
   ]
  },
  {
   "cell_type": "code",
   "execution_count": 5,
   "metadata": {},
   "outputs": [
    {
     "data": {
      "text/plain": [
       "CountVectorizer(analyzer='word', binary=False, decode_error='strict',\n",
       "        dtype=<class 'numpy.int64'>, encoding='utf-8', input='content',\n",
       "        lowercase=True, max_df=1.0, max_features=None, min_df=1,\n",
       "        ngram_range=(1, 1), preprocessor=None, stop_words=None,\n",
       "        strip_accents=None, token_pattern='(?u)\\\\b\\\\w\\\\w+\\\\b',\n",
       "        tokenizer=None, vocabulary=None)"
      ]
     },
     "execution_count": 5,
     "metadata": {},
     "output_type": "execute_result"
    }
   ],
   "source": [
    "vectorized.fit(x)"
   ]
  },
  {
   "cell_type": "code",
   "execution_count": 6,
   "metadata": {},
   "outputs": [
    {
     "data": {
      "text/plain": [
       "{'it': 3,\n",
       " 'is': 2,\n",
       " 'quite': 4,\n",
       " 'strange': 7,\n",
       " 'to': 8,\n",
       " 'have': 0,\n",
       " 'show': 5,\n",
       " 'in': 1,\n",
       " 'spring': 6}"
      ]
     },
     "execution_count": 6,
     "metadata": {},
     "output_type": "execute_result"
    }
   ],
   "source": [
    "vectorized.vocabulary_"
   ]
  },
  {
   "cell_type": "code",
   "execution_count": 7,
   "metadata": {},
   "outputs": [],
   "source": [
    "x_bag_of_words = vectorized.transform(x)"
   ]
  },
  {
   "cell_type": "code",
   "execution_count": 8,
   "metadata": {},
   "outputs": [
    {
     "data": {
      "text/plain": [
       "(2, 9)"
      ]
     },
     "execution_count": 8,
     "metadata": {},
     "output_type": "execute_result"
    }
   ],
   "source": [
    "x_bag_of_words.shape"
   ]
  },
  {
   "cell_type": "markdown",
   "metadata": {},
   "source": [
    "Dimenzija promenljive `x_bag_of_words` je (2, 9) i to oznacava da:\n",
    "- postoje 2 recenice,\n",
    "- recenica je opisana sa 9 vrednosti (odnosno $|V| = 9$)."
   ]
  },
  {
   "cell_type": "code",
   "execution_count": 9,
   "metadata": {},
   "outputs": [
    {
     "data": {
      "text/plain": [
       "<1x9 sparse matrix of type '<class 'numpy.int64'>'\n",
       "\twith 9 stored elements in Compressed Sparse Row format>"
      ]
     },
     "execution_count": 9,
     "metadata": {},
     "output_type": "execute_result"
    }
   ],
   "source": [
    "x_bag_of_words[0]"
   ]
  },
  {
   "cell_type": "markdown",
   "metadata": {},
   "source": [
    "Primetimo da ukoliko je vokabular *veliki* (ovo je tesko numericki egzaktno kvantifikovati), vektorizovane reprezentacije recenice ce imati veliki broj nula. Ovo je ocekivano jer u jednoj recenici verovatno ne figurise vecina reci koje jezik poseduje.\n",
    "\n",
    "Usled toga, ukoliko bi se vektorizovane vrednosti cuvale kao `numpy ndarray`, za svaku nulu (kojih ima dosta) bi bila potrosena memorija. Ovakvo cuvanje podataka nazivamo gusto (eng. dense).\n",
    "\n",
    "Resenje je cuvati samo one vrednosti koja su u manjini, a nule zapamtiti implicitino. Odnosno, cuvati samo vrednosti koje nisu nula. Ovakva ideja reprezentacije podataka naziva se *retka* reprezentacija (eng. sparse), i `CountVectorizer` podrazumevano vraca retku matricu kada se primeni vektorizacija."
   ]
  },
  {
   "cell_type": "code",
   "execution_count": 10,
   "metadata": {},
   "outputs": [
    {
     "data": {
      "text/plain": [
       "['have', 'in', 'is', 'it', 'quite', 'show', 'spring', 'strange', 'to']"
      ]
     },
     "execution_count": 10,
     "metadata": {},
     "output_type": "execute_result"
    }
   ],
   "source": [
    "vectorized.get_feature_names()"
   ]
  },
  {
   "cell_type": "markdown",
   "metadata": {},
   "source": [
    "Ukoliko ipak zelimo da dobijemo gustu reprezentaciju vektorizovane recenice, mozemo to uciniti pozivom metoda `toarray`."
   ]
  },
  {
   "cell_type": "code",
   "execution_count": 11,
   "metadata": {},
   "outputs": [
    {
     "data": {
      "text/plain": [
       "array([[1, 1, 1, 1, 1, 1, 1, 1, 1],\n",
       "       [0, 0, 1, 0, 0, 0, 1, 1, 1]])"
      ]
     },
     "execution_count": 11,
     "metadata": {},
     "output_type": "execute_result"
    }
   ],
   "source": [
    "x_bag_of_words.toarray()"
   ]
  },
  {
   "cell_type": "markdown",
   "metadata": {},
   "source": [
    "## TF-IDF (Term Frequency - Inverse Document Frequency)\n",
    "\n",
    "### Uopstavanje metoda vrece reci\n",
    "Ukoliko razmislimo, vektorizovani oblik vrece reci i nije preterano informativan,\n",
    "odnosno skup vrednosti koje koordinate vektora mogu uzimati je vrlo skroman, odnosno to je skup $\\{0, 1\\}$. Postavlja se pitanje da li mozemo da napravimo\n",
    "neku meru koja bi recima (terminima) davala neku vrstu **ocene vaznosti** umesto\n",
    "da se za rec odgovara da li postoji ili ne u recenici.\n",
    "\n",
    "### O metrici Tf-idf\n",
    "Tf-idf predstavlja meru koja se moze koristiti da se\n",
    "kvantifikuje vaznost nekog termina, odnosno da se terminu dodeli **tezina**.\n",
    "Tf-idf mera se dosta koristi u pretrazivanju informacija\n",
    "(eng. information retrieval) i istrazivanju teksta (eng. text mining).\n",
    "\n",
    "Vaznost termina (reci) raste sa brojem njegovog pojavljivanja u dokumentu, ali se\n",
    "otezava njegovim ukupnim brojem pojavljivanja u celokupnom skupu dokumenata\n",
    "(koji ima **vise** dokumenata).\n",
    "\n",
    "Pretrazivaci dokumenata dosta cesto koriste ovu meru i njene varijacije\n",
    "kako bi rangirali dokumente za upit koji je prosledio korisnik.\n",
    "\n",
    "### Izracunavanje mere Tf-idf\n",
    "Tezina *tf-idf* se sastoji iz dva clana:\n",
    "- $TF(t, d)$ - Broj pojavljivanja reci $t$ u dokumentu $d$\n",
    "- $IDF(t, d, D)$ - Logaritam kolicnike ukupnog broja dokumenata $d$ sa brojem dokumenata (iz skupa $D$ u kojima se pojavljuje termin $t$\n",
    "\n",
    "U nasem primeru recenica koje imamo (vektor `x` sa pocetka), vazi:\n",
    "- $D = \\{d_1, d_2\\}$\n",
    "- $d_1 = $ \"It is quite strange to have show in spring.\"\n",
    "- $d_2 = $ \"Spring is strange to.\"\n"
   ]
  },
  {
   "cell_type": "markdown",
   "metadata": {},
   "source": [
    "#### Primer\n",
    "Razmotrimo dokument $d$ koji sadrzi 100 reci u kojima rec se rec *macka* pojavljuje 3 puta.\n",
    "\n",
    "TF(\"macka\", $d$) = $\\frac{3}{100}$ = 0.03\n",
    "\n",
    "Pretpostavimo da imamo *10 miliona* dokumenata i rec \"macka\" se pojavljuje u 1000 od ovih. Tada:\n",
    "\n",
    "IDF(\"macka\", $D$) = $\\log{(\\frac{10 000 000}{1 000})} = 4$\n",
    "\n",
    "Tako da mera *tf-idf* predstavlja proizvod nadjenih vrednosti, odnosno $0.03 \\cdot 4 = 0.12$."
   ]
  },
  {
   "cell_type": "code",
   "execution_count": 12,
   "metadata": {},
   "outputs": [],
   "source": [
    "tf_idf_vectorizer = feature_extraction.text.TfidfVectorizer()"
   ]
  },
  {
   "cell_type": "code",
   "execution_count": 13,
   "metadata": {},
   "outputs": [
    {
     "data": {
      "text/plain": [
       "TfidfVectorizer(analyzer='word', binary=False, decode_error='strict',\n",
       "        dtype=<class 'numpy.int64'>, encoding='utf-8', input='content',\n",
       "        lowercase=True, max_df=1.0, max_features=None, min_df=1,\n",
       "        ngram_range=(1, 1), norm='l2', preprocessor=None, smooth_idf=True,\n",
       "        stop_words=None, strip_accents=None, sublinear_tf=False,\n",
       "        token_pattern='(?u)\\\\b\\\\w\\\\w+\\\\b', tokenizer=None, use_idf=True,\n",
       "        vocabulary=None)"
      ]
     },
     "execution_count": 13,
     "metadata": {},
     "output_type": "execute_result"
    }
   ],
   "source": [
    "tf_idf_vectorizer.fit(x)"
   ]
  },
  {
   "cell_type": "code",
   "execution_count": 14,
   "metadata": {},
   "outputs": [
    {
     "data": {
      "text/plain": [
       "['have', 'in', 'is', 'it', 'quite', 'show', 'spring', 'strange', 'to']"
      ]
     },
     "execution_count": 14,
     "metadata": {},
     "output_type": "execute_result"
    }
   ],
   "source": [
    "tf_idf_vectorizer.get_feature_names()"
   ]
  },
  {
   "cell_type": "code",
   "execution_count": 15,
   "metadata": {},
   "outputs": [],
   "source": [
    "x_tfidf = tf_idf_vectorizer.transform(x)"
   ]
  },
  {
   "cell_type": "code",
   "execution_count": 16,
   "metadata": {},
   "outputs": [
    {
     "data": {
      "text/plain": [
       "(2, 9)"
      ]
     },
     "execution_count": 16,
     "metadata": {},
     "output_type": "execute_result"
    }
   ],
   "source": [
    "x_tfidf.shape"
   ]
  },
  {
   "cell_type": "code",
   "execution_count": 17,
   "metadata": {},
   "outputs": [
    {
     "data": {
      "text/plain": [
       "array([[0.37729199, 0.37729199, 0.26844636, 0.37729199, 0.37729199,\n",
       "        0.37729199, 0.26844636, 0.26844636, 0.26844636],\n",
       "       [0.        , 0.        , 0.5       , 0.        , 0.        ,\n",
       "        0.        , 0.5       , 0.5       , 0.5       ]])"
      ]
     },
     "execution_count": 17,
     "metadata": {},
     "output_type": "execute_result"
    }
   ],
   "source": [
    "x_tfidf.toarray()"
   ]
  },
  {
   "cell_type": "markdown",
   "metadata": {},
   "source": [
    "## SMS spam klasifikacija\n",
    "U direktorijumu `smsspam` nalazi se datoteka `SMSSpamCollection` u kojoj\n",
    "se nalazi skup podataka koji sadrzi sms poruke koje su oznacene kao spam i ne spam.\n",
    "\n",
    "Struktura je sledeca:\n",
    "```txt\n",
    "LABELA\\tSADRZAJ\\n\n",
    "```\n",
    "Odnosno prvo ide labela:\n",
    "- `spam` - ukoliko je poruka spam\n",
    "- `ham` - ukoliko poruka nije spam\n",
    "\n",
    "Potom sledi karakter `\\t`, potom sadrzaj sms poruke sve do karaktera `\\n`.\n"
   ]
  },
  {
   "cell_type": "code",
   "execution_count": 18,
   "metadata": {},
   "outputs": [],
   "source": [
    "with open(os.path.join('smsspam', 'SMSSpamCollection')) as f:\n",
    "    lines = [line.strip().split('\\t') for line in f.readlines()]"
   ]
  },
  {
   "cell_type": "code",
   "execution_count": 19,
   "metadata": {},
   "outputs": [],
   "source": [
    "text = [line[1] for line in lines]\n",
    "y = [int(line[0] == 'spam') for line in lines]"
   ]
  },
  {
   "cell_type": "code",
   "execution_count": 20,
   "metadata": {},
   "outputs": [
    {
     "data": {
      "text/plain": [
       "[\"LMAO where's your fish memory when I need it?\",\n",
       " \"But i'll b going 2 sch on mon. My sis need 2 take smth.\",\n",
       " 'Idea will soon get converted to live:)',\n",
       " 'TheMob>Yo yo yo-Here comes a new selection of hot downloads for our members to get for FREE! Just click & open the next link sent to ur fone...',\n",
       " 'S....s...india going to draw the series after many years in south african soil..',\n",
       " 'Goodmorning, today i am late for  &lt;DECIMAL&gt; min.',\n",
       " \"Can't take any major roles in community outreach. You rock mel\",\n",
       " 'Shopping lor. Them raining mah hard 2 leave orchard.',\n",
       " 'Hi here. have birth at on the  to  at 8lb 7oz. Mother and baby doing brilliantly.',\n",
       " 'See the forwarding message for proof']"
      ]
     },
     "execution_count": 20,
     "metadata": {},
     "output_type": "execute_result"
    }
   ],
   "source": [
    "text[2000:2010]"
   ]
  },
  {
   "cell_type": "code",
   "execution_count": 21,
   "metadata": {},
   "outputs": [
    {
     "name": "stdout",
     "output_type": "stream",
     "text": [
      "Broj spam poruka: 747\n",
      "Broj poruka koje nisu spam: 4827\n",
      "Ukupan broj poruka: 5574\n",
      "Udeo spam poruka od ukupnih poruka: 0.1340150699677072\n"
     ]
    }
   ],
   "source": [
    "n_spam = y.count(1)\n",
    "n_nospam = y.count(0)\n",
    "print('Broj spam poruka: {}'.format(n_spam))\n",
    "print('Broj poruka koje nisu spam: {}'.format(n_nospam))\n",
    "print('Ukupan broj poruka: {}'.format(len(y)))\n",
    "print('Udeo spam poruka od ukupnih poruka: {}'.format(n_spam/len(y)))"
   ]
  },
  {
   "cell_type": "code",
   "execution_count": 22,
   "metadata": {},
   "outputs": [],
   "source": [
    "X_train, X_test, y_train, y_test =\\\n",
    "    model_selection.train_test_split(text, y, test_size=0.33, random_state=7, stratify=y)"
   ]
  },
  {
   "cell_type": "code",
   "execution_count": 23,
   "metadata": {},
   "outputs": [],
   "source": [
    "# NOTETOSELF: min_df\n",
    "spam_vectorizer = feature_extraction.text.CountVectorizer()"
   ]
  },
  {
   "cell_type": "code",
   "execution_count": 24,
   "metadata": {},
   "outputs": [
    {
     "data": {
      "text/plain": [
       "CountVectorizer(analyzer='word', binary=False, decode_error='strict',\n",
       "        dtype=<class 'numpy.int64'>, encoding='utf-8', input='content',\n",
       "        lowercase=True, max_df=1.0, max_features=None, min_df=1,\n",
       "        ngram_range=(1, 1), preprocessor=None, stop_words=None,\n",
       "        strip_accents=None, token_pattern='(?u)\\\\b\\\\w\\\\w+\\\\b',\n",
       "        tokenizer=None, vocabulary=None)"
      ]
     },
     "execution_count": 24,
     "metadata": {},
     "output_type": "execute_result"
    }
   ],
   "source": [
    "spam_vectorizer.fit(text)"
   ]
  },
  {
   "cell_type": "code",
   "execution_count": 25,
   "metadata": {},
   "outputs": [],
   "source": [
    "x_train_vectorized = spam_vectorizer.transform(X_train)\n",
    "x_test_vectorized = spam_vectorizer.transform(X_test)"
   ]
  },
  {
   "cell_type": "code",
   "execution_count": 26,
   "metadata": {},
   "outputs": [
    {
     "name": "stdout",
     "output_type": "stream",
     "text": [
      "Broj reci u trening skupu 3734\n",
      "(1840, 8716)\n"
     ]
    }
   ],
   "source": [
    "print('Broj reci u trening skupu {}'.format(x_train_vectorized.shape[0]))\n",
    "print(x_test_vectorized.shape)"
   ]
  },
  {
   "cell_type": "code",
   "execution_count": 27,
   "metadata": {},
   "outputs": [
    {
     "data": {
      "text/plain": [
       "['cheered',\n",
       " 'cheers',\n",
       " 'cheery',\n",
       " 'cheese',\n",
       " 'cheesy',\n",
       " 'cheetos',\n",
       " 'chef',\n",
       " 'chennai',\n",
       " 'cheque',\n",
       " 'cherish',\n",
       " 'cherthala',\n",
       " 'chess',\n",
       " 'chest',\n",
       " 'chex',\n",
       " 'cheyyamo',\n",
       " 'chez',\n",
       " 'chg',\n",
       " 'chgs',\n",
       " 'chic',\n",
       " 'chick']"
      ]
     },
     "execution_count": 27,
     "metadata": {},
     "output_type": "execute_result"
    }
   ],
   "source": [
    "spam_vectorizer.get_feature_names()[2000:2020]"
   ]
  },
  {
   "cell_type": "code",
   "execution_count": 28,
   "metadata": {},
   "outputs": [
    {
     "data": {
      "text/plain": [
       "LogisticRegression(C=1.0, class_weight=None, dual=False, fit_intercept=True,\n",
       "          intercept_scaling=1, max_iter=100, multi_class='ovr', n_jobs=1,\n",
       "          penalty='l2', random_state=None, solver='liblinear', tol=0.0001,\n",
       "          verbose=0, warm_start=False)"
      ]
     },
     "execution_count": 28,
     "metadata": {},
     "output_type": "execute_result"
    }
   ],
   "source": [
    "logistic_regression_model = linear_model.LogisticRegression()\n",
    "logistic_regression_model.fit(x_train_vectorized, y_train)"
   ]
  },
  {
   "cell_type": "code",
   "execution_count": 29,
   "metadata": {},
   "outputs": [],
   "source": [
    "logistic_regression_train_score = logistic_regression_model.score(x_train_vectorized, y_train)\n",
    "logistic_regression_test_score = logistic_regression_model.score(x_test_vectorized, y_test)"
   ]
  },
  {
   "cell_type": "code",
   "execution_count": 30,
   "metadata": {},
   "outputs": [
    {
     "name": "stdout",
     "output_type": "stream",
     "text": [
      "0.997589716122121\n",
      "0.9815217391304348\n"
     ]
    }
   ],
   "source": [
    "print(logistic_regression_train_score)\n",
    "print(logistic_regression_test_score)"
   ]
  },
  {
   "cell_type": "code",
   "execution_count": 31,
   "metadata": {},
   "outputs": [
    {
     "data": {
      "text/plain": [
       "LinearSVC(C=1.0, class_weight=None, dual=True, fit_intercept=True,\n",
       "     intercept_scaling=1, loss='squared_hinge', max_iter=1000,\n",
       "     multi_class='ovr', penalty='l2', random_state=None, tol=0.0001,\n",
       "     verbose=0)"
      ]
     },
     "execution_count": 31,
     "metadata": {},
     "output_type": "execute_result"
    }
   ],
   "source": [
    "svm_model = svm.LinearSVC()\n",
    "svm_model.fit(x_train_vectorized, y_train)"
   ]
  },
  {
   "cell_type": "code",
   "execution_count": 32,
   "metadata": {},
   "outputs": [
    {
     "name": "stdout",
     "output_type": "stream",
     "text": [
      "1.0\n"
     ]
    }
   ],
   "source": [
    "svm_train_score = svm_model.score(x_train_vectorized, y_train)\n",
    "print(svm_train_score)"
   ]
  },
  {
   "cell_type": "code",
   "execution_count": 33,
   "metadata": {},
   "outputs": [
    {
     "name": "stdout",
     "output_type": "stream",
     "text": [
      "0.9858695652173913\n"
     ]
    }
   ],
   "source": [
    "svm_test_score = svm_model.score(x_test_vectorized, y_test)\n",
    "print(svm_test_score)"
   ]
  },
  {
   "cell_type": "code",
   "execution_count": 34,
   "metadata": {},
   "outputs": [
    {
     "data": {
      "text/plain": [
       "KNeighborsClassifier(algorithm='auto', leaf_size=30, metric='minkowski',\n",
       "           metric_params=None, n_jobs=1, n_neighbors=4, p=2,\n",
       "           weights='uniform')"
      ]
     },
     "execution_count": 34,
     "metadata": {},
     "output_type": "execute_result"
    }
   ],
   "source": [
    "knn_model = neighbors.KNeighborsClassifier(n_neighbors=4)\n",
    "knn_model.fit(x_train_vectorized, y_train)"
   ]
  },
  {
   "cell_type": "code",
   "execution_count": 35,
   "metadata": {},
   "outputs": [
    {
     "name": "stdout",
     "output_type": "stream",
     "text": [
      "0.9242099625066952\n"
     ]
    }
   ],
   "source": [
    "knn_train_score = knn_model.score(x_train_vectorized, y_train)\n",
    "print(knn_train_score)"
   ]
  },
  {
   "cell_type": "code",
   "execution_count": 36,
   "metadata": {},
   "outputs": [
    {
     "name": "stdout",
     "output_type": "stream",
     "text": [
      "0.9092391304347827\n"
     ]
    }
   ],
   "source": [
    "knn_test_score = knn_model.score(x_test_vectorized, y_test)\n",
    "print(knn_test_score)"
   ]
  },
  {
   "cell_type": "code",
   "execution_count": 37,
   "metadata": {},
   "outputs": [],
   "source": [
    "def visualize_coefficients(title, classifier, feature_names, n_top_features=25):\n",
    "    coefs = classifier.coef_.ravel()\n",
    "    \n",
    "    positive_coefficients_indices = np.argsort(coefs)[-n_top_features:]\n",
    "    negative_coefficients_indices = np.argsort(coefs)[:n_top_features]\n",
    "    \n",
    "    interesting_coefficients_indices =\\\n",
    "        np.hstack([negative_coefficients_indices,\n",
    "                   positive_coefficients_indices])\n",
    "    \n",
    "    plt.figure(figsize=(15,5))\n",
    "    plt.title(title)\n",
    "    colors = ['orange' if c < 0 else 'cadetblue' for c in coefs[interesting_coefficients_indices]]\n",
    "    plt.bar(np.arange(2 * n_top_features),\n",
    "            coefs[interesting_coefficients_indices], color=colors)\n",
    "    feature_names = np.array(feature_names)\n",
    "    plt.xticks(np.arange(2*n_top_features), feature_names[interesting_coefficients_indices], rotation=60, ha='right')"
   ]
  },
  {
   "cell_type": "code",
   "execution_count": 38,
   "metadata": {},
   "outputs": [
    {
     "data": {
      "image/png": "[encoded data removed]",
      "text/plain": [
       "<Figure size 1080x360 with 1 Axes>"
      ]
     },
     "metadata": {
      "needs_background": "light"
     },
     "output_type": "display_data"
    }
   ],
   "source": [
    "visualize_coefficients('Logistic regression',\n",
    "                      logistic_regression_model,\n",
    "                      spam_vectorizer.get_feature_names())"
   ]
  },
  {
   "cell_type": "code",
   "execution_count": 40,
   "metadata": {},
   "outputs": [
    {
     "name": "stdout",
     "output_type": "stream",
     "text": [
      "[1 2 3 5]\n",
      "[0 2 3 1]\n"
     ]
    }
   ],
   "source": [
    "# Kako radi argsort?\n",
    "tmp = np.array([1, 5, 2, 3])\n",
    "sorted_tmp = np.argsort(tmp)\n",
    "print(tmp[sorted_tmp])\n",
    "print(sorted_tmp)"
   ]
  },
  {
   "cell_type": "code",
   "execution_count": null,
   "metadata": {},
   "outputs": [],
   "source": []
  }
 ],
 "metadata": {
  "kernelspec": {
   "display_name": "Python 3",
   "language": "python",
   "name": "python3"
  },
  "language_info": {
   "codemirror_mode": {
    "name": "ipython",
    "version": 3
   },
   "file_extension": ".py",
   "mimetype": "text/x-python",
   "name": "python",
   "nbconvert_exporter": "python",
   "pygments_lexer": "ipython3",
   "version": "3.7.0"
  }
 },
 "nbformat": 4,
 "nbformat_minor": 2
}
