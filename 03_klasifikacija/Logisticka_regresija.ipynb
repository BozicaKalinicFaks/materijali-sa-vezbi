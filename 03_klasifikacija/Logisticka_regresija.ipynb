{
 "cells": [
  {
   "cell_type": "markdown",
   "metadata": {},
   "source": [
    "**Logististicka regresija ** je model binarne klasifikacije koji pretpostavlja linearnu vezu izmedju ulaznih velicina. Ciljna funkcija logisticke regresije je zadata formulom $f_\\beta(X)= \\frac{1}{1+e^{-(\\beta_0 + \\beta_1X_1 + \\ldots + \\beta_mX_m)}} = \\frac{1}{1+e^{-\\beta^T X}} = \\sigma(\\beta^TX)$ gde je $\\sigma(x)$ sigmoidna funkcija odredjena jednacinom $\\sigma(x) = \\frac{1}{1+e^{-x}}$. Vrednost ciljne funkcije se moze interpretirati kao verovatnoca pripadnosti odredjenoj klasi: ukoliko je njena vrednost veca od 0.5, klasifikator predvidja pozitivnu klasu, dok u suprotnom predvidja negativnu klasu. \n",
    "\n",
    "<br> \n",
    "Parametri modela se odredjuju minimizacijom funkcije gubitka koja je u slucaju logisticke regresije unakrsna entropija odredjena sa $\\sum_{i=1}^{N} -y_i logf_\\beta(x_i) - (1-y_i)log(1-f_\\beta(x_i))$."
   ]
  },
  {
   "cell_type": "code",
   "execution_count": null,
   "metadata": {},
   "outputs": [],
   "source": []
  },
  {
   "cell_type": "markdown",
   "metadata": {},
   "source": [
    "U primeru koji sledi bice reci o klasifikaciji tumora na maligne i benigne. "
   ]
  },
  {
   "cell_type": "code",
   "execution_count": 5,
   "metadata": {},
   "outputs": [],
   "source": [
    "import numpy as np\n",
    "import pandas as pd"
   ]
  },
  {
   "cell_type": "code",
   "execution_count": 6,
   "metadata": {},
   "outputs": [],
   "source": [
    "from matplotlib import pyplot as plt\n",
    "import seaborn as sns\n",
    "%matplotlib inline"
   ]
  },
  {
   "cell_type": "code",
   "execution_count": 7,
   "metadata": {},
   "outputs": [],
   "source": [
    "from sklearn import linear_model\n",
    "from sklearn import model_selection\n",
    "from sklearn import metrics\n",
    "from sklearn import preprocessing\n",
    "from sklearn import datasets"
   ]
  },
  {
   "cell_type": "code",
   "execution_count": 8,
   "metadata": {},
   "outputs": [],
   "source": [
    "data = datasets.load_breast_cancer()"
   ]
  },
  {
   "cell_type": "markdown",
   "metadata": {},
   "source": [
    "### Analiza podataka"
   ]
  },
  {
   "cell_type": "code",
   "execution_count": 9,
   "metadata": {},
   "outputs": [],
   "source": [
    "#print(data.DESCR)"
   ]
  },
  {
   "cell_type": "code",
   "execution_count": 10,
   "metadata": {},
   "outputs": [],
   "source": [
    "x = pd.DataFrame(data.data, columns = data.feature_names)"
   ]
  },
  {
   "cell_type": "code",
   "execution_count": 11,
   "metadata": {},
   "outputs": [
    {
     "data": {
      "text/plain": [
       "(569, 30)"
      ]
     },
     "execution_count": 11,
     "metadata": {},
     "output_type": "execute_result"
    }
   ],
   "source": [
    "x.shape"
   ]
  },
  {
   "cell_type": "code",
   "execution_count": 12,
   "metadata": {},
   "outputs": [
    {
     "data": {
      "text/plain": [
       "array(['malignant', 'benign'],\n",
       "      dtype='<U9')"
      ]
     },
     "execution_count": 12,
     "metadata": {},
     "output_type": "execute_result"
    }
   ],
   "source": [
    "data.target_names"
   ]
  },
  {
   "cell_type": "code",
   "execution_count": 13,
   "metadata": {},
   "outputs": [],
   "source": [
    "y = data.target"
   ]
  },
  {
   "cell_type": "code",
   "execution_count": null,
   "metadata": {},
   "outputs": [],
   "source": []
  },
  {
   "cell_type": "code",
   "execution_count": 14,
   "metadata": {},
   "outputs": [
    {
     "name": "stdout",
     "output_type": "stream",
     "text": [
      "<class 'pandas.core.frame.DataFrame'>\n",
      "RangeIndex: 569 entries, 0 to 568\n",
      "Data columns (total 30 columns):\n",
      "mean radius                569 non-null float64\n",
      "mean texture               569 non-null float64\n",
      "mean perimeter             569 non-null float64\n",
      "mean area                  569 non-null float64\n",
      "mean smoothness            569 non-null float64\n",
      "mean compactness           569 non-null float64\n",
      "mean concavity             569 non-null float64\n",
      "mean concave points        569 non-null float64\n",
      "mean symmetry              569 non-null float64\n",
      "mean fractal dimension     569 non-null float64\n",
      "radius error               569 non-null float64\n",
      "texture error              569 non-null float64\n",
      "perimeter error            569 non-null float64\n",
      "area error                 569 non-null float64\n",
      "smoothness error           569 non-null float64\n",
      "compactness error          569 non-null float64\n",
      "concavity error            569 non-null float64\n",
      "concave points error       569 non-null float64\n",
      "symmetry error             569 non-null float64\n",
      "fractal dimension error    569 non-null float64\n",
      "worst radius               569 non-null float64\n",
      "worst texture              569 non-null float64\n",
      "worst perimeter            569 non-null float64\n",
      "worst area                 569 non-null float64\n",
      "worst smoothness           569 non-null float64\n",
      "worst compactness          569 non-null float64\n",
      "worst concavity            569 non-null float64\n",
      "worst concave points       569 non-null float64\n",
      "worst symmetry             569 non-null float64\n",
      "worst fractal dimension    569 non-null float64\n",
      "dtypes: float64(30)\n",
      "memory usage: 133.4 KB\n"
     ]
    }
   ],
   "source": [
    "x.info()"
   ]
  },
  {
   "cell_type": "code",
   "execution_count": 15,
   "metadata": {},
   "outputs": [
    {
     "data": {
      "text/plain": [
       "mean radius                  6.981000\n",
       "mean texture                 9.710000\n",
       "mean perimeter              43.790000\n",
       "mean area                  143.500000\n",
       "mean smoothness              0.052630\n",
       "mean compactness             0.019380\n",
       "mean concavity               0.000000\n",
       "mean concave points          0.000000\n",
       "mean symmetry                0.106000\n",
       "mean fractal dimension       0.049960\n",
       "radius error                 0.111500\n",
       "texture error                0.360200\n",
       "perimeter error              0.757000\n",
       "area error                   6.802000\n",
       "smoothness error             0.001713\n",
       "compactness error            0.002252\n",
       "concavity error              0.000000\n",
       "concave points error         0.000000\n",
       "symmetry error               0.007882\n",
       "fractal dimension error      0.000895\n",
       "worst radius                 7.930000\n",
       "worst texture               12.020000\n",
       "worst perimeter             50.410000\n",
       "worst area                 185.200000\n",
       "worst smoothness             0.071170\n",
       "worst compactness            0.027290\n",
       "worst concavity              0.000000\n",
       "worst concave points         0.000000\n",
       "worst symmetry               0.156500\n",
       "worst fractal dimension      0.055040\n",
       "dtype: float64"
      ]
     },
     "execution_count": 15,
     "metadata": {},
     "output_type": "execute_result"
    }
   ],
   "source": [
    "x.min(axis = 0)"
   ]
  },
  {
   "cell_type": "code",
   "execution_count": 16,
   "metadata": {},
   "outputs": [
    {
     "data": {
      "text/plain": [
       "mean radius                  28.11000\n",
       "mean texture                 39.28000\n",
       "mean perimeter              188.50000\n",
       "mean area                  2501.00000\n",
       "mean smoothness               0.16340\n",
       "mean compactness              0.34540\n",
       "mean concavity                0.42680\n",
       "mean concave points           0.20120\n",
       "mean symmetry                 0.30400\n",
       "mean fractal dimension        0.09744\n",
       "radius error                  2.87300\n",
       "texture error                 4.88500\n",
       "perimeter error              21.98000\n",
       "area error                  542.20000\n",
       "smoothness error              0.03113\n",
       "compactness error             0.13540\n",
       "concavity error               0.39600\n",
       "concave points error          0.05279\n",
       "symmetry error                0.07895\n",
       "fractal dimension error       0.02984\n",
       "worst radius                 36.04000\n",
       "worst texture                49.54000\n",
       "worst perimeter             251.20000\n",
       "worst area                 4254.00000\n",
       "worst smoothness              0.22260\n",
       "worst compactness             1.05800\n",
       "worst concavity               1.25200\n",
       "worst concave points          0.29100\n",
       "worst symmetry                0.66380\n",
       "worst fractal dimension       0.20750\n",
       "dtype: float64"
      ]
     },
     "execution_count": 16,
     "metadata": {},
     "output_type": "execute_result"
    }
   ],
   "source": [
    "x.max(axis = 0)"
   ]
  },
  {
   "cell_type": "markdown",
   "metadata": {},
   "source": [
    "Atributi uzimaju vrednosti na razlicitim skalama. "
   ]
  },
  {
   "cell_type": "code",
   "execution_count": 17,
   "metadata": {},
   "outputs": [
    {
     "name": "stdout",
     "output_type": "stream",
     "text": [
      "Original dataset - Benign: 357, Malignant: 212\n"
     ]
    }
   ],
   "source": [
    "print(\"Original dataset - Benign: {b}, Malignant: {m}\".format(b=np.sum(y == 1), m= np.sum(y == 0)))"
   ]
  },
  {
   "cell_type": "markdown",
   "metadata": {},
   "source": [
    "Prilikom podele skupa podataka na skupove za treniranje i testiranje, voditi racuna o stratifikaciji."
   ]
  },
  {
   "cell_type": "code",
   "execution_count": 18,
   "metadata": {},
   "outputs": [],
   "source": [
    "x_train, x_test, y_train, y_test = model_selection.train_test_split(x, y, test_size = 0.33, random_state = 7, stratify = y )"
   ]
  },
  {
   "cell_type": "code",
   "execution_count": 19,
   "metadata": {},
   "outputs": [
    {
     "name": "stdout",
     "output_type": "stream",
     "text": [
      "Train dataset - Benign: 239, Malignant: 142\n"
     ]
    }
   ],
   "source": [
    "print(\"Train dataset - Benign: {b}, Malignant: {m}\".format(b=np.sum(y_train == 1), m= np.sum(y_train == 0)))"
   ]
  },
  {
   "cell_type": "code",
   "execution_count": 20,
   "metadata": {},
   "outputs": [
    {
     "name": "stdout",
     "output_type": "stream",
     "text": [
      "Test dataset - Benign: 118, Malignant: 70\n"
     ]
    }
   ],
   "source": [
    "print(\"Test dataset - Benign: {b}, Malignant: {m}\".format(b=np.sum(y_test == 1), m= np.sum(y_test == 0)))"
   ]
  },
  {
   "cell_type": "code",
   "execution_count": 21,
   "metadata": {},
   "outputs": [],
   "source": [
    "scaler = preprocessing.StandardScaler()\n",
    "scaler.fit(x_train)\n",
    "x_train = scaler.transform(x_train)\n",
    "x_test = scaler.transform(x_test)"
   ]
  },
  {
   "cell_type": "code",
   "execution_count": 22,
   "metadata": {},
   "outputs": [
    {
     "data": {
      "image/png": "[encoded data removed]",
      "text/plain": [
       "<matplotlib.figure.Figure at 0x1095e67f0>"
      ]
     },
     "metadata": {},
     "output_type": "display_data"
    }
   ],
   "source": [
    "plt.title(\"Train set\")\n",
    "plt.xticks([0,1])\n",
    "plt.hist(y_train);"
   ]
  },
  {
   "cell_type": "code",
   "execution_count": 23,
   "metadata": {},
   "outputs": [
    {
     "data": {
      "image/png": "[encoded data removed]",
      "text/plain": [
       "<matplotlib.figure.Figure at 0x1095e6b00>"
      ]
     },
     "metadata": {},
     "output_type": "display_data"
    }
   ],
   "source": [
    "plt.title(\"Test set\")\n",
    "plt.xticks([0, 1])\n",
    "plt.hist(y_test);"
   ]
  },
  {
   "cell_type": "markdown",
   "metadata": {},
   "source": [
    "### Ucenje modela"
   ]
  },
  {
   "cell_type": "code",
   "execution_count": 24,
   "metadata": {},
   "outputs": [],
   "source": [
    "model = linear_model.LogisticRegression()"
   ]
  },
  {
   "cell_type": "code",
   "execution_count": 25,
   "metadata": {},
   "outputs": [
    {
     "data": {
      "text/plain": [
       "LogisticRegression(C=1.0, class_weight=None, dual=False, fit_intercept=True,\n",
       "          intercept_scaling=1, max_iter=100, multi_class='ovr', n_jobs=1,\n",
       "          penalty='l2', random_state=None, solver='liblinear', tol=0.0001,\n",
       "          verbose=0, warm_start=False)"
      ]
     },
     "execution_count": 25,
     "metadata": {},
     "output_type": "execute_result"
    }
   ],
   "source": [
    "model.fit(x_train, y_train)"
   ]
  },
  {
   "cell_type": "markdown",
   "metadata": {},
   "source": [
    "Rezultujuci parametri se mogu procitati kroz intercept_ i coef_svojstva."
   ]
  },
  {
   "cell_type": "code",
   "execution_count": 26,
   "metadata": {},
   "outputs": [
    {
     "data": {
      "text/plain": [
       "array([ 0.26862964])"
      ]
     },
     "execution_count": 26,
     "metadata": {},
     "output_type": "execute_result"
    }
   ],
   "source": [
    "model.intercept_"
   ]
  },
  {
   "cell_type": "code",
   "execution_count": 27,
   "metadata": {},
   "outputs": [
    {
     "data": {
      "text/plain": [
       "array([[-0.27544023, -0.50084558, -0.29832841, -0.44222808, -0.08345319,\n",
       "         0.47774684, -0.64537462, -0.58458543, -0.19299068,  0.27567901,\n",
       "        -1.09019124,  0.18326243, -0.5666638 , -0.91496324, -0.0730358 ,\n",
       "         0.81075687, -0.14531782, -0.40100136,  0.26422463,  0.43892385,\n",
       "        -0.95668819, -1.14486767, -0.75504657, -1.00071393, -0.58473687,\n",
       "         0.08872894, -0.72647006, -0.89528128, -0.69997844, -0.6512288 ]])"
      ]
     },
     "execution_count": 27,
     "metadata": {},
     "output_type": "execute_result"
    }
   ],
   "source": [
    "model.coef_"
   ]
  },
  {
   "cell_type": "code",
   "execution_count": null,
   "metadata": {},
   "outputs": [],
   "source": []
  },
  {
   "cell_type": "code",
   "execution_count": null,
   "metadata": {},
   "outputs": [],
   "source": []
  },
  {
   "cell_type": "markdown",
   "metadata": {},
   "source": [
    "### Evaluacija"
   ]
  },
  {
   "cell_type": "code",
   "execution_count": 28,
   "metadata": {},
   "outputs": [],
   "source": [
    "y_test_predicted = model.predict(x_test)"
   ]
  },
  {
   "cell_type": "code",
   "execution_count": 29,
   "metadata": {},
   "outputs": [],
   "source": [
    "test_score = metrics.accuracy_score(y_test, y_test_predicted)"
   ]
  },
  {
   "cell_type": "code",
   "execution_count": 30,
   "metadata": {},
   "outputs": [],
   "source": [
    "y_train_predicted = model.predict(x_train)"
   ]
  },
  {
   "cell_type": "code",
   "execution_count": 31,
   "metadata": {},
   "outputs": [],
   "source": [
    "train_score = metrics.accuracy_score(y_train, y_train_predicted)"
   ]
  },
  {
   "cell_type": "code",
   "execution_count": 32,
   "metadata": {},
   "outputs": [
    {
     "name": "stdout",
     "output_type": "stream",
     "text": [
      "Train score: 0.989501312335958, test score: 0.9787234042553191\n"
     ]
    }
   ],
   "source": [
    "print(\"Train score: {train}, test score: {test}\".format(train=train_score, test=test_score))"
   ]
  },
  {
   "cell_type": "code",
   "execution_count": 33,
   "metadata": {},
   "outputs": [],
   "source": [
    "#vrlo verovatno da dolazi do preprilagodjavanja - treba podesiti parametre modela"
   ]
  },
  {
   "cell_type": "code",
   "execution_count": 41,
   "metadata": {},
   "outputs": [],
   "source": [
    "# ocena verovatnoca pripadnosti klasama\n",
    "y_probabilities_predicted = model.predict_proba(x_test)\n",
    "#y_probabilities_predicted"
   ]
  },
  {
   "cell_type": "code",
   "execution_count": null,
   "metadata": {},
   "outputs": [],
   "source": []
  },
  {
   "cell_type": "code",
   "execution_count": null,
   "metadata": {},
   "outputs": [],
   "source": []
  },
  {
   "cell_type": "markdown",
   "metadata": {},
   "source": [
    "### Koricenje modela"
   ]
  },
  {
   "cell_type": "code",
   "execution_count": 42,
   "metadata": {},
   "outputs": [],
   "source": [
    "final_model = model.fit(x, y)"
   ]
  },
  {
   "cell_type": "code",
   "execution_count": 50,
   "metadata": {},
   "outputs": [],
   "source": [
    "x_new = np.random.randn(30)"
   ]
  },
  {
   "cell_type": "code",
   "execution_count": 51,
   "metadata": {},
   "outputs": [
    {
     "name": "stdout",
     "output_type": "stream",
     "text": [
      "Benign\n"
     ]
    }
   ],
   "source": [
    "y_new = model.predict(x_new.reshape(1, -1))\n",
    "print ('Benign' if y_new == 1 else 'Malignant')"
   ]
  },
  {
   "cell_type": "code",
   "execution_count": 60,
   "metadata": {},
   "outputs": [
    {
     "name": "stdout",
     "output_type": "stream",
     "text": [
      "Benign: 0.951456, malignant: 0.048544\n"
     ]
    }
   ],
   "source": [
    "probabilities = model.predict_proba(x_new.reshape(1, -1))\n",
    "print ('Benign: %f, malignant: %f' % (probabilities[0, 1], probabilities[0, 0]))"
   ]
  },
  {
   "cell_type": "code",
   "execution_count": null,
   "metadata": {},
   "outputs": [],
   "source": []
  }
 ],
 "metadata": {
  "kernelspec": {
   "display_name": "Python 3",
   "language": "python",
   "name": "python3"
  },
  "language_info": {
   "codemirror_mode": {
    "name": "ipython",
    "version": 3
   },
   "file_extension": ".py",
   "mimetype": "text/x-python",
   "name": "python",
   "nbconvert_exporter": "python",
   "pygments_lexer": "ipython3",
   "version": "3.7.0"
  }
 },
 "nbformat": 4,
 "nbformat_minor": 2
}
