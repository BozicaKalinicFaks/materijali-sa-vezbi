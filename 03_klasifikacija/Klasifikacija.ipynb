{
 "cells": [
  {
   "cell_type": "markdown",
   "metadata": {},
   "source": [
    "Zadatak klasifikacije je odredjivanje modela kojim se predvidjaju vrednosti diskretne ciljne promenljive. Na primer, tipicni zadaci klasifikacije su odredjivanje da li je poruka pozeljna ili nepozeljna, da li je detektovani tumor benigni ili maligni, da li je obavljena transakcija regularna ili ne, ... Svi navedeni primeri su primeri binarne klasifikacije jer ciljna promenljiva moze imati samo dve vrednosti. Ukoliko ciljna promenljiva moze imati vise mogucih vrednosti (vise od dve) rec je viseklasnoj klasifikaciji. Na primer, odredjivanje da li je novinski clanak iz domena politike, sporta ili kulture ili odredjivanje da li je na slici macka, slon ili leptir su zadaci viseklasne klasifikacije. Prilikom resavanja ovog zadatka, obicno se uci veci broj binarnih klasifikatora kojim se svaka od uocenih klasa razlikuje od preostalih (one vs. all ili one vs. one pristupi), dok se za finalnu vrednost nove instance uzima rezultat klasifikatora koji ima najvecu ocenu. "
   ]
  },
  {
   "cell_type": "markdown",
   "metadata": {},
   "source": [
    "Kada je rec o oceni klasifikacije, neke od standardnih mera evaluacije su: preciznost (eng. precision), odziv (eng. recall), tacnost (eng. accuracy) i F1 mera. Ove mere se izracunavaju na osnovu vrednosti matrice konfuzije u kojoj se sumiraju rezultati testiranja klasifikatora. <img src='confusion_matrix.png'>"
   ]
  },
  {
   "cell_type": "markdown",
   "metadata": {},
   "source": [
    "Preciznost predstavlja ocenu broja pozitivno klasifikovanih instanci i izracunava se po formuli $P = \\frac{TP}{TP + FP}$. \n",
    "<br> \n",
    "Odziv predstavlja ocenu broja prepoznatih pozitivnih instanci i racuna se po formuli $R = \\frac{TP}{TP + FN}$.\n",
    "<br>\n",
    "Tacnost predstavlja ocenu ukupnog broja uspesno klasifikovanih instanci i izracunava se po formuli $Acc = \\frac{TP + TN}{TP + FN + FP + TN}$.\n",
    "<br> \n",
    "F1 mera predstavlja harmonijsku sredinu prezinosti i odziva i izracunava se po formuli $F_1 = 2\\frac{PR}{P+R}$.\n",
    "\n",
    "<img src='metrics.png'>"
   ]
  },
  {
   "cell_type": "markdown",
   "metadata": {},
   "source": [
    "# Pozdrav iz publike ;)"
   ]
  },
  {
   "cell_type": "markdown",
   "metadata": {},
   "source": []
  },
  {
   "cell_type": "code",
   "execution_count": null,
   "metadata": {},
   "outputs": [],
   "source": []
  }
 ],
 "metadata": {
  "kernelspec": {
   "display_name": "Python 3",
   "language": "python",
   "name": "python3"
  },
  "language_info": {
   "codemirror_mode": {
    "name": "ipython",
    "version": 3
   },
   "file_extension": ".py",
   "mimetype": "text/x-python",
   "name": "python",
   "nbconvert_exporter": "python",
   "pygments_lexer": "ipython3",
   "version": "3.7.0"
  }
 },
 "nbformat": 4,
 "nbformat_minor": 2
}
