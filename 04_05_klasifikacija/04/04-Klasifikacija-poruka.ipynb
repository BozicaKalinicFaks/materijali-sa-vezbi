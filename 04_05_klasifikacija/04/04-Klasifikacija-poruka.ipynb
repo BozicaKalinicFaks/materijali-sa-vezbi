{
 "cells": [
  {
   "cell_type": "code",
   "execution_count": 1,
   "metadata": {},
   "outputs": [],
   "source": [
    "import os\n",
    "import numpy as np\n",
    "from matplotlib import pyplot as plt"
   ]
  },
  {
   "cell_type": "code",
   "execution_count": 2,
   "metadata": {},
   "outputs": [],
   "source": [
    "import nltk\n",
    "import string"
   ]
  },
  {
   "cell_type": "code",
   "execution_count": 3,
   "metadata": {},
   "outputs": [],
   "source": [
    "from sklearn import linear_model\n",
    "from sklearn import svm\n",
    "from sklearn import neighbors\n",
    "from sklearn import model_selection\n",
    "from sklearn import metrics\n",
    "from sklearn import preprocessing\n",
    "from sklearn import feature_extraction"
   ]
  },
  {
   "cell_type": "markdown",
   "metadata": {},
   "source": [
    "U prethodnom primeru smo videli na koje načine možemo da kreiramo `vokabular`, skup svih reči koje se pojavljuju u kolekciji tekstova kojom raspolažemo. Obično su ove reči leksikografski uređene, nalik popisu reči u rečnicima. U ovom primeru želimo da vidimo kako možemo doći do reprezentacija pogodnih za primenu algoritama mašinskog učenja. "
   ]
  },
  {
   "cell_type": "markdown",
   "metadata": {},
   "source": [
    "Tekstualna kolekcija nad kojom ćemo dalje eksperimentisati sadrži dve rečenice. To mogu biti i dva pasusa, dva dokumenta ili bilo koje druge tekstualne forme. "
   ]
  },
  {
   "cell_type": "code",
   "execution_count": 4,
   "metadata": {},
   "outputs": [],
   "source": [
    "corpus = ['This is so so so interesting!', 'Interesting is always better than non interesting.']"
   ]
  },
  {
   "cell_type": "markdown",
   "metadata": {},
   "source": [
    "## Vreća reci (eng. Bag of Words)\n",
    "\n",
    "Pretpostavimo da u vokabularu imamo `|V|` reči i da su one leksikografski uređene. Rečima možemo dodeliti redne brojeve koji odgovaraju pozicijama na kojima se nalaze. Rečenicu teksta stoga možemo predstaviti kao vektor dimenzije `|V|` u kojem se na poziciji `i` nalazi `1` ukoliko je `i`-ta reč vokabulara prisutna u rečenici ili `0` ukoliko se `i`-ta reč vokabulara ne nalazi u njoj. Ovakva reprezentacija rečenica (u opštem slučaju bilo kojih fragmenata teksta) gubi informaciju o povezanosti reči (rečenice *Tom likes Mary* i *Mary likes Tom* imaju iste reprezentacije i sasvim različitu semantiku) kao i informaciju o broju pojavljivanja određenih reči (što može biti važno za određivanje npr. teme teksta). Zato se ova reprezentacija može nadgraditi reprezentacijom u kojoj se na poziciji `i` nalazi `broj pojavljivanja reči` ili `0` ukoliko se ta reč ne javlja u rečenici. Ovakve reprezentacije i dalje nisu savršene jer ne uzimaju u obzir dužinu teksta - ukoliko je tekst dug reči se mogu pojavljivati neopravdano sa većom frekvencijom, i obratno.\n",
    "\n",
    "<img src='assets/count_vectorizer.png'>\n",
    "\n",
    "Bibiloteka `scikit-learn` sadrži klasu `CountVectorizer` koja nudi funkcionalnost vektorizacije teksta u model vreće reči sa frekvencijama (brojem pojavljivanja)."
   ]
  },
  {
   "cell_type": "code",
   "execution_count": 5,
   "metadata": {},
   "outputs": [],
   "source": [
    "vectorized = feature_extraction.text.CountVectorizer()"
   ]
  },
  {
   "cell_type": "markdown",
   "metadata": {},
   "source": [
    "Pozivom metode `fit` se kreira vokabular. Možemo primetiti da ona nudi par korisnih podešavanja:\n",
    "- sve reči teksta je moguće svesti na mala slova (lowercase=True)\n",
    "- moguće je eliminisati reči koje imaju frekvenciju pojavljivanja manju od min_df (npr. mogu se filtrirati razne pravopisne greške)\n",
    "- moguće je eliminisati reči koje imaju frekvenciju veću od max_df (npr. mogu se eliminisati reči sa velikim frekvencijama poput članova ili predloga)\n",
    "- moguće je zadati listu stop reči parametrom stop_words\n",
    "- moguće je uticati na formu reči koje treba zadržati u vokabularu kroz token_pattern parametar\n",
    "- kroz parametre preprocessor i tokenizer moguće je povezati se sa funkcionalnostima koje nude druge biblioteke "
   ]
  },
  {
   "cell_type": "code",
   "execution_count": 6,
   "metadata": {},
   "outputs": [
    {
     "data": {
      "text/plain": [
       "CountVectorizer(analyzer='word', binary=False, decode_error='strict',\n",
       "                dtype=<class 'numpy.int64'>, encoding='utf-8', input='content',\n",
       "                lowercase=True, max_df=1.0, max_features=None, min_df=1,\n",
       "                ngram_range=(1, 1), preprocessor=None, stop_words=None,\n",
       "                strip_accents=None, token_pattern='(?u)\\\\b\\\\w\\\\w+\\\\b',\n",
       "                tokenizer=None, vocabulary=None)"
      ]
     },
     "execution_count": 6,
     "metadata": {},
     "output_type": "execute_result"
    }
   ],
   "source": [
    "vectorized.fit(corpus)"
   ]
  },
  {
   "cell_type": "markdown",
   "metadata": {},
   "source": [
    "Izdvojene reči i njima pridružene pozicije je moguće videti pomoću `get_feature_names` metode ili preko `vocabulary_` svojstva."
   ]
  },
  {
   "cell_type": "code",
   "execution_count": 7,
   "metadata": {},
   "outputs": [
    {
     "data": {
      "text/plain": [
       "['always', 'better', 'interesting', 'is', 'non', 'so', 'than', 'this']"
      ]
     },
     "execution_count": 7,
     "metadata": {},
     "output_type": "execute_result"
    }
   ],
   "source": [
    "vectorized.get_feature_names()"
   ]
  },
  {
   "cell_type": "code",
   "execution_count": 8,
   "metadata": {},
   "outputs": [
    {
     "data": {
      "text/plain": [
       "{'this': 7,\n",
       " 'is': 3,\n",
       " 'so': 5,\n",
       " 'interesting': 2,\n",
       " 'always': 0,\n",
       " 'better': 1,\n",
       " 'than': 6,\n",
       " 'non': 4}"
      ]
     },
     "execution_count": 8,
     "metadata": {},
     "output_type": "execute_result"
    }
   ],
   "source": [
    "vectorized.vocabulary_"
   ]
  },
  {
   "cell_type": "code",
   "execution_count": 9,
   "metadata": {},
   "outputs": [
    {
     "data": {
      "text/plain": [
       "8"
      ]
     },
     "execution_count": 9,
     "metadata": {},
     "output_type": "execute_result"
    }
   ],
   "source": [
    "len(vectorized.vocabulary_)"
   ]
  },
  {
   "cell_type": "markdown",
   "metadata": {},
   "source": [
    "Sama transformacija polaznih rečenica se vrši metodom `transform`. U našem slučaju obe rečenice će biti predstavljene kao vektori dužine 8 pa je rezultat matrica dimenzije 2x8. "
   ]
  },
  {
   "cell_type": "code",
   "execution_count": 10,
   "metadata": {},
   "outputs": [],
   "source": [
    "corpus_bag_of_words = vectorized.transform(corpus)"
   ]
  },
  {
   "cell_type": "code",
   "execution_count": 11,
   "metadata": {},
   "outputs": [
    {
     "data": {
      "text/plain": [
       "(2, 8)"
      ]
     },
     "execution_count": 11,
     "metadata": {},
     "output_type": "execute_result"
    }
   ],
   "source": [
    "corpus_bag_of_words.shape"
   ]
  },
  {
   "cell_type": "markdown",
   "metadata": {},
   "source": [
    "Sama matrica je `retka` matrica CSR formata u kojoj se pamte samo trojke (i, j, v) vrednosti indeksa vrsta i kolona ne-nula vrednosti. U realinim zadacima veličina vokabulara je obično velika, preko 10000 reči pa se ovakav dizajn pozitivno odražava na memorijske i računske zahteve. "
   ]
  },
  {
   "cell_type": "code",
   "execution_count": 12,
   "metadata": {},
   "outputs": [
    {
     "data": {
      "text/plain": [
       "scipy.sparse.csr.csr_matrix"
      ]
     },
     "execution_count": 12,
     "metadata": {},
     "output_type": "execute_result"
    }
   ],
   "source": [
    "type(corpus_bag_of_words)"
   ]
  },
  {
   "cell_type": "markdown",
   "metadata": {},
   "source": [
    "Ukoliko ipak želimo da dobijemo gustu reprezentaciju vektorizovanih rečenica, možemo to učiniti pozivom metode `toarray`."
   ]
  },
  {
   "cell_type": "code",
   "execution_count": 13,
   "metadata": {},
   "outputs": [
    {
     "data": {
      "text/plain": [
       "array([[0, 0, 1, 1, 0, 3, 0, 1],\n",
       "       [1, 1, 2, 1, 1, 0, 1, 0]])"
      ]
     },
     "execution_count": 13,
     "metadata": {},
     "output_type": "execute_result"
    }
   ],
   "source": [
    "corpus_bag_of_words.toarray()"
   ]
  },
  {
   "cell_type": "markdown",
   "metadata": {},
   "source": [
    "## TF-IDF (Term Frequency - Inverse Document Frequency)\n",
    "\n",
    "Reprezentacija rečenica vrećom reči (sa frekvencijama) se može unaprediti prelaskom na reprezentaciju sa trežinama. Težine bi trebale da reflektuju važnost reči u samoj rečenici, ali i važnost u odnosu na druge rečenice kolekcije. Jedna takva vektorska reprezentacija je Tf-Idf reprezentacija koja se uspešno koristi u mnogim NLP zadacima, na primer, u pretraživanju informacija (engl. information retrieval) ili istraživanju teksta (engl. text mining).\n",
    "Tf je skraćenica od `term frequency`, a Idf skraćenica od `inverse document frequency`. U primeru koji mi razmatramo dokumenti su zapravo rečenice, ali se time ne gubi na opštosti ovog pristupa.\n",
    "\n",
    "Neka je dalje: \n",
    "- $D = \\{d_1, d_2\\}$ - kolekcija rečenica/dokumenata\n",
    "- $d_1 = $ 'This is so so so interesting!' - prva rečenica/dokument\n",
    "- $d_2 = $ 'Interesting is always better than non interesting.' - druga rečenica/dokument\n",
    "\n",
    "\n",
    "\n",
    "### Izračunavanje  Tf-Idf težina\n",
    "Težina *tf-idf* je proizvod dva faktora:\n",
    "- $Tf(t, d)$ - koji predstavlja količnik broja pojavljivanja reči/termina $t$ u dokumentu $d$ i ukupnog broja reči u dokumentu $d$\n",
    "$$Tf(t, d) = \\frac{count(t)}{|d|}$$\n",
    "- $Idf(t, D)$ - koji predstavlja logaritam količnika ukupnog broja dokumenata skupa $D$ i broja dokumenata (iz skupa \n",
    "$D$) u kojima se pojavljuje termin $t$\n",
    "$$Idf(t, D) = log(\\frac{|D|}{N_t})$$\n",
    "\n",
    "\n",
    "Dakle, $$TfIdf(t, d, D) =Tf(t, d)\\cdot Idf(t, D)$$\n",
    "\n",
    "Važnost termina (reči) raste sa rastom broja njegovog pojavljivanja u dokumentu, ali se otežava njegovim ukupnim brojem pojavljivanja u celokupnom skupu dokumenata (rečima koje se pojavljuju u većem broju dokumenata pridružuje se manja vrednost jer je i njihova diskriminativnost manja).\n",
    "\n",
    "Postoje i mnoge varijacije na ovu temu o kojima se može više pročitati u članku na [Vikipediji](https://en.wikipedia.org/wiki/Tf%E2%80%93idf). "
   ]
  },
  {
   "cell_type": "code",
   "execution_count": null,
   "metadata": {},
   "outputs": [],
   "source": []
  },
  {
   "cell_type": "markdown",
   "metadata": {},
   "source": [
    "#### Primer\n",
    "Razmotrimo dokument $d$ koji sadrži 100 reči u kojima se reč *mačka* pojavljuje 3 puta.\n",
    "\n",
    "Tf(\"mačka\", $d$) = $\\frac{3}{100}$ = 0.03\n",
    "\n",
    "Pretpostavimo da imamo *10 miliona* dokumenata i da se reč \"mačka\" pojavljuje u 1000 njih. \n",
    "\n",
    "Idf(\"mačka\", $D$) = $\\log{(\\frac{10 000 000}{1 000})} = 4$\n",
    "\n",
    "Mera *tf-idf* predstavlja proizvod nadjenih vrednosti, odnosno $TfIdf = 0.03 \\cdot 4 = 0.12$."
   ]
  },
  {
   "cell_type": "code",
   "execution_count": null,
   "metadata": {},
   "outputs": [],
   "source": []
  },
  {
   "cell_type": "markdown",
   "metadata": {},
   "source": [
    "Bibiloteka `scikit-learn` sadrži klasu `TfIdfVectorizer` koja nudi funkcionalnost vektorizacije teksta na gore opisani način."
   ]
  },
  {
   "cell_type": "code",
   "execution_count": 14,
   "metadata": {},
   "outputs": [],
   "source": [
    "tf_idf_vectorizer = feature_extraction.text.TfidfVectorizer()"
   ]
  },
  {
   "cell_type": "markdown",
   "metadata": {},
   "source": [
    "Pozivom metode `fit` se, kao i u slučaju `CountVectorizer`-a, kreira vokabular. Metodu većinski prate i slični prateparametri, uz dodatak par novih: \n",
    "- parametrom `norm` se može uticati na metriku koja će se koristiti za normalizaciju vektorskih reprezentacija - to je podrazumevano `l2` norma\n",
    "- parametrom `smooth_idf` se kontroliše deljenje nulom prilikom izračunavanja inverznih frekvencija dokumenata tako što se doda vrednost 1 u imeniocu za sve vrednosti \n",
    "- parametrom `use_idf` se može uticati na koriščenje Idf vrednosti u izračunavanju težina "
   ]
  },
  {
   "cell_type": "code",
   "execution_count": 15,
   "metadata": {},
   "outputs": [
    {
     "data": {
      "text/plain": [
       "TfidfVectorizer(analyzer='word', binary=False, decode_error='strict',\n",
       "                dtype=<class 'numpy.float64'>, encoding='utf-8',\n",
       "                input='content', lowercase=True, max_df=1.0, max_features=None,\n",
       "                min_df=1, ngram_range=(1, 1), norm='l2', preprocessor=None,\n",
       "                smooth_idf=True, stop_words=None, strip_accents=None,\n",
       "                sublinear_tf=False, token_pattern='(?u)\\\\b\\\\w\\\\w+\\\\b',\n",
       "                tokenizer=None, use_idf=True, vocabulary=None)"
      ]
     },
     "execution_count": 15,
     "metadata": {},
     "output_type": "execute_result"
    }
   ],
   "source": [
    "tf_idf_vectorizer.fit(corpus)"
   ]
  },
  {
   "cell_type": "code",
   "execution_count": null,
   "metadata": {},
   "outputs": [],
   "source": []
  },
  {
   "cell_type": "code",
   "execution_count": 16,
   "metadata": {},
   "outputs": [
    {
     "data": {
      "text/plain": [
       "['always', 'better', 'interesting', 'is', 'non', 'so', 'than', 'this']"
      ]
     },
     "execution_count": 16,
     "metadata": {},
     "output_type": "execute_result"
    }
   ],
   "source": [
    "tf_idf_vectorizer.get_feature_names()"
   ]
  },
  {
   "cell_type": "code",
   "execution_count": 17,
   "metadata": {},
   "outputs": [
    {
     "data": {
      "text/plain": [
       "8"
      ]
     },
     "execution_count": 17,
     "metadata": {},
     "output_type": "execute_result"
    }
   ],
   "source": [
    "len(tf_idf_vectorizer.vocabulary_)"
   ]
  },
  {
   "cell_type": "code",
   "execution_count": 18,
   "metadata": {},
   "outputs": [],
   "source": [
    "corpus_tfidf = tf_idf_vectorizer.transform(corpus)"
   ]
  },
  {
   "cell_type": "code",
   "execution_count": 19,
   "metadata": {},
   "outputs": [
    {
     "data": {
      "text/plain": [
       "(2, 8)"
      ]
     },
     "execution_count": 19,
     "metadata": {},
     "output_type": "execute_result"
    }
   ],
   "source": [
    "corpus_tfidf.shape"
   ]
  },
  {
   "cell_type": "markdown",
   "metadata": {},
   "source": [
    "Vrednosti koje se nalaze u ovako dobijenoj reprezentaciji su sada realni brojevi. Vrste matrice su uvek normirane."
   ]
  },
  {
   "cell_type": "code",
   "execution_count": 20,
   "metadata": {},
   "outputs": [
    {
     "data": {
      "text/plain": [
       "array([[0.        , 0.        , 0.21440614, 0.21440614, 0.        ,\n",
       "        0.90402103, 0.        , 0.30134034],\n",
       "       [0.39129369, 0.39129369, 0.55681737, 0.27840869, 0.39129369,\n",
       "        0.        , 0.39129369, 0.        ]])"
      ]
     },
     "execution_count": 20,
     "metadata": {},
     "output_type": "execute_result"
    }
   ],
   "source": [
    "corpus_tfidf.toarray()"
   ]
  },
  {
   "cell_type": "code",
   "execution_count": 21,
   "metadata": {},
   "outputs": [
    {
     "data": {
      "text/plain": [
       "1.0"
      ]
     },
     "execution_count": 21,
     "metadata": {},
     "output_type": "execute_result"
    }
   ],
   "source": [
    "np.linalg.norm(corpus_tfidf.toarray()[0, :])"
   ]
  },
  {
   "cell_type": "code",
   "execution_count": null,
   "metadata": {},
   "outputs": [],
   "source": []
  },
  {
   "cell_type": "markdown",
   "metadata": {},
   "source": [
    "## Primer - SMS spam klasifikacija\n",
    "\n",
    "U ovom primeru želimo da testiramo efektnost reprezentacija u zadatku klasifikacije sms poruka na spam i ne-spam poruke. \n",
    "\n",
    "\n",
    "U direktorijumu `smsspam` nalazi se datoteka `SMSSpamCollection` u kojoj se nalaze pomenute porukice.\n",
    "\n",
    "Struktura je jedne linije dokumenta je sledeća:\n",
    "```txt\n",
    "LABELA\\tSADRZAJ\\n\n",
    "```\n",
    "Odnosno, prvo je navedena labela \n",
    "- `spam` - ukoliko je poruka spam\n",
    "- `ham` - ukoliko poruka nije spam\n",
    "\n",
    "potom karakter `\\t`, a potom i sadržaj sms poruke sve do karaktera `\\n`.\n"
   ]
  },
  {
   "cell_type": "code",
   "execution_count": 22,
   "metadata": {},
   "outputs": [],
   "source": [
    "with open(os.path.join('smsspam', 'SMSSpamCollection')) as f:\n",
    "    lines = [line.strip().split('\\t') for line in f.readlines()]"
   ]
  },
  {
   "cell_type": "markdown",
   "metadata": {},
   "source": [
    "Ukupan broj pročitanih porukica:"
   ]
  },
  {
   "cell_type": "code",
   "execution_count": 23,
   "metadata": {},
   "outputs": [
    {
     "data": {
      "text/plain": [
       "5574"
      ]
     },
     "execution_count": 23,
     "metadata": {},
     "output_type": "execute_result"
    }
   ],
   "source": [
    "len(lines)"
   ]
  },
  {
   "cell_type": "markdown",
   "metadata": {},
   "source": [
    "Pročitane linije su transformisane u dvojke vrednosti: ham/spam labela i teskt poruke."
   ]
  },
  {
   "cell_type": "code",
   "execution_count": 24,
   "metadata": {},
   "outputs": [
    {
     "data": {
      "text/plain": [
       "['ham',\n",
       " 'Go until jurong point, crazy.. Available only in bugis n great world la e buffet... Cine there got amore wat...']"
      ]
     },
     "execution_count": 24,
     "metadata": {},
     "output_type": "execute_result"
    }
   ],
   "source": [
    "lines[0]"
   ]
  },
  {
   "cell_type": "markdown",
   "metadata": {},
   "source": [
    "Razdvajamo tekstualni sadržaj i labele."
   ]
  },
  {
   "cell_type": "code",
   "execution_count": 25,
   "metadata": {},
   "outputs": [],
   "source": [
    "text = [line[1] for line in lines]\n",
    "y = [int(line[0] == 'spam') for line in lines]"
   ]
  },
  {
   "cell_type": "code",
   "execution_count": 26,
   "metadata": {},
   "outputs": [
    {
     "data": {
      "text/plain": [
       "[\"LMAO where's your fish memory when I need it?\",\n",
       " \"But i'll b going 2 sch on mon. My sis need 2 take smth.\",\n",
       " 'Idea will soon get converted to live:)',\n",
       " 'TheMob>Yo yo yo-Here comes a new selection of hot downloads for our members to get for FREE! Just click & open the next link sent to ur fone...',\n",
       " 'S....s...india going to draw the series after many years in south african soil..',\n",
       " 'Goodmorning, today i am late for  &lt;DECIMAL&gt; min.',\n",
       " \"Can't take any major roles in community outreach. You rock mel\",\n",
       " 'Shopping lor. Them raining mah hard 2 leave orchard.',\n",
       " 'Hi here. have birth at on the  to  at 8lb 7oz. Mother and baby doing brilliantly.',\n",
       " 'See the forwarding message for proof']"
      ]
     },
     "execution_count": 26,
     "metadata": {},
     "output_type": "execute_result"
    }
   ],
   "source": [
    "text[2000:2010]"
   ]
  },
  {
   "cell_type": "code",
   "execution_count": 27,
   "metadata": {},
   "outputs": [
    {
     "name": "stdout",
     "output_type": "stream",
     "text": [
      "Broj spam poruka: 747\n",
      "Broj poruka koje nisu spam: 4827\n",
      "Ukupan broj poruka: 5574\n",
      "Udeo spam poruka među svim porukama: 0.1340150699677072\n"
     ]
    }
   ],
   "source": [
    "n_spam = y.count(1)\n",
    "n_nospam = y.count(0)\n",
    "print('Broj spam poruka: {}'.format(n_spam))\n",
    "print('Broj poruka koje nisu spam: {}'.format(n_nospam))\n",
    "print('Ukupan broj poruka: {}'.format(len(y)))\n",
    "print('Udeo spam poruka među svim porukama: {}'.format(n_spam/len(y)))"
   ]
  },
  {
   "cell_type": "code",
   "execution_count": 28,
   "metadata": {},
   "outputs": [],
   "source": [
    "X_train, X_test, y_train, y_test =\\\n",
    "    model_selection.train_test_split(text, y, test_size=0.33, random_state=7, stratify=y)"
   ]
  },
  {
   "cell_type": "code",
   "execution_count": null,
   "metadata": {},
   "outputs": [],
   "source": []
  },
  {
   "cell_type": "markdown",
   "metadata": {},
   "source": [
    "Proverićamo prvo kavi rezultati klasifikacije se dobijaju ukoliko se koristi reprezentacija vreće reči. Prilikom odredjivanja vokabulara ignorisaćemo reči koje se pojavljuju manje od 2 puta. "
   ]
  },
  {
   "cell_type": "code",
   "execution_count": 29,
   "metadata": {},
   "outputs": [],
   "source": [
    "spam_vectorizer = feature_extraction.text.CountVectorizer(min_df=2)"
   ]
  },
  {
   "cell_type": "markdown",
   "metadata": {},
   "source": [
    "Vektorajzer se po pravilu pokreće nad skupom za treniranja. Kasnije, kada se primeni nad skupom za testiranje, sve nepoznate reči tj. reči test skupa koje nisu prisutne u vokabularu, će biti ignorisane."
   ]
  },
  {
   "cell_type": "code",
   "execution_count": 30,
   "metadata": {},
   "outputs": [
    {
     "data": {
      "text/plain": [
       "CountVectorizer(analyzer='word', binary=False, decode_error='strict',\n",
       "                dtype=<class 'numpy.int64'>, encoding='utf-8', input='content',\n",
       "                lowercase=True, max_df=1.0, max_features=None, min_df=2,\n",
       "                ngram_range=(1, 1), preprocessor=None, stop_words=None,\n",
       "                strip_accents=None, token_pattern='(?u)\\\\b\\\\w\\\\w+\\\\b',\n",
       "                tokenizer=None, vocabulary=None)"
      ]
     },
     "execution_count": 30,
     "metadata": {},
     "output_type": "execute_result"
    }
   ],
   "source": [
    "spam_vectorizer.fit(X_train)"
   ]
  },
  {
   "cell_type": "code",
   "execution_count": 31,
   "metadata": {},
   "outputs": [],
   "source": [
    "X_train_vectorized = spam_vectorizer.transform(X_train)\n",
    "X_test_vectorized = spam_vectorizer.transform(X_test)"
   ]
  },
  {
   "cell_type": "code",
   "execution_count": 32,
   "metadata": {},
   "outputs": [
    {
     "name": "stdout",
     "output_type": "stream",
     "text": [
      "Broj reci u trening skupu 3734\n"
     ]
    }
   ],
   "source": [
    "print('Broj reci u trening skupu {}'.format(X_train_vectorized.shape[0]))"
   ]
  },
  {
   "cell_type": "code",
   "execution_count": 33,
   "metadata": {},
   "outputs": [
    {
     "data": {
      "text/plain": [
       "['oni',\n",
       " 'onion',\n",
       " 'online',\n",
       " 'only',\n",
       " 'onto',\n",
       " 'onwards',\n",
       " 'oops',\n",
       " 'open',\n",
       " 'operator',\n",
       " 'opinion',\n",
       " 'opinions',\n",
       " 'opportunity',\n",
       " 'opt',\n",
       " 'optout',\n",
       " 'or',\n",
       " 'or2stoptxt',\n",
       " 'orange',\n",
       " 'orchard',\n",
       " 'order',\n",
       " 'oredi']"
      ]
     },
     "execution_count": 33,
     "metadata": {},
     "output_type": "execute_result"
    }
   ],
   "source": [
    "spam_vectorizer.get_feature_names()[2000:2020]"
   ]
  },
  {
   "cell_type": "code",
   "execution_count": null,
   "metadata": {},
   "outputs": [],
   "source": []
  },
  {
   "cell_type": "markdown",
   "metadata": {},
   "source": [
    "## Model logističke regresije"
   ]
  },
  {
   "cell_type": "code",
   "execution_count": 34,
   "metadata": {},
   "outputs": [
    {
     "data": {
      "text/plain": [
       "LogisticRegression(C=1.0, class_weight=None, dual=False, fit_intercept=True,\n",
       "                   intercept_scaling=1, l1_ratio=None, max_iter=100,\n",
       "                   multi_class='auto', n_jobs=None, penalty='l2',\n",
       "                   random_state=None, solver='lbfgs', tol=0.0001, verbose=0,\n",
       "                   warm_start=False)"
      ]
     },
     "execution_count": 34,
     "metadata": {},
     "output_type": "execute_result"
    }
   ],
   "source": [
    "logistic_regression_model = linear_model.LogisticRegression()\n",
    "logistic_regression_model.fit(X_train_vectorized, y_train)"
   ]
  },
  {
   "cell_type": "code",
   "execution_count": 35,
   "metadata": {},
   "outputs": [
    {
     "name": "stdout",
     "output_type": "stream",
     "text": [
      "0.9959828602035351\n"
     ]
    }
   ],
   "source": [
    "logistic_regression_train_score = logistic_regression_model.score(X_train_vectorized, y_train)\n",
    "print(logistic_regression_train_score)"
   ]
  },
  {
   "cell_type": "code",
   "execution_count": 36,
   "metadata": {},
   "outputs": [
    {
     "name": "stdout",
     "output_type": "stream",
     "text": [
      "0.9820652173913044\n"
     ]
    }
   ],
   "source": [
    "logistic_regression_test_score = logistic_regression_model.score(X_test_vectorized, y_test)\n",
    "print(logistic_regression_test_score)"
   ]
  },
  {
   "cell_type": "code",
   "execution_count": null,
   "metadata": {},
   "outputs": [],
   "source": []
  },
  {
   "cell_type": "markdown",
   "metadata": {},
   "source": [
    "## Linearni SVM model"
   ]
  },
  {
   "cell_type": "code",
   "execution_count": 37,
   "metadata": {},
   "outputs": [
    {
     "data": {
      "text/plain": [
       "LinearSVC(C=1.0, class_weight=None, dual=True, fit_intercept=True,\n",
       "          intercept_scaling=1, loss='hinge', max_iter=1000, multi_class='ovr',\n",
       "          penalty='l2', random_state=None, tol=0.0001, verbose=0)"
      ]
     },
     "execution_count": 37,
     "metadata": {},
     "output_type": "execute_result"
    }
   ],
   "source": [
    "svm_model = svm.LinearSVC(loss='hinge')\n",
    "svm_model.fit(X_train_vectorized, y_train)"
   ]
  },
  {
   "cell_type": "code",
   "execution_count": 38,
   "metadata": {},
   "outputs": [
    {
     "name": "stdout",
     "output_type": "stream",
     "text": [
      "0.999196572040707\n"
     ]
    }
   ],
   "source": [
    "svm_train_score = svm_model.score(X_train_vectorized, y_train)\n",
    "print(svm_train_score)"
   ]
  },
  {
   "cell_type": "code",
   "execution_count": 39,
   "metadata": {},
   "outputs": [
    {
     "name": "stdout",
     "output_type": "stream",
     "text": [
      "0.9820652173913044\n"
     ]
    }
   ],
   "source": [
    "svm_test_score = svm_model.score(X_test_vectorized, y_test)\n",
    "print(svm_test_score)"
   ]
  },
  {
   "cell_type": "code",
   "execution_count": null,
   "metadata": {},
   "outputs": [],
   "source": []
  },
  {
   "cell_type": "markdown",
   "metadata": {},
   "source": [
    "## Model k-najbližih suseda"
   ]
  },
  {
   "cell_type": "code",
   "execution_count": 40,
   "metadata": {},
   "outputs": [
    {
     "data": {
      "text/plain": [
       "KNeighborsClassifier(algorithm='auto', leaf_size=30, metric='minkowski',\n",
       "                     metric_params=None, n_jobs=None, n_neighbors=4, p=2,\n",
       "                     weights='uniform')"
      ]
     },
     "execution_count": 40,
     "metadata": {},
     "output_type": "execute_result"
    }
   ],
   "source": [
    "knn_model = neighbors.KNeighborsClassifier(n_neighbors=4)\n",
    "knn_model.fit(X_train_vectorized, y_train)"
   ]
  },
  {
   "cell_type": "code",
   "execution_count": 41,
   "metadata": {},
   "outputs": [
    {
     "name": "stdout",
     "output_type": "stream",
     "text": [
      "0.9287627209426889\n"
     ]
    }
   ],
   "source": [
    "knn_train_score = knn_model.score(X_train_vectorized, y_train)\n",
    "print(knn_train_score)"
   ]
  },
  {
   "cell_type": "code",
   "execution_count": 42,
   "metadata": {},
   "outputs": [
    {
     "name": "stdout",
     "output_type": "stream",
     "text": [
      "0.9135869565217392\n"
     ]
    }
   ],
   "source": [
    "knn_test_score = knn_model.score(X_test_vectorized, y_test)\n",
    "print(knn_test_score)"
   ]
  },
  {
   "cell_type": "code",
   "execution_count": null,
   "metadata": {},
   "outputs": [],
   "source": []
  },
  {
   "cell_type": "markdown",
   "metadata": {},
   "source": [
    "Funkcija kojom se prikazuju reči vokabulara najzaslužnije za klasifikovanje poruka na spam i ne-spam poruke."
   ]
  },
  {
   "cell_type": "code",
   "execution_count": 43,
   "metadata": {},
   "outputs": [],
   "source": [
    "def visualize_coefficients(title, classifier, feature_names, n_top_features=25):\n",
    "    coefs = classifier.coef_.ravel()\n",
    "    \n",
    "    positive_coefficients_indices = np.argsort(coefs)[-n_top_features:]\n",
    "    negative_coefficients_indices = np.argsort(coefs)[:n_top_features]\n",
    "    \n",
    "    interesting_coefficients_indices =\\\n",
    "        np.hstack([negative_coefficients_indices,\n",
    "                   positive_coefficients_indices])\n",
    "    \n",
    "    plt.figure(figsize=(15,5))\n",
    "    plt.title(title)\n",
    "    colors = ['orange' if c < 0 else 'cadetblue' for c in coefs[interesting_coefficients_indices]]\n",
    "    plt.bar(np.arange(2 * n_top_features),\n",
    "            coefs[interesting_coefficients_indices], color=colors)\n",
    "    feature_names = np.array(feature_names)\n",
    "    plt.xticks(np.arange(2*n_top_features), feature_names[interesting_coefficients_indices], rotation=60, ha='right')"
   ]
  },
  {
   "cell_type": "code",
   "execution_count": 44,
   "metadata": {},
   "outputs": [
    {
     "data": {
      "image/png": "[encoded data removed]",
      "text/plain": [
       "<Figure size 1080x360 with 1 Axes>"
      ]
     },
     "metadata": {
      "needs_background": "light"
     },
     "output_type": "display_data"
    }
   ],
   "source": [
    "visualize_coefficients('Logistic regression',\n",
    "                      logistic_regression_model,\n",
    "                      spam_vectorizer.get_feature_names())"
   ]
  },
  {
   "cell_type": "code",
   "execution_count": 45,
   "metadata": {},
   "outputs": [
    {
     "data": {
      "image/png": "[encoded data removed]",
      "text/plain": [
       "<Figure size 1080x360 with 1 Axes>"
      ]
     },
     "metadata": {
      "needs_background": "light"
     },
     "output_type": "display_data"
    }
   ],
   "source": [
    "visualize_coefficients('Linear SVM',\n",
    "                      svm_model,\n",
    "                      spam_vectorizer.get_feature_names())"
   ]
  },
  {
   "cell_type": "code",
   "execution_count": null,
   "metadata": {},
   "outputs": [],
   "source": []
  },
  {
   "cell_type": "code",
   "execution_count": 46,
   "metadata": {},
   "outputs": [],
   "source": [
    "# Pomoć: kako radi argsort"
   ]
  },
  {
   "cell_type": "code",
   "execution_count": 47,
   "metadata": {},
   "outputs": [
    {
     "name": "stdout",
     "output_type": "stream",
     "text": [
      "[1 2 3 5]\n",
      "[0 2 3 1]\n"
     ]
    }
   ],
   "source": [
    "tmp = np.array([1, 5, 2, 3])\n",
    "sorted_tmp = np.argsort(tmp)\n",
    "print(tmp[sorted_tmp])\n",
    "print(sorted_tmp)"
   ]
  },
  {
   "cell_type": "code",
   "execution_count": null,
   "metadata": {},
   "outputs": [],
   "source": []
  },
  {
   "cell_type": "markdown",
   "metadata": {},
   "source": [
    "<div class='bg-info' style='padding: 20px'>\n",
    "Kako će se klasifikatori ponašati ukoliko se iskoristi Tf-Idf reprezentacija poruka?\n",
    "</div>"
   ]
  },
  {
   "cell_type": "markdown",
   "metadata": {},
   "source": [
    "<div class='bg-info' style='padding: 20px'>\n",
    "Kako će se klasifikatori ponašati ukoliko se izvrši priprema skupa donjom funkcijom.\n",
    "</div>"
   ]
  },
  {
   "cell_type": "code",
   "execution_count": 48,
   "metadata": {},
   "outputs": [],
   "source": [
    "def sms_tokenizer(text):\n",
    "    tokens = nltk.tokenize.word_tokenize(text)\n",
    "            \n",
    "    stems = []\n",
    "    stemmer = nltk.stem.PorterStemmer()\n",
    "\n",
    "    for token in tokens:\n",
    "        if token in string.punctuation:\n",
    "            continue\n",
    "        if token.isdigit():\n",
    "            continue\n",
    "        stem = stemmer.stem(token)\n",
    "        stems.append(stem)\n",
    "    return stems"
   ]
  },
  {
   "cell_type": "code",
   "execution_count": 49,
   "metadata": {},
   "outputs": [],
   "source": [
    "spam_vectorizer_2 = feature_extraction.text.CountVectorizer(min_df=2, tokenizer=sms_tokenizer)"
   ]
  },
  {
   "cell_type": "code",
   "execution_count": null,
   "metadata": {},
   "outputs": [],
   "source": []
  }
 ],
 "metadata": {
  "kernelspec": {
   "display_name": "Python 3",
   "language": "python",
   "name": "python3"
  },
  "language_info": {
   "codemirror_mode": {
    "name": "ipython",
    "version": 3
   },
   "file_extension": ".py",
   "mimetype": "text/x-python",
   "name": "python",
   "nbconvert_exporter": "python",
   "pygments_lexer": "ipython3",
   "version": "3.7.6"
  }
 },
 "nbformat": 4,
 "nbformat_minor": 2
}
