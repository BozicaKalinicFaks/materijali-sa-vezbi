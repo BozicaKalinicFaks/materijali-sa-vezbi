{
 "cells": [
  {
   "cell_type": "markdown",
   "metadata": {},
   "source": [
    "**2. zadatak (5 poena)**\n",
    "<br>\n",
    "\n",
    "Korišćenjem Keras biblioteke napraviti neuronsku mrežu koja će se koristiti u klasifikaciji iris cvetova. \n",
    "<br>\n",
    "\n",
    "a) Pročitati podatke koji se nalaze u iris skupu *sklearn* paketa, a zatim preduzeti sve neophodne pripremne korake i podeliti skup podataka na skup za treniranje i skup za testiranje u razmeri 2:1. Za $random\\_state$ parametar uzeti vrednost 7. \n",
    "<br>\n",
    "\n",
    "b) Napraviti neuronsku mrežu koja se sastoji od: \n",
    "* ulaznog sloja sa brojem neurona koji odgovara broju atributa ulaznog skupa\n",
    "* gustog sloja koji sadži 16 neurona sa sigmoidnom aktivacijom  \n",
    "* izlaznog sloja sa brojem neurona koji odgovara broju različitih kategorija cvetova; aktivacija ovog sloja je meki maksimum \n",
    "\n",
    "<br>\n",
    "\n",
    "Mreži pridružiti Adam optimizator, kategoričku unakrsnu entropiju kao funkciju gubitka i tačnost kao metriku.\n",
    "<br>\n",
    "\n",
    "c) Nacrtati grafik zavisnosti tačnosti klasifikatora u odnosu na broj epoha u toku treniranja mreže koršćenjem paketa veličine  8. Za broj epoha uzeti 40.  \n",
    "\n",
    "<br>\n",
    "\n",
    "d) Dati ocenu klasifikatora na skupu za testiranje. \n",
    "\n",
    "<br>\n",
    "e) Kakva je ocena klasifikatora na skupu za testiranje ukoliko se prilikom učenja koristi  regularizaciona tehnika ranog zaustavljanja sa *patience* parametrom sa vrednošću 4?\n"
   ]
  },
  {
   "cell_type": "code",
   "execution_count": 1,
   "metadata": {},
   "outputs": [],
   "source": [
    "import numpy as np\n",
    "from matplotlib import pyplot as plt"
   ]
  },
  {
   "cell_type": "code",
   "execution_count": 2,
   "metadata": {},
   "outputs": [],
   "source": [
    "from sklearn.datasets import load_iris\n",
    "\n",
    "from sklearn import model_selection\n",
    "from sklearn import preprocessing\n",
    "from sklearn import metrics"
   ]
  },
  {
   "cell_type": "code",
   "execution_count": 3,
   "metadata": {},
   "outputs": [
    {
     "name": "stderr",
     "output_type": "stream",
     "text": [
      "Using TensorFlow backend.\n"
     ]
    }
   ],
   "source": [
    "from keras.models import Sequential\n",
    "from keras.layers import Dense\n",
    "from keras.callbacks import EarlyStopping"
   ]
  },
  {
   "cell_type": "code",
   "execution_count": null,
   "metadata": {},
   "outputs": [],
   "source": []
  }
 ],
 "metadata": {
  "kernelspec": {
   "display_name": "Python 3",
   "language": "python",
   "name": "python3"
  },
  "language_info": {
   "codemirror_mode": {
    "name": "ipython",
    "version": 3
   },
   "file_extension": ".py",
   "mimetype": "text/x-python",
   "name": "python",
   "nbconvert_exporter": "python",
   "pygments_lexer": "ipython3",
   "version": "3.7.0"
  }
 },
 "nbformat": 4,
 "nbformat_minor": 2
}
