{
 "cells": [
  {
   "cell_type": "markdown",
   "metadata": {},
   "source": [
    "** 3. zadatak (7 poena) **\n",
    "<br>\n",
    "\n",
    "Jedno od okruženja koje postoji u OpenIA Gym biblioteci je *Taxi-v2* okruženje u kojem je cilj maksimizovati nagradu koja se dobija preuzimanjem putnika i njihovim prevoženjem na 4 različite lokacije. Za svakog prevezenog putnika se dobija nagrada od 20 poena, a za svaki korak transfera se gubi 1 poen. Takođe, postoji penal od 10 poena za svako nepropisno preuzimanje ili ostavljanje putnika.  Korišćenjem *Q-learning* algoritma u toku 100 epizoda naučiti optimalno kretanje taksija. Za vrednost koraka učenja uzeti 0.8, a za metaparametar umenjenja uzeti vrednost 0.95. "
   ]
  },
  {
   "cell_type": "code",
   "execution_count": 1,
   "metadata": {},
   "outputs": [],
   "source": [
    "import numpy as np"
   ]
  },
  {
   "cell_type": "code",
   "execution_count": 2,
   "metadata": {},
   "outputs": [],
   "source": [
    "import gym"
   ]
  },
  {
   "cell_type": "markdown",
   "metadata": {},
   "source": [
    "Više o samom problemu se može pronaći na adresi: https://gym.openai.com/envs/Taxi-v2/"
   ]
  },
  {
   "cell_type": "code",
   "execution_count": null,
   "metadata": {},
   "outputs": [],
   "source": []
  }
 ],
 "metadata": {
  "kernelspec": {
   "display_name": "Python 3",
   "language": "python",
   "name": "python3"
  },
  "language_info": {
   "codemirror_mode": {
    "name": "ipython",
    "version": 3
   },
   "file_extension": ".py",
   "mimetype": "text/x-python",
   "name": "python",
   "nbconvert_exporter": "python",
   "pygments_lexer": "ipython3",
   "version": "3.6.4"
  }
 },
 "nbformat": 4,
 "nbformat_minor": 2
}
