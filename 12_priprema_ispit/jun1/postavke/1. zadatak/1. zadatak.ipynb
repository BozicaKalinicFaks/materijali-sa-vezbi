{
 "cells": [
  {
   "cell_type": "markdown",
   "metadata": {},
   "source": [
    "**1. zadatak (8 poena)**\n",
    "<br>\n",
    "\n",
    "\n",
    "U datoteci  *consumer-complaints.csv* se nalaze primedbe korisnika na račun usluga jedne banke. Cilj je napraviti klasifikator koji će na osnovu teksta primedbe moći da odredi na koju kategoriju usluga se primedba odnosi. \n",
    "<br>\n",
    "\n",
    "a) Učitati podatke koji se nalaze u zadatoj datoteci, a potom izdvojiti podatke koji se nalaze u kolonama “Consumer complaint narrative” i “Product” i elminisati nedostajuće vrste.  Podaci  sadržani u koloni “Consumer complaint narrative” će se koristiti kao ulaz klasifikatora, a kategorije sadržane u koloni “Product” kao izlaz klasifikatora. Koliko ima različitih kategorija usluga? Prikazati histogram broja primedbi po kategorijama.\n",
    "<br>\n",
    "\n",
    "b) Podeliti skup podataka na trening i test skup u razmeri 2:1. Za $random\\_state$ parametar uzeti vrednost 7.\n",
    "<br>\n",
    "\n",
    "c) Koristeći  TF-IDF vektorizaciju pripremiti tekstualne podatke za obradu. Ignorisati sve reči koje se pojavljuju manje od 5 puta i sve *stop* reči engleskog jezika. \n",
    "<br>\n",
    "\n",
    "d) Izvršiti mapiranja izlaza klasifikatora u odgovarajuće numeričke kategorije.   \n",
    "<br>\n",
    "e) Koristeći linearni SVM klasifikator sa politikom \"jedan protiv svih\" naučiti višeklasni klasifikator.   \n",
    "<br>\n",
    "f) Dati ocenu tačnosti klasifikatora na test skupu. \n",
    "<br>\n",
    "\n",
    "g) Kako se menja tačnost linearnog SVM klasifikatora ako se dodaju podešavanja koja su prilagođena nebalansiranom skupu podataka? \n"
   ]
  },
  {
   "cell_type": "code",
   "execution_count": null,
   "metadata": {},
   "outputs": [],
   "source": []
  },
  {
   "cell_type": "code",
   "execution_count": 1,
   "metadata": {},
   "outputs": [],
   "source": [
    "import numpy as np\n",
    "import pandas as pd"
   ]
  },
  {
   "cell_type": "code",
   "execution_count": 2,
   "metadata": {},
   "outputs": [],
   "source": [
    "from sklearn import model_selection\n",
    "from sklearn import preprocessing\n",
    "from sklearn import metrics\n",
    "from sklearn.feature_extraction.text import TfidfVectorizer\n",
    "\n",
    "from sklearn.svm import LinearSVC"
   ]
  },
  {
   "cell_type": "code",
   "execution_count": null,
   "metadata": {},
   "outputs": [],
   "source": []
  },
  {
   "cell_type": "code",
   "execution_count": null,
   "metadata": {},
   "outputs": [],
   "source": []
  }
 ],
 "metadata": {
  "kernelspec": {
   "display_name": "Python 3",
   "language": "python",
   "name": "python3"
  },
  "language_info": {
   "codemirror_mode": {
    "name": "ipython",
    "version": 3
   },
   "file_extension": ".py",
   "mimetype": "text/x-python",
   "name": "python",
   "nbconvert_exporter": "python",
   "pygments_lexer": "ipython3",
   "version": "3.7.0"
  }
 },
 "nbformat": 4,
 "nbformat_minor": 2
}
