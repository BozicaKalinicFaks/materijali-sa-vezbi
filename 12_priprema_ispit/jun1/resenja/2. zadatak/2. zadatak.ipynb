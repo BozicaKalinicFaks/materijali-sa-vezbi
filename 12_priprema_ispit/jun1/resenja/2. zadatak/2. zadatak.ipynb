{
 "cells": [
  {
   "cell_type": "markdown",
   "metadata": {},
   "source": [
    "**2. zadatak (5 poena)**\n",
    "<br>\n",
    "\n",
    "Korišćenjem Keras biblioteke napraviti neuronsku mrežu koja će se koristiti u klasifikaciji iris cvetova. \n",
    "<br>\n",
    "\n",
    "a) Pročitati podatke koji se nalaze u iris skupu *sklearn* paketa, a zatim preduzeti sve neophodne pripremne korake i podeliti skup podataka na skup za treniranje i skup za testiranje u razmeri 2:1. Za $random\\_state$ parametar uzeti vrednost 7. \n",
    "<br>\n",
    "\n",
    "b) Napraviti neuronsku mrežu koja se sastoji od: \n",
    "* ulaznog sloja sa brojem neurona koji odgovara broju atributa ulaznog skupa\n",
    "* gustog sloja koji sadži 16 neurona sa sigmoidnom aktivacijom  \n",
    "* izlaznog sloja sa brojem neurona koji odgovara broju različitih kategorija cvetova; aktivacija ovog sloja je meki maksimum \n",
    "\n",
    "<br>\n",
    "\n",
    "Mreži pridružiti Adam optimizator, kategoričku unakrsnu entropiju kao funkciju gubitka i tačnost kao metriku.\n",
    "<br>\n",
    "\n",
    "c) Nacrtati grafik zavisnosti tačnosti klasifikatora u odnosu na broj epoha u toku treniranja mreže koršćenjem paketa veličine  8. Za broj epoha uzeti 40.  \n",
    "\n",
    "<br>\n",
    "\n",
    "d) Dati ocenu klasifikatora na skupu za testiranje. \n",
    "\n",
    "<br>\n",
    "e) Kakva je ocena klasifikatora na skupu za testiranje ukoliko se prilikom učenja koristi  regularizaciona tehnika ranog zaustavljanja sa *patience* parametrom sa vrednošću 4?\n"
   ]
  },
  {
   "cell_type": "code",
   "execution_count": 1,
   "metadata": {},
   "outputs": [],
   "source": [
    "import numpy as np\n",
    "from matplotlib import pyplot as plt\n",
    "import pandas as pd"
   ]
  },
  {
   "cell_type": "code",
   "execution_count": 2,
   "metadata": {},
   "outputs": [],
   "source": [
    "from sklearn.datasets import load_iris\n",
    "\n",
    "from sklearn import model_selection\n",
    "from sklearn import preprocessing\n",
    "from sklearn import metrics"
   ]
  },
  {
   "cell_type": "code",
   "execution_count": 3,
   "metadata": {},
   "outputs": [
    {
     "name": "stderr",
     "output_type": "stream",
     "text": [
      "Using TensorFlow backend.\n"
     ]
    }
   ],
   "source": [
    "from keras.models import Sequential\n",
    "from keras.layers import Dense,Activation\n",
    "from keras.callbacks import EarlyStopping\n",
    "from keras import losses\n",
    "from keras import backend as K"
   ]
  },
  {
   "cell_type": "code",
   "execution_count": 4,
   "metadata": {},
   "outputs": [
    {
     "data": {
      "text/plain": [
       "array([0, 0, 0, 0, 0, 0, 0, 0, 0, 0, 0, 0, 0, 0, 0, 0, 0, 0, 0, 0, 0, 0,\n",
       "       0, 0, 0, 0, 0, 0, 0, 0, 0, 0, 0, 0, 0, 0, 0, 0, 0, 0, 0, 0, 0, 0,\n",
       "       0, 0, 0, 0, 0, 0, 1, 1, 1, 1, 1, 1, 1, 1, 1, 1, 1, 1, 1, 1, 1, 1,\n",
       "       1, 1, 1, 1, 1, 1, 1, 1, 1, 1, 1, 1, 1, 1, 1, 1, 1, 1, 1, 1, 1, 1,\n",
       "       1, 1, 1, 1, 1, 1, 1, 1, 1, 1, 1, 1, 2, 2, 2, 2, 2, 2, 2, 2, 2, 2,\n",
       "       2, 2, 2, 2, 2, 2, 2, 2, 2, 2, 2, 2, 2, 2, 2, 2, 2, 2, 2, 2, 2, 2,\n",
       "       2, 2, 2, 2, 2, 2, 2, 2, 2, 2, 2, 2, 2, 2, 2, 2, 2, 2])"
      ]
     },
     "execution_count": 4,
     "metadata": {},
     "output_type": "execute_result"
    }
   ],
   "source": [
    "x = load_iris()['data']\n",
    "target = load_iris()['target']\n",
    "target"
   ]
  },
  {
   "cell_type": "code",
   "execution_count": 5,
   "metadata": {},
   "outputs": [
    {
     "data": {
      "text/html": [
       "<div>\n",
       "<style scoped>\n",
       "    .dataframe tbody tr th:only-of-type {\n",
       "        vertical-align: middle;\n",
       "    }\n",
       "\n",
       "    .dataframe tbody tr th {\n",
       "        vertical-align: top;\n",
       "    }\n",
       "\n",
       "    .dataframe thead th {\n",
       "        text-align: right;\n",
       "    }\n",
       "</style>\n",
       "<table border=\"1\" class=\"dataframe\">\n",
       "  <thead>\n",
       "    <tr style=\"text-align: right;\">\n",
       "      <th></th>\n",
       "      <th>Class_0</th>\n",
       "      <th>Class_1</th>\n",
       "      <th>Class_2</th>\n",
       "    </tr>\n",
       "  </thead>\n",
       "  <tbody>\n",
       "    <tr>\n",
       "      <th>0</th>\n",
       "      <td>1</td>\n",
       "      <td>0</td>\n",
       "      <td>0</td>\n",
       "    </tr>\n",
       "    <tr>\n",
       "      <th>1</th>\n",
       "      <td>1</td>\n",
       "      <td>0</td>\n",
       "      <td>0</td>\n",
       "    </tr>\n",
       "    <tr>\n",
       "      <th>2</th>\n",
       "      <td>1</td>\n",
       "      <td>0</td>\n",
       "      <td>0</td>\n",
       "    </tr>\n",
       "    <tr>\n",
       "      <th>3</th>\n",
       "      <td>1</td>\n",
       "      <td>0</td>\n",
       "      <td>0</td>\n",
       "    </tr>\n",
       "    <tr>\n",
       "      <th>4</th>\n",
       "      <td>1</td>\n",
       "      <td>0</td>\n",
       "      <td>0</td>\n",
       "    </tr>\n",
       "  </tbody>\n",
       "</table>\n",
       "</div>"
      ],
      "text/plain": [
       "   Class_0  Class_1  Class_2\n",
       "0        1        0        0\n",
       "1        1        0        0\n",
       "2        1        0        0\n",
       "3        1        0        0\n",
       "4        1        0        0"
      ]
     },
     "execution_count": 5,
     "metadata": {},
     "output_type": "execute_result"
    }
   ],
   "source": [
    "y = pd.get_dummies(target, prefix='Class', drop_first=False)\n",
    "y.head()"
   ]
  },
  {
   "cell_type": "code",
   "execution_count": 6,
   "metadata": {},
   "outputs": [
    {
     "data": {
      "text/plain": [
       "['sepal length (cm)',\n",
       " 'sepal width (cm)',\n",
       " 'petal length (cm)',\n",
       " 'petal width (cm)']"
      ]
     },
     "execution_count": 6,
     "metadata": {},
     "output_type": "execute_result"
    }
   ],
   "source": [
    "features=load_iris()['feature_names']\n",
    "features"
   ]
  },
  {
   "cell_type": "code",
   "execution_count": 7,
   "metadata": {},
   "outputs": [],
   "source": [
    "x_train, x_test, y_train, y_test=model_selection.train_test_split(x, y, test_size=0.33, random_state=7, stratify=y)"
   ]
  },
  {
   "cell_type": "code",
   "execution_count": 8,
   "metadata": {},
   "outputs": [],
   "source": [
    "scaler = preprocessing.StandardScaler()\n",
    "scaler.fit(x_train)\n",
    "x_train = scaler.transform(x_train)\n",
    "x_test = scaler.transform(x_test)"
   ]
  },
  {
   "cell_type": "code",
   "execution_count": 9,
   "metadata": {},
   "outputs": [
    {
     "data": {
      "text/plain": [
       "3"
      ]
     },
     "execution_count": 9,
     "metadata": {},
     "output_type": "execute_result"
    }
   ],
   "source": [
    "input_size = len(features)\n",
    "output_size = len(np.unique(target))\n",
    "output_size"
   ]
  },
  {
   "cell_type": "code",
   "execution_count": 10,
   "metadata": {},
   "outputs": [
    {
     "data": {
      "text/plain": [
       "(100, 3)"
      ]
     },
     "execution_count": 10,
     "metadata": {},
     "output_type": "execute_result"
    }
   ],
   "source": [
    "y_train.shape"
   ]
  },
  {
   "cell_type": "code",
   "execution_count": 11,
   "metadata": {},
   "outputs": [],
   "source": [
    "model = Sequential()\n",
    "model.add(Dense(16,input_dim=input_size,activation='sigmoid'))\n",
    "model.add(Dense(output_size, activation='softmax'))"
   ]
  },
  {
   "cell_type": "code",
   "execution_count": 12,
   "metadata": {},
   "outputs": [],
   "source": [
    "model.compile(optimizer='adam', loss=losses.categorical_crossentropy, metrics=['accuracy'])"
   ]
  },
  {
   "cell_type": "code",
   "execution_count": 13,
   "metadata": {},
   "outputs": [
    {
     "name": "stdout",
     "output_type": "stream",
     "text": [
      "Epoch 1/40\n",
      "100/100 [==============================] - 0s 3ms/step - loss: 1.1613 - acc: 0.3300\n",
      "Epoch 2/40\n",
      "100/100 [==============================] - 0s 316us/step - loss: 1.1124 - acc: 0.3300\n",
      "Epoch 3/40\n",
      "100/100 [==============================] - 0s 276us/step - loss: 1.0736 - acc: 0.3300\n",
      "Epoch 4/40\n",
      "100/100 [==============================] - 0s 413us/step - loss: 1.0370 - acc: 0.3800\n",
      "Epoch 5/40\n",
      "100/100 [==============================] - 0s 280us/step - loss: 1.0057 - acc: 0.6200\n",
      "Epoch 6/40\n",
      "100/100 [==============================] - 0s 292us/step - loss: 0.9794 - acc: 0.6500\n",
      "Epoch 7/40\n",
      "100/100 [==============================] - 0s 249us/step - loss: 0.9535 - acc: 0.6500\n",
      "Epoch 8/40\n",
      "100/100 [==============================] - 0s 351us/step - loss: 0.9289 - acc: 0.6800\n",
      "Epoch 9/40\n",
      "100/100 [==============================] - 0s 285us/step - loss: 0.9057 - acc: 0.7000\n",
      "Epoch 10/40\n",
      "100/100 [==============================] - 0s 213us/step - loss: 0.8835 - acc: 0.7500\n",
      "Epoch 11/40\n",
      "100/100 [==============================] - 0s 221us/step - loss: 0.8617 - acc: 0.7800\n",
      "Epoch 12/40\n",
      "100/100 [==============================] - 0s 390us/step - loss: 0.8399 - acc: 0.8000\n",
      "Epoch 13/40\n",
      "100/100 [==============================] - 0s 275us/step - loss: 0.8194 - acc: 0.8300\n",
      "Epoch 14/40\n",
      "100/100 [==============================] - 0s 250us/step - loss: 0.7990 - acc: 0.8500\n",
      "Epoch 15/40\n",
      "100/100 [==============================] - 0s 355us/step - loss: 0.7791 - acc: 0.8500\n",
      "Epoch 16/40\n",
      "100/100 [==============================] - 0s 326us/step - loss: 0.7605 - acc: 0.8400\n",
      "Epoch 17/40\n",
      "100/100 [==============================] - 0s 240us/step - loss: 0.7413 - acc: 0.8400\n",
      "Epoch 18/40\n",
      "100/100 [==============================] - 0s 371us/step - loss: 0.7238 - acc: 0.8600\n",
      "Epoch 19/40\n",
      "100/100 [==============================] - 0s 400us/step - loss: 0.7056 - acc: 0.8500\n",
      "Epoch 20/40\n",
      "100/100 [==============================] - 0s 157us/step - loss: 0.6879 - acc: 0.8500\n",
      "Epoch 21/40\n",
      "100/100 [==============================] - 0s 162us/step - loss: 0.6710 - acc: 0.8600\n",
      "Epoch 22/40\n",
      "100/100 [==============================] - 0s 155us/step - loss: 0.6550 - acc: 0.8500\n",
      "Epoch 23/40\n",
      "100/100 [==============================] - 0s 155us/step - loss: 0.6396 - acc: 0.8700\n",
      "Epoch 24/40\n",
      "100/100 [==============================] - 0s 153us/step - loss: 0.6255 - acc: 0.8500\n",
      "Epoch 25/40\n",
      "100/100 [==============================] - 0s 216us/step - loss: 0.6107 - acc: 0.8700\n",
      "Epoch 26/40\n",
      "100/100 [==============================] - 0s 254us/step - loss: 0.5968 - acc: 0.8800\n",
      "Epoch 27/40\n",
      "100/100 [==============================] - 0s 229us/step - loss: 0.5838 - acc: 0.8800\n",
      "Epoch 28/40\n",
      "100/100 [==============================] - 0s 292us/step - loss: 0.5708 - acc: 0.8700\n",
      "Epoch 29/40\n",
      "100/100 [==============================] - 0s 248us/step - loss: 0.5591 - acc: 0.8700\n",
      "Epoch 30/40\n",
      "100/100 [==============================] - 0s 309us/step - loss: 0.5472 - acc: 0.8700\n",
      "Epoch 31/40\n",
      "100/100 [==============================] - 0s 259us/step - loss: 0.5370 - acc: 0.8700\n",
      "Epoch 32/40\n",
      "100/100 [==============================] - 0s 360us/step - loss: 0.5259 - acc: 0.8700\n",
      "Epoch 33/40\n",
      "100/100 [==============================] - 0s 251us/step - loss: 0.5159 - acc: 0.8700\n",
      "Epoch 34/40\n",
      "100/100 [==============================] - 0s 379us/step - loss: 0.5065 - acc: 0.8700\n",
      "Epoch 35/40\n",
      "100/100 [==============================] - 0s 287us/step - loss: 0.4972 - acc: 0.8700\n",
      "Epoch 36/40\n",
      "100/100 [==============================] - 0s 264us/step - loss: 0.4882 - acc: 0.8700\n",
      "Epoch 37/40\n",
      "100/100 [==============================] - 0s 244us/step - loss: 0.4801 - acc: 0.8700\n",
      "Epoch 38/40\n",
      "100/100 [==============================] - 0s 355us/step - loss: 0.4717 - acc: 0.8700\n",
      "Epoch 39/40\n",
      "100/100 [==============================] - 0s 183us/step - loss: 0.4640 - acc: 0.8700\n",
      "Epoch 40/40\n",
      "100/100 [==============================] - 0s 264us/step - loss: 0.4570 - acc: 0.8700\n"
     ]
    }
   ],
   "source": [
    "history=model.fit(x_train, y_train, batch_size=8, epochs=40)"
   ]
  },
  {
   "cell_type": "code",
   "execution_count": 14,
   "metadata": {},
   "outputs": [],
   "source": [
    "accs = history.history['acc']\n",
    "epochs = history.epoch"
   ]
  },
  {
   "cell_type": "code",
   "execution_count": 15,
   "metadata": {},
   "outputs": [
    {
     "data": {
      "image/png": "[encoded data removed]",
      "text/plain": [
       "<Figure size 432x288 with 1 Axes>"
      ]
     },
     "metadata": {
      "needs_background": "light"
     },
     "output_type": "display_data"
    }
   ],
   "source": [
    "plt.plot(epochs, accs, c='red')\n",
    "plt.show()"
   ]
  },
  {
   "cell_type": "code",
   "execution_count": 16,
   "metadata": {},
   "outputs": [
    {
     "name": "stdout",
     "output_type": "stream",
     "text": [
      "50/50 [==============================] - 0s 731us/step\n"
     ]
    }
   ],
   "source": [
    "evals = model.evaluate(x_test,y_test)"
   ]
  },
  {
   "cell_type": "code",
   "execution_count": 17,
   "metadata": {},
   "outputs": [
    {
     "name": "stdout",
     "output_type": "stream",
     "text": [
      "Loss 0.5192908501625061 Accuracy 0.8599999904632568\n"
     ]
    }
   ],
   "source": [
    "print('Loss', evals[0], 'Accuracy', evals[1])"
   ]
  },
  {
   "cell_type": "code",
   "execution_count": 18,
   "metadata": {},
   "outputs": [],
   "source": [
    "early = EarlyStopping(monitor='val_loss', min_delta=0, patience=4, mode='auto')"
   ]
  },
  {
   "cell_type": "code",
   "execution_count": 19,
   "metadata": {},
   "outputs": [
    {
     "name": "stdout",
     "output_type": "stream",
     "text": [
      "Train on 70 samples, validate on 30 samples\n",
      "Epoch 1/40\n",
      "70/70 [==============================] - 0s 195us/step - loss: 0.4336 - acc: 0.8571 - val_loss: 0.4872 - val_acc: 0.9000\n",
      "Epoch 2/40\n",
      "70/70 [==============================] - 0s 250us/step - loss: 0.4289 - acc: 0.8571 - val_loss: 0.4826 - val_acc: 0.9000\n",
      "Epoch 3/40\n",
      "70/70 [==============================] - 0s 493us/step - loss: 0.4243 - acc: 0.8571 - val_loss: 0.4794 - val_acc: 0.9000\n",
      "Epoch 4/40\n",
      "70/70 [==============================] - 0s 300us/step - loss: 0.4196 - acc: 0.8714 - val_loss: 0.4757 - val_acc: 0.9000\n",
      "Epoch 5/40\n",
      "70/70 [==============================] - 0s 282us/step - loss: 0.4162 - acc: 0.8857 - val_loss: 0.4730 - val_acc: 0.9000\n",
      "Epoch 6/40\n",
      "70/70 [==============================] - 0s 286us/step - loss: 0.4112 - acc: 0.8714 - val_loss: 0.4688 - val_acc: 0.9000\n",
      "Epoch 7/40\n",
      "70/70 [==============================] - 0s 352us/step - loss: 0.4071 - acc: 0.8714 - val_loss: 0.4649 - val_acc: 0.9000\n",
      "Epoch 8/40\n",
      "70/70 [==============================] - 0s 225us/step - loss: 0.4031 - acc: 0.8857 - val_loss: 0.4619 - val_acc: 0.9000\n",
      "Epoch 9/40\n",
      "70/70 [==============================] - 0s 164us/step - loss: 0.3998 - acc: 0.8857 - val_loss: 0.4596 - val_acc: 0.9000\n",
      "Epoch 10/40\n",
      "70/70 [==============================] - 0s 286us/step - loss: 0.3959 - acc: 0.8857 - val_loss: 0.4557 - val_acc: 0.9000\n",
      "Epoch 11/40\n",
      "70/70 [==============================] - 0s 292us/step - loss: 0.3926 - acc: 0.8857 - val_loss: 0.4510 - val_acc: 0.9000\n",
      "Epoch 12/40\n",
      "70/70 [==============================] - 0s 328us/step - loss: 0.3890 - acc: 0.8857 - val_loss: 0.4472 - val_acc: 0.9000\n",
      "Epoch 13/40\n",
      "70/70 [==============================] - 0s 346us/step - loss: 0.3858 - acc: 0.8857 - val_loss: 0.4438 - val_acc: 0.9000\n",
      "Epoch 14/40\n",
      "70/70 [==============================] - 0s 442us/step - loss: 0.3825 - acc: 0.8857 - val_loss: 0.4414 - val_acc: 0.9000\n",
      "Epoch 15/40\n",
      "70/70 [==============================] - 0s 269us/step - loss: 0.3803 - acc: 0.8857 - val_loss: 0.4365 - val_acc: 0.9000\n",
      "Epoch 16/40\n",
      "70/70 [==============================] - 0s 390us/step - loss: 0.3763 - acc: 0.8857 - val_loss: 0.4347 - val_acc: 0.9000\n",
      "Epoch 17/40\n",
      "70/70 [==============================] - 0s 296us/step - loss: 0.3733 - acc: 0.8857 - val_loss: 0.4312 - val_acc: 0.9000\n",
      "Epoch 18/40\n",
      "70/70 [==============================] - 0s 291us/step - loss: 0.3701 - acc: 0.8857 - val_loss: 0.4280 - val_acc: 0.9000\n",
      "Epoch 19/40\n",
      "70/70 [==============================] - 0s 314us/step - loss: 0.3677 - acc: 0.8857 - val_loss: 0.4258 - val_acc: 0.9000\n",
      "Epoch 20/40\n",
      "70/70 [==============================] - 0s 417us/step - loss: 0.3645 - acc: 0.8857 - val_loss: 0.4209 - val_acc: 0.9000\n",
      "Epoch 21/40\n",
      "70/70 [==============================] - 0s 325us/step - loss: 0.3618 - acc: 0.8857 - val_loss: 0.4184 - val_acc: 0.9000\n",
      "Epoch 22/40\n",
      "70/70 [==============================] - 0s 395us/step - loss: 0.3589 - acc: 0.8857 - val_loss: 0.4142 - val_acc: 0.9000\n",
      "Epoch 23/40\n",
      "70/70 [==============================] - 0s 410us/step - loss: 0.3564 - acc: 0.8857 - val_loss: 0.4102 - val_acc: 0.9000\n",
      "Epoch 24/40\n",
      "70/70 [==============================] - 0s 325us/step - loss: 0.3538 - acc: 0.8857 - val_loss: 0.4068 - val_acc: 0.9000\n",
      "Epoch 25/40\n",
      "70/70 [==============================] - 0s 350us/step - loss: 0.3510 - acc: 0.8857 - val_loss: 0.4050 - val_acc: 0.9000\n",
      "Epoch 26/40\n",
      "70/70 [==============================] - 0s 271us/step - loss: 0.3488 - acc: 0.8857 - val_loss: 0.4020 - val_acc: 0.9000\n",
      "Epoch 27/40\n",
      "70/70 [==============================] - 0s 438us/step - loss: 0.3463 - acc: 0.8857 - val_loss: 0.3993 - val_acc: 0.9000\n",
      "Epoch 28/40\n",
      "70/70 [==============================] - 0s 318us/step - loss: 0.3441 - acc: 0.8857 - val_loss: 0.3976 - val_acc: 0.9000\n",
      "Epoch 29/40\n",
      "70/70 [==============================] - 0s 315us/step - loss: 0.3414 - acc: 0.8857 - val_loss: 0.3946 - val_acc: 0.9000\n",
      "Epoch 30/40\n",
      "70/70 [==============================] - 0s 256us/step - loss: 0.3392 - acc: 0.8857 - val_loss: 0.3929 - val_acc: 0.9000\n",
      "Epoch 31/40\n",
      "70/70 [==============================] - 0s 281us/step - loss: 0.3369 - acc: 0.8857 - val_loss: 0.3887 - val_acc: 0.9000\n",
      "Epoch 32/40\n",
      "70/70 [==============================] - 0s 348us/step - loss: 0.3347 - acc: 0.8857 - val_loss: 0.3863 - val_acc: 0.9000\n",
      "Epoch 33/40\n",
      "70/70 [==============================] - 0s 307us/step - loss: 0.3323 - acc: 0.8857 - val_loss: 0.3837 - val_acc: 0.9000\n",
      "Epoch 34/40\n",
      "70/70 [==============================] - 0s 328us/step - loss: 0.3306 - acc: 0.8857 - val_loss: 0.3800 - val_acc: 0.9000\n",
      "Epoch 35/40\n",
      "70/70 [==============================] - 0s 216us/step - loss: 0.3281 - acc: 0.8857 - val_loss: 0.3768 - val_acc: 0.9000\n",
      "Epoch 36/40\n",
      "70/70 [==============================] - 0s 283us/step - loss: 0.3259 - acc: 0.8857 - val_loss: 0.3737 - val_acc: 0.9000\n",
      "Epoch 37/40\n",
      "70/70 [==============================] - 0s 399us/step - loss: 0.3238 - acc: 0.8857 - val_loss: 0.3721 - val_acc: 0.9000\n",
      "Epoch 38/40\n",
      "70/70 [==============================] - 0s 271us/step - loss: 0.3216 - acc: 0.8857 - val_loss: 0.3696 - val_acc: 0.9000\n",
      "Epoch 39/40\n",
      "70/70 [==============================] - 0s 293us/step - loss: 0.3196 - acc: 0.8857 - val_loss: 0.3670 - val_acc: 0.9000\n",
      "Epoch 40/40\n",
      "70/70 [==============================] - 0s 425us/step - loss: 0.3178 - acc: 0.8857 - val_loss: 0.3639 - val_acc: 0.9000\n"
     ]
    }
   ],
   "source": [
    "history1 = model.fit(x_train, y_train, batch_size=8, epochs=40, validation_split=0.3, callbacks=[early])"
   ]
  },
  {
   "cell_type": "code",
   "execution_count": 20,
   "metadata": {},
   "outputs": [
    {
     "name": "stdout",
     "output_type": "stream",
     "text": [
      "50/50 [==============================] - 0s 127us/step\n"
     ]
    }
   ],
   "source": [
    "[loss, acc] = model.evaluate(x_test, y_test)"
   ]
  },
  {
   "cell_type": "code",
   "execution_count": 21,
   "metadata": {
    "collapsed": true
   },
   "outputs": [
    {
     "name": "stdout",
     "output_type": "stream",
     "text": [
      "Loss: 0.4067875623703003\n",
      "Acc: 0.8799999904632568\n"
     ]
    }
   ],
   "source": [
    "print(f'Loss: {loss}')\n",
    "print(f'Acc: {acc}')"
   ]
  }
 ],
 "metadata": {
  "kernelspec": {
   "display_name": "Python 3",
   "language": "python",
   "name": "python3"
  },
  "language_info": {
   "codemirror_mode": {
    "name": "ipython",
    "version": 3
   },
   "file_extension": ".py",
   "mimetype": "text/x-python",
   "name": "python",
   "nbconvert_exporter": "python",
   "pygments_lexer": "ipython3",
   "version": "3.7.0"
  }
 },
 "nbformat": 4,
 "nbformat_minor": 2
}
