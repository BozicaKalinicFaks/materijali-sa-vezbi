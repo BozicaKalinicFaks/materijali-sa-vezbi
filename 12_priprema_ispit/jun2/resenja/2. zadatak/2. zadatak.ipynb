{
 "cells": [
  {
   "cell_type": "markdown",
   "metadata": {},
   "source": [
    "**2. zadatak (8 poena)**\n",
    "<br>\n",
    "\n",
    "Skup *fashion MNIST* sadrži sličice odevnih predmeta. Potrebno je napraviti klasifikator koji za zadatu sliku odevnog predmeta određuje kojoj kategoriji pripada."
   ]
  },
  {
   "cell_type": "code",
   "execution_count": 1,
   "metadata": {},
   "outputs": [],
   "source": [
    "import numpy as np\n",
    "from matplotlib import pyplot as plt"
   ]
  },
  {
   "cell_type": "code",
   "execution_count": 2,
   "metadata": {},
   "outputs": [],
   "source": [
    "from sklearn import model_selection\n",
    "from sklearn import preprocessing\n",
    "from sklearn import metrics"
   ]
  },
  {
   "cell_type": "code",
   "execution_count": 3,
   "metadata": {},
   "outputs": [
    {
     "name": "stderr",
     "output_type": "stream",
     "text": [
      "Using TensorFlow backend.\n"
     ]
    }
   ],
   "source": [
    "from keras.datasets import fashion_mnist\n",
    "\n",
    "from keras.models import Sequential \n",
    "from keras.layers import Dense, Conv2D, MaxPooling2D, Flatten, Dropout, Lambda\n",
    "from keras.utils import to_categorical\n",
    "from keras import backend as K"
   ]
  },
  {
   "cell_type": "markdown",
   "metadata": {},
   "source": [
    "a) Korišćenjem Keras biblioteke napraviti konvolutivnu neuronsku mrežu koja odgovara prikazu na slici.\n",
    "<img src='mreza_arhitektura.png'>\n",
    "Kod konvolutivnih slojeva, zbog ocuvanja dimenzija matrica, koristiti *padding* argument sa vrednoscu *same*. "
   ]
  },
  {
   "cell_type": "code",
   "execution_count": 103,
   "metadata": {},
   "outputs": [],
   "source": [
    "class_names = {\n",
    "    0: 'T-shirt/top',\n",
    "    1: 'Trouser',\n",
    "    2: 'Pullover',\n",
    "    3: 'Dress',\n",
    "    4: 'Coat',\n",
    "    5: 'Sandal',\n",
    "    6: 'Shirt',\n",
    "    7: 'Sneaker',\n",
    "    8: 'Bag',\n",
    "    9: 'Ankle boot',\n",
    "}"
   ]
  },
  {
   "cell_type": "code",
   "execution_count": 12,
   "metadata": {},
   "outputs": [],
   "source": [
    "img_rows = 28\n",
    "img_cols = 28\n",
    "channels = 1\n",
    "n_classes = 10"
   ]
  },
  {
   "cell_type": "code",
   "execution_count": 13,
   "metadata": {},
   "outputs": [],
   "source": [
    "# softmax aktivacija - molim Vas da pozovete za dodatna pojasnjenja\n",
    "# model.add(Lambda(lambda x: K.tf.nn.softmax(x)))"
   ]
  },
  {
   "cell_type": "code",
   "execution_count": 14,
   "metadata": {},
   "outputs": [],
   "source": [
    "model = Sequential()\n",
    "model.add(Conv2D(32, (3, 3), padding='same', input_shape=(img_rows, img_cols, channels)))\n",
    "model.add(MaxPooling2D(pool_size=(2, 2)))\n",
    "model.add(Conv2D(64, (3, 3), padding='same'))\n",
    "model.add(MaxPooling2D(pool_size=(2, 2)))\n",
    "model.add(Conv2D(128, (3, 3), padding='same'))\n",
    "model.add(MaxPooling2D(pool_size=(2, 2)))\n",
    "model.add(Flatten())\n",
    "model.add(Dense(128, activation='relu'))\n",
    "model.add(Dense(n_classes, activation='softmax'))"
   ]
  },
  {
   "cell_type": "code",
   "execution_count": 15,
   "metadata": {},
   "outputs": [
    {
     "name": "stdout",
     "output_type": "stream",
     "text": [
      "_________________________________________________________________\n",
      "Layer (type)                 Output Shape              Param #   \n",
      "=================================================================\n",
      "conv2d_4 (Conv2D)            (None, 28, 28, 32)        320       \n",
      "_________________________________________________________________\n",
      "max_pooling2d_4 (MaxPooling2 (None, 14, 14, 32)        0         \n",
      "_________________________________________________________________\n",
      "conv2d_5 (Conv2D)            (None, 14, 14, 64)        18496     \n",
      "_________________________________________________________________\n",
      "max_pooling2d_5 (MaxPooling2 (None, 7, 7, 64)          0         \n",
      "_________________________________________________________________\n",
      "conv2d_6 (Conv2D)            (None, 7, 7, 128)         73856     \n",
      "_________________________________________________________________\n",
      "max_pooling2d_6 (MaxPooling2 (None, 3, 3, 128)         0         \n",
      "_________________________________________________________________\n",
      "flatten_2 (Flatten)          (None, 1152)              0         \n",
      "_________________________________________________________________\n",
      "dense_2 (Dense)              (None, 128)               147584    \n",
      "_________________________________________________________________\n",
      "dense_3 (Dense)              (None, 10)                1290      \n",
      "=================================================================\n",
      "Total params: 241,546\n",
      "Trainable params: 241,546\n",
      "Non-trainable params: 0\n",
      "_________________________________________________________________\n"
     ]
    }
   ],
   "source": [
    "model.summary()"
   ]
  },
  {
   "cell_type": "markdown",
   "metadata": {},
   "source": [
    "b) Pročitati podatke koji se nalaze u skupu *fashion_mnist* Keras kolekcije, a zatim preduzeti sve neophodne pripremne korake.  \n",
    "<br>\n",
    "**Napomena:** ukoliko ova kolicina podataka bude uticala na brzinu rada racunara, izdvojiti 12000 slika za treniranje i 2000 slika za testiranje. "
   ]
  },
  {
   "cell_type": "code",
   "execution_count": 36,
   "metadata": {},
   "outputs": [],
   "source": [
    "model.compile(optimizer='adam', loss='categorical_crossentropy', metrics=['acc'])"
   ]
  },
  {
   "cell_type": "code",
   "execution_count": 52,
   "metadata": {},
   "outputs": [],
   "source": [
    "data = fashion_mnist.load_data()"
   ]
  },
  {
   "cell_type": "code",
   "execution_count": 53,
   "metadata": {},
   "outputs": [
    {
     "data": {
      "text/plain": [
       "\u001b[0;31mSignature:\u001b[0m \u001b[0mfashion_mnist\u001b[0m\u001b[0;34m.\u001b[0m\u001b[0mload_data\u001b[0m\u001b[0;34m(\u001b[0m\u001b[0;34m)\u001b[0m\u001b[0;34m\u001b[0m\u001b[0m\n",
       "\u001b[0;31mDocstring:\u001b[0m\n",
       "Loads the Fashion-MNIST dataset.\n",
       "\n",
       "# Returns\n",
       "    Tuple of Numpy arrays: `(x_train, y_train), (x_test, y_test)`.\n",
       "\u001b[0;31mFile:\u001b[0m      /usr/lib/python3.7/site-packages/keras/datasets/fashion_mnist.py\n",
       "\u001b[0;31mType:\u001b[0m      function\n"
      ]
     },
     "metadata": {},
     "output_type": "display_data"
    }
   ],
   "source": [
    "fashion_mnist.load_data?"
   ]
  },
  {
   "cell_type": "code",
   "execution_count": 54,
   "metadata": {},
   "outputs": [],
   "source": [
    "(x_train, y_train), (x_test, y_test) = data"
   ]
  },
  {
   "cell_type": "code",
   "execution_count": 55,
   "metadata": {},
   "outputs": [
    {
     "data": {
      "text/plain": [
       "(60000, 28, 28)"
      ]
     },
     "execution_count": 55,
     "metadata": {},
     "output_type": "execute_result"
    }
   ],
   "source": [
    "x_train.shape"
   ]
  },
  {
   "cell_type": "code",
   "execution_count": 56,
   "metadata": {},
   "outputs": [
    {
     "data": {
      "text/plain": [
       "<matplotlib.image.AxesImage at 0x7fa6fc93c630>"
      ]
     },
     "execution_count": 56,
     "metadata": {},
     "output_type": "execute_result"
    },
    {
     "data": {
      "image/png": "[encoded data removed]",
      "text/plain": [
       "<Figure size 432x288 with 1 Axes>"
      ]
     },
     "metadata": {
      "needs_background": "light"
     },
     "output_type": "display_data"
    }
   ],
   "source": [
    "plt.imshow(x_train[1], cmap='gray')"
   ]
  },
  {
   "cell_type": "markdown",
   "metadata": {},
   "source": [
    "Potrebno je da dodamo broj kanala kao dimenziju u podatke."
   ]
  },
  {
   "cell_type": "code",
   "execution_count": 57,
   "metadata": {},
   "outputs": [
    {
     "data": {
      "text/plain": [
       "([array([25.,  1.,  1.,  1.,  0.,  0.,  0.,  0.,  0.,  0.]),\n",
       "  array([22.,  0.,  1.,  0.,  1.,  0.,  0.,  2.,  1.,  1.]),\n",
       "  array([21.,  0.,  1.,  0.,  0.,  0.,  0.,  3.,  3.,  0.]),\n",
       "  array([21.,  0.,  0.,  0.,  0.,  0.,  0.,  3.,  4.,  0.]),\n",
       "  array([20.,  0.,  1.,  0.,  0.,  0.,  0.,  2.,  5.,  0.]),\n",
       "  array([19.,  1.,  0.,  0.,  0.,  0.,  1.,  3.,  4.,  0.]),\n",
       "  array([19.,  0.,  0.,  1.,  0.,  0.,  1.,  2.,  5.,  0.]),\n",
       "  array([18.,  1.,  0.,  0.,  1.,  0.,  1.,  2.,  3.,  2.]),\n",
       "  array([18.,  0.,  1.,  0.,  0.,  0.,  1.,  2.,  4.,  2.]),\n",
       "  array([17.,  1.,  1.,  0.,  0.,  0.,  0.,  3.,  5.,  1.]),\n",
       "  array([17.,  0.,  1.,  0.,  0.,  1.,  0.,  4.,  4.,  1.]),\n",
       "  array([17.,  1.,  0.,  0.,  0.,  0.,  0.,  1.,  8.,  1.]),\n",
       "  array([14.,  1.,  1.,  1.,  0.,  0.,  0.,  3.,  5.,  3.]),\n",
       "  array([10.,  0.,  1.,  1.,  0.,  0.,  1.,  4.,  8.,  3.]),\n",
       "  array([ 7.,  1.,  1.,  0.,  1.,  1.,  1.,  3., 10.,  3.]),\n",
       "  array([7., 0., 1., 0., 0., 1., 0., 5., 9., 5.]),\n",
       "  array([ 6.,  0.,  1.,  0.,  2.,  0.,  1.,  2., 15.,  1.]),\n",
       "  array([7., 0., 1., 0., 1., 1., 1., 5., 9., 3.]),\n",
       "  array([7., 0., 1., 0., 1., 1., 2., 6., 6., 4.]),\n",
       "  array([ 8.,  0.,  0.,  0.,  1.,  0.,  3.,  2., 12.,  2.]),\n",
       "  array([ 9.,  0.,  0.,  0.,  1.,  0.,  2.,  4., 12.,  0.]),\n",
       "  array([ 9.,  0.,  0.,  0.,  2.,  0.,  1.,  4., 11.,  1.]),\n",
       "  array([ 9.,  0.,  1.,  0.,  1.,  0.,  4.,  1., 10.,  2.]),\n",
       "  array([10.,  0.,  0.,  0.,  1.,  1.,  3.,  1., 11.,  1.]),\n",
       "  array([ 9.,  0.,  0.,  2.,  1.,  1.,  1.,  2., 10.,  2.]),\n",
       "  array([9., 0., 1., 1., 1., 1., 1., 2., 6., 6.]),\n",
       "  array([10.,  0.,  1.,  2.,  0.,  0.,  5.,  1.,  7.,  2.]),\n",
       "  array([21.,  1.,  4.,  1.,  1.,  0.,  0.,  0.,  0.,  0.])],\n",
       " array([  0. ,  25.5,  51. ,  76.5, 102. , 127.5, 153. , 178.5, 204. ,\n",
       "        229.5, 255. ]),\n",
       " <a list of 28 Lists of Patches objects>)"
      ]
     },
     "execution_count": 57,
     "metadata": {},
     "output_type": "execute_result"
    },
    {
     "data": {
      "image/png": "[encoded data removed]",
      "text/plain": [
       "<Figure size 432x288 with 1 Axes>"
      ]
     },
     "metadata": {
      "needs_background": "light"
     },
     "output_type": "display_data"
    }
   ],
   "source": [
    "plt.hist(x_train[0])"
   ]
  },
  {
   "cell_type": "markdown",
   "metadata": {},
   "source": [
    "Primecujemo da su vrednosti piksela u intervalu 0, 255. Normalizujemo ih..."
   ]
  },
  {
   "cell_type": "code",
   "execution_count": 58,
   "metadata": {},
   "outputs": [],
   "source": [
    "x_train = x_train / 255.0\n",
    "x_test = x_test / 255.0"
   ]
  },
  {
   "cell_type": "code",
   "execution_count": 59,
   "metadata": {},
   "outputs": [
    {
     "data": {
      "text/plain": [
       "([array([25.,  1.,  1.,  1.,  0.,  0.,  0.,  0.,  0.,  0.]),\n",
       "  array([22.,  0.,  1.,  0.,  1.,  0.,  0.,  2.,  1.,  1.]),\n",
       "  array([21.,  0.,  1.,  0.,  0.,  0.,  0.,  3.,  3.,  0.]),\n",
       "  array([21.,  0.,  0.,  0.,  0.,  0.,  0.,  3.,  4.,  0.]),\n",
       "  array([20.,  0.,  1.,  0.,  0.,  0.,  0.,  2.,  5.,  0.]),\n",
       "  array([19.,  1.,  0.,  0.,  0.,  0.,  1.,  3.,  4.,  0.]),\n",
       "  array([19.,  0.,  0.,  1.,  0.,  0.,  1.,  2.,  5.,  0.]),\n",
       "  array([18.,  1.,  0.,  0.,  1.,  0.,  1.,  2.,  3.,  2.]),\n",
       "  array([18.,  0.,  1.,  0.,  0.,  0.,  1.,  2.,  4.,  2.]),\n",
       "  array([17.,  1.,  1.,  0.,  0.,  0.,  0.,  3.,  5.,  1.]),\n",
       "  array([17.,  0.,  1.,  0.,  0.,  1.,  0.,  4.,  4.,  1.]),\n",
       "  array([17.,  1.,  0.,  0.,  0.,  0.,  0.,  1.,  8.,  1.]),\n",
       "  array([14.,  1.,  1.,  1.,  0.,  0.,  0.,  3.,  5.,  3.]),\n",
       "  array([10.,  0.,  1.,  1.,  0.,  0.,  1.,  4.,  8.,  3.]),\n",
       "  array([ 7.,  1.,  1.,  0.,  1.,  1.,  1.,  3., 10.,  3.]),\n",
       "  array([7., 0., 1., 0., 0., 1., 0., 5., 9., 5.]),\n",
       "  array([ 6.,  0.,  1.,  0.,  2.,  0.,  1.,  2., 15.,  1.]),\n",
       "  array([7., 0., 1., 0., 1., 1., 1., 5., 9., 3.]),\n",
       "  array([7., 0., 1., 0., 1., 1., 2., 6., 6., 4.]),\n",
       "  array([ 8.,  0.,  0.,  0.,  1.,  0.,  3.,  2., 12.,  2.]),\n",
       "  array([ 9.,  0.,  0.,  0.,  1.,  0.,  2.,  4., 12.,  0.]),\n",
       "  array([ 9.,  0.,  0.,  0.,  2.,  0.,  1.,  4., 11.,  1.]),\n",
       "  array([ 9.,  0.,  1.,  0.,  1.,  0.,  4.,  1., 10.,  2.]),\n",
       "  array([10.,  0.,  0.,  0.,  1.,  1.,  3.,  1., 11.,  1.]),\n",
       "  array([ 9.,  0.,  0.,  2.,  1.,  1.,  1.,  2., 10.,  2.]),\n",
       "  array([9., 0., 1., 1., 1., 1., 1., 2., 6., 6.]),\n",
       "  array([10.,  0.,  1.,  2.,  0.,  0.,  5.,  1.,  7.,  2.]),\n",
       "  array([21.,  1.,  4.,  1.,  1.,  0.,  0.,  0.,  0.,  0.])],\n",
       " array([0. , 0.1, 0.2, 0.3, 0.4, 0.5, 0.6, 0.7, 0.8, 0.9, 1. ]),\n",
       " <a list of 28 Lists of Patches objects>)"
      ]
     },
     "execution_count": 59,
     "metadata": {},
     "output_type": "execute_result"
    },
    {
     "data": {
      "image/png": "[encoded data removed]",
      "text/plain": [
       "<Figure size 432x288 with 1 Axes>"
      ]
     },
     "metadata": {
      "needs_background": "light"
     },
     "output_type": "display_data"
    }
   ],
   "source": [
    "plt.hist(x_train[0])"
   ]
  },
  {
   "cell_type": "code",
   "execution_count": 60,
   "metadata": {},
   "outputs": [],
   "source": [
    "x_train = np.expand_dims(x_train, axis=3)\n",
    "x_test = np.expand_dims(x_test, axis=3)"
   ]
  },
  {
   "cell_type": "code",
   "execution_count": 61,
   "metadata": {},
   "outputs": [
    {
     "name": "stdout",
     "output_type": "stream",
     "text": [
      "(60000, 28, 28, 1)\n",
      "(10000, 28, 28, 1)\n"
     ]
    }
   ],
   "source": [
    "print(x_train.shape)\n",
    "print(x_test.shape)"
   ]
  },
  {
   "cell_type": "markdown",
   "metadata": {},
   "source": [
    "Enkodiramo labele."
   ]
  },
  {
   "cell_type": "code",
   "execution_count": 64,
   "metadata": {},
   "outputs": [],
   "source": [
    "y_train = to_categorical(y_train, num_classes=n_classes)\n",
    "y_test = to_categorical(y_test, num_classes=n_classes)"
   ]
  },
  {
   "cell_type": "code",
   "execution_count": 65,
   "metadata": {},
   "outputs": [
    {
     "name": "stdout",
     "output_type": "stream",
     "text": [
      "(60000, 10)\n",
      "(10000, 10)\n"
     ]
    }
   ],
   "source": [
    "print(y_train.shape)\n",
    "print(y_test.shape)"
   ]
  },
  {
   "cell_type": "markdown",
   "metadata": {},
   "source": [
    "c) Nacrtati grafik zavisnosti tačnosti klasifikatora na skupovima za treniranje i validaciju u odnosu na broj epoha. U toku treniranja mreže koristiti 20 procenata polaznog skupa za validaciju, pakete veličine 64, a za broj epoha uzeti 10.  "
   ]
  },
  {
   "cell_type": "code",
   "execution_count": 66,
   "metadata": {},
   "outputs": [],
   "source": [
    "epochs = 10\n",
    "batch_size = 64\n",
    "validation_ratio = 0.2"
   ]
  },
  {
   "cell_type": "markdown",
   "metadata": {},
   "source": [
    "**VAZNO**\n",
    "Usled nedostatka graficke karte na ispitu, vrsicemo ovde odsecanje podataka\n",
    "za obucavanje."
   ]
  },
  {
   "cell_type": "code",
   "execution_count": 69,
   "metadata": {},
   "outputs": [],
   "source": [
    "x_train = x_train[:1000]\n",
    "y_train = y_train[:1000]"
   ]
  },
  {
   "cell_type": "code",
   "execution_count": 70,
   "metadata": {},
   "outputs": [
    {
     "name": "stdout",
     "output_type": "stream",
     "text": [
      "Train on 800 samples, validate on 200 samples\n",
      "Epoch 1/10\n",
      "800/800 [==============================] - 3s 3ms/step - loss: 0.3809 - acc: 0.8675 - val_loss: 0.3712 - val_acc: 0.8650\n",
      "Epoch 2/10\n",
      "800/800 [==============================] - 3s 3ms/step - loss: 0.3159 - acc: 0.8962 - val_loss: 0.3509 - val_acc: 0.8700\n",
      "Epoch 3/10\n",
      "800/800 [==============================] - 3s 3ms/step - loss: 0.2495 - acc: 0.9175 - val_loss: 0.3995 - val_acc: 0.8500\n",
      "Epoch 4/10\n",
      "800/800 [==============================] - 2s 3ms/step - loss: 0.2188 - acc: 0.9263 - val_loss: 0.3581 - val_acc: 0.8750\n",
      "Epoch 5/10\n",
      "800/800 [==============================] - 3s 3ms/step - loss: 0.1867 - acc: 0.9462 - val_loss: 0.3875 - val_acc: 0.8500\n",
      "Epoch 6/10\n",
      "800/800 [==============================] - 2s 3ms/step - loss: 0.1519 - acc: 0.9513 - val_loss: 0.3742 - val_acc: 0.8650\n",
      "Epoch 7/10\n",
      "800/800 [==============================] - 3s 3ms/step - loss: 0.1440 - acc: 0.9587 - val_loss: 0.3970 - val_acc: 0.8600\n",
      "Epoch 8/10\n",
      "800/800 [==============================] - 3s 4ms/step - loss: 0.1126 - acc: 0.9662 - val_loss: 0.4251 - val_acc: 0.8650\n",
      "Epoch 9/10\n",
      "800/800 [==============================] - 3s 3ms/step - loss: 0.1023 - acc: 0.9700 - val_loss: 0.4689 - val_acc: 0.8600\n",
      "Epoch 10/10\n",
      "800/800 [==============================] - 3s 3ms/step - loss: 0.1185 - acc: 0.9650 - val_loss: 0.4401 - val_acc: 0.8550\n"
     ]
    }
   ],
   "source": [
    "history = model.fit(x_train, y_train, epochs=epochs, batch_size=batch_size, validation_split=validation_ratio)"
   ]
  },
  {
   "cell_type": "code",
   "execution_count": 73,
   "metadata": {},
   "outputs": [
    {
     "data": {
      "text/plain": [
       "Text(0,0.5,'Acc')"
      ]
     },
     "execution_count": 73,
     "metadata": {},
     "output_type": "execute_result"
    },
    {
     "data": {
      "image/png": "[encoded data removed]",
      "text/plain": [
       "<Figure size 432x288 with 1 Axes>"
      ]
     },
     "metadata": {
      "needs_background": "light"
     },
     "output_type": "display_data"
    }
   ],
   "source": [
    "plt.plot(range(epochs), history.history['acc'])\n",
    "plt.plot(range(epochs), history.history['val_acc'])\n",
    "plt.legend(['Acc', 'Val_acc'])\n",
    "plt.xlabel('Epoha')\n",
    "plt.ylabel('Acc')"
   ]
  },
  {
   "cell_type": "markdown",
   "metadata": {},
   "source": [
    "d) Kako se menja tačnost mreže kada se nakon svakog agregacionog sloja doda *dropout* sloj sa verovatnoćom isključivanja neurona 0.25? Nacrtati grafik zavisnosti tačnosti klasifikatora na skupovima za treniranje i validaciju u odnosu na broj epoha."
   ]
  },
  {
   "cell_type": "code",
   "execution_count": 74,
   "metadata": {},
   "outputs": [
    {
     "name": "stdout",
     "output_type": "stream",
     "text": [
      "_________________________________________________________________\n",
      "Layer (type)                 Output Shape              Param #   \n",
      "=================================================================\n",
      "conv2d_7 (Conv2D)            (None, 28, 28, 32)        320       \n",
      "_________________________________________________________________\n",
      "max_pooling2d_7 (MaxPooling2 (None, 14, 14, 32)        0         \n",
      "_________________________________________________________________\n",
      "dropout_1 (Dropout)          (None, 14, 14, 32)        0         \n",
      "_________________________________________________________________\n",
      "conv2d_8 (Conv2D)            (None, 14, 14, 64)        18496     \n",
      "_________________________________________________________________\n",
      "max_pooling2d_8 (MaxPooling2 (None, 7, 7, 64)          0         \n",
      "_________________________________________________________________\n",
      "dropout_2 (Dropout)          (None, 7, 7, 64)          0         \n",
      "_________________________________________________________________\n",
      "conv2d_9 (Conv2D)            (None, 7, 7, 128)         73856     \n",
      "_________________________________________________________________\n",
      "max_pooling2d_9 (MaxPooling2 (None, 3, 3, 128)         0         \n",
      "_________________________________________________________________\n",
      "dropout_3 (Dropout)          (None, 3, 3, 128)         0         \n",
      "_________________________________________________________________\n",
      "flatten_3 (Flatten)          (None, 1152)              0         \n",
      "_________________________________________________________________\n",
      "dense_4 (Dense)              (None, 128)               147584    \n",
      "_________________________________________________________________\n",
      "dense_5 (Dense)              (None, 10)                1290      \n",
      "=================================================================\n",
      "Total params: 241,546\n",
      "Trainable params: 241,546\n",
      "Non-trainable params: 0\n",
      "_________________________________________________________________\n"
     ]
    }
   ],
   "source": [
    "model = Sequential()\n",
    "model.add(Conv2D(32, (3, 3), padding='same', input_shape=(img_rows, img_cols, channels)))\n",
    "model.add(MaxPooling2D(pool_size=(2, 2)))\n",
    "model.add(Dropout(0.25))\n",
    "model.add(Conv2D(64, (3, 3), padding='same'))\n",
    "model.add(MaxPooling2D(pool_size=(2, 2)))\n",
    "model.add(Dropout(0.25))\n",
    "model.add(Conv2D(128, (3, 3), padding='same'))\n",
    "model.add(MaxPooling2D(pool_size=(2, 2)))\n",
    "model.add(Dropout(0.25))\n",
    "model.add(Flatten())\n",
    "model.add(Dense(128, activation='relu'))\n",
    "model.add(Dense(n_classes, activation='softmax'))\n",
    "\n",
    "model.summary()"
   ]
  },
  {
   "cell_type": "code",
   "execution_count": 75,
   "metadata": {},
   "outputs": [],
   "source": [
    "model.compile(optimizer='adam', loss='categorical_crossentropy', metrics=['acc'])"
   ]
  },
  {
   "cell_type": "code",
   "execution_count": 76,
   "metadata": {},
   "outputs": [
    {
     "name": "stdout",
     "output_type": "stream",
     "text": [
      "Train on 800 samples, validate on 200 samples\n",
      "Epoch 1/10\n",
      "800/800 [==============================] - 3s 4ms/step - loss: 2.0381 - acc: 0.3038 - val_loss: 1.3423 - val_acc: 0.5450\n",
      "Epoch 2/10\n",
      "800/800 [==============================] - 3s 3ms/step - loss: 1.1597 - acc: 0.5913 - val_loss: 0.8594 - val_acc: 0.6850\n",
      "Epoch 3/10\n",
      "800/800 [==============================] - 3s 3ms/step - loss: 0.9022 - acc: 0.6713 - val_loss: 0.8811 - val_acc: 0.6800\n",
      "Epoch 4/10\n",
      "800/800 [==============================] - 3s 3ms/step - loss: 0.7725 - acc: 0.7488 - val_loss: 0.6808 - val_acc: 0.7600\n",
      "Epoch 5/10\n",
      "800/800 [==============================] - 3s 3ms/step - loss: 0.7132 - acc: 0.7437 - val_loss: 0.7533 - val_acc: 0.7250\n",
      "Epoch 6/10\n",
      "800/800 [==============================] - 3s 3ms/step - loss: 0.6871 - acc: 0.7450 - val_loss: 0.6885 - val_acc: 0.7650\n",
      "Epoch 7/10\n",
      "800/800 [==============================] - 3s 3ms/step - loss: 0.6821 - acc: 0.7638 - val_loss: 0.6424 - val_acc: 0.7600\n",
      "Epoch 8/10\n",
      "800/800 [==============================] - 3s 3ms/step - loss: 0.6229 - acc: 0.7812 - val_loss: 0.6216 - val_acc: 0.7600\n",
      "Epoch 9/10\n",
      "800/800 [==============================] - 3s 3ms/step - loss: 0.5751 - acc: 0.8075 - val_loss: 0.5610 - val_acc: 0.7850\n",
      "Epoch 10/10\n",
      "800/800 [==============================] - 3s 3ms/step - loss: 0.5466 - acc: 0.8013 - val_loss: 0.5573 - val_acc: 0.7750\n"
     ]
    }
   ],
   "source": [
    "history = model.fit(x_train, y_train, epochs=epochs, batch_size=batch_size, validation_split=validation_ratio)"
   ]
  },
  {
   "cell_type": "code",
   "execution_count": 77,
   "metadata": {},
   "outputs": [
    {
     "data": {
      "text/plain": [
       "Text(0,0.5,'Acc')"
      ]
     },
     "execution_count": 77,
     "metadata": {},
     "output_type": "execute_result"
    },
    {
     "data": {
      "image/png": "[encoded data removed]",
      "text/plain": [
       "<Figure size 432x288 with 1 Axes>"
      ]
     },
     "metadata": {
      "needs_background": "light"
     },
     "output_type": "display_data"
    }
   ],
   "source": [
    "plt.plot(range(epochs), history.history['acc'])\n",
    "plt.plot(range(epochs), history.history['val_acc'])\n",
    "plt.legend(['Acc', 'Val_acc'])\n",
    "plt.xlabel('Epoha')\n",
    "plt.ylabel('Acc')"
   ]
  },
  {
   "cell_type": "markdown",
   "metadata": {},
   "source": [
    "e) Za koju klasu odevnih predmeta se mreža najgore ponaša?"
   ]
  },
  {
   "cell_type": "code",
   "execution_count": 79,
   "metadata": {},
   "outputs": [],
   "source": [
    "y_train_predicted = model.predict(x_train)\n",
    "y_test_predicted = model.predict(x_test)"
   ]
  },
  {
   "cell_type": "code",
   "execution_count": 81,
   "metadata": {},
   "outputs": [
    {
     "name": "stdout",
     "output_type": "stream",
     "text": [
      "(1000, 10)\n",
      "(1000, 10)\n"
     ]
    }
   ],
   "source": [
    "print(y_train_predicted.shape)\n",
    "print(y_train.shape)"
   ]
  },
  {
   "cell_type": "code",
   "execution_count": 92,
   "metadata": {},
   "outputs": [],
   "source": [
    "def decode_dummies(y_vector):\n",
    "    return np.argmax(y_vector, axis=1)"
   ]
  },
  {
   "cell_type": "code",
   "execution_count": 95,
   "metadata": {},
   "outputs": [],
   "source": [
    "y_train_predicted_nums = decode_dummies(y_train_predicted)\n",
    "y_test_predicted_nums = decode_dummies(y_test_predicted)\n",
    "y_train_real_nums = decode_dummies(y_train)\n",
    "y_test_real_nums = decode_dummies(y_test)"
   ]
  },
  {
   "cell_type": "code",
   "execution_count": 96,
   "metadata": {},
   "outputs": [
    {
     "name": "stdout",
     "output_type": "stream",
     "text": [
      "(1000,)\n",
      "(10000,)\n",
      "(1000,)\n",
      "(10000,)\n"
     ]
    }
   ],
   "source": [
    "print(y_train_predicted_nums.shape)\n",
    "print(y_test_predicted_nums.shape)\n",
    "print(y_train_real_nums.shape)\n",
    "print(y_test_real_nums.shape)"
   ]
  },
  {
   "cell_type": "code",
   "execution_count": 98,
   "metadata": {},
   "outputs": [],
   "source": [
    "train_con_mat = metrics.confusion_matrix(y_train_real_nums, y_train_predicted_nums)\n",
    "test_con_mat = metrics.confusion_matrix(y_test_real_nums, y_test_predicted_nums)"
   ]
  },
  {
   "cell_type": "code",
   "execution_count": 102,
   "metadata": {},
   "outputs": [
    {
     "name": "stdout",
     "output_type": "stream",
     "text": [
      "[[ 84   0   1   7   0   0  14   0   1   0]\n",
      " [  0  97   0   5   0   0   2   0   0   0]\n",
      " [  0   0  35   1  12   0  38   0   0   0]\n",
      " [  2   0   0  82   1   0   7   0   0   0]\n",
      " [  0   0   3   7  74   1  10   0   0   0]\n",
      " [  0   0   0   0   0  76   0  18   0   6]\n",
      " [ 11   0   4   7   4   0  72   0   1   1]\n",
      " [  0   0   0   0   0   1   0 104   0  10]\n",
      " [  0   1   0   2   0   1   4   0  94   0]\n",
      " [  0   0   0   0   0   1   0   2   0  96]]\n"
     ]
    }
   ],
   "source": [
    "print(train_con_mat)"
   ]
  },
  {
   "cell_type": "code",
   "execution_count": null,
   "metadata": {},
   "outputs": [],
   "source": [
    "print(metrics.confusion_matrix(y_train, y_train_predicted))"
   ]
  },
  {
   "cell_type": "code",
   "execution_count": 111,
   "metadata": {},
   "outputs": [
    {
     "data": {
      "text/plain": [
       "<matplotlib.colorbar.Colorbar at 0x7fa6a1c16a90>"
      ]
     },
     "execution_count": 111,
     "metadata": {},
     "output_type": "execute_result"
    },
    {
     "data": {
      "image/png": "[encoded data removed]",
      "text/plain": [
       "<Figure size 288x288 with 2 Axes>"
      ]
     },
     "metadata": {
      "needs_background": "light"
     },
     "output_type": "display_data"
    }
   ],
   "source": [
    "plt.matshow(train_con_mat)\n",
    "plt.xticks(range(n_classes), class_names.values(), rotation=90)\n",
    "plt.yticks(range(n_classes), class_names.values())\n",
    "plt.colorbar()"
   ]
  },
  {
   "cell_type": "code",
   "execution_count": 113,
   "metadata": {},
   "outputs": [
    {
     "name": "stdout",
     "output_type": "stream",
     "text": [
      "[[ 866    0    0    0    0    0    0    0    0    0]\n",
      " [   0  937    0    0    0    0    0    0    0    0]\n",
      " [   0    0  403    0    0    0    0    0    0    0]\n",
      " [   0    0    0 1105    0    0    0    0    0    0]\n",
      " [   0    0    0    0 1060    0    0    0    0    0]\n",
      " [   0    0    0    0    0  743    0    0    0    0]\n",
      " [   0    0    0    0    0    0 1667    0    0    0]\n",
      " [   0    0    0    0    0    0    0 1129    0    0]\n",
      " [   0    0    0    0    0    0    0    0  955    0]\n",
      " [   0    0    0    0    0    0    0    0    0 1135]]\n"
     ]
    }
   ],
   "source": [
    "print(metrics.confusion_matrix(y_test_predicted_nums, y_test_predicted_nums))"
   ]
  },
  {
   "cell_type": "code",
   "execution_count": 114,
   "metadata": {},
   "outputs": [
    {
     "data": {
      "text/plain": [
       "<matplotlib.colorbar.Colorbar at 0x7fa6a1b74780>"
      ]
     },
     "execution_count": 114,
     "metadata": {},
     "output_type": "execute_result"
    },
    {
     "data": {
      "image/png": "[encoded data removed]",
      "text/plain": [
       "<Figure size 288x288 with 2 Axes>"
      ]
     },
     "metadata": {
      "needs_background": "light"
     },
     "output_type": "display_data"
    }
   ],
   "source": [
    "plt.matshow(test_con_mat)\n",
    "plt.xticks(range(n_classes), class_names.values(), rotation=90)\n",
    "plt.yticks(range(n_classes), class_names.values())\n",
    "plt.colorbar()"
   ]
  },
  {
   "cell_type": "markdown",
   "metadata": {},
   "source": [
    "Zakljucujemo da je mreza najvise gresila kod klasa `Pullover` i `Shirt`. Pogledajmo kako one izgledaju."
   ]
  },
  {
   "cell_type": "code",
   "execution_count": 128,
   "metadata": {},
   "outputs": [
    {
     "name": "stdout",
     "output_type": "stream",
     "text": [
      "4\n"
     ]
    }
   ],
   "source": [
    "shirts_from_test_idx = np.where(y_test_real_nums == 6)\n",
    "print(shirts_from_test_idx[0][0])\n",
    "\n",
    "pullovers_from_test_idx = np.where(y_test_real_nums == 2)"
   ]
  },
  {
   "cell_type": "code",
   "execution_count": 126,
   "metadata": {},
   "outputs": [
    {
     "name": "stdout",
     "output_type": "stream",
     "text": [
      "(28, 28, 1)\n"
     ]
    }
   ],
   "source": [
    "some_shirt = x_test[shirts_from_test_idx[0][0]]\n",
    "print(some_shirt.shape)"
   ]
  },
  {
   "cell_type": "code",
   "execution_count": 127,
   "metadata": {},
   "outputs": [
    {
     "data": {
      "text/plain": [
       "<matplotlib.image.AxesImage at 0x7fa6a19e3710>"
      ]
     },
     "execution_count": 127,
     "metadata": {},
     "output_type": "execute_result"
    },
    {
     "data": {
      "image/png": "[encoded data removed]",
      "text/plain": [
       "<Figure size 432x288 with 1 Axes>"
      ]
     },
     "metadata": {
      "needs_background": "light"
     },
     "output_type": "display_data"
    }
   ],
   "source": [
    "plt.imshow(some_shirt.squeeze())"
   ]
  },
  {
   "cell_type": "code",
   "execution_count": 129,
   "metadata": {},
   "outputs": [
    {
     "data": {
      "text/plain": [
       "<matplotlib.image.AxesImage at 0x7fa6a19402b0>"
      ]
     },
     "execution_count": 129,
     "metadata": {},
     "output_type": "execute_result"
    },
    {
     "data": {
      "image/png": "[encoded data removed]",
      "text/plain": [
       "<Figure size 432x288 with 1 Axes>"
      ]
     },
     "metadata": {
      "needs_background": "light"
     },
     "output_type": "display_data"
    }
   ],
   "source": [
    "some_pullover = x_test[pullovers_from_test_idx[0][0]]\n",
    "plt.imshow(some_pullover.squeeze())"
   ]
  },
  {
   "cell_type": "markdown",
   "metadata": {},
   "source": [
    "Klase izuzetno lice medjusobno, te je i ocekivano da ih mreza mesa."
   ]
  },
  {
   "cell_type": "markdown",
   "metadata": {},
   "source": [
    "f) Sačuvati konfiguraciju mreže u datoteci sa imenom *fashion_mnist*."
   ]
  },
  {
   "cell_type": "code",
   "execution_count": 132,
   "metadata": {},
   "outputs": [],
   "source": [
    "model_config = model.get_config()"
   ]
  },
  {
   "cell_type": "code",
   "execution_count": 133,
   "metadata": {},
   "outputs": [],
   "source": [
    "import json"
   ]
  },
  {
   "cell_type": "code",
   "execution_count": 135,
   "metadata": {},
   "outputs": [],
   "source": [
    "with open('fashion_mnist_config.json', 'w') as fp:\n",
    "    json.dump(model_config, fp)"
   ]
  },
  {
   "cell_type": "code",
   "execution_count": null,
   "metadata": {},
   "outputs": [],
   "source": []
  }
 ],
 "metadata": {
  "kernelspec": {
   "display_name": "Python 3",
   "language": "python",
   "name": "python3"
  },
  "language_info": {
   "codemirror_mode": {
    "name": "ipython",
    "version": 3
   },
   "file_extension": ".py",
   "mimetype": "text/x-python",
   "name": "python",
   "nbconvert_exporter": "python",
   "pygments_lexer": "ipython3",
   "version": "3.7.0"
  }
 },
 "nbformat": 4,
 "nbformat_minor": 2
}
