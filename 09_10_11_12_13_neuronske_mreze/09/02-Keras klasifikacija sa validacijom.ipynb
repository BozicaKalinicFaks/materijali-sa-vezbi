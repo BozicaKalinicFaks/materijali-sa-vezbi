{
 "cells": [
  {
   "cell_type": "markdown",
   "metadata": {},
   "source": [
    "Baš kao i prethodni, ovaj primer demonstrira korišćenje Keras biblioteke u zadacima klasifikacije. Sada na osnovu skupa podataka koji sadrži informacije o tumorima, želimo da zaključimo da li je reč o benignim ili malignim tumorima. Naučićemo i kako da koristimo validacione skupove i pratimo uspešnost treniranja mreže. "
   ]
  },
  {
   "cell_type": "markdown",
   "metadata": {},
   "source": [
    "Pre nego li počnemo sa radom, uključićemo sve potrebne biblioteke."
   ]
  },
  {
   "cell_type": "code",
   "execution_count": null,
   "metadata": {},
   "outputs": [],
   "source": [
    "import tensorflow as tf\n",
    "tf.logging.set_verbosity(tf.logging.ERROR)"
   ]
  },
  {
   "cell_type": "code",
   "execution_count": 2,
   "metadata": {},
   "outputs": [
    {
     "name": "stderr",
     "output_type": "stream",
     "text": [
      "Using TensorFlow backend.\n"
     ]
    }
   ],
   "source": [
    "from keras.models import Sequential\n",
    "from keras.layers import Dense, Activation\n",
    "from keras import losses, optimizers"
   ]
  },
  {
   "cell_type": "code",
   "execution_count": 3,
   "metadata": {},
   "outputs": [],
   "source": [
    "import numpy as np\n",
    "np.random.seed(7)"
   ]
  },
  {
   "cell_type": "code",
   "execution_count": 4,
   "metadata": {},
   "outputs": [],
   "source": [
    "from matplotlib import pyplot as plt"
   ]
  },
  {
   "cell_type": "code",
   "execution_count": 5,
   "metadata": {},
   "outputs": [],
   "source": [
    "from sklearn import preprocessing\n",
    "from sklearn import datasets\n",
    "from sklearn import model_selection"
   ]
  },
  {
   "cell_type": "code",
   "execution_count": null,
   "metadata": {},
   "outputs": [],
   "source": []
  },
  {
   "cell_type": "markdown",
   "metadata": {},
   "source": [
    "### Korak 1: Priprema skupa podataka"
   ]
  },
  {
   "cell_type": "markdown",
   "metadata": {},
   "source": [
    "Prvo ćemo učitati skup podataka i pripremiti ga za rad. Za učitavanje ćemo iskoristiti `datasets` paket `scikit-learn` biblioteke."
   ]
  },
  {
   "cell_type": "code",
   "execution_count": 6,
   "metadata": {},
   "outputs": [],
   "source": [
    "data = datasets.load_breast_cancer()"
   ]
  },
  {
   "cell_type": "markdown",
   "metadata": {},
   "source": [
    "Podatke delimo u razmeri 2:1 pritom vodeći računa o stratifikaciji."
   ]
  },
  {
   "cell_type": "code",
   "execution_count": 7,
   "metadata": {},
   "outputs": [],
   "source": [
    "X_train, X_test, y_train, y_test = model_selection.train_test_split(data.data, data.target, test_size = 0.33, random_state = 7, stratify = data.target)"
   ]
  },
  {
   "cell_type": "code",
   "execution_count": 8,
   "metadata": {},
   "outputs": [
    {
     "data": {
      "text/plain": [
       "(381, 30)"
      ]
     },
     "execution_count": 8,
     "metadata": {},
     "output_type": "execute_result"
    }
   ],
   "source": [
    "X_train.shape"
   ]
  },
  {
   "cell_type": "code",
   "execution_count": 9,
   "metadata": {},
   "outputs": [
    {
     "data": {
      "text/plain": [
       "(188, 30)"
      ]
     },
     "execution_count": 9,
     "metadata": {},
     "output_type": "execute_result"
    }
   ],
   "source": [
    "X_test.shape"
   ]
  },
  {
   "cell_type": "markdown",
   "metadata": {},
   "source": [
    "Na kraju podatke i standardizujemo."
   ]
  },
  {
   "cell_type": "code",
   "execution_count": 10,
   "metadata": {},
   "outputs": [],
   "source": [
    "scaler = preprocessing.StandardScaler()\n",
    "scaler.fit(X_train)\n",
    "X_train = scaler.transform(X_train)\n",
    "X_test = scaler.transform(X_test)"
   ]
  },
  {
   "cell_type": "code",
   "execution_count": null,
   "metadata": {},
   "outputs": [],
   "source": []
  },
  {
   "cell_type": "markdown",
   "metadata": {},
   "source": [
    "### Korak 2: Kreiranje mreže"
   ]
  },
  {
   "cell_type": "markdown",
   "metadata": {},
   "source": [
    "Napravićemo mrežu sa propagacijom unapred. Mreža će imati ulazni sloj, dva skrivena sloja sa, redom, 100 i 40 neurona, i izlazni sloj. Broj neurona ulaznog sloja odgovara broju atributa skupa podataka, a to je 30. Broj neurona izlaznog sloja je 1 pošto je u pitanju binarna klasifikacija. U skrivenim slojevima koristićemo relu aktivaciju, a u poslednjem, sigmoidnu funkciju."
   ]
  },
  {
   "cell_type": "code",
   "execution_count": 11,
   "metadata": {},
   "outputs": [],
   "source": [
    "number_of_features = X_train.shape[1]\n",
    "output_size = 1"
   ]
  },
  {
   "cell_type": "code",
   "execution_count": null,
   "metadata": {},
   "outputs": [],
   "source": []
  },
  {
   "cell_type": "code",
   "execution_count": 12,
   "metadata": {},
   "outputs": [],
   "source": [
    "model = Sequential()"
   ]
  },
  {
   "cell_type": "code",
   "execution_count": 13,
   "metadata": {},
   "outputs": [],
   "source": [
    "model.add(Dense(units=100, input_dim=number_of_features, activation='relu'))"
   ]
  },
  {
   "cell_type": "code",
   "execution_count": 14,
   "metadata": {},
   "outputs": [],
   "source": [
    "model.add(Dense(units=40, activation='relu'))"
   ]
  },
  {
   "cell_type": "code",
   "execution_count": 15,
   "metadata": {},
   "outputs": [],
   "source": [
    "model.add(Dense(units=output_size, activation='sigmoid'))"
   ]
  },
  {
   "cell_type": "code",
   "execution_count": null,
   "metadata": {},
   "outputs": [],
   "source": []
  },
  {
   "cell_type": "markdown",
   "metadata": {},
   "source": [
    "### Korak 3: Treniranje mreže"
   ]
  },
  {
   "cell_type": "markdown",
   "metadata": {},
   "source": [
    "Slično kao u prethodnom primeru koristićemo optimizator Adam, binarnu unakrsnu entropiju kao funkciju greške, a pošto rešavamo klasifikacioni zadatak, opet ćemo odabrati kao metriku tačnost. Ipak, prilikom zadavanja navedenih vrednosti iskoristićemo nešto malo drugačiju sintaksu."
   ]
  },
  {
   "cell_type": "markdown",
   "metadata": {},
   "source": [
    "Alternativni način zadavanja optimizatora uz finija podešavanja parametara se može postići uključivanjem `optimizer` paketa, a funkcija gubitka uključivanjem `losses` paketa. Zahvaljujući ovim paketima umesto inicijalizacije niskama, potrebne parametre možemo inicijalizovati instancama odgovarajućih klasa."
   ]
  },
  {
   "cell_type": "code",
   "execution_count": 16,
   "metadata": {},
   "outputs": [],
   "source": [
    "from keras import optimizers\n",
    "from keras import losses"
   ]
  },
  {
   "cell_type": "code",
   "execution_count": null,
   "metadata": {},
   "outputs": [],
   "source": []
  },
  {
   "cell_type": "code",
   "execution_count": 17,
   "metadata": {},
   "outputs": [],
   "source": [
    "model.compile(optimizers.Adam(learning_rate = 0.0001), loss=losses.BinaryCrossentropy(), metrics=['accuracy'])"
   ]
  },
  {
   "cell_type": "code",
   "execution_count": 18,
   "metadata": {},
   "outputs": [
    {
     "name": "stdout",
     "output_type": "stream",
     "text": [
      "Model: \"sequential_1\"\n",
      "_________________________________________________________________\n",
      "Layer (type)                 Output Shape              Param #   \n",
      "=================================================================\n",
      "dense_1 (Dense)              (None, 100)               3100      \n",
      "_________________________________________________________________\n",
      "dense_2 (Dense)              (None, 40)                4040      \n",
      "_________________________________________________________________\n",
      "dense_3 (Dense)              (None, 1)                 41        \n",
      "=================================================================\n",
      "Total params: 7,181\n",
      "Trainable params: 7,181\n",
      "Non-trainable params: 0\n",
      "_________________________________________________________________\n"
     ]
    }
   ],
   "source": [
    "model.summary()"
   ]
  },
  {
   "cell_type": "code",
   "execution_count": null,
   "metadata": {},
   "outputs": [],
   "source": []
  },
  {
   "cell_type": "markdown",
   "metadata": {},
   "source": [
    "Sada ćemo prilikom treniranja mreže, jedan deo podataka iskoristiti za validaciju. Parametar `validation_split` omogućava da se u zadatoj srazmeri izdvoji deo skupa za treniranje koji će biti korišćen isključivo za validaciju, tj. za monitoring rada mreže. Na kraju svake epohe nad ovim skupom će biti izračunate i sačuvane metrike zadate na nivou modela. Alternativa ovom pristupu bi bilo zadavanje eksplicitno pripremljenog validacionog skupa u formi `(X_validation, y_validation)` preko parametra `validation_data`."
   ]
  },
  {
   "cell_type": "markdown",
   "metadata": {},
   "source": [
    "Mrežu ćemo trenirati u 50 epoha sa paketićima veličine 32 instance. Ovoga puta ćemo postaviti i `verbose` parametar funkcije na vrednost 1 kako bismo mogli da pratimo ispise u toku izvršavanja funkcije."
   ]
  },
  {
   "cell_type": "code",
   "execution_count": 19,
   "metadata": {},
   "outputs": [
    {
     "name": "stdout",
     "output_type": "stream",
     "text": [
      "Train on 304 samples, validate on 77 samples\n",
      "Epoch 1/50\n",
      "304/304 [==============================] - 0s 1ms/step - loss: 0.8579 - accuracy: 0.3914 - val_loss: 0.9018 - val_accuracy: 0.3766\n",
      "Epoch 2/50\n",
      "304/304 [==============================] - 0s 170us/step - loss: 0.7943 - accuracy: 0.4013 - val_loss: 0.8377 - val_accuracy: 0.4156\n",
      "Epoch 3/50\n",
      "304/304 [==============================] - 0s 183us/step - loss: 0.7351 - accuracy: 0.4342 - val_loss: 0.7803 - val_accuracy: 0.4416\n",
      "Epoch 4/50\n",
      "304/304 [==============================] - 0s 199us/step - loss: 0.6808 - accuracy: 0.4934 - val_loss: 0.7280 - val_accuracy: 0.4935\n",
      "Epoch 5/50\n",
      "304/304 [==============================] - 0s 112us/step - loss: 0.6329 - accuracy: 0.5559 - val_loss: 0.6788 - val_accuracy: 0.4805\n",
      "Epoch 6/50\n",
      "304/304 [==============================] - 0s 114us/step - loss: 0.5877 - accuracy: 0.6151 - val_loss: 0.6341 - val_accuracy: 0.5065\n",
      "Epoch 7/50\n",
      "304/304 [==============================] - 0s 112us/step - loss: 0.5459 - accuracy: 0.7007 - val_loss: 0.5938 - val_accuracy: 0.6104\n",
      "Epoch 8/50\n",
      "304/304 [==============================] - 0s 162us/step - loss: 0.5094 - accuracy: 0.7566 - val_loss: 0.5563 - val_accuracy: 0.7013\n",
      "Epoch 9/50\n",
      "304/304 [==============================] - 0s 118us/step - loss: 0.4752 - accuracy: 0.8059 - val_loss: 0.5216 - val_accuracy: 0.7532\n",
      "Epoch 10/50\n",
      "304/304 [==============================] - 0s 75us/step - loss: 0.4450 - accuracy: 0.8421 - val_loss: 0.4894 - val_accuracy: 0.7922\n",
      "Epoch 11/50\n",
      "304/304 [==============================] - 0s 91us/step - loss: 0.4156 - accuracy: 0.8618 - val_loss: 0.4620 - val_accuracy: 0.8182\n",
      "Epoch 12/50\n",
      "304/304 [==============================] - 0s 96us/step - loss: 0.3903 - accuracy: 0.8849 - val_loss: 0.4361 - val_accuracy: 0.8182\n",
      "Epoch 13/50\n",
      "304/304 [==============================] - 0s 119us/step - loss: 0.3664 - accuracy: 0.9046 - val_loss: 0.4125 - val_accuracy: 0.8442\n",
      "Epoch 14/50\n",
      "304/304 [==============================] - 0s 97us/step - loss: 0.3445 - accuracy: 0.9178 - val_loss: 0.3909 - val_accuracy: 0.8571\n",
      "Epoch 15/50\n",
      "304/304 [==============================] - 0s 118us/step - loss: 0.3246 - accuracy: 0.9342 - val_loss: 0.3708 - val_accuracy: 0.8701\n",
      "Epoch 16/50\n",
      "304/304 [==============================] - 0s 102us/step - loss: 0.3061 - accuracy: 0.9474 - val_loss: 0.3531 - val_accuracy: 0.8831\n",
      "Epoch 17/50\n",
      "304/304 [==============================] - 0s 214us/step - loss: 0.2893 - accuracy: 0.9572 - val_loss: 0.3370 - val_accuracy: 0.9091\n",
      "Epoch 18/50\n",
      "304/304 [==============================] - 0s 150us/step - loss: 0.2740 - accuracy: 0.9572 - val_loss: 0.3223 - val_accuracy: 0.9221\n",
      "Epoch 19/50\n",
      "304/304 [==============================] - 0s 112us/step - loss: 0.2600 - accuracy: 0.9605 - val_loss: 0.3090 - val_accuracy: 0.9221\n",
      "Epoch 20/50\n",
      "304/304 [==============================] - 0s 167us/step - loss: 0.2471 - accuracy: 0.9605 - val_loss: 0.2968 - val_accuracy: 0.9221\n",
      "Epoch 21/50\n",
      "304/304 [==============================] - 0s 104us/step - loss: 0.2352 - accuracy: 0.9572 - val_loss: 0.2856 - val_accuracy: 0.9221\n",
      "Epoch 22/50\n",
      "304/304 [==============================] - 0s 138us/step - loss: 0.2243 - accuracy: 0.9539 - val_loss: 0.2758 - val_accuracy: 0.9221\n",
      "Epoch 23/50\n",
      "304/304 [==============================] - 0s 133us/step - loss: 0.2144 - accuracy: 0.9539 - val_loss: 0.2666 - val_accuracy: 0.9221\n",
      "Epoch 24/50\n",
      "304/304 [==============================] - 0s 157us/step - loss: 0.2053 - accuracy: 0.9539 - val_loss: 0.2578 - val_accuracy: 0.9221\n",
      "Epoch 25/50\n",
      "304/304 [==============================] - 0s 133us/step - loss: 0.1968 - accuracy: 0.9572 - val_loss: 0.2499 - val_accuracy: 0.9221\n",
      "Epoch 26/50\n",
      "304/304 [==============================] - 0s 145us/step - loss: 0.1889 - accuracy: 0.9572 - val_loss: 0.2427 - val_accuracy: 0.9221\n",
      "Epoch 27/50\n",
      "304/304 [==============================] - 0s 90us/step - loss: 0.1816 - accuracy: 0.9572 - val_loss: 0.2361 - val_accuracy: 0.9221\n",
      "Epoch 28/50\n",
      "304/304 [==============================] - 0s 90us/step - loss: 0.1749 - accuracy: 0.9572 - val_loss: 0.2300 - val_accuracy: 0.9221\n",
      "Epoch 29/50\n",
      "304/304 [==============================] - 0s 156us/step - loss: 0.1686 - accuracy: 0.9572 - val_loss: 0.2244 - val_accuracy: 0.9351\n",
      "Epoch 30/50\n",
      "304/304 [==============================] - 0s 122us/step - loss: 0.1630 - accuracy: 0.9572 - val_loss: 0.2191 - val_accuracy: 0.9351\n",
      "Epoch 31/50\n",
      "304/304 [==============================] - 0s 123us/step - loss: 0.1575 - accuracy: 0.9605 - val_loss: 0.2145 - val_accuracy: 0.9351\n",
      "Epoch 32/50\n",
      "304/304 [==============================] - 0s 113us/step - loss: 0.1526 - accuracy: 0.9605 - val_loss: 0.2101 - val_accuracy: 0.9481\n",
      "Epoch 33/50\n",
      "304/304 [==============================] - 0s 116us/step - loss: 0.1480 - accuracy: 0.9605 - val_loss: 0.2062 - val_accuracy: 0.9481\n",
      "Epoch 34/50\n",
      "304/304 [==============================] - 0s 125us/step - loss: 0.1438 - accuracy: 0.9605 - val_loss: 0.2026 - val_accuracy: 0.9481\n",
      "Epoch 35/50\n",
      "304/304 [==============================] - 0s 110us/step - loss: 0.1398 - accuracy: 0.9638 - val_loss: 0.1993 - val_accuracy: 0.9481\n",
      "Epoch 36/50\n",
      "304/304 [==============================] - 0s 106us/step - loss: 0.1362 - accuracy: 0.9638 - val_loss: 0.1960 - val_accuracy: 0.9481\n",
      "Epoch 37/50\n",
      "304/304 [==============================] - 0s 142us/step - loss: 0.1327 - accuracy: 0.9671 - val_loss: 0.1932 - val_accuracy: 0.9481\n",
      "Epoch 38/50\n",
      "304/304 [==============================] - 0s 100us/step - loss: 0.1294 - accuracy: 0.9671 - val_loss: 0.1903 - val_accuracy: 0.9481\n",
      "Epoch 39/50\n",
      "304/304 [==============================] - 0s 88us/step - loss: 0.1262 - accuracy: 0.9671 - val_loss: 0.1877 - val_accuracy: 0.9481\n",
      "Epoch 40/50\n",
      "304/304 [==============================] - 0s 212us/step - loss: 0.1233 - accuracy: 0.9671 - val_loss: 0.1851 - val_accuracy: 0.9481\n",
      "Epoch 41/50\n",
      "304/304 [==============================] - 0s 104us/step - loss: 0.1204 - accuracy: 0.9671 - val_loss: 0.1826 - val_accuracy: 0.9481\n",
      "Epoch 42/50\n",
      "304/304 [==============================] - 0s 89us/step - loss: 0.1178 - accuracy: 0.9704 - val_loss: 0.1803 - val_accuracy: 0.9481\n",
      "Epoch 43/50\n",
      "304/304 [==============================] - 0s 89us/step - loss: 0.1153 - accuracy: 0.9704 - val_loss: 0.1780 - val_accuracy: 0.9481\n",
      "Epoch 44/50\n",
      "304/304 [==============================] - 0s 87us/step - loss: 0.1129 - accuracy: 0.9704 - val_loss: 0.1762 - val_accuracy: 0.9481\n",
      "Epoch 45/50\n",
      "304/304 [==============================] - 0s 76us/step - loss: 0.1106 - accuracy: 0.9704 - val_loss: 0.1745 - val_accuracy: 0.9481\n",
      "Epoch 46/50\n",
      "304/304 [==============================] - 0s 86us/step - loss: 0.1084 - accuracy: 0.9704 - val_loss: 0.1730 - val_accuracy: 0.9481\n",
      "Epoch 47/50\n",
      "304/304 [==============================] - 0s 95us/step - loss: 0.1064 - accuracy: 0.9704 - val_loss: 0.1711 - val_accuracy: 0.9481\n",
      "Epoch 48/50\n",
      "304/304 [==============================] - 0s 111us/step - loss: 0.1043 - accuracy: 0.9704 - val_loss: 0.1697 - val_accuracy: 0.9481\n",
      "Epoch 49/50\n",
      "304/304 [==============================] - 0s 95us/step - loss: 0.1025 - accuracy: 0.9704 - val_loss: 0.1681 - val_accuracy: 0.9481\n",
      "Epoch 50/50\n",
      "304/304 [==============================] - 0s 114us/step - loss: 0.1007 - accuracy: 0.9704 - val_loss: 0.1668 - val_accuracy: 0.9481\n"
     ]
    }
   ],
   "source": [
    "history = model.fit(X_train, y_train, epochs=50, batch_size=32, verbose=1, validation_split=0.2)"
   ]
  },
  {
   "cell_type": "markdown",
   "metadata": {},
   "source": [
    "Iz ispisa možemo primetiti da se nakon svake epohe računaju vrednosti funkcije gubitka (loss) i tačnosti (accuracy) na skupu za treniranja, kao i njihove vrednosti na skupu za validaciju (val_loss i val_accuracy)."
   ]
  },
  {
   "cell_type": "markdown",
   "metadata": {},
   "source": [
    "Prvo ćemo prikazati na zajedničkom grafiku funkcije gubitka za skupu za treniranje i validaciju, a potom i funkciju tačnosti."
   ]
  },
  {
   "cell_type": "code",
   "execution_count": 20,
   "metadata": {},
   "outputs": [],
   "source": [
    "epochs = history.epoch"
   ]
  },
  {
   "cell_type": "code",
   "execution_count": 21,
   "metadata": {},
   "outputs": [],
   "source": [
    "loss = history.history['loss']\n",
    "validation_loss = history.history['val_loss']"
   ]
  },
  {
   "cell_type": "code",
   "execution_count": 22,
   "metadata": {},
   "outputs": [
    {
     "data": {
      "text/plain": [
       "<matplotlib.legend.Legend at 0x1a34f27290>"
      ]
     },
     "execution_count": 22,
     "metadata": {},
     "output_type": "execute_result"
    },
    {
     "data": {
      "image/png": "[encoded data removed]",
      "text/plain": [
       "<Figure size 432x288 with 1 Axes>"
      ]
     },
     "metadata": {
      "needs_background": "light"
     },
     "output_type": "display_data"
    }
   ],
   "source": [
    "plt.title('Loss')\n",
    "plt.xlabel('Epochs')\n",
    "plt.ylabel('loss')\n",
    "plt.plot(epochs, loss, c='red', label='training')\n",
    "plt.plot(epochs, validation_loss, c='orange', label='validation')\n",
    "plt.legend(loc='best')"
   ]
  },
  {
   "cell_type": "markdown",
   "metadata": {},
   "source": [
    "Prva verzija koda je koristila korak učenja 0.001. Na osnovu dobijenog grafika i analize opisane u prethodnoj svesci bili smo motivisani da probamo sa nešto manjim korakom. Probajte i uporedite grafike!  "
   ]
  },
  {
   "cell_type": "code",
   "execution_count": 23,
   "metadata": {},
   "outputs": [],
   "source": [
    "acc = history.history['accuracy']\n",
    "validation_acc = history.history['val_accuracy']"
   ]
  },
  {
   "cell_type": "code",
   "execution_count": 24,
   "metadata": {},
   "outputs": [
    {
     "data": {
      "text/plain": [
       "<matplotlib.legend.Legend at 0x1a35756e50>"
      ]
     },
     "execution_count": 24,
     "metadata": {},
     "output_type": "execute_result"
    },
    {
     "data": {
      "image/png": "[encoded data removed]",
      "text/plain": [
       "<Figure size 432x288 with 1 Axes>"
      ]
     },
     "metadata": {
      "needs_background": "light"
     },
     "output_type": "display_data"
    }
   ],
   "source": [
    "plt.title('Accuracy')\n",
    "plt.xlabel('epochs')\n",
    "plt.ylabel('acccuracy')\n",
    "plt.plot(epochs, acc, c='red', label='training')\n",
    "plt.plot(epochs, validation_acc, c='orange', label='validation')\n",
    "plt.legend(loc='best')"
   ]
  },
  {
   "cell_type": "markdown",
   "metadata": {},
   "source": [
    "Ovaj grafik ukazuje da se nakon 30te epohe tačnost modela ne unapređuje (tačnost na validacionom skupu stagnira).  "
   ]
  },
  {
   "cell_type": "markdown",
   "metadata": {},
   "source": [
    "U opštem slučaju, prilikom analize tačnosti klasifikacije možemo se voditi zaključcima prikazanim na slici. <img src='assets/train_val_accuracy.png'>"
   ]
  },
  {
   "cell_type": "code",
   "execution_count": null,
   "metadata": {},
   "outputs": [],
   "source": []
  },
  {
   "cell_type": "markdown",
   "metadata": {},
   "source": [
    "Kombinujući oba grafika opredelićemo se za treniranje finalnog modela sa 30 epoha. "
   ]
  },
  {
   "cell_type": "markdown",
   "metadata": {},
   "source": [
    "### Korak 4: Evaluacija mreže"
   ]
  },
  {
   "cell_type": "markdown",
   "metadata": {},
   "source": [
    "Za odabranu vrednost koraka učenja i broj epoha mreža se sada može istrenirati na celom skupu za učenje, a zatim i oceniti na skupu za testiranje."
   ]
  },
  {
   "cell_type": "code",
   "execution_count": 25,
   "metadata": {},
   "outputs": [
    {
     "data": {
      "text/plain": [
       "<keras.callbacks.callbacks.History at 0x1a35936550>"
      ]
     },
     "execution_count": 25,
     "metadata": {},
     "output_type": "execute_result"
    }
   ],
   "source": [
    "final_model = Sequential()\n",
    "final_model.add(Dense(units=100, input_dim=number_of_features, activation='relu'))\n",
    "final_model.add(Dense(units=40, activation='relu'))\n",
    "final_model.add(Dense(units=output_size, activation='sigmoid'))\n",
    "final_model.compile(optimizers.Adam(learning_rate = 0.0001), loss=losses.BinaryCrossentropy(), metrics=['accuracy'])\n",
    "final_model.fit(X_train, y_train, epochs=50, batch_size=32, verbose = 0)"
   ]
  },
  {
   "cell_type": "code",
   "execution_count": null,
   "metadata": {},
   "outputs": [],
   "source": []
  },
  {
   "cell_type": "code",
   "execution_count": 26,
   "metadata": {},
   "outputs": [
    {
     "name": "stdout",
     "output_type": "stream",
     "text": [
      "188/188 [==============================] - 0s 375us/step\n",
      "Test loss: 0.08171295723382463, test accuracy: 0.978723406791687\n"
     ]
    }
   ],
   "source": [
    "test_loss, test_accuracy = final_model.evaluate(X_test, y_test)\n",
    "print (\"Test loss: {}, test accuracy: {}\".format(test_loss, test_accuracy))"
   ]
  },
  {
   "cell_type": "code",
   "execution_count": 27,
   "metadata": {},
   "outputs": [
    {
     "name": "stdout",
     "output_type": "stream",
     "text": [
      "381/381 [==============================] - 0s 95us/step\n",
      "Train loss: 0.08660447085154026, train accuracy: 0.9842519760131836\n"
     ]
    }
   ],
   "source": [
    "train_loss, train_accuracy = final_model.evaluate(X_train, y_train)\n",
    "print (\"Train loss: {}, train accuracy: {}\".format(train_loss, train_accuracy))"
   ]
  },
  {
   "cell_type": "code",
   "execution_count": null,
   "metadata": {},
   "outputs": [],
   "source": []
  }
 ],
 "metadata": {
  "kernelspec": {
   "display_name": "Python 3",
   "language": "python",
   "name": "python3"
  },
  "language_info": {
   "codemirror_mode": {
    "name": "ipython",
    "version": 3
   },
   "file_extension": ".py",
   "mimetype": "text/x-python",
   "name": "python",
   "nbconvert_exporter": "python",
   "pygments_lexer": "ipython3",
   "version": "3.7.6"
  }
 },
 "nbformat": 4,
 "nbformat_minor": 2
}
