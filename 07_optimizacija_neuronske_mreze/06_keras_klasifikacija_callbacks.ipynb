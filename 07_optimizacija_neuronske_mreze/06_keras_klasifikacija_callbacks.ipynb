{
 "cells": [
  {
   "cell_type": "code",
   "execution_count": 1,
   "metadata": {},
   "outputs": [
    {
     "name": "stderr",
     "output_type": "stream",
     "text": [
      "Using TensorFlow backend.\n"
     ]
    }
   ],
   "source": [
    "from keras.models import Sequential\n",
    "from keras.layers import Dense, Activation\n",
    "from keras import losses, optimizers\n",
    "from keras.callbacks import EarlyStopping, ModelCheckpoint"
   ]
  },
  {
   "cell_type": "code",
   "execution_count": 2,
   "metadata": {},
   "outputs": [],
   "source": [
    "import numpy as np\n",
    "from matplotlib import pyplot as plt"
   ]
  },
  {
   "cell_type": "code",
   "execution_count": 3,
   "metadata": {},
   "outputs": [],
   "source": [
    "from sklearn import preprocessing\n",
    "from sklearn import datasets\n",
    "from sklearn import model_selection"
   ]
  },
  {
   "cell_type": "code",
   "execution_count": 4,
   "metadata": {},
   "outputs": [],
   "source": [
    "np.random.seed(7)"
   ]
  },
  {
   "cell_type": "markdown",
   "metadata": {},
   "source": [
    "Ucitavamo skup podataka i vrsimo pripremne korake."
   ]
  },
  {
   "cell_type": "code",
   "execution_count": 5,
   "metadata": {},
   "outputs": [],
   "source": [
    "data = datasets.load_breast_cancer()"
   ]
  },
  {
   "cell_type": "code",
   "execution_count": 6,
   "metadata": {},
   "outputs": [],
   "source": [
    "x_train, x_test, y_train, y_test = model_selection.train_test_split(data.data, data.target, test_size = 0.33, random_state = 7)"
   ]
  },
  {
   "cell_type": "code",
   "execution_count": 7,
   "metadata": {},
   "outputs": [
    {
     "data": {
      "text/plain": [
       "(381, 30)"
      ]
     },
     "execution_count": 7,
     "metadata": {},
     "output_type": "execute_result"
    }
   ],
   "source": [
    "x_train.shape"
   ]
  },
  {
   "cell_type": "code",
   "execution_count": 8,
   "metadata": {},
   "outputs": [],
   "source": [
    "number_of_features = x_train.shape[1]\n",
    "output_size = 1"
   ]
  },
  {
   "cell_type": "code",
   "execution_count": 9,
   "metadata": {},
   "outputs": [],
   "source": [
    "scaler = preprocessing.StandardScaler()\n",
    "scaler.fit(x_train)\n",
    "x_train = scaler.transform(x_train)\n",
    "x_test = scaler.transform(x_test)"
   ]
  },
  {
   "cell_type": "code",
   "execution_count": null,
   "metadata": {},
   "outputs": [],
   "source": []
  },
  {
   "cell_type": "markdown",
   "metadata": {},
   "source": [
    "Pravimo mrezu sa propagacijom unapred. \n",
    "<br>\n",
    "Mreza ce imati ulazni sloj, dva skrivena sloja sa 100 i 40 neurona i izlazni sloj.\n",
    "<br>\n",
    "Broj neurona ulaznog sloja odgovara broju atributa skupa podataka (30). \n",
    "<br>\n",
    "Broj neurona izlaznog sloja je 1. "
   ]
  },
  {
   "cell_type": "markdown",
   "metadata": {},
   "source": [
    "Keras nudi mogucnost da se pri obucavanju pozovu odredjene funkcije (eng. *callback*).\n",
    "Ovo nam omogucava da cuvamo medju rezultate obucavanje (na primer tezine modela), da primenimo regularizaciju ranog zaustavljanja (eng *early stopping*) i slicno.\n",
    "Vise o tome u zvanicnoj dokumentaciji [ovde](https://keras.io/callbacks/).\n"
   ]
  },
  {
   "cell_type": "code",
   "execution_count": 10,
   "metadata": {},
   "outputs": [],
   "source": [
    "model = Sequential()\n",
    "model.add(Dense(units=100, input_dim=number_of_features, activation='relu'))\n",
    "model.add(Dense(units=40, activation='relu'))\n",
    "model.add(Dense(units=output_size, activation='sigmoid'))"
   ]
  },
  {
   "cell_type": "code",
   "execution_count": 11,
   "metadata": {},
   "outputs": [],
   "source": [
    "model.compile(optimizer='adam', loss=losses.binary_crossentropy, metrics=['accuracy'])"
   ]
  },
  {
   "cell_type": "code",
   "execution_count": 12,
   "metadata": {},
   "outputs": [
    {
     "name": "stdout",
     "output_type": "stream",
     "text": [
      "_________________________________________________________________\n",
      "Layer (type)                 Output Shape              Param #   \n",
      "=================================================================\n",
      "dense_1 (Dense)              (None, 100)               3100      \n",
      "_________________________________________________________________\n",
      "dense_2 (Dense)              (None, 40)                4040      \n",
      "_________________________________________________________________\n",
      "dense_3 (Dense)              (None, 1)                 41        \n",
      "=================================================================\n",
      "Total params: 7,181\n",
      "Trainable params: 7,181\n",
      "Non-trainable params: 0\n",
      "_________________________________________________________________\n"
     ]
    }
   ],
   "source": [
    "model.summary()"
   ]
  },
  {
   "cell_type": "markdown",
   "metadata": {},
   "source": []
  },
  {
   "cell_type": "code",
   "execution_count": 13,
   "metadata": {},
   "outputs": [],
   "source": [
    "epochs = 30\n",
    "batch_size = 16\n",
    "verbose = 1\n",
    "validation_split = 0.3\n",
    "filepath = './checkpoints/chekpoint' + \"-final-{epoch:02d}-{val_acc:.2f}.hdf5\"\n",
    "callbacks = [\n",
    "    EarlyStopping(monitor='acc', min_delta=0, patience=3, mode='auto'),\n",
    "    ModelCheckpoint(filepath=filepath, verbose=1, save_best_only=True)\n",
    "]"
   ]
  },
  {
   "cell_type": "code",
   "execution_count": 14,
   "metadata": {},
   "outputs": [
    {
     "name": "stdout",
     "output_type": "stream",
     "text": [
      "Train on 266 samples, validate on 115 samples\n",
      "Epoch 1/30\n",
      "266/266 [==============================] - 0s 1ms/step - loss: 0.5564 - acc: 0.6617 - val_loss: 0.2731 - val_acc: 0.9478\n",
      "\n",
      "Epoch 00001: val_loss improved from inf to 0.27312, saving model to ./checkpoints/chekpoint-final-01-0.95.hdf5\n",
      "Epoch 2/30\n",
      "266/266 [==============================] - 0s 129us/step - loss: 0.2197 - acc: 0.9361 - val_loss: 0.1507 - val_acc: 0.9652\n",
      "\n",
      "Epoch 00002: val_loss improved from 0.27312 to 0.15071, saving model to ./checkpoints/chekpoint-final-02-0.97.hdf5\n",
      "Epoch 3/30\n",
      "266/266 [==============================] - 0s 119us/step - loss: 0.1433 - acc: 0.9398 - val_loss: 0.1053 - val_acc: 0.9739\n",
      "\n",
      "Epoch 00003: val_loss improved from 0.15071 to 0.10530, saving model to ./checkpoints/chekpoint-final-03-0.97.hdf5\n",
      "Epoch 4/30\n",
      "266/266 [==============================] - 0s 124us/step - loss: 0.1107 - acc: 0.9511 - val_loss: 0.0812 - val_acc: 0.9826\n",
      "\n",
      "Epoch 00004: val_loss improved from 0.10530 to 0.08119, saving model to ./checkpoints/chekpoint-final-04-0.98.hdf5\n",
      "Epoch 5/30\n",
      "266/266 [==============================] - 0s 120us/step - loss: 0.0920 - acc: 0.9624 - val_loss: 0.0686 - val_acc: 0.9826\n",
      "\n",
      "Epoch 00005: val_loss improved from 0.08119 to 0.06863, saving model to ./checkpoints/chekpoint-final-05-0.98.hdf5\n",
      "Epoch 6/30\n",
      "266/266 [==============================] - 0s 153us/step - loss: 0.0798 - acc: 0.9774 - val_loss: 0.0608 - val_acc: 0.9826\n",
      "\n",
      "Epoch 00006: val_loss improved from 0.06863 to 0.06084, saving model to ./checkpoints/chekpoint-final-06-0.98.hdf5\n",
      "Epoch 7/30\n",
      "266/266 [==============================] - 0s 142us/step - loss: 0.0690 - acc: 0.9887 - val_loss: 0.0570 - val_acc: 0.9739\n",
      "\n",
      "Epoch 00007: val_loss improved from 0.06084 to 0.05700, saving model to ./checkpoints/chekpoint-final-07-0.97.hdf5\n",
      "Epoch 8/30\n",
      "266/266 [==============================] - 0s 161us/step - loss: 0.0619 - acc: 0.9887 - val_loss: 0.0532 - val_acc: 0.9826\n",
      "\n",
      "Epoch 00008: val_loss improved from 0.05700 to 0.05320, saving model to ./checkpoints/chekpoint-final-08-0.98.hdf5\n",
      "Epoch 9/30\n",
      "266/266 [==============================] - 0s 115us/step - loss: 0.0553 - acc: 0.9887 - val_loss: 0.0509 - val_acc: 0.9826\n",
      "\n",
      "Epoch 00009: val_loss improved from 0.05320 to 0.05089, saving model to ./checkpoints/chekpoint-final-09-0.98.hdf5\n",
      "Epoch 10/30\n",
      "266/266 [==============================] - 0s 171us/step - loss: 0.0506 - acc: 0.9925 - val_loss: 0.0520 - val_acc: 0.9826\n",
      "\n",
      "Epoch 00010: val_loss did not improve from 0.05089\n",
      "Epoch 11/30\n",
      "266/266 [==============================] - 0s 152us/step - loss: 0.0444 - acc: 0.9925 - val_loss: 0.0482 - val_acc: 0.9826\n",
      "\n",
      "Epoch 00011: val_loss improved from 0.05089 to 0.04817, saving model to ./checkpoints/chekpoint-final-11-0.98.hdf5\n",
      "Epoch 12/30\n",
      "266/266 [==============================] - 0s 167us/step - loss: 0.0396 - acc: 0.9925 - val_loss: 0.0494 - val_acc: 0.9826\n",
      "\n",
      "Epoch 00012: val_loss did not improve from 0.04817\n",
      "Epoch 13/30\n",
      "266/266 [==============================] - 0s 134us/step - loss: 0.0357 - acc: 0.9925 - val_loss: 0.0496 - val_acc: 0.9826\n",
      "\n",
      "Epoch 00013: val_loss did not improve from 0.04817\n"
     ]
    }
   ],
   "source": [
    "history = model.fit(x_train,\n",
    "                    y_train,\n",
    "                    epochs=epochs,\n",
    "                    batch_size=batch_size,\n",
    "                    verbose=verbose,\n",
    "                    callbacks=callbacks,\n",
    "                    validation_split=validation_split)"
   ]
  },
  {
   "cell_type": "code",
   "execution_count": 15,
   "metadata": {},
   "outputs": [],
   "source": [
    "epochs = history.epoch"
   ]
  },
  {
   "cell_type": "code",
   "execution_count": 16,
   "metadata": {},
   "outputs": [],
   "source": [
    "loss = history.history['loss']\n",
    "validation_loss = history.history['val_loss']"
   ]
  },
  {
   "cell_type": "code",
   "execution_count": 17,
   "metadata": {},
   "outputs": [
    {
     "data": {
      "text/plain": [
       "<matplotlib.legend.Legend at 0x7f46ec59de10>"
      ]
     },
     "execution_count": 17,
     "metadata": {},
     "output_type": "execute_result"
    },
    {
     "data": {
      "image/png": "[encoded data removed]",
      "text/plain": [
       "<Figure size 432x288 with 1 Axes>"
      ]
     },
     "metadata": {
      "needs_background": "light"
     },
     "output_type": "display_data"
    }
   ],
   "source": [
    "plt.xlabel('epochs')\n",
    "plt.ylabel('loss')\n",
    "plt.plot(epochs, loss, c='red', label='training')\n",
    "plt.plot(epochs, validation_loss, c='orange', label='validation')\n",
    "plt.legend(loc='best')"
   ]
  },
  {
   "cell_type": "code",
   "execution_count": 18,
   "metadata": {},
   "outputs": [],
   "source": [
    "acc = history.history['acc']\n",
    "validation_acc = history.history['val_acc']"
   ]
  },
  {
   "cell_type": "code",
   "execution_count": 19,
   "metadata": {},
   "outputs": [
    {
     "data": {
      "text/plain": [
       "<matplotlib.legend.Legend at 0x7f46ec4d37b8>"
      ]
     },
     "execution_count": 19,
     "metadata": {},
     "output_type": "execute_result"
    },
    {
     "data": {
      "image/png": "[encoded data removed]",
      "text/plain": [
       "<Figure size 432x288 with 1 Axes>"
      ]
     },
     "metadata": {
      "needs_background": "light"
     },
     "output_type": "display_data"
    }
   ],
   "source": [
    "plt.xlabel('epochs')\n",
    "plt.ylabel('acc')\n",
    "plt.plot(epochs, acc, c='red', label='training')\n",
    "plt.plot(epochs, validation_acc, c='orange', label='validation')\n",
    "plt.legend(loc='best')"
   ]
  },
  {
   "cell_type": "code",
   "execution_count": 20,
   "metadata": {},
   "outputs": [
    {
     "name": "stdout",
     "output_type": "stream",
     "text": [
      "188/188 [==============================] - 0s 69us/step\n",
      "Test loss: 0.06730485122967908, test accuracy: 0.9787234042553191\n"
     ]
    }
   ],
   "source": [
    "# evaluacija mreze\n",
    "test_loss, test_acc = model.evaluate(x_test, y_test)\n",
    "print (\"Test loss: {}, test accuracy: {}\".format(test_loss, test_acc))"
   ]
  },
  {
   "cell_type": "code",
   "execution_count": null,
   "metadata": {},
   "outputs": [],
   "source": []
  },
  {
   "cell_type": "code",
   "execution_count": 21,
   "metadata": {},
   "outputs": [
    {
     "name": "stdout",
     "output_type": "stream",
     "text": [
      "Epoch 1/8\n",
      "381/381 [==============================] - 0s 89us/step - loss: 0.0388 - acc: 0.9895\n",
      "Epoch 2/8\n",
      "381/381 [==============================] - 0s 89us/step - loss: 0.0339 - acc: 0.9895\n",
      "Epoch 3/8\n",
      "381/381 [==============================] - 0s 98us/step - loss: 0.0315 - acc: 0.9895\n",
      "Epoch 4/8\n",
      "381/381 [==============================] - 0s 105us/step - loss: 0.0280 - acc: 0.9921\n",
      "Epoch 5/8\n",
      "381/381 [==============================] - 0s 96us/step - loss: 0.0256 - acc: 0.9921\n",
      "Epoch 6/8\n",
      "381/381 [==============================] - 0s 94us/step - loss: 0.0225 - acc: 0.9895\n",
      "Epoch 7/8\n",
      "381/381 [==============================] - 0s 95us/step - loss: 0.0203 - acc: 0.9948\n",
      "Epoch 8/8\n",
      "381/381 [==============================] - 0s 102us/step - loss: 0.0187 - acc: 0.9948\n"
     ]
    },
    {
     "data": {
      "text/plain": [
       "<keras.callbacks.History at 0x7f46ec617b70>"
      ]
     },
     "execution_count": 21,
     "metadata": {},
     "output_type": "execute_result"
    }
   ],
   "source": [
    "model.fit(x_train, y_train, epochs=8, batch_size=16)"
   ]
  },
  {
   "cell_type": "code",
   "execution_count": null,
   "metadata": {},
   "outputs": [],
   "source": []
  }
 ],
 "metadata": {
  "kernelspec": {
   "display_name": "Python 3",
   "language": "python",
   "name": "python3"
  },
  "language_info": {
   "codemirror_mode": {
    "name": "ipython",
    "version": 3
   },
   "file_extension": ".py",
   "mimetype": "text/x-python",
   "name": "python",
   "nbconvert_exporter": "python",
   "pygments_lexer": "ipython3",
   "version": "3.7.0"
  }
 },
 "nbformat": 4,
 "nbformat_minor": 2
}
