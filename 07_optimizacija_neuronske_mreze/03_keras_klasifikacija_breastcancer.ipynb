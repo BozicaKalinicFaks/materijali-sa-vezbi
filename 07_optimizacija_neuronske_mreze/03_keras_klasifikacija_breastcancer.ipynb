{
 "cells": [
  {
   "cell_type": "markdown",
   "metadata": {},
   "source": [
    "Ovaj primer demonstrira koriscenje Keras biblioteke u zadacima klasifikacije. Na osnovu skupa podataka koji sadrzi informacije o tumorima, potrebno je zakljuciti da li je rec o benignim ili malignim tumorima."
   ]
  },
  {
   "cell_type": "code",
   "execution_count": 1,
   "metadata": {},
   "outputs": [
    {
     "name": "stderr",
     "output_type": "stream",
     "text": [
      "Using TensorFlow backend.\n"
     ]
    }
   ],
   "source": [
    "from keras.models import Sequential\n",
    "from keras.layers import Dense, Activation\n",
    "from keras import losses, optimizers"
   ]
  },
  {
   "cell_type": "code",
   "execution_count": 2,
   "metadata": {},
   "outputs": [],
   "source": [
    "import numpy as np\n",
    "from matplotlib import pyplot as plt"
   ]
  },
  {
   "cell_type": "code",
   "execution_count": 3,
   "metadata": {},
   "outputs": [],
   "source": [
    "from sklearn import preprocessing\n",
    "from sklearn import datasets\n",
    "from sklearn import model_selection"
   ]
  },
  {
   "cell_type": "code",
   "execution_count": 4,
   "metadata": {},
   "outputs": [],
   "source": [
    "np.random.seed(7)"
   ]
  },
  {
   "cell_type": "markdown",
   "metadata": {},
   "source": [
    "Ucitavamo skup podataka i vrsimo pripremne korake."
   ]
  },
  {
   "cell_type": "code",
   "execution_count": 5,
   "metadata": {},
   "outputs": [],
   "source": [
    "data = datasets.load_breast_cancer()"
   ]
  },
  {
   "cell_type": "code",
   "execution_count": 6,
   "metadata": {},
   "outputs": [],
   "source": [
    "x_train, x_test, y_train, y_test = model_selection.train_test_split(data.data, data.target, test_size = 0.33, random_state = 7)"
   ]
  },
  {
   "cell_type": "code",
   "execution_count": 7,
   "metadata": {},
   "outputs": [
    {
     "data": {
      "text/plain": [
       "(381, 30)"
      ]
     },
     "execution_count": 7,
     "metadata": {},
     "output_type": "execute_result"
    }
   ],
   "source": [
    "x_train.shape"
   ]
  },
  {
   "cell_type": "code",
   "execution_count": 8,
   "metadata": {},
   "outputs": [],
   "source": [
    "number_of_features = x_train.shape[1]\n",
    "output_size = 1"
   ]
  },
  {
   "cell_type": "code",
   "execution_count": 9,
   "metadata": {},
   "outputs": [],
   "source": [
    "scaler = preprocessing.StandardScaler()\n",
    "scaler.fit(x_train)\n",
    "x_train = scaler.transform(x_train)\n",
    "x_test = scaler.transform(x_test)"
   ]
  },
  {
   "cell_type": "code",
   "execution_count": null,
   "metadata": {},
   "outputs": [],
   "source": []
  },
  {
   "cell_type": "markdown",
   "metadata": {},
   "source": [
    "Pravimo mrezu sa propagacijom unapred. \n",
    "<br>\n",
    "Mreza ce imati ulazni sloj, dva skrivena sloja sa 100 i 40 neurona i izlazni sloj.\n",
    "<br>\n",
    "Broj neurona ulaznog sloja odgovara broju atributa skupa podataka (30). \n",
    "<br>\n",
    "Broj neurona izlaznog sloja je 1. "
   ]
  },
  {
   "cell_type": "code",
   "execution_count": 10,
   "metadata": {},
   "outputs": [],
   "source": [
    "model = Sequential()"
   ]
  },
  {
   "cell_type": "code",
   "execution_count": 11,
   "metadata": {},
   "outputs": [],
   "source": [
    "model.add(Dense(units=100, input_dim=number_of_features, activation='relu'))"
   ]
  },
  {
   "cell_type": "code",
   "execution_count": 12,
   "metadata": {},
   "outputs": [],
   "source": [
    "model.add(Dense(units=40, activation='relu'))"
   ]
  },
  {
   "cell_type": "code",
   "execution_count": 13,
   "metadata": {},
   "outputs": [],
   "source": [
    "model.add(Dense(units=output_size, activation='sigmoid'))"
   ]
  },
  {
   "cell_type": "code",
   "execution_count": 14,
   "metadata": {},
   "outputs": [],
   "source": [
    "model.compile(optimizer='adam', loss=losses.binary_crossentropy, metrics=['accuracy'])"
   ]
  },
  {
   "cell_type": "code",
   "execution_count": 15,
   "metadata": {},
   "outputs": [
    {
     "name": "stdout",
     "output_type": "stream",
     "text": [
      "_________________________________________________________________\n",
      "Layer (type)                 Output Shape              Param #   \n",
      "=================================================================\n",
      "dense_1 (Dense)              (None, 100)               3100      \n",
      "_________________________________________________________________\n",
      "dense_2 (Dense)              (None, 40)                4040      \n",
      "_________________________________________________________________\n",
      "dense_3 (Dense)              (None, 1)                 41        \n",
      "=================================================================\n",
      "Total params: 7,181\n",
      "Trainable params: 7,181\n",
      "Non-trainable params: 0\n",
      "_________________________________________________________________\n"
     ]
    }
   ],
   "source": [
    "model.summary()"
   ]
  },
  {
   "cell_type": "markdown",
   "metadata": {},
   "source": [
    "Prilikom treniranja modela, jedan deo podataka ce biti iskoriscen za validaciju. "
   ]
  },
  {
   "cell_type": "code",
   "execution_count": 16,
   "metadata": {},
   "outputs": [
    {
     "name": "stdout",
     "output_type": "stream",
     "text": [
      "Train on 266 samples, validate on 115 samples\n",
      "Epoch 1/30\n",
      "266/266 [==============================] - 0s 692us/step - loss: 0.5608 - acc: 0.6541 - val_loss: 0.2755 - val_acc: 0.9478\n",
      "Epoch 2/30\n",
      "266/266 [==============================] - 0s 279us/step - loss: 0.2211 - acc: 0.9361 - val_loss: 0.1516 - val_acc: 0.9652\n",
      "Epoch 3/30\n",
      "266/266 [==============================] - 0s 275us/step - loss: 0.1439 - acc: 0.9398 - val_loss: 0.1059 - val_acc: 0.9739\n",
      "Epoch 4/30\n",
      "266/266 [==============================] - 0s 276us/step - loss: 0.1109 - acc: 0.9511 - val_loss: 0.0816 - val_acc: 0.9826\n",
      "Epoch 5/30\n",
      "266/266 [==============================] - 0s 269us/step - loss: 0.0920 - acc: 0.9624 - val_loss: 0.0691 - val_acc: 0.9826\n",
      "Epoch 6/30\n",
      "266/266 [==============================] - 0s 258us/step - loss: 0.0797 - acc: 0.9774 - val_loss: 0.0611 - val_acc: 0.9826\n",
      "Epoch 7/30\n",
      "266/266 [==============================] - 0s 235us/step - loss: 0.0690 - acc: 0.9887 - val_loss: 0.0571 - val_acc: 0.9739\n",
      "Epoch 8/30\n",
      "266/266 [==============================] - 0s 270us/step - loss: 0.0619 - acc: 0.9887 - val_loss: 0.0532 - val_acc: 0.9826\n",
      "Epoch 9/30\n",
      "266/266 [==============================] - 0s 282us/step - loss: 0.0554 - acc: 0.9887 - val_loss: 0.0508 - val_acc: 0.9826\n",
      "Epoch 10/30\n",
      "266/266 [==============================] - 0s 250us/step - loss: 0.0505 - acc: 0.9925 - val_loss: 0.0518 - val_acc: 0.9826\n",
      "Epoch 11/30\n",
      "266/266 [==============================] - 0s 286us/step - loss: 0.0444 - acc: 0.9925 - val_loss: 0.0482 - val_acc: 0.9826\n",
      "Epoch 12/30\n",
      "266/266 [==============================] - 0s 254us/step - loss: 0.0394 - acc: 0.9925 - val_loss: 0.0495 - val_acc: 0.9826\n",
      "Epoch 13/30\n",
      "266/266 [==============================] - 0s 234us/step - loss: 0.0358 - acc: 0.9925 - val_loss: 0.0496 - val_acc: 0.9826\n",
      "Epoch 14/30\n",
      "266/266 [==============================] - 0s 247us/step - loss: 0.0321 - acc: 0.9925 - val_loss: 0.0487 - val_acc: 0.9826\n",
      "Epoch 15/30\n",
      "266/266 [==============================] - 0s 358us/step - loss: 0.0296 - acc: 0.9925 - val_loss: 0.0472 - val_acc: 0.9826\n",
      "Epoch 16/30\n",
      "266/266 [==============================] - 0s 276us/step - loss: 0.0268 - acc: 0.9925 - val_loss: 0.0494 - val_acc: 0.9826\n",
      "Epoch 17/30\n",
      "266/266 [==============================] - 0s 268us/step - loss: 0.0242 - acc: 0.9925 - val_loss: 0.0488 - val_acc: 0.9826\n",
      "Epoch 18/30\n",
      "266/266 [==============================] - 0s 273us/step - loss: 0.0212 - acc: 0.9925 - val_loss: 0.0495 - val_acc: 0.9826\n",
      "Epoch 19/30\n",
      "266/266 [==============================] - 0s 259us/step - loss: 0.0193 - acc: 0.9925 - val_loss: 0.0509 - val_acc: 0.9826\n",
      "Epoch 20/30\n",
      "266/266 [==============================] - 0s 254us/step - loss: 0.0170 - acc: 0.9962 - val_loss: 0.0518 - val_acc: 0.9826\n",
      "Epoch 21/30\n",
      "266/266 [==============================] - 0s 284us/step - loss: 0.0153 - acc: 0.9962 - val_loss: 0.0507 - val_acc: 0.9826\n",
      "Epoch 22/30\n",
      "266/266 [==============================] - 0s 386us/step - loss: 0.0135 - acc: 0.9962 - val_loss: 0.0529 - val_acc: 0.9826\n",
      "Epoch 23/30\n",
      "266/266 [==============================] - 0s 302us/step - loss: 0.0123 - acc: 1.0000 - val_loss: 0.0544 - val_acc: 0.9826\n",
      "Epoch 24/30\n",
      "266/266 [==============================] - 0s 321us/step - loss: 0.0112 - acc: 1.0000 - val_loss: 0.0540 - val_acc: 0.9826\n",
      "Epoch 25/30\n",
      "266/266 [==============================] - 0s 322us/step - loss: 0.0099 - acc: 1.0000 - val_loss: 0.0568 - val_acc: 0.9826\n",
      "Epoch 26/30\n",
      "266/266 [==============================] - 0s 246us/step - loss: 0.0090 - acc: 1.0000 - val_loss: 0.0568 - val_acc: 0.9826\n",
      "Epoch 27/30\n",
      "266/266 [==============================] - 0s 330us/step - loss: 0.0081 - acc: 1.0000 - val_loss: 0.0571 - val_acc: 0.9826\n",
      "Epoch 28/30\n",
      "266/266 [==============================] - 0s 288us/step - loss: 0.0074 - acc: 1.0000 - val_loss: 0.0603 - val_acc: 0.9826\n",
      "Epoch 29/30\n",
      "266/266 [==============================] - 0s 240us/step - loss: 0.0067 - acc: 1.0000 - val_loss: 0.0592 - val_acc: 0.9826\n",
      "Epoch 30/30\n",
      "266/266 [==============================] - 0s 255us/step - loss: 0.0062 - acc: 1.0000 - val_loss: 0.0626 - val_acc: 0.9826\n"
     ]
    }
   ],
   "source": [
    "history = model.fit(x_train, y_train, epochs= 30, batch_size=16, verbose=1, validation_split=0.3)"
   ]
  },
  {
   "cell_type": "code",
   "execution_count": 17,
   "metadata": {},
   "outputs": [],
   "source": [
    "epochs = history.epoch"
   ]
  },
  {
   "cell_type": "code",
   "execution_count": 18,
   "metadata": {},
   "outputs": [],
   "source": [
    "loss = history.history['loss']\n",
    "validation_loss = history.history['val_loss']"
   ]
  },
  {
   "cell_type": "code",
   "execution_count": 19,
   "metadata": {},
   "outputs": [
    {
     "data": {
      "text/plain": [
       "<matplotlib.legend.Legend at 0x1a174b9358>"
      ]
     },
     "execution_count": 19,
     "metadata": {},
     "output_type": "execute_result"
    },
    {
     "data": {
      "image/png": "[encoded data removed]",
      "text/plain": [
       "<matplotlib.figure.Figure at 0x1a11a7e908>"
      ]
     },
     "metadata": {},
     "output_type": "display_data"
    }
   ],
   "source": [
    "plt.xlabel('epochs')\n",
    "plt.ylabel('loss')\n",
    "plt.plot(epochs, loss, c='red', label='training')\n",
    "plt.plot(epochs, validation_loss, c='orange', label='validation')\n",
    "plt.legend(loc='best')"
   ]
  },
  {
   "cell_type": "markdown",
   "metadata": {},
   "source": [
    "Sa ovog grafika mozemo da zakljucimo da se nakon osme epohe model preprilagodjava podacima (vrednosti funkcije gubitka na validacionom skupu ne opadaju). "
   ]
  },
  {
   "cell_type": "code",
   "execution_count": 20,
   "metadata": {},
   "outputs": [],
   "source": [
    "acc = history.history['acc']\n",
    "validation_acc = history.history['val_acc']"
   ]
  },
  {
   "cell_type": "code",
   "execution_count": 21,
   "metadata": {},
   "outputs": [
    {
     "data": {
      "text/plain": [
       "<matplotlib.legend.Legend at 0x1a1a8956a0>"
      ]
     },
     "execution_count": 21,
     "metadata": {},
     "output_type": "execute_result"
    },
    {
     "data": {
      "image/png": "[encoded data removed]",
      "text/plain": [
       "<matplotlib.figure.Figure at 0x1a11a7e7b8>"
      ]
     },
     "metadata": {},
     "output_type": "display_data"
    }
   ],
   "source": [
    "plt.xlabel('epochs')\n",
    "plt.ylabel('acc')\n",
    "plt.plot(epochs, acc, c='red', label='training')\n",
    "plt.plot(epochs, validation_acc, c='orange', label='validation')\n",
    "plt.legend(loc='best')"
   ]
  },
  {
   "cell_type": "markdown",
   "metadata": {},
   "source": [
    "Ovaj grafik, takodje, potvrdjuje da se nakon osme epohe tacnost modela ne unapredjuje (tacnost na validacionom skupu stagnira)."
   ]
  },
  {
   "cell_type": "code",
   "execution_count": 22,
   "metadata": {},
   "outputs": [
    {
     "name": "stdout",
     "output_type": "stream",
     "text": [
      "188/188 [==============================] - 0s 63us/step\n",
      "Test loss: 0.08465776666800709, test accuracy: 0.9787234042553191\n"
     ]
    }
   ],
   "source": [
    "# evaluacija mreze\n",
    "test_loss, test_acc = model.evaluate(x_test, y_test)\n",
    "print (\"Test loss: {}, test accuracy: {}\".format(test_loss, test_acc))"
   ]
  },
  {
   "cell_type": "code",
   "execution_count": null,
   "metadata": {},
   "outputs": [],
   "source": []
  },
  {
   "cell_type": "code",
   "execution_count": 23,
   "metadata": {},
   "outputs": [
    {
     "name": "stdout",
     "output_type": "stream",
     "text": [
      "Epoch 1/8\n",
      "381/381 [==============================] - 0s 237us/step - loss: 0.0233 - acc: 0.9948\n",
      "Epoch 2/8\n",
      "381/381 [==============================] - 0s 223us/step - loss: 0.0220 - acc: 0.9948\n",
      "Epoch 3/8\n",
      "381/381 [==============================] - 0s 214us/step - loss: 0.0176 - acc: 0.9948\n",
      "Epoch 4/8\n",
      "381/381 [==============================] - 0s 204us/step - loss: 0.0134 - acc: 0.9974\n",
      "Epoch 5/8\n",
      "381/381 [==============================] - 0s 206us/step - loss: 0.0134 - acc: 0.9974\n",
      "Epoch 6/8\n",
      "381/381 [==============================] - 0s 210us/step - loss: 0.0102 - acc: 0.9974\n",
      "Epoch 7/8\n",
      "381/381 [==============================] - 0s 205us/step - loss: 0.0081 - acc: 1.0000\n",
      "Epoch 8/8\n",
      "381/381 [==============================] - 0s 213us/step - loss: 0.0076 - acc: 0.9974\n"
     ]
    },
    {
     "data": {
      "text/plain": [
       "<keras.callbacks.History at 0x1a1168b0f0>"
      ]
     },
     "execution_count": 23,
     "metadata": {},
     "output_type": "execute_result"
    }
   ],
   "source": [
    "model.fit(x_train, y_train, epochs=8, batch_size=16)"
   ]
  },
  {
   "cell_type": "code",
   "execution_count": null,
   "metadata": {},
   "outputs": [],
   "source": []
  }
 ],
 "metadata": {
  "kernelspec": {
   "display_name": "Python 3",
   "language": "python",
   "name": "python3"
  },
  "language_info": {
   "codemirror_mode": {
    "name": "ipython",
    "version": 3
   },
   "file_extension": ".py",
   "mimetype": "text/x-python",
   "name": "python",
   "nbconvert_exporter": "python",
   "pygments_lexer": "ipython3",
   "version": "3.7.0"
  }
 },
 "nbformat": 4,
 "nbformat_minor": 2
}
