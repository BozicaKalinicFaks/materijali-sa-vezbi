{
 "cells": [
  {
   "cell_type": "markdown",
   "metadata": {},
   "source": [
    "** 3. zadatak (6 poena) **\n",
    "<br>\n",
    "\n",
    "Korišćenjem *Q-learning* algoritma potrebno je naučiti agenta da pronađe najkraći put u grafu. Graf je opisan listom svojih povezanih čvorova, a primer grafa koji se može koristiti u daljem radu zadat je u *Jupyter* svesci. \n",
    "\n",
    "<br>\n",
    "a) Kreirati matricu nagrada prema sledećem pravilu: \n",
    "<br>\n",
    "* ako iz tekućeg čvora ne postoje grane ka drugim čvorovima grafa, nagrada je -1;\n",
    "* ako iz tekućeg čvora postoje grane ka drugim čvorovima grafa, nagrada je 0;\n",
    "* ako iz tekućeg čvora postoji grana ka finalnom čvoru grafa, nagrada je 100;\n",
    "\n",
    "<br>\n",
    "b) Implementirati *Q-learning* algoritam za opisani problem. Za vrednost $\\gamma$ parametra uzeti vrednost 0.8, a za broj potrebnih iteracija 2000. \n",
    "\n",
    "<br>\n",
    "c) Koristeći naučenu politiku, odrediti i ispisati najkraći put u grafu od čvora $12$ do čvora $28$.\n",
    "\n"
   ]
  },
  {
   "cell_type": "code",
   "execution_count": 4,
   "metadata": {},
   "outputs": [],
   "source": [
    "import numpy as np\n",
    "import networkx as nx\n",
    "from matplotlib import pyplot as plt"
   ]
  },
  {
   "cell_type": "code",
   "execution_count": 2,
   "metadata": {},
   "outputs": [],
   "source": []
  },
  {
   "cell_type": "code",
   "execution_count": 3,
   "metadata": {},
   "outputs": [],
   "source": [
    "number_of_nodes = 49\n",
    "node_list = [(1, 0), (1, 2), (2, 3), (3, 4), (4, 5), (3, 6), (7, 3), (9, 5), (5, 8), (13, 0), \n",
    "               (14, 13), (15, 14), (16, 13),(17, 14), (18, 15), (19, 15), (19, 20), (19, 18), \n",
    "               (18, 20), (22, 20), (0, 23), (23, 14), (23, 16), (21, 20), (24, 21), (24, 17), \n",
    "               (28, 27), (27, 29), (27, 26), (26, 25), (25, 21), (21, 30), (30, 34), (31, 35), \n",
    "               (32, 36), (38, 33), (33, 37), (33, 32), (32, 31), (31, 30), (33, 39), (9, 40), \n",
    "               (39, 40), (41, 2), (39, 42), (42, 43), (43, 10), (34, 46), (35, 45), (37, 40), \n",
    "               (41, 46), (44, 45), (44, 40), (7, 41), (5, 10), (47, 12), (11, 47), (10, 47), \n",
    "               (43, 47), (46, 48), (45, 48), (48, 7)] "
   ]
  },
  {
   "cell_type": "code",
   "execution_count": 7,
   "metadata": {},
   "outputs": [],
   "source": [
    "# kod kojim se moze prikazati graf\n",
    "# G=nx.Graph()\n",
    "# G.add_edges_from(node_list)\n",
    "# pos = nx.spring_layout(G)\n",
    "# nx.draw_networkx_nodes(G,pos)\n",
    "# nx.draw_networkx_edges(G,pos)\n",
    "# nx.draw_networkx_labels(G,pos)\n",
    "# plt.show()"
   ]
  },
  {
   "cell_type": "code",
   "execution_count": null,
   "metadata": {},
   "outputs": [],
   "source": []
  }
 ],
 "metadata": {
  "kernelspec": {
   "display_name": "Python 3",
   "language": "python",
   "name": "python3"
  },
  "language_info": {
   "codemirror_mode": {
    "name": "ipython",
    "version": 3
   },
   "file_extension": ".py",
   "mimetype": "text/x-python",
   "name": "python",
   "nbconvert_exporter": "python",
   "pygments_lexer": "ipython3",
   "version": "3.6.4"
  }
 },
 "nbformat": 4,
 "nbformat_minor": 2
}
