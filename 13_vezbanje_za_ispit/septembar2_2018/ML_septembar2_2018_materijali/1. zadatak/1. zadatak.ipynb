{
 "cells": [
  {
   "cell_type": "markdown",
   "metadata": {},
   "source": [
    "**1. zadatak (6 poena)**\n",
    "<br>\n",
    "\n",
    "a) Napisati funkciju *generate_samples(m1, s1, m2, s2, number_of_samples)* koja generiše uzorak dužine *number_of_samples* nadovezivanjem uzoraka dužine $\\frac{1}{2}number\\_of\\_samples$ iz pojedinačnih normalnih raspodela $\\mathcal{N}(m_1, s_1)$ i $\\mathcal{N}(m_2, s_2)$. Zatim za zadate vrednosti $m_1=4,\\ s_1=1,\\ m_2=8,\\ s_2=2$ generisati uzorak dužine $200$. \n",
    " \n",
    "b) U datoteci $x\\_ y\\_ values.csv$ se nalaze vrednosti funkcije $f(x)$ na ekvidistantnom skupu 500 tačaka intervala [0, 15]. Ucitati ove podatke. \n",
    "\n",
    "c) Korišćenjem Nadaraja-Votson regresije dati ocene vrednosti funkcije $f(x)$ u tačkama genersianog uzorka. Optimalnu vrednost širine kernela (\\textit{bandwidth} parametar) odabrati iz skupa vrednosti $\\{0.1, 0.2, 0.5, 1.1, 1.5\\}$.    \n"
   ]
  },
  {
   "cell_type": "code",
   "execution_count": null,
   "metadata": {},
   "outputs": [],
   "source": []
  },
  {
   "cell_type": "code",
   "execution_count": 1,
   "metadata": {},
   "outputs": [],
   "source": [
    "import numpy as np\n",
    "import pandas as pd"
   ]
  },
  {
   "cell_type": "code",
   "execution_count": 2,
   "metadata": {},
   "outputs": [],
   "source": [
    "from sklearn import model_selection\n",
    "from sklearn import metrics"
   ]
  },
  {
   "cell_type": "code",
   "execution_count": null,
   "metadata": {},
   "outputs": [],
   "source": []
  },
  {
   "cell_type": "code",
   "execution_count": null,
   "metadata": {},
   "outputs": [],
   "source": []
  },
  {
   "cell_type": "code",
   "execution_count": null,
   "metadata": {},
   "outputs": [],
   "source": []
  }
 ],
 "metadata": {
  "kernelspec": {
   "display_name": "Python 3",
   "language": "python",
   "name": "python3"
  },
  "language_info": {
   "codemirror_mode": {
    "name": "ipython",
    "version": 3
   },
   "file_extension": ".py",
   "mimetype": "text/x-python",
   "name": "python",
   "nbconvert_exporter": "python",
   "pygments_lexer": "ipython3",
   "version": "3.6.4"
  }
 },
 "nbformat": 4,
 "nbformat_minor": 2
}
