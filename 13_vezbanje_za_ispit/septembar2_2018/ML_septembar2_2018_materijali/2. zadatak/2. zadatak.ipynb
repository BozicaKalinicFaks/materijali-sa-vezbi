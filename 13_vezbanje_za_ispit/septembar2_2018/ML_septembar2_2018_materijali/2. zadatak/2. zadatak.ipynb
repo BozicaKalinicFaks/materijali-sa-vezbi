{
 "cells": [
  {
   "attachments": {},
   "cell_type": "markdown",
   "metadata": {},
   "source": [
    "**2. zadatak (8 poena)**\n",
    "<br>\n",
    "\n",
    "U datotekama *leaf_train.csv* i *leaf_test.csv* nalaze se podaci o listovima drveća koji se mogu iskoristiti za obučavanje mreže koja vrši predikciju  vrste na osnovu karakteristika listova.  Za svaki od listova su poznate vrednosti 192 atributa koji pripadaju trima velikim kategorijama: *margine*, *shape* i *texture* (u svakoj kategoriji po 64 atributa).  \n",
    "\n",
    "<br>\n",
    "a) Učitati podatke koji se nalaze u datoteci *leaf_train.csv* i izvršiti neophodnu pripremu: izbacivanje atributa *id*, kodiranje ciljne vrednosti, standardizaciju podataka i izdvajanje svake od grupa atributa u zaseban kanal (kanal 0 - *margine* vrednosti, kanal 1 - *shape* vrednosti, kanal 2 - *texture* vrednosti). Zatim ovako dobijeni skup podeliti na skup za obučavanje i skup za validaciju u razmeri 9:1. Ekvivalentne pripremne korake je potrebna izvršiti i nad podacima koji se nalaze u datoteci *leaf_test.csv* koji će se koristiti u procesu testiranja mreže. \n",
    " \n",
    "<br>\n",
    "\n",
    "b) Korišćenjem Keras biblioteke kreirati neuronsku mrežu prema opisu koji je zadat na slici. \n",
    "\n",
    "<img src='mreza.png'>\n",
    "\n",
    "Prvi sloj mreže je konvolutivni *1D* sloj sa 512 filtera i *relu* aktivacijom. *Dropout* sloj je sa verovatnoćom izostavljanja 0.4, a za njim slede dva gusta sloja sa 2048 i 1024 neurona sa *relu* aktivacijom. Poslednji sloj je gusti sloj sa *softmax* aktivacijom i brojem neurona koji odgovara broju različitih klasa listova. \n",
    "<br>\n",
    "Prilikom obučavanja mreže koristiti Nestorovljev ubrzani gradijentni spust sa parametrima *decay=1e-6* i *momentum=0.9*. Za broj epoha uzeti vrednost *5*, a za veličinu paketića *16*. \n",
    "\n",
    "<br>\n",
    "\n",
    "c) Nacrtati grafike funkcije gubitka i tačnosti na skupovima za treniranje i validaciju, a zatim dati i ocenu greške na skupu za testiranje. \n",
    "  \n"
   ]
  },
  {
   "cell_type": "code",
   "execution_count": 3,
   "metadata": {},
   "outputs": [],
   "source": [
    "import numpy as np\n",
    "import pandas as pd\n",
    "from matplotlib import pyplot as plt"
   ]
  },
  {
   "cell_type": "code",
   "execution_count": 4,
   "metadata": {},
   "outputs": [],
   "source": [
    "from sklearn.preprocessing import StandardScaler\n",
    "from keras.models import Sequential\n",
    "from keras.layers import Dense, Activation, Flatten, Convolution1D, Dropout, Lambda\n",
    "from keras.optimizers import SGD\n",
    "from keras.utils import np_utils\n",
    "import keras.backend as K"
   ]
  },
  {
   "cell_type": "code",
   "execution_count": null,
   "metadata": {},
   "outputs": [],
   "source": []
  },
  {
   "cell_type": "markdown",
   "metadata": {},
   "source": [
    "Napomena: \n",
    "* Ukoliko treniranje mreže bude nešto sporije, smanjiti broj epoha na 3. \n",
    "* Za koriscenje softmax aktivacije, mrezi je potrebno dodati sloj *model.add(Lambda(lambda x: K.tf.nn.softmax(x)))* "
   ]
  },
  {
   "cell_type": "code",
   "execution_count": null,
   "metadata": {},
   "outputs": [],
   "source": []
  }
 ],
 "metadata": {
  "kernelspec": {
   "display_name": "Python 3",
   "language": "python",
   "name": "python3"
  },
  "language_info": {
   "codemirror_mode": {
    "name": "ipython",
    "version": 3
   },
   "file_extension": ".py",
   "mimetype": "text/x-python",
   "name": "python",
   "nbconvert_exporter": "python",
   "pygments_lexer": "ipython3",
   "version": "3.6.4"
  }
 },
 "nbformat": 4,
 "nbformat_minor": 2
}
