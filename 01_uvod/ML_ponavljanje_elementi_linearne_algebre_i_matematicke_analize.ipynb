{
 "cells": [
  {
   "cell_type": "markdown",
   "metadata": {},
   "source": [
    "### Linearna algebra"
   ]
  },
  {
   "cell_type": "markdown",
   "metadata": {},
   "source": [
    "1) Odrediti sopstvene vrednosti i sopstvene vektore matrice \n",
    "$\\begin{bmatrix}\n",
    "    8 & 3 \\\\\n",
    "    2 & 7   \n",
    "\\end{bmatrix} $.\n"
   ]
  },
  {
   "cell_type": "code",
   "execution_count": 2,
   "metadata": {},
   "outputs": [],
   "source": [
    "import numpy as np \n",
    "from numpy import linalg as LA "
   ]
  },
  {
   "cell_type": "code",
   "execution_count": 3,
   "metadata": {},
   "outputs": [],
   "source": [
    "a = np.array([ [8, 3], [2, 7]]);"
   ]
  },
  {
   "cell_type": "code",
   "execution_count": 4,
   "metadata": {},
   "outputs": [
    {
     "data": {
      "text/plain": [
       "array([[8, 3],\n",
       "       [2, 7]])"
      ]
     },
     "execution_count": 4,
     "metadata": {},
     "output_type": "execute_result"
    }
   ],
   "source": [
    "a"
   ]
  },
  {
   "cell_type": "code",
   "execution_count": 5,
   "metadata": {},
   "outputs": [
    {
     "data": {
      "text/plain": [
       "(array([10.,  5.]), array([[ 0.83205029, -0.70710678],\n",
       "        [ 0.5547002 ,  0.70710678]]))"
      ]
     },
     "execution_count": 5,
     "metadata": {},
     "output_type": "execute_result"
    }
   ],
   "source": [
    "LA.eig(a)"
   ]
  },
  {
   "cell_type": "code",
   "execution_count": null,
   "metadata": {},
   "outputs": [],
   "source": []
  },
  {
   "cell_type": "markdown",
   "metadata": {},
   "source": []
  },
  {
   "cell_type": "markdown",
   "metadata": {},
   "source": [
    "3) Proveriti da li je matrica \n",
    "$\\begin{bmatrix}\n",
    "-4 & 2 & 1 \\\\\n",
    "1 & 6 & 2 \\\\\n",
    "1 & -2 & 5    \n",
    "\\end{bmatrix} $\n",
    "dijagonalno dominantna. "
   ]
  },
  {
   "cell_type": "markdown",
   "metadata": {},
   "source": [
    "4) Normirati vektor (4, 1, -2, 2) u odnosu na l2 normu. \n"
   ]
  },
  {
   "cell_type": "markdown",
   "metadata": {},
   "source": [
    "5)  \n",
    "<ol style='list-style-type: square'> \n",
    "    <li> Pokazati da je sa $(x_1, x_2, x_3) * (y_1, y_2, y_3) = x_1y_1 + x_2y_2 + x_3y_3$  definisan \n",
    "        skalarni proizvod u $R^3$. </li>\n",
    "    <li> Izracunati skalarni prozivod vektora (2, 3, 1) i (8, 9, 12) kao i ugao izmedju njih. </li>\n",
    "</ol>"
   ]
  },
  {
   "cell_type": "markdown",
   "metadata": {},
   "source": [
    "6) Napisati funkciju koja racuna vrednost linearnog kernela u prostoru $R^3$."
   ]
  },
  {
   "cell_type": "markdown",
   "metadata": {},
   "source": [
    "### Matematicka analiza"
   ]
  },
  {
   "cell_type": "markdown",
   "metadata": {},
   "source": [
    "1) Izracunati gradijent i hesijan funkcije  $f(x, y) = sin(x) + 2xy^2$. Odrediti vrednost gradijenta i hesijana u tacki $(3, 1)$. "
   ]
  },
  {
   "cell_type": "markdown",
   "metadata": {},
   "source": [
    "2) Ispitati konveksnost i strogu konveksnost sledecih fija $f(x) = x^2$ i $g(x) = \\frac{1}{x}$. "
   ]
  },
  {
   "cell_type": "markdown",
   "metadata": {},
   "source": [
    "3) Ispitati konveksnost funkcije $f(x, y) = x^2/y$. "
   ]
  },
  {
   "cell_type": "markdown",
   "metadata": {},
   "source": [
    "4) Ispitati konveksnost funckije $f(x, y, z) = 2x^2 + y^2 + z^2 + 2yz$ "
   ]
  },
  {
   "cell_type": "markdown",
   "metadata": {},
   "source": [
    "5) Odrediti stacionarne tacke funckije $ f(x) = 12x^5 -45 x^4 + 40 x^3 + 5$ i ispitati da li su one tacke lokalnog minimuma ili lokalnog maksimuma. "
   ]
  },
  {
   "cell_type": "markdown",
   "metadata": {},
   "source": [
    "6) Odrediti stacionarne tacke funkcije $f(x,y) = x^2 - 4xy + 5y^2$ i ispitati da li su one tacke lokalnog minimuma ili lokalnog maksimuma."
   ]
  },
  {
   "cell_type": "code",
   "execution_count": null,
   "metadata": {},
   "outputs": [],
   "source": []
  }
 ],
 "metadata": {
  "kernelspec": {
   "display_name": "Python 3",
   "language": "python",
   "name": "python3"
  },
  "language_info": {
   "codemirror_mode": {
    "name": "ipython",
    "version": 3
   },
   "file_extension": ".py",
   "mimetype": "text/x-python",
   "name": "python",
   "nbconvert_exporter": "python",
   "pygments_lexer": "ipython3",
   "version": "3.7.0"
  }
 },
 "nbformat": 4,
 "nbformat_minor": 2
}
