{
 "cells": [
  {
   "cell_type": "markdown",
   "metadata": {},
   "source": [
    "Ovaj program približava korišćenje konvolutivnih neuronskih mreža. Zadatak koji se rešava je određivanje broja prstiju na slici na kojoj je prikazana šaka. "
   ]
  },
  {
   "cell_type": "markdown",
   "metadata": {},
   "source": [
    "Umesto dosadašnje sumarizacije mreže u tekstualnom formatu, koristiće se grafovski prikaz modela neuronske mreže. Za to ce na trebati **pydot** i **graphviz** Python paketi koji se mogu instalirati sa \n",
    "\n",
    "conda install pydot\n",
    "\n",
    "conda install graphviz\n",
    "\n",
    "Ova dva paketa omogucavaju rad sa DOT jezikom koji se koristi za opis grafova. "
   ]
  },
  {
   "cell_type": "code",
   "execution_count": 1,
   "metadata": {},
   "outputs": [
    {
     "name": "stderr",
     "output_type": "stream",
     "text": [
      "Using TensorFlow backend.\n"
     ]
    }
   ],
   "source": [
    "import pydot\n",
    "from IPython.display import SVG\n",
    "from keras.utils.vis_utils import model_to_dot"
   ]
  },
  {
   "cell_type": "code",
   "execution_count": 2,
   "metadata": {},
   "outputs": [],
   "source": [
    "import numpy as np\n",
    "import h5py\n",
    "from matplotlib import pyplot as plt"
   ]
  },
  {
   "cell_type": "code",
   "execution_count": 3,
   "metadata": {},
   "outputs": [],
   "source": [
    "from keras.layers import *\n",
    "from keras.models import *\n",
    "from keras.optimizers import Adam"
   ]
  },
  {
   "cell_type": "markdown",
   "metadata": {},
   "source": [
    "#### Priprema skupa za ucenje."
   ]
  },
  {
   "cell_type": "code",
   "execution_count": 4,
   "metadata": {},
   "outputs": [],
   "source": [
    "# slike sake koji se koriste za treniranje su sadrzane u train_signs.h5 datoteci \n",
    "# sledeca funkcija omogucava ucitavanje i ispis osnovnih informacija o skupu podataka i, \n",
    "# po potrebi, prikaz ucitanih slika\n",
    "\n",
    "def load_train_dataset(path='datasets/train_signs.h5', preview=5):\n",
    "\n",
    "    train_dataset = h5py.File(path, 'r')\n",
    "    \n",
    "    train_x = np.array(train_dataset['train_set_x'])\n",
    "    train_y = np.array(train_dataset['train_set_y'])\n",
    "    classes = np.array(train_dataset['list_classes'])\n",
    "\n",
    "    print('train_x size: {}'.format(train_x.shape))\n",
    "    print('train_y size: {}'.format(train_y.shape))\n",
    "    print('number of image classes: {}'.format(len(classes)))\n",
    "\n",
    "    for i in range(0, preview):\n",
    "        index = np.random.randint(train_x.shape[0])\n",
    "        plt.figure()\n",
    "        plt.suptitle(train_y[index])\n",
    "        plt.imshow(train_x[index])\n",
    "\n",
    "    return train_x, train_y, len(classes)"
   ]
  },
  {
   "cell_type": "code",
   "execution_count": 5,
   "metadata": {},
   "outputs": [],
   "source": [
    "# funkcija koja se koristi za one-hot kodiranje ciljne promenljive\n",
    "\n",
    "# ideja je da se slici na kojoj se ne nalazi ni jedan prist pridruzi vektor (0, 0, 0, 0, 0), \n",
    "# slici na kojoj se nalazi jedan prst vektor (1, 0, 0, 0, 0)\n",
    "# slici na kojoj se nalaze dva prsta vektor (0, 1, 0, 0, 0)\n",
    "# ...\n",
    "# slici na kojoj se nalazi jedan prst vektor (0, 0, 0, 0, 1)\n",
    "\n",
    "# funkcija pokriva opsti slucaj za skup koji sadrzi C razlicitih vrednosti \n",
    "def one_hot(y, C):\n",
    "    y_one_hot = np.zeros((y.shape[0], C))\n",
    "    y_one_hot[np.arange(0, y.shape[0]), y] = 1\n",
    "    \n",
    "    return y_one_hot"
   ]
  },
  {
   "cell_type": "code",
   "execution_count": 6,
   "metadata": {},
   "outputs": [
    {
     "name": "stdout",
     "output_type": "stream",
     "text": [
      "train_x size: (1080, 64, 64, 3)\n",
      "train_y size: (1080,)\n",
      "number of image classes: 6\n"
     ]
    },
    {
     "data": {
      "image/png": "[encoded data removed]",
      "text/plain": [
       "<Figure size 432x288 with 1 Axes>"
      ]
     },
     "metadata": {
      "needs_background": "light"
     },
     "output_type": "display_data"
    }
   ],
   "source": [
    "train_x, train_y, C = load_train_dataset(preview=1)"
   ]
  },
  {
   "cell_type": "markdown",
   "metadata": {},
   "source": [
    "Konvolutivne neuronske mreze daju bolje rezultate ukoliko su vrednosti sa kojima rade normalizovane. "
   ]
  },
  {
   "cell_type": "code",
   "execution_count": 7,
   "metadata": {},
   "outputs": [],
   "source": [
    "train_x = train_x / 255"
   ]
  },
  {
   "cell_type": "code",
   "execution_count": 8,
   "metadata": {},
   "outputs": [
    {
     "data": {
      "text/plain": [
       "(1080, 64, 64, 3)"
      ]
     },
     "execution_count": 8,
     "metadata": {},
     "output_type": "execute_result"
    }
   ],
   "source": [
    "train_x.shape"
   ]
  },
  {
   "cell_type": "code",
   "execution_count": 9,
   "metadata": {},
   "outputs": [],
   "source": [
    "train_y = one_hot(train_y, C)"
   ]
  },
  {
   "cell_type": "code",
   "execution_count": 10,
   "metadata": {},
   "outputs": [
    {
     "data": {
      "text/plain": [
       "(1080, 6)"
      ]
     },
     "execution_count": 10,
     "metadata": {},
     "output_type": "execute_result"
    }
   ],
   "source": [
    "train_y.shape"
   ]
  },
  {
   "cell_type": "markdown",
   "metadata": {},
   "source": [
    "#### Priprema skupa za testiranje. "
   ]
  },
  {
   "cell_type": "code",
   "execution_count": 12,
   "metadata": {},
   "outputs": [],
   "source": [
    "# slike sake koji se koriste za testiranje su sadrzane u test_signs.h5 datoteci \n",
    "# sledeca funkcija omogucava ucitavanje skupova podataka \n",
    "\n",
    "def load_test_dataset(path='datasets/test_signs.h5'):\n",
    "    test_dataset = h5py.File(path, 'r')\n",
    "    \n",
    "    test_x = np.array(test_dataset['test_set_x'])\n",
    "    test_y = np.array(test_dataset['test_set_y'])\n",
    "\n",
    "    return test_x, test_y"
   ]
  },
  {
   "cell_type": "code",
   "execution_count": 13,
   "metadata": {},
   "outputs": [],
   "source": [
    "test_x, test_y = load_test_dataset()"
   ]
  },
  {
   "cell_type": "code",
   "execution_count": 14,
   "metadata": {},
   "outputs": [],
   "source": [
    "test_x = test_x / 255"
   ]
  },
  {
   "cell_type": "code",
   "execution_count": 15,
   "metadata": {},
   "outputs": [
    {
     "data": {
      "text/plain": [
       "(120, 64, 64, 3)"
      ]
     },
     "execution_count": 15,
     "metadata": {},
     "output_type": "execute_result"
    }
   ],
   "source": [
    "test_x.shape"
   ]
  },
  {
   "cell_type": "code",
   "execution_count": 16,
   "metadata": {},
   "outputs": [],
   "source": [
    "test_y = one_hot(test_y, C) "
   ]
  },
  {
   "cell_type": "code",
   "execution_count": 17,
   "metadata": {},
   "outputs": [
    {
     "data": {
      "text/plain": [
       "(120, 6)"
      ]
     },
     "execution_count": 17,
     "metadata": {},
     "output_type": "execute_result"
    }
   ],
   "source": [
    "test_y.shape"
   ]
  },
  {
   "cell_type": "code",
   "execution_count": null,
   "metadata": {},
   "outputs": [],
   "source": []
  },
  {
   "cell_type": "markdown",
   "metadata": {},
   "source": [
    "#### Kreiranje modela. "
   ]
  },
  {
   "cell_type": "markdown",
   "metadata": {},
   "source": [
    "U ovom primeru ce se koristiti funkcionalni API Keras biblioteke. Input i Output slojevi predstavljaju tenzore, dok svi drugi slojevi predstavljaju funkcije koje kao ulaz primaju tenzore i kao rezultat generisu tenzore. \n",
    "\n",
    "Ova vrsta API-ja se koristi u slucajevima kada se kreiraju nesekvencijalni modeli.  "
   ]
  },
  {
   "cell_type": "code",
   "execution_count": 18,
   "metadata": {},
   "outputs": [],
   "source": [
    "def build_model(image_shape, c):\n",
    "    x_input = Input(image_shape)\n",
    "    \n",
    "    x = ZeroPadding2D(padding=(1,1))(x_input)\n",
    "    x = Conv2D(32, (3, 3), strides=(1, 1))(x)\n",
    "    x = BatchNormalization(axis=3)(x)\n",
    "    x = Activation('relu')(x)\n",
    "    \n",
    "    x = MaxPool2D((2,2))(x)\n",
    "\n",
    "    x = ZeroPadding2D(padding=(1,1))(x)\n",
    "    x = Conv2D(64, (3, 3), strides=(1, 1))(x)\n",
    "    x = BatchNormalization(axis=3)(x)\n",
    "    x = Activation('relu')(x)\n",
    "    \n",
    "    x = MaxPool2D((2,2))(x)\n",
    "\n",
    "    x = ZeroPadding2D(padding=(1,1))(x)\n",
    "    x = Conv2D(16, (3, 3), strides=(1, 1))(x)\n",
    "    x = BatchNormalization(axis=3)(x)\n",
    "    x = Activation('relu')(x)\n",
    "    \n",
    "    x = Flatten()(x)\n",
    "    \n",
    "    x = Dropout(rate=0.1)(x)\n",
    "    x = Dense(units=1024, activation='relu')(x)\n",
    "    y = Dense(c, activation='softmax')(x)\n",
    "    \n",
    "    # Model ocekuje odgovarajuci ulaz i odgovarajuci izlaz, a na osnovu transformacija koje su koriscene da bi se \n",
    "    # od ulaza dobio odgovarajuci izlaz kreira medjuslojeve  \n",
    "    return Model(inputs=x_input, outputs=y, name = 'sign_cnn')"
   ]
  },
  {
   "cell_type": "code",
   "execution_count": 19,
   "metadata": {},
   "outputs": [],
   "source": [
    "image_shape = train_x [0].shape\n",
    "sign_cnn = build_model(image_shape, C)"
   ]
  },
  {
   "cell_type": "code",
   "execution_count": 20,
   "metadata": {},
   "outputs": [
    {
     "name": "stdout",
     "output_type": "stream",
     "text": [
      "_________________________________________________________________\n",
      "Layer (type)                 Output Shape              Param #   \n",
      "=================================================================\n",
      "input_1 (InputLayer)         (None, 64, 64, 3)         0         \n",
      "_________________________________________________________________\n",
      "zero_padding2d_1 (ZeroPaddin (None, 66, 66, 3)         0         \n",
      "_________________________________________________________________\n",
      "conv2d_1 (Conv2D)            (None, 64, 64, 32)        896       \n",
      "_________________________________________________________________\n",
      "batch_normalization_1 (Batch (None, 64, 64, 32)        128       \n",
      "_________________________________________________________________\n",
      "activation_1 (Activation)    (None, 64, 64, 32)        0         \n",
      "_________________________________________________________________\n",
      "max_pooling2d_1 (MaxPooling2 (None, 32, 32, 32)        0         \n",
      "_________________________________________________________________\n",
      "zero_padding2d_2 (ZeroPaddin (None, 34, 34, 32)        0         \n",
      "_________________________________________________________________\n",
      "conv2d_2 (Conv2D)            (None, 32, 32, 64)        18496     \n",
      "_________________________________________________________________\n",
      "batch_normalization_2 (Batch (None, 32, 32, 64)        256       \n",
      "_________________________________________________________________\n",
      "activation_2 (Activation)    (None, 32, 32, 64)        0         \n",
      "_________________________________________________________________\n",
      "max_pooling2d_2 (MaxPooling2 (None, 16, 16, 64)        0         \n",
      "_________________________________________________________________\n",
      "zero_padding2d_3 (ZeroPaddin (None, 18, 18, 64)        0         \n",
      "_________________________________________________________________\n",
      "conv2d_3 (Conv2D)            (None, 16, 16, 16)        9232      \n",
      "_________________________________________________________________\n",
      "batch_normalization_3 (Batch (None, 16, 16, 16)        64        \n",
      "_________________________________________________________________\n",
      "activation_3 (Activation)    (None, 16, 16, 16)        0         \n",
      "_________________________________________________________________\n",
      "flatten_1 (Flatten)          (None, 4096)              0         \n",
      "_________________________________________________________________\n",
      "dropout_1 (Dropout)          (None, 4096)              0         \n",
      "_________________________________________________________________\n",
      "dense_1 (Dense)              (None, 1024)              4195328   \n",
      "_________________________________________________________________\n",
      "dense_2 (Dense)              (None, 6)                 6150      \n",
      "=================================================================\n",
      "Total params: 4,230,550\n",
      "Trainable params: 4,230,326\n",
      "Non-trainable params: 224\n",
      "_________________________________________________________________\n"
     ]
    }
   ],
   "source": [
    "sign_cnn.summary()"
   ]
  },
  {
   "cell_type": "code",
   "execution_count": 21,
   "metadata": {},
   "outputs": [
    {
     "data": {
      "image/svg+xml": [
       "<svg height=\"1359pt\" viewBox=\"0.00 0.00 340.00 1359.00\" width=\"340pt\" xmlns=\"http://www.w3.org/2000/svg\" xmlns:xlink=\"http://www.w3.org/1999/xlink\">\n",
       "<g class=\"graph\" id=\"graph0\" transform=\"scale(1 1) rotate(0) translate(4 1355)\">\n",
       "<title>G</title>\n",
       "<polygon fill=\"#ffffff\" points=\"-4,4 -4,-1355 336,-1355 336,4 -4,4\" stroke=\"transparent\"/>\n",
       "<!-- 140566273251368 -->\n",
       "<g class=\"node\" id=\"node1\">\n",
       "<title>140566273251368</title>\n",
       "<polygon fill=\"none\" points=\"86,-1314.5 86,-1350.5 246,-1350.5 246,-1314.5 86,-1314.5\" stroke=\"#000000\"/>\n",
       "<text fill=\"#000000\" font-family=\"Times,serif\" font-size=\"14.00\" text-anchor=\"middle\" x=\"166\" y=\"-1328.8\">input_1: InputLayer</text>\n",
       "</g>\n",
       "<!-- 140566273250024 -->\n",
       "<g class=\"node\" id=\"node2\">\n",
       "<title>140566273250024</title>\n",
       "<polygon fill=\"none\" points=\"32.5,-1241.5 32.5,-1277.5 299.5,-1277.5 299.5,-1241.5 32.5,-1241.5\" stroke=\"#000000\"/>\n",
       "<text fill=\"#000000\" font-family=\"Times,serif\" font-size=\"14.00\" text-anchor=\"middle\" x=\"166\" y=\"-1255.8\">zero_padding2d_1: ZeroPadding2D</text>\n",
       "</g>\n",
       "<!-- 140566273251368&#45;&gt;140566273250024 -->\n",
       "<g class=\"edge\" id=\"edge1\">\n",
       "<title>140566273251368-&gt;140566273250024</title>\n",
       "<path d=\"M166,-1314.4551C166,-1306.3828 166,-1296.6764 166,-1287.6817\" fill=\"none\" stroke=\"#000000\"/>\n",
       "<polygon fill=\"#000000\" points=\"169.5001,-1287.5903 166,-1277.5904 162.5001,-1287.5904 169.5001,-1287.5903\" stroke=\"#000000\"/>\n",
       "</g>\n",
       "<!-- 140566273251536 -->\n",
       "<g class=\"node\" id=\"node3\">\n",
       "<title>140566273251536</title>\n",
       "<polygon fill=\"none\" points=\"90.5,-1168.5 90.5,-1204.5 241.5,-1204.5 241.5,-1168.5 90.5,-1168.5\" stroke=\"#000000\"/>\n",
       "<text fill=\"#000000\" font-family=\"Times,serif\" font-size=\"14.00\" text-anchor=\"middle\" x=\"166\" y=\"-1182.8\">conv2d_1: Conv2D</text>\n",
       "</g>\n",
       "<!-- 140566273250024&#45;&gt;140566273251536 -->\n",
       "<g class=\"edge\" id=\"edge2\">\n",
       "<title>140566273250024-&gt;140566273251536</title>\n",
       "<path d=\"M166,-1241.4551C166,-1233.3828 166,-1223.6764 166,-1214.6817\" fill=\"none\" stroke=\"#000000\"/>\n",
       "<polygon fill=\"#000000\" points=\"169.5001,-1214.5903 166,-1204.5904 162.5001,-1214.5904 169.5001,-1214.5903\" stroke=\"#000000\"/>\n",
       "</g>\n",
       "<!-- 140566273323976 -->\n",
       "<g class=\"node\" id=\"node4\">\n",
       "<title>140566273323976</title>\n",
       "<polygon fill=\"none\" points=\"0,-1095.5 0,-1131.5 332,-1131.5 332,-1095.5 0,-1095.5\" stroke=\"#000000\"/>\n",
       "<text fill=\"#000000\" font-family=\"Times,serif\" font-size=\"14.00\" text-anchor=\"middle\" x=\"166\" y=\"-1109.8\">batch_normalization_1: BatchNormalization</text>\n",
       "</g>\n",
       "<!-- 140566273251536&#45;&gt;140566273323976 -->\n",
       "<g class=\"edge\" id=\"edge3\">\n",
       "<title>140566273251536-&gt;140566273323976</title>\n",
       "<path d=\"M166,-1168.4551C166,-1160.3828 166,-1150.6764 166,-1141.6817\" fill=\"none\" stroke=\"#000000\"/>\n",
       "<polygon fill=\"#000000\" points=\"169.5001,-1141.5903 166,-1131.5904 162.5001,-1141.5904 169.5001,-1141.5903\" stroke=\"#000000\"/>\n",
       "</g>\n",
       "<!-- 140566253405744 -->\n",
       "<g class=\"node\" id=\"node5\">\n",
       "<title>140566253405744</title>\n",
       "<polygon fill=\"none\" points=\"72.5,-1022.5 72.5,-1058.5 259.5,-1058.5 259.5,-1022.5 72.5,-1022.5\" stroke=\"#000000\"/>\n",
       "<text fill=\"#000000\" font-family=\"Times,serif\" font-size=\"14.00\" text-anchor=\"middle\" x=\"166\" y=\"-1036.8\">activation_1: Activation</text>\n",
       "</g>\n",
       "<!-- 140566273323976&#45;&gt;140566253405744 -->\n",
       "<g class=\"edge\" id=\"edge4\">\n",
       "<title>140566273323976-&gt;140566253405744</title>\n",
       "<path d=\"M166,-1095.4551C166,-1087.3828 166,-1077.6764 166,-1068.6817\" fill=\"none\" stroke=\"#000000\"/>\n",
       "<polygon fill=\"#000000\" points=\"169.5001,-1068.5903 166,-1058.5904 162.5001,-1068.5904 169.5001,-1068.5903\" stroke=\"#000000\"/>\n",
       "</g>\n",
       "<!-- 140566273036808 -->\n",
       "<g class=\"node\" id=\"node6\">\n",
       "<title>140566273036808</title>\n",
       "<polygon fill=\"none\" points=\"39,-949.5 39,-985.5 293,-985.5 293,-949.5 39,-949.5\" stroke=\"#000000\"/>\n",
       "<text fill=\"#000000\" font-family=\"Times,serif\" font-size=\"14.00\" text-anchor=\"middle\" x=\"166\" y=\"-963.8\">max_pooling2d_1: MaxPooling2D</text>\n",
       "</g>\n",
       "<!-- 140566253405744&#45;&gt;140566273036808 -->\n",
       "<g class=\"edge\" id=\"edge5\">\n",
       "<title>140566253405744-&gt;140566273036808</title>\n",
       "<path d=\"M166,-1022.4551C166,-1014.3828 166,-1004.6764 166,-995.6817\" fill=\"none\" stroke=\"#000000\"/>\n",
       "<polygon fill=\"#000000\" points=\"169.5001,-995.5903 166,-985.5904 162.5001,-995.5904 169.5001,-995.5903\" stroke=\"#000000\"/>\n",
       "</g>\n",
       "<!-- 140566253033288 -->\n",
       "<g class=\"node\" id=\"node7\">\n",
       "<title>140566253033288</title>\n",
       "<polygon fill=\"none\" points=\"32.5,-876.5 32.5,-912.5 299.5,-912.5 299.5,-876.5 32.5,-876.5\" stroke=\"#000000\"/>\n",
       "<text fill=\"#000000\" font-family=\"Times,serif\" font-size=\"14.00\" text-anchor=\"middle\" x=\"166\" y=\"-890.8\">zero_padding2d_2: ZeroPadding2D</text>\n",
       "</g>\n",
       "<!-- 140566273036808&#45;&gt;140566253033288 -->\n",
       "<g class=\"edge\" id=\"edge6\">\n",
       "<title>140566273036808-&gt;140566253033288</title>\n",
       "<path d=\"M166,-949.4551C166,-941.3828 166,-931.6764 166,-922.6817\" fill=\"none\" stroke=\"#000000\"/>\n",
       "<polygon fill=\"#000000\" points=\"169.5001,-922.5903 166,-912.5904 162.5001,-922.5904 169.5001,-922.5903\" stroke=\"#000000\"/>\n",
       "</g>\n",
       "<!-- 140566253121488 -->\n",
       "<g class=\"node\" id=\"node8\">\n",
       "<title>140566253121488</title>\n",
       "<polygon fill=\"none\" points=\"90.5,-803.5 90.5,-839.5 241.5,-839.5 241.5,-803.5 90.5,-803.5\" stroke=\"#000000\"/>\n",
       "<text fill=\"#000000\" font-family=\"Times,serif\" font-size=\"14.00\" text-anchor=\"middle\" x=\"166\" y=\"-817.8\">conv2d_2: Conv2D</text>\n",
       "</g>\n",
       "<!-- 140566253033288&#45;&gt;140566253121488 -->\n",
       "<g class=\"edge\" id=\"edge7\">\n",
       "<title>140566253033288-&gt;140566253121488</title>\n",
       "<path d=\"M166,-876.4551C166,-868.3828 166,-858.6764 166,-849.6817\" fill=\"none\" stroke=\"#000000\"/>\n",
       "<polygon fill=\"#000000\" points=\"169.5001,-849.5903 166,-839.5904 162.5001,-849.5904 169.5001,-849.5903\" stroke=\"#000000\"/>\n",
       "</g>\n",
       "<!-- 140566253274840 -->\n",
       "<g class=\"node\" id=\"node9\">\n",
       "<title>140566253274840</title>\n",
       "<polygon fill=\"none\" points=\"0,-730.5 0,-766.5 332,-766.5 332,-730.5 0,-730.5\" stroke=\"#000000\"/>\n",
       "<text fill=\"#000000\" font-family=\"Times,serif\" font-size=\"14.00\" text-anchor=\"middle\" x=\"166\" y=\"-744.8\">batch_normalization_2: BatchNormalization</text>\n",
       "</g>\n",
       "<!-- 140566253121488&#45;&gt;140566253274840 -->\n",
       "<g class=\"edge\" id=\"edge8\">\n",
       "<title>140566253121488-&gt;140566253274840</title>\n",
       "<path d=\"M166,-803.4551C166,-795.3828 166,-785.6764 166,-776.6817\" fill=\"none\" stroke=\"#000000\"/>\n",
       "<polygon fill=\"#000000\" points=\"169.5001,-776.5903 166,-766.5904 162.5001,-776.5904 169.5001,-776.5903\" stroke=\"#000000\"/>\n",
       "</g>\n",
       "<!-- 140566879716352 -->\n",
       "<g class=\"node\" id=\"node10\">\n",
       "<title>140566879716352</title>\n",
       "<polygon fill=\"none\" points=\"72.5,-657.5 72.5,-693.5 259.5,-693.5 259.5,-657.5 72.5,-657.5\" stroke=\"#000000\"/>\n",
       "<text fill=\"#000000\" font-family=\"Times,serif\" font-size=\"14.00\" text-anchor=\"middle\" x=\"166\" y=\"-671.8\">activation_2: Activation</text>\n",
       "</g>\n",
       "<!-- 140566253274840&#45;&gt;140566879716352 -->\n",
       "<g class=\"edge\" id=\"edge9\">\n",
       "<title>140566253274840-&gt;140566879716352</title>\n",
       "<path d=\"M166,-730.4551C166,-722.3828 166,-712.6764 166,-703.6817\" fill=\"none\" stroke=\"#000000\"/>\n",
       "<polygon fill=\"#000000\" points=\"169.5001,-703.5903 166,-693.5904 162.5001,-703.5904 169.5001,-703.5903\" stroke=\"#000000\"/>\n",
       "</g>\n",
       "<!-- 140566305027408 -->\n",
       "<g class=\"node\" id=\"node11\">\n",
       "<title>140566305027408</title>\n",
       "<polygon fill=\"none\" points=\"39,-584.5 39,-620.5 293,-620.5 293,-584.5 39,-584.5\" stroke=\"#000000\"/>\n",
       "<text fill=\"#000000\" font-family=\"Times,serif\" font-size=\"14.00\" text-anchor=\"middle\" x=\"166\" y=\"-598.8\">max_pooling2d_2: MaxPooling2D</text>\n",
       "</g>\n",
       "<!-- 140566879716352&#45;&gt;140566305027408 -->\n",
       "<g class=\"edge\" id=\"edge10\">\n",
       "<title>140566879716352-&gt;140566305027408</title>\n",
       "<path d=\"M166,-657.4551C166,-649.3828 166,-639.6764 166,-630.6817\" fill=\"none\" stroke=\"#000000\"/>\n",
       "<polygon fill=\"#000000\" points=\"169.5001,-630.5903 166,-620.5904 162.5001,-630.5904 169.5001,-630.5903\" stroke=\"#000000\"/>\n",
       "</g>\n",
       "<!-- 140566253120256 -->\n",
       "<g class=\"node\" id=\"node12\">\n",
       "<title>140566253120256</title>\n",
       "<polygon fill=\"none\" points=\"32.5,-511.5 32.5,-547.5 299.5,-547.5 299.5,-511.5 32.5,-511.5\" stroke=\"#000000\"/>\n",
       "<text fill=\"#000000\" font-family=\"Times,serif\" font-size=\"14.00\" text-anchor=\"middle\" x=\"166\" y=\"-525.8\">zero_padding2d_3: ZeroPadding2D</text>\n",
       "</g>\n",
       "<!-- 140566305027408&#45;&gt;140566253120256 -->\n",
       "<g class=\"edge\" id=\"edge11\">\n",
       "<title>140566305027408-&gt;140566253120256</title>\n",
       "<path d=\"M166,-584.4551C166,-576.3828 166,-566.6764 166,-557.6817\" fill=\"none\" stroke=\"#000000\"/>\n",
       "<polygon fill=\"#000000\" points=\"169.5001,-557.5903 166,-547.5904 162.5001,-557.5904 169.5001,-557.5903\" stroke=\"#000000\"/>\n",
       "</g>\n",
       "<!-- 140566262120120 -->\n",
       "<g class=\"node\" id=\"node13\">\n",
       "<title>140566262120120</title>\n",
       "<polygon fill=\"none\" points=\"90.5,-438.5 90.5,-474.5 241.5,-474.5 241.5,-438.5 90.5,-438.5\" stroke=\"#000000\"/>\n",
       "<text fill=\"#000000\" font-family=\"Times,serif\" font-size=\"14.00\" text-anchor=\"middle\" x=\"166\" y=\"-452.8\">conv2d_3: Conv2D</text>\n",
       "</g>\n",
       "<!-- 140566253120256&#45;&gt;140566262120120 -->\n",
       "<g class=\"edge\" id=\"edge12\">\n",
       "<title>140566253120256-&gt;140566262120120</title>\n",
       "<path d=\"M166,-511.4551C166,-503.3828 166,-493.6764 166,-484.6817\" fill=\"none\" stroke=\"#000000\"/>\n",
       "<polygon fill=\"#000000\" points=\"169.5001,-484.5903 166,-474.5904 162.5001,-484.5904 169.5001,-484.5903\" stroke=\"#000000\"/>\n",
       "</g>\n",
       "<!-- 140566273479624 -->\n",
       "<g class=\"node\" id=\"node14\">\n",
       "<title>140566273479624</title>\n",
       "<polygon fill=\"none\" points=\"0,-365.5 0,-401.5 332,-401.5 332,-365.5 0,-365.5\" stroke=\"#000000\"/>\n",
       "<text fill=\"#000000\" font-family=\"Times,serif\" font-size=\"14.00\" text-anchor=\"middle\" x=\"166\" y=\"-379.8\">batch_normalization_3: BatchNormalization</text>\n",
       "</g>\n",
       "<!-- 140566262120120&#45;&gt;140566273479624 -->\n",
       "<g class=\"edge\" id=\"edge13\">\n",
       "<title>140566262120120-&gt;140566273479624</title>\n",
       "<path d=\"M166,-438.4551C166,-430.3828 166,-420.6764 166,-411.6817\" fill=\"none\" stroke=\"#000000\"/>\n",
       "<polygon fill=\"#000000\" points=\"169.5001,-411.5903 166,-401.5904 162.5001,-411.5904 169.5001,-411.5903\" stroke=\"#000000\"/>\n",
       "</g>\n",
       "<!-- 140566277544536 -->\n",
       "<g class=\"node\" id=\"node15\">\n",
       "<title>140566277544536</title>\n",
       "<polygon fill=\"none\" points=\"72.5,-292.5 72.5,-328.5 259.5,-328.5 259.5,-292.5 72.5,-292.5\" stroke=\"#000000\"/>\n",
       "<text fill=\"#000000\" font-family=\"Times,serif\" font-size=\"14.00\" text-anchor=\"middle\" x=\"166\" y=\"-306.8\">activation_3: Activation</text>\n",
       "</g>\n",
       "<!-- 140566273479624&#45;&gt;140566277544536 -->\n",
       "<g class=\"edge\" id=\"edge14\">\n",
       "<title>140566273479624-&gt;140566277544536</title>\n",
       "<path d=\"M166,-365.4551C166,-357.3828 166,-347.6764 166,-338.6817\" fill=\"none\" stroke=\"#000000\"/>\n",
       "<polygon fill=\"#000000\" points=\"169.5001,-338.5903 166,-328.5904 162.5001,-338.5904 169.5001,-338.5903\" stroke=\"#000000\"/>\n",
       "</g>\n",
       "<!-- 140566273888096 -->\n",
       "<g class=\"node\" id=\"node16\">\n",
       "<title>140566273888096</title>\n",
       "<polygon fill=\"none\" points=\"95.5,-219.5 95.5,-255.5 236.5,-255.5 236.5,-219.5 95.5,-219.5\" stroke=\"#000000\"/>\n",
       "<text fill=\"#000000\" font-family=\"Times,serif\" font-size=\"14.00\" text-anchor=\"middle\" x=\"166\" y=\"-233.8\">flatten_1: Flatten</text>\n",
       "</g>\n",
       "<!-- 140566277544536&#45;&gt;140566273888096 -->\n",
       "<g class=\"edge\" id=\"edge15\">\n",
       "<title>140566277544536-&gt;140566273888096</title>\n",
       "<path d=\"M166,-292.4551C166,-284.3828 166,-274.6764 166,-265.6817\" fill=\"none\" stroke=\"#000000\"/>\n",
       "<polygon fill=\"#000000\" points=\"169.5001,-265.5903 166,-255.5904 162.5001,-265.5904 169.5001,-265.5903\" stroke=\"#000000\"/>\n",
       "</g>\n",
       "<!-- 140566273639592 -->\n",
       "<g class=\"node\" id=\"node17\">\n",
       "<title>140566273639592</title>\n",
       "<polygon fill=\"none\" points=\"87.5,-146.5 87.5,-182.5 244.5,-182.5 244.5,-146.5 87.5,-146.5\" stroke=\"#000000\"/>\n",
       "<text fill=\"#000000\" font-family=\"Times,serif\" font-size=\"14.00\" text-anchor=\"middle\" x=\"166\" y=\"-160.8\">dropout_1: Dropout</text>\n",
       "</g>\n",
       "<!-- 140566273888096&#45;&gt;140566273639592 -->\n",
       "<g class=\"edge\" id=\"edge16\">\n",
       "<title>140566273888096-&gt;140566273639592</title>\n",
       "<path d=\"M166,-219.4551C166,-211.3828 166,-201.6764 166,-192.6817\" fill=\"none\" stroke=\"#000000\"/>\n",
       "<polygon fill=\"#000000\" points=\"169.5001,-192.5903 166,-182.5904 162.5001,-192.5904 169.5001,-192.5903\" stroke=\"#000000\"/>\n",
       "</g>\n",
       "<!-- 140566274053344 -->\n",
       "<g class=\"node\" id=\"node18\">\n",
       "<title>140566274053344</title>\n",
       "<polygon fill=\"none\" points=\"102,-73.5 102,-109.5 230,-109.5 230,-73.5 102,-73.5\" stroke=\"#000000\"/>\n",
       "<text fill=\"#000000\" font-family=\"Times,serif\" font-size=\"14.00\" text-anchor=\"middle\" x=\"166\" y=\"-87.8\">dense_1: Dense</text>\n",
       "</g>\n",
       "<!-- 140566273639592&#45;&gt;140566274053344 -->\n",
       "<g class=\"edge\" id=\"edge17\">\n",
       "<title>140566273639592-&gt;140566274053344</title>\n",
       "<path d=\"M166,-146.4551C166,-138.3828 166,-128.6764 166,-119.6817\" fill=\"none\" stroke=\"#000000\"/>\n",
       "<polygon fill=\"#000000\" points=\"169.5001,-119.5903 166,-109.5904 162.5001,-119.5904 169.5001,-119.5903\" stroke=\"#000000\"/>\n",
       "</g>\n",
       "<!-- 140566098493112 -->\n",
       "<g class=\"node\" id=\"node19\">\n",
       "<title>140566098493112</title>\n",
       "<polygon fill=\"none\" points=\"102,-.5 102,-36.5 230,-36.5 230,-.5 102,-.5\" stroke=\"#000000\"/>\n",
       "<text fill=\"#000000\" font-family=\"Times,serif\" font-size=\"14.00\" text-anchor=\"middle\" x=\"166\" y=\"-14.8\">dense_2: Dense</text>\n",
       "</g>\n",
       "<!-- 140566274053344&#45;&gt;140566098493112 -->\n",
       "<g class=\"edge\" id=\"edge18\">\n",
       "<title>140566274053344-&gt;140566098493112</title>\n",
       "<path d=\"M166,-73.4551C166,-65.3828 166,-55.6764 166,-46.6817\" fill=\"none\" stroke=\"#000000\"/>\n",
       "<polygon fill=\"#000000\" points=\"169.5001,-46.5903 166,-36.5904 162.5001,-46.5904 169.5001,-46.5903\" stroke=\"#000000\"/>\n",
       "</g>\n",
       "</g>\n",
       "</svg>"
      ],
      "text/plain": [
       "<IPython.core.display.SVG object>"
      ]
     },
     "metadata": {},
     "output_type": "display_data"
    }
   ],
   "source": [
    "# ili u formi grafa \n",
    "display(SVG(model_to_dot(sign_cnn).create(prog='dot', format='svg')))"
   ]
  },
  {
   "cell_type": "code",
   "execution_count": 22,
   "metadata": {},
   "outputs": [],
   "source": [
    "sign_cnn.compile(optimizer=Adam(lr=0.00075), loss='categorical_crossentropy', metrics=['accuracy'])"
   ]
  },
  {
   "cell_type": "code",
   "execution_count": 23,
   "metadata": {},
   "outputs": [
    {
     "name": "stdout",
     "output_type": "stream",
     "text": [
      "Epoch 1/10\n",
      "1080/1080 [==============================] - 29s 27ms/step - loss: 6.4421 - acc: 0.3167\n",
      "Epoch 2/10\n",
      "1080/1080 [==============================] - 28s 26ms/step - loss: 5.6018 - acc: 0.5769\n",
      "Epoch 3/10\n",
      "1080/1080 [==============================] - 28s 26ms/step - loss: 5.4439 - acc: 0.6417\n",
      "Epoch 4/10\n",
      "1080/1080 [==============================] - 28s 26ms/step - loss: 5.3928 - acc: 0.6602\n",
      "Epoch 5/10\n",
      "1080/1080 [==============================] - 28s 25ms/step - loss: 5.3799 - acc: 0.6667\n",
      "Epoch 6/10\n",
      "1080/1080 [==============================] - 28s 26ms/step - loss: 5.3760 - acc: 0.6667\n",
      "Epoch 7/10\n",
      "1080/1080 [==============================] - 33s 31ms/step - loss: 5.3753 - acc: 0.6667\n",
      "Epoch 8/10\n",
      "1080/1080 [==============================] - 30s 28ms/step - loss: 5.3743 - acc: 0.6667\n",
      "Epoch 9/10\n",
      "1080/1080 [==============================] - 28s 26ms/step - loss: 5.3743 - acc: 0.6667\n",
      "Epoch 10/10\n",
      "1080/1080 [==============================] - 27s 25ms/step - loss: 5.3739 - acc: 0.6667\n"
     ]
    },
    {
     "data": {
      "text/plain": [
       "<keras.callbacks.History at 0x7fd818022080>"
      ]
     },
     "execution_count": 23,
     "metadata": {},
     "output_type": "execute_result"
    }
   ],
   "source": [
    "sign_cnn.fit(train_x, train_y, epochs=10, batch_size=64)"
   ]
  },
  {
   "cell_type": "code",
   "execution_count": 25,
   "metadata": {},
   "outputs": [
    {
     "name": "stdout",
     "output_type": "stream",
     "text": [
      "120/120 [==============================] - 1s 12ms/step\n"
     ]
    }
   ],
   "source": [
    "loss, accuracy = sign_cnn.evaluate(test_x, test_y)"
   ]
  },
  {
   "cell_type": "code",
   "execution_count": 26,
   "metadata": {},
   "outputs": [
    {
     "name": "stdout",
     "output_type": "stream",
     "text": [
      "Test loss: 5.444115861256917\n",
      "Test accuracy: 0.6583333293596904\n"
     ]
    }
   ],
   "source": [
    "print('Test loss: {}'.format(loss))\n",
    "print('Test accuracy: {}'.format(accuracy))"
   ]
  },
  {
   "cell_type": "code",
   "execution_count": null,
   "metadata": {},
   "outputs": [],
   "source": []
  }
 ],
 "metadata": {
  "kernelspec": {
   "display_name": "Python 3",
   "language": "python",
   "name": "python3"
  },
  "language_info": {
   "codemirror_mode": {
    "name": "ipython",
    "version": 3
   },
   "file_extension": ".py",
   "mimetype": "text/x-python",
   "name": "python",
   "nbconvert_exporter": "python",
   "pygments_lexer": "ipython3",
   "version": "3.7.0"
  }
 },
 "nbformat": 4,
 "nbformat_minor": 2
}
