{
 "cells": [
  {
   "cell_type": "markdown",
   "metadata": {},
   "source": [
    "Materijal je pripremljen po uzoru na knjigu http://neuralnetworksanddeeplearning.com/chap1.html"
   ]
  },
  {
   "cell_type": "code",
   "execution_count": 1,
   "metadata": {},
   "outputs": [],
   "source": [
    "import numpy as np\n",
    "import random"
   ]
  },
  {
   "cell_type": "code",
   "execution_count": 2,
   "metadata": {},
   "outputs": [],
   "source": [
    "def sigmoid(z):\n",
    "    return 1/(1+np.exp(-z))"
   ]
  },
  {
   "cell_type": "code",
   "execution_count": 3,
   "metadata": {},
   "outputs": [
    {
     "data": {
      "text/plain": [
       "0.5"
      ]
     },
     "execution_count": 3,
     "metadata": {},
     "output_type": "execute_result"
    }
   ],
   "source": [
    "sigmoid(0)"
   ]
  },
  {
   "cell_type": "code",
   "execution_count": 4,
   "metadata": {},
   "outputs": [],
   "source": [
    "def sigmoid_prime(z):\n",
    "    return sigmoid(z)* (1-sigmoid(z))"
   ]
  },
  {
   "cell_type": "code",
   "execution_count": 5,
   "metadata": {},
   "outputs": [
    {
     "data": {
      "text/plain": [
       "0.25"
      ]
     },
     "execution_count": 5,
     "metadata": {},
     "output_type": "execute_result"
    }
   ],
   "source": [
    "sigmoid_prime(0)"
   ]
  },
  {
   "cell_type": "code",
   "execution_count": null,
   "metadata": {},
   "outputs": [],
   "source": []
  },
  {
   "cell_type": "markdown",
   "metadata": {},
   "source": [
    "Algoritam koji cemo implementirati se sastoji od sledecih koraka: \n",
    "<img src='backpropagation_algorithm_summary.png'>"
   ]
  },
  {
   "cell_type": "code",
   "execution_count": 80,
   "metadata": {},
   "outputs": [],
   "source": [
    "class Network:\n",
    "    # mreza ocekuje listu koja sadrzi brojeve neurona pojedinacnih slojeva\n",
    "    def __init__(self, sizes):\n",
    "        self.number_of_layers = len(sizes)\n",
    "        self.sizes = sizes\n",
    "        self.biases = [ np.random.randn(y, 1) for y in sizes[1:]]\n",
    "        self.weights = [ np.random.randn(y, x) for x, y in zip(sizes[:-1], sizes[1:])]\n",
    "        \n",
    "        \n",
    "    # prolaz unapred kroz mrezu    \n",
    "    def feedforward(self, network_input):\n",
    "        for b, w in zip(self.biases, self.weights):\n",
    "            network_input = sigmoid(np.dot(w,network_input) + b)\n",
    "            \n",
    "        return network_input\n",
    "    \n",
    "    \n",
    "    def SGD(self, training_inputs, training_results, epochs, mini_batch_size, alpha, test_data = None):\n",
    "        n = len(training_inputs)\n",
    "        \n",
    "        for epoch in range(0, epochs): \n",
    "            # data randomization\n",
    "#             training_data = list(zip(training_inputs, training_results))\n",
    "#             random.shuffle(training_data)\n",
    "#             training_inputs = training_data[0]\n",
    "#             training_results = training_data[1]\n",
    "            \n",
    "            mini_batches = [(training_inputs[k: k+mini_batch_size], \\\n",
    "                             training_results[k: k+mini_batch_size] ) \\\n",
    "                            for k in range(0, n, mini_batch_size)]\n",
    "        \n",
    "            for mini_batch in mini_batches: \n",
    "                self.update_mini_batch(mini_batch, alpha)\n",
    "            \n",
    "            if test_data: \n",
    "                print(\"Epoche {0}: {1}/{2}\".\\\n",
    "                      format(epoch, self.evaluate(test_data[0], test_data[1]), n)) \n",
    "            else:\n",
    "                print(\"Epoche {0} completed\".format(epoch))\n",
    "            \n",
    "            \n",
    "    def backgropagation(self, x, y):\n",
    "        nabla_b = [np.zeros(b.shape) for b in self.biases]\n",
    "        nabla_w = [np.zeros(w.shape) for w in self.weights]\n",
    "        \n",
    "        activations = [x]\n",
    "        activation = x\n",
    "        \n",
    "        zs = []\n",
    "        \n",
    "        #forward pass\n",
    "        for b, w in zip(self.biases, self.weights):\n",
    "            z = np.dot(w, activation) + b\n",
    "            zs.append(z)\n",
    "            activation = sigmoid(z)\n",
    "            activations.append(activation)\n",
    "       \n",
    "        #backward pass\n",
    "        delta = self.cost_derivate(activations[-1], y)*sigmoid_prime(zs[-1])\n",
    "       \n",
    "        nabla_b[-1] = delta \n",
    "        nabla_w[-1] = np.dot(delta, activations[-2].transpose())\n",
    "        \n",
    "        \n",
    "        for layer in range(2, self.number_of_layers):\n",
    "            z = zs[-layer]\n",
    "            sp = sigmoid_prime(z)\n",
    "            delta = np.dot(self.weights[-layer+1].transpose(), delta)*sp\n",
    "            nabla_b[-layer] = delta\n",
    "            nabla_w[-layer] = np.dot(delta, activations[-layer-1].transpose())\n",
    "            \n",
    "            \n",
    "        return (nabla_b, nabla_w)\n",
    "\n",
    "    \n",
    "    def cost_derivate(self, activation, y):\n",
    "        return activation - y\n",
    "    \n",
    "    def update_mini_batch(self, mini_batch, alpha):\n",
    "        n = len(mini_batch)\n",
    "        \n",
    "        nabla_b = [np.zeros(b.shape) for b in self.biases]\n",
    "        nabla_w = [np.zeros(w.shape) for w in self.weights]\n",
    "        \n",
    "        \n",
    "        for x, y in zip(mini_batch[0], mini_batch[1]):\n",
    "            delta_nabla_b, delta_nabla_w = self.backgropagation(x, y)\n",
    "            nabla_b = [nb + dnb for nb, dnb in zip(nabla_b, delta_nabla_b)]\n",
    "            nabla_w = [nw + dnw for nw, dnw in zip(nabla_w, delta_nabla_w)]\n",
    "\n",
    "\n",
    "        self.weights = [w - alpha/n*nw for w, nw in zip(self.weights, nabla_w)]\n",
    "        self.biases = [b - alpha/n*nb for b, nb in zip(self.biases, nabla_b)]\n",
    "\n",
    "\n",
    "    def evaluate(self, test_inputs, test_results):\n",
    "        results = [(np.argmax(self.feedforward(x)), np.argmax(y)) for x, y in zip(test_inputs, test_results)] \n",
    "        return sum([ int(y_predicted ==y) for y_predicted, y in results]) \n",
    "        \n",
    "        "
   ]
  },
  {
   "cell_type": "code",
   "execution_count": 67,
   "metadata": {},
   "outputs": [],
   "source": [
    "# results = [ (np.argmax(network.feedforward(x)), y) for x, y in zip(test_inputs, test_results)] "
   ]
  },
  {
   "cell_type": "code",
   "execution_count": 68,
   "metadata": {},
   "outputs": [],
   "source": [
    "# results[0:10]"
   ]
  },
  {
   "cell_type": "code",
   "execution_count": 69,
   "metadata": {},
   "outputs": [],
   "source": [
    "network = Network([784, 30, 10])"
   ]
  },
  {
   "cell_type": "code",
   "execution_count": 70,
   "metadata": {},
   "outputs": [
    {
     "data": {
      "text/plain": [
       "[(30, 784), (10, 30)]"
      ]
     },
     "execution_count": 70,
     "metadata": {},
     "output_type": "execute_result"
    }
   ],
   "source": [
    "[w.shape for w in network.weights]"
   ]
  },
  {
   "cell_type": "markdown",
   "metadata": {},
   "source": [
    "Ucitavanje i priprema podataka:"
   ]
  },
  {
   "cell_type": "code",
   "execution_count": 71,
   "metadata": {},
   "outputs": [],
   "source": [
    "from keras.datasets import mnist"
   ]
  },
  {
   "cell_type": "code",
   "execution_count": 72,
   "metadata": {},
   "outputs": [],
   "source": [
    "(x_train, y_train), (x_test, y_test)= mnist.load_data()"
   ]
  },
  {
   "cell_type": "code",
   "execution_count": 73,
   "metadata": {},
   "outputs": [],
   "source": [
    "x_train = x_train.astype('float32')\n",
    "x_test = x_test.astype('float32')"
   ]
  },
  {
   "cell_type": "code",
   "execution_count": 74,
   "metadata": {},
   "outputs": [],
   "source": [
    "x_train = x_train/255\n",
    "x_test = x_test/255"
   ]
  },
  {
   "cell_type": "code",
   "execution_count": 75,
   "metadata": {},
   "outputs": [],
   "source": [
    "training_inputs = [ np.reshape(x, (784, 1)) for x in x_train]\n",
    "test_inputs = [ np.reshape(x, (784, 1)) for x in x_test]"
   ]
  },
  {
   "cell_type": "code",
   "execution_count": 76,
   "metadata": {},
   "outputs": [],
   "source": [
    "def vectorize(digit):\n",
    "    v = np.zeros((10, 1))\n",
    "    v[digit] = 1\n",
    "    \n",
    "    return v"
   ]
  },
  {
   "cell_type": "code",
   "execution_count": 77,
   "metadata": {},
   "outputs": [],
   "source": [
    "training_results = [vectorize(y) for y in y_train]\n",
    "test_results = [vectorize(y) for y in y_test]"
   ]
  },
  {
   "cell_type": "code",
   "execution_count": 78,
   "metadata": {},
   "outputs": [
    {
     "name": "stdout",
     "output_type": "stream",
     "text": [
      "Epoche 0: 49054/60000\n",
      "Epoche 1: 52761/60000\n",
      "Epoche 2: 54013/60000\n",
      "Epoche 3: 54701/60000\n",
      "Epoche 4: 55112/60000\n",
      "Epoche 5: 55434/60000\n",
      "Epoche 6: 55676/60000\n",
      "Epoche 7: 55887/60000\n",
      "Epoche 8: 56053/60000\n",
      "Epoche 9: 56195/60000\n"
     ]
    }
   ],
   "source": [
    "network.SGD(training_inputs, training_results, 10, 128, 0.1,(training_inputs, training_results))"
   ]
  },
  {
   "cell_type": "code",
   "execution_count": 79,
   "metadata": {},
   "outputs": [
    {
     "data": {
      "text/plain": [
       "0.9365833333333333"
      ]
     },
     "execution_count": 79,
     "metadata": {},
     "output_type": "execute_result"
    }
   ],
   "source": [
    "56195/60000"
   ]
  },
  {
   "cell_type": "markdown",
   "metadata": {},
   "source": [
    "### Za vezbu: \n",
    "* eksperimentisati sa razlicitim brojem slojeva u mrezi\n",
    "* eksperimentisati sa drugacijim inicijalizacijama matrice koeficijenata\n",
    "* eksperimentisati sa drugim aktivacionim funkcijama"
   ]
  },
  {
   "cell_type": "code",
   "execution_count": null,
   "metadata": {},
   "outputs": [],
   "source": []
  }
 ],
 "metadata": {
  "kernelspec": {
   "display_name": "Python 3",
   "language": "python",
   "name": "python3"
  },
  "language_info": {
   "codemirror_mode": {
    "name": "ipython",
    "version": 3
   },
   "file_extension": ".py",
   "mimetype": "text/x-python",
   "name": "python",
   "nbconvert_exporter": "python",
   "pygments_lexer": "ipython3",
   "version": "3.7.0"
  }
 },
 "nbformat": 4,
 "nbformat_minor": 2
}
