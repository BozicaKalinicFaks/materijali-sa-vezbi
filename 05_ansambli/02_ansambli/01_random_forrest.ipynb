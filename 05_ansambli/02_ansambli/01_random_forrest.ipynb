{
 "cells": [
  {
   "cell_type": "code",
   "execution_count": 8,
   "metadata": {},
   "outputs": [],
   "source": [
    "from sklearn import ensemble\n",
    "from sklearn import preprocessing\n",
    "from sklearn import tree\n",
    "from sklearn import model_selection\n",
    "from sklearn import metrics"
   ]
  },
  {
   "cell_type": "code",
   "execution_count": 3,
   "metadata": {},
   "outputs": [],
   "source": [
    "import numpy as np\n",
    "import matplotlib.pyplot as plt\n",
    "%matplotlib inline"
   ]
  },
  {
   "cell_type": "code",
   "execution_count": 4,
   "metadata": {},
   "outputs": [
    {
     "data": {
      "text/plain": [
       "(1000, 2)"
      ]
     },
     "execution_count": 4,
     "metadata": {},
     "output_type": "execute_result"
    }
   ],
   "source": [
    "x1 = np.random.uniform(-1, 1, 1000)\n",
    "x2 = np.random.uniform(-1, 1, 1000)\n",
    "x = np.vstack([x1, x2]).transpose()\n",
    "x.shape"
   ]
  },
  {
   "cell_type": "code",
   "execution_count": 5,
   "metadata": {},
   "outputs": [],
   "source": [
    "def f(x1_i, x2_i):\n",
    "    return 2*(x1_i**2 + x2_i**2 <= 0.5) - 1"
   ]
  },
  {
   "cell_type": "code",
   "execution_count": 6,
   "metadata": {},
   "outputs": [],
   "source": [
    "y = f(x1, x2)"
   ]
  },
  {
   "cell_type": "code",
   "execution_count": 7,
   "metadata": {},
   "outputs": [
    {
     "data": {
      "image/png": "[encoded data removed]",
      "text/plain": [
       "<Figure size 432x288 with 1 Axes>"
      ]
     },
     "metadata": {
      "needs_background": "light"
     },
     "output_type": "display_data"
    }
   ],
   "source": [
    "for (x1_i, x2_i) in zip(x1, x2):\n",
    "    plt.scatter(x1_i, x2_i,\n",
    "                c = ['blue' if f(x1_i, x2_i) == -1 else 'red'],\n",
    "                marker='o' if f(x1_i, x2_i) == -1 else 'x')"
   ]
  },
  {
   "cell_type": "code",
   "execution_count": 9,
   "metadata": {},
   "outputs": [
    {
     "name": "stderr",
     "output_type": "stream",
     "text": [
      "/usr/lib/python3.7/site-packages/sklearn/model_selection/_split.py:2026: FutureWarning: From version 0.21, test_size will always complement train_size unless both are specified.\n",
      "  FutureWarning)\n"
     ]
    }
   ],
   "source": [
    "X_train, X_test, y_train, y_test = model_selection.train_test_split(x, y, train_size=0.7, stratify=y)"
   ]
  },
  {
   "cell_type": "code",
   "execution_count": 35,
   "metadata": {},
   "outputs": [],
   "source": [
    "def perform_classification(model, data, name):\n",
    "    X_train, X_test, y_train, y_test = data\n",
    "    model.fit(X_train, y_train)\n",
    "    y_train_pred = model.predict(X_train)\n",
    "    y_test_pred = model.predict(X_test)\n",
    "    print('Model: {}'.format(name))\n",
    "    print('Train report: {}'.format(metrics.classification_report(y_train, y_train_pred)))\n",
    "    print('Test report: {}'.format(metrics.classification_report(y_train, y_train_pred)))"
   ]
  },
  {
   "cell_type": "code",
   "execution_count": 55,
   "metadata": {},
   "outputs": [],
   "source": [
    "tree_clf = tree.DecisionTreeClassifier(max_depth=2)"
   ]
  },
  {
   "cell_type": "code",
   "execution_count": 56,
   "metadata": {},
   "outputs": [
    {
     "name": "stdout",
     "output_type": "stream",
     "text": [
      "Model: Decision Tree\n",
      "Train report:              precision    recall  f1-score   support\n",
      "\n",
      "         -1       0.97      0.58      0.73       415\n",
      "          1       0.62      0.97      0.75       285\n",
      "\n",
      "avg / total       0.82      0.74      0.74       700\n",
      "\n",
      "Test report:              precision    recall  f1-score   support\n",
      "\n",
      "         -1       0.97      0.58      0.73       415\n",
      "          1       0.62      0.97      0.75       285\n",
      "\n",
      "avg / total       0.82      0.74      0.74       700\n",
      "\n"
     ]
    }
   ],
   "source": [
    "perform_classification(tree_clf, (X_train, X_test, y_train, y_test), 'Decision Tree')"
   ]
  },
  {
   "cell_type": "code",
   "execution_count": 57,
   "metadata": {},
   "outputs": [
    {
     "name": "stdout",
     "output_type": "stream",
     "text": [
      "Model: Random Forrest\n",
      "Train report:              precision    recall  f1-score   support\n",
      "\n",
      "         -1       0.97      0.75      0.85       415\n",
      "          1       0.73      0.96      0.83       285\n",
      "\n",
      "avg / total       0.87      0.84      0.84       700\n",
      "\n",
      "Test report:              precision    recall  f1-score   support\n",
      "\n",
      "         -1       0.97      0.75      0.85       415\n",
      "          1       0.73      0.96      0.83       285\n",
      "\n",
      "avg / total       0.87      0.84      0.84       700\n",
      "\n"
     ]
    }
   ],
   "source": [
    "clf = ensemble.RandomForestClassifier(max_depth=2)\n",
    "perform_classification(clf, (X_train, X_test, y_train, y_test), 'Random Forrest')"
   ]
  },
  {
   "cell_type": "code",
   "execution_count": 58,
   "metadata": {},
   "outputs": [
    {
     "name": "stdout",
     "output_type": "stream",
     "text": [
      "Number of created estimators: 10\n",
      "Number of created estimators: 10\n"
     ]
    }
   ],
   "source": [
    "print('Number of created estimators: {}'.format(len(clf.estimators_)))\n",
    "print('Number of created estimators: {}'.format(clf.n_estimators))"
   ]
  },
  {
   "cell_type": "code",
   "execution_count": 45,
   "metadata": {},
   "outputs": [
    {
     "name": "stdout",
     "output_type": "stream",
     "text": [
      "Klase u klasifikaciji: [-1  1]\n"
     ]
    }
   ],
   "source": [
    "print('Klase u klasifikaciji: {}'.format(clf.classes_))"
   ]
  },
  {
   "cell_type": "code",
   "execution_count": 46,
   "metadata": {},
   "outputs": [
    {
     "name": "stdout",
     "output_type": "stream",
     "text": [
      "Broj atributa: 2\n"
     ]
    }
   ],
   "source": [
    "print('Broj atributa: {}'.format(clf.n_features_))"
   ]
  },
  {
   "cell_type": "code",
   "execution_count": 49,
   "metadata": {},
   "outputs": [
    {
     "name": "stdout",
     "output_type": "stream",
     "text": [
      "Vaznost atributa: [0.46200876 0.53799124]\n"
     ]
    }
   ],
   "source": [
    "print('Vaznost atributa: {}'.format(clf.feature_importances_))"
   ]
  }
 ],
 "metadata": {
  "kernelspec": {
   "display_name": "Python 3",
   "language": "python",
   "name": "python3"
  },
  "language_info": {
   "codemirror_mode": {
    "name": "ipython",
    "version": 3
   },
   "file_extension": ".py",
   "mimetype": "text/x-python",
   "name": "python",
   "nbconvert_exporter": "python",
   "pygments_lexer": "ipython3",
   "version": "3.7.0"
  }
 },
 "nbformat": 4,
 "nbformat_minor": 2
}
