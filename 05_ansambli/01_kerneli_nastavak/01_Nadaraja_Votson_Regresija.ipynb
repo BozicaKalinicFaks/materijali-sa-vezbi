{
 "cells": [
  {
   "cell_type": "code",
   "execution_count": 1,
   "metadata": {},
   "outputs": [],
   "source": [
    "import numpy as np\n",
    "import matplotlib.pyplot as plt\n",
    "%matplotlib inline"
   ]
  },
  {
   "cell_type": "code",
   "execution_count": 2,
   "metadata": {},
   "outputs": [],
   "source": [
    "def kernel(x1, x2, bandwidth):\n",
    "    e = np.exp(-0.5*((x1-x2)**2) / bandwidth**2)\n",
    "    return e / np.sqrt(2*np.pi*bandwidth**2)"
   ]
  },
  {
   "cell_type": "code",
   "execution_count": 3,
   "metadata": {},
   "outputs": [],
   "source": [
    "x = np.random.uniform(-1, 1, 100)"
   ]
  },
  {
   "cell_type": "code",
   "execution_count": 4,
   "metadata": {},
   "outputs": [],
   "source": [
    "z = np.zeros(100)"
   ]
  },
  {
   "cell_type": "code",
   "execution_count": 5,
   "metadata": {},
   "outputs": [
    {
     "name": "stdout",
     "output_type": "stream",
     "text": [
      "(100,)\n",
      "(100,)\n"
     ]
    }
   ],
   "source": [
    "print(x.shape)\n",
    "print(z.shape)"
   ]
  },
  {
   "cell_type": "markdown",
   "metadata": {},
   "source": [
    "Slika ilustruje kako se kernel koristi kao mera slicnosti izmedju instanci.\n",
    "Kako se porede vektori $x$ i $z$, kernel ima vece vrednosti oko 0 sa obzirom da\n",
    "tu vrednost vektora $x$ biva vrlo slicna vrednostima vektora $z$ (koji je nula svuda)."
   ]
  },
  {
   "cell_type": "code",
   "execution_count": 6,
   "metadata": {},
   "outputs": [
    {
     "data": {
      "text/plain": [
       "<matplotlib.collections.PathCollection at 0x7f51d3c5e5c0>"
      ]
     },
     "execution_count": 6,
     "metadata": {},
     "output_type": "execute_result"
    },
    {
     "data": {
      "image/png": "[encoded data removed]",
      "text/plain": [
       "<Figure size 720x360 with 1 Axes>"
      ]
     },
     "metadata": {
      "needs_background": "light"
     },
     "output_type": "display_data"
    }
   ],
   "source": [
    "plt.figure(figsize=(10,5))\n",
    "plt.scatter(x, kernel(z, x, 0.1), color='aqua')"
   ]
  },
  {
   "cell_type": "code",
   "execution_count": 7,
   "metadata": {},
   "outputs": [],
   "source": [
    "y = (x+1)**2 + np.random.randn(x.size)"
   ]
  },
  {
   "cell_type": "code",
   "execution_count": 8,
   "metadata": {},
   "outputs": [
    {
     "data": {
      "text/plain": [
       "<matplotlib.collections.PathCollection at 0x7f51d19e0d68>"
      ]
     },
     "execution_count": 8,
     "metadata": {},
     "output_type": "execute_result"
    },
    {
     "data": {
      "image/png": "[encoded data removed]",
      "text/plain": [
       "<Figure size 432x288 with 1 Axes>"
      ]
     },
     "metadata": {
      "needs_background": "light"
     },
     "output_type": "display_data"
    }
   ],
   "source": [
    "plt.scatter(x, y)"
   ]
  },
  {
   "cell_type": "markdown",
   "metadata": {},
   "source": [
    "Model:\n",
    "$$\n",
    "\\frac{\\sum_{i=1}^{N} K_\\sigma (x - x_i) \\cdot y_i}{\\sum_{j=1}^{N} K_\\sigma(x - x_j)}\n",
    "$$\n",
    "\n",
    "U nasem primeru je nesto drugacije definisan kernel, odnosno funkcija kernela prihvata dve vrednosti ciju razliku konstruise prilikom izracunavanja."
   ]
  },
  {
   "cell_type": "code",
   "execution_count": 9,
   "metadata": {},
   "outputs": [],
   "source": [
    "def estimator(x_new, x, y, bandwidth):\n",
    "    \"\"\"\n",
    "    Performs Nadaraya-Watson regression.\n",
    "    \"\"\"\n",
    "    kernel_value = kernel(x, x_new, bandwidth)\n",
    "    return np.sum(kernel_value * y) / np.sum(kernel_value)"
   ]
  },
  {
   "cell_type": "code",
   "execution_count": 10,
   "metadata": {},
   "outputs": [],
   "source": [
    "def randomize(x, y):\n",
    "    \"\"\"\n",
    "    Shuffles vectors x and y.\n",
    "    \"\"\"\n",
    "    indexes = np.arange(x.size)\n",
    "    np.random.shuffle(indexes)\n",
    "    return x[indexes], y[indexes]"
   ]
  },
  {
   "cell_type": "code",
   "execution_count": 11,
   "metadata": {},
   "outputs": [],
   "source": [
    "def split_datasets(x, y, ratio=2/3):\n",
    "    \"\"\"\n",
    "    Splits x and y into two subvectors with given ratio.\n",
    "    \"\"\"\n",
    "    x, y = randomize(x, y)\n",
    "    N = x.size\n",
    "    \n",
    "    # Take train_validation subset\n",
    "    x_train_validation = x[:int(N*ratio)]\n",
    "    y_train_validation = y[:int(N*ratio)]\n",
    "    \n",
    "    # Take test subset\n",
    "    x_test = x[int(N*ratio):]\n",
    "    y_test = y[int(N*ratio):]\n",
    "    \n",
    "    return x_train_validation, y_train_validation, x_test, y_test"
   ]
  },
  {
   "cell_type": "code",
   "execution_count": 12,
   "metadata": {},
   "outputs": [],
   "source": [
    "def mse(residuals):\n",
    "    \"\"\" Calculates mean squared error by using given residuals \"\"\"\n",
    "    residuals = np.array(residuals)\n",
    "    return np.mean(residuals**2)"
   ]
  },
  {
   "cell_type": "code",
   "execution_count": 13,
   "metadata": {},
   "outputs": [],
   "source": [
    "def mae(residuals):\n",
    "    \"\"\" Calculates mean absolute error by using given residuals \"\"\"\n",
    "    residuals = np.array(residuals)\n",
    "    return np.mean(np.abs(residuals))"
   ]
  },
  {
   "cell_type": "markdown",
   "metadata": {},
   "source": [
    "Vrsimo Nadaraja Votson regresiju."
   ]
  },
  {
   "cell_type": "code",
   "execution_count": 14,
   "metadata": {},
   "outputs": [],
   "source": [
    "x_train_validation, y_train_validation, x_test, y_test = split_datasets(x, y)"
   ]
  },
  {
   "cell_type": "code",
   "execution_count": 15,
   "metadata": {},
   "outputs": [],
   "source": [
    "bandwidths = np.array([0.01, 0.1, 0.5, 1, 5, 10, 100])"
   ]
  },
  {
   "cell_type": "code",
   "execution_count": 16,
   "metadata": {},
   "outputs": [
    {
     "name": "stdout",
     "output_type": "stream",
     "text": [
      "(66,)\n",
      "66\n"
     ]
    }
   ],
   "source": [
    "print(x_train_validation.shape)\n",
    "print(x_train_validation.size)"
   ]
  },
  {
   "cell_type": "code",
   "execution_count": 17,
   "metadata": {},
   "outputs": [],
   "source": [
    "errors = []\n",
    "\n",
    "for bandwidth in bandwidths:\n",
    "    leave_one_out_errors = np.zeros(x_train_validation.size)\n",
    "    \n",
    "    for i in range(0, x_train_validation.size):\n",
    "        # Izbacujemo i-tu instancu iz podataka.\n",
    "        # x_fit i y_fit su skupovi instanci BEZ i-te instance.\n",
    "        x_fit = np.delete(x_train_validation, i)\n",
    "        y_fit = np.delete(y_train_validation, i)\n",
    "        \n",
    "        # predvidjamo i-tu instancu (x_train_validation[i]) na osnovu originalnih podataka BEZ nje (x_fit, y_fit).\n",
    "        y_predicted = estimator(x_train_validation[i], x_fit, y_fit, bandwidth)\n",
    "        \n",
    "        # Izracunavamo rezidual i upisujemo je u vektor reziduala.\n",
    "        error = y_train_validation[i] - y_predicted\n",
    "        leave_one_out_errors[i] = error\n",
    "        \n",
    "    error = mse(leave_one_out_errors)\n",
    "    errors.append(error)\n",
    "    \n",
    "errors = np.array(errors)"
   ]
  },
  {
   "cell_type": "code",
   "execution_count": 18,
   "metadata": {},
   "outputs": [
    {
     "data": {
      "text/plain": [
       "array([2.2377364 , 1.26211416, 1.33011349, 1.80585351, 2.33060003,\n",
       "       2.35303828, 2.3605334 ])"
      ]
     },
     "execution_count": 18,
     "metadata": {},
     "output_type": "execute_result"
    }
   ],
   "source": [
    "errors"
   ]
  },
  {
   "cell_type": "code",
   "execution_count": 23,
   "metadata": {},
   "outputs": [
    {
     "data": {
      "text/plain": [
       "0.1"
      ]
     },
     "execution_count": 23,
     "metadata": {},
     "output_type": "execute_result"
    }
   ],
   "source": [
    "# Uzimamo bandwidth koji je prouzrokovao najmanju gresku.\n",
    "best_bandwidth = bandwidths[np.argmin(errors)]\n",
    "best_bandwidth"
   ]
  },
  {
   "cell_type": "markdown",
   "metadata": {},
   "source": [
    "Vrsimo testiranje na test skupu za najbolji bandwidth koji smo pronasli."
   ]
  },
  {
   "cell_type": "code",
   "execution_count": 20,
   "metadata": {},
   "outputs": [],
   "source": [
    "y_predictions = []\n",
    "test_errors = []\n",
    "\n",
    "# Prolazimo kroz test skup instancu po instancu\n",
    "for x_new, y_new in zip(x_test, y_test):\n",
    "    # Vrsimo predikciju za instancu 'x_new'\n",
    "    # na osnovu originalnih podataka (ne uzimamo u obzir podatke za testiranje)\n",
    "    y_predicted = estimator(x_new, x_train_validation, y_train_validation, best_bandwidth)\n",
    "    \n",
    "    # Upisujemo predikciju\n",
    "    y_predictions.append(y_predicted)\n",
    "    \n",
    "    # Belezimo gresku (odnosno pamtimo reziduale)\n",
    "    error = y_predicted - y_new\n",
    "    test_errors.append(error)"
   ]
  },
  {
   "cell_type": "code",
   "execution_count": 21,
   "metadata": {},
   "outputs": [
    {
     "data": {
      "text/plain": [
       "1.0205441099462222"
      ]
     },
     "execution_count": 21,
     "metadata": {},
     "output_type": "execute_result"
    }
   ],
   "source": [
    "test_error = mse(test_errors)\n",
    "test_error"
   ]
  },
  {
   "cell_type": "code",
   "execution_count": 22,
   "metadata": {},
   "outputs": [
    {
     "data": {
      "text/plain": [
       "<matplotlib.collections.PathCollection at 0x7f51d195ec18>"
      ]
     },
     "execution_count": 22,
     "metadata": {},
     "output_type": "execute_result"
    },
    {
     "data": {
      "image/png": "[encoded data removed]",
      "text/plain": [
       "<Figure size 432x288 with 1 Axes>"
      ]
     },
     "metadata": {
      "needs_background": "light"
     },
     "output_type": "display_data"
    }
   ],
   "source": [
    "# Iscrtavamo instance iz skupa za testiranje\n",
    "plt.scatter(x_test, y_test, color='blue')\n",
    "\n",
    "# Iscrtavamo predikcije za instance iz skupa za testiranje\n",
    "plt.scatter(x_test, y_predictions, color='orange')\n",
    "\n",
    "# Iscrtavamo tacke iz ciljne funkcije\n",
    "plt.scatter(x_test, (x_test + 1)**2, color='red')"
   ]
  }
 ],
 "metadata": {
  "kernelspec": {
   "display_name": "Python 3",
   "language": "python",
   "name": "python3"
  },
  "language_info": {
   "codemirror_mode": {
    "name": "ipython",
    "version": 3
   },
   "file_extension": ".py",
   "mimetype": "text/x-python",
   "name": "python",
   "nbconvert_exporter": "python",
   "pygments_lexer": "ipython3",
   "version": "3.7.0"
  }
 },
 "nbformat": 4,
 "nbformat_minor": 2
}
