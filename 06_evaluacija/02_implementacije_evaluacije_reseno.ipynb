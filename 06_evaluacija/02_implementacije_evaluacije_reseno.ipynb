{
 "cells": [
  {
   "cell_type": "code",
   "execution_count": 1,
   "metadata": {},
   "outputs": [],
   "source": [
    "import numpy as np\n",
    "import pandas as pd\n",
    "from matplotlib import pyplot as plt"
   ]
  },
  {
   "cell_type": "code",
   "execution_count": 2,
   "metadata": {},
   "outputs": [],
   "source": [
    "from sklearn import linear_model \n",
    "from sklearn import model_selection \n",
    "from sklearn import metrics\n",
    "from sklearn import datasets"
   ]
  },
  {
   "cell_type": "code",
   "execution_count": 3,
   "metadata": {},
   "outputs": [],
   "source": [
    "data = datasets.load_breast_cancer()\n",
    "x = data.data\n",
    "y = data.target"
   ]
  },
  {
   "cell_type": "markdown",
   "metadata": {},
   "source": [
    "Napisati funkciju koja deli zadate skupove `x` i `y` na *trening* i *test* skupove u zadatoj razmeri.\n",
    "\n",
    "Funkcija vraca skupove *x_train*, *x_test*, *y_train* i *y_test*.\n",
    "\n",
    "Funkcija treba da oponasa funkcionalnosti `train_test_split()` metode."
   ]
  },
  {
   "cell_type": "code",
   "execution_count": 4,
   "metadata": {},
   "outputs": [],
   "source": [
    "def data_split(x, y, ratio):\n",
    "    N = int(y.size * ratio)\n",
    "    \n",
    "    x_train = x[:N, :]\n",
    "    y_train = y[:N]\n",
    "    \n",
    "    x_test = x[N:, :]\n",
    "    y_test = y[N:]\n",
    "    \n",
    "    return x_train, x_test, y_train, y_test"
   ]
  },
  {
   "cell_type": "code",
   "execution_count": 5,
   "metadata": {},
   "outputs": [],
   "source": [
    "x_train, x_test, y_train, y_test = data_split(x, y, 0.67)"
   ]
  },
  {
   "cell_type": "code",
   "execution_count": 6,
   "metadata": {},
   "outputs": [
    {
     "data": {
      "text/plain": [
       "(381,)"
      ]
     },
     "execution_count": 6,
     "metadata": {},
     "output_type": "execute_result"
    }
   ],
   "source": [
    "y_train.shape"
   ]
  },
  {
   "cell_type": "code",
   "execution_count": 7,
   "metadata": {},
   "outputs": [
    {
     "data": {
      "text/plain": [
       "(188,)"
      ]
     },
     "execution_count": 7,
     "metadata": {},
     "output_type": "execute_result"
    }
   ],
   "source": [
    "y_test.shape"
   ]
  },
  {
   "cell_type": "markdown",
   "metadata": {},
   "source": [
    "Napisati funkciju koja uci zadati model na **trening** skupu,\n",
    "a potom evaluira i vraca vrednost funkcije greske na \n",
    "**test** skupu. \n",
    "\n",
    "Funkcija treba da objedini funkcionalnosti `.fit()`, `.predict()` i `.score()` metoda.\n"
   ]
  },
  {
   "cell_type": "code",
   "execution_count": 8,
   "metadata": {},
   "outputs": [],
   "source": [
    "def train_test_eval(model, x_train, y_train, x_test, y_test, error_function):\n",
    "    model.fit(x_train, y_train)\n",
    "    y_predicted = model.predict(x_test)\n",
    "    return error_function(y_test, y_predicted)"
   ]
  },
  {
   "cell_type": "markdown",
   "metadata": {},
   "source": [
    "Napisati funkciju koja podelom skupova `x` i  `y` u zadatoj razmeri\n",
    "na *trening* i *validacioni* skup odredjuje iz skupa\n",
    "zadatih konfiguracija onu vrednost konfiguracionog parametra\n",
    "za koju model daje najmanju gresku.\n",
    "\n",
    "Funkcija vraca **najbolji** model."
   ]
  },
  {
   "cell_type": "code",
   "execution_count": 9,
   "metadata": {},
   "outputs": [],
   "source": [
    "def train_valid_select(x, y, ratio, error_function, configure_model, configs):\n",
    "    x_train, x_validation, y_train, y_validation = data_split(x, y, ratio)\n",
    "    \n",
    "    errors = []\n",
    "    for c in configs:\n",
    "        model = configure_model(c)\n",
    "        error = train_test_eval(model, x_train, y_train,\\\n",
    "                                x_validation, y_validation, error_function)\n",
    "        errors.append(error)\n",
    "        \n",
    "    errors = np.array(errors)\n",
    "    \n",
    "    # Biramo konfiguraciju modela koja ima najmanju gresku\n",
    "    c_best = configs[np.argmin(errors)]\n",
    "    \n",
    "    # Konfigurisemo model za tu konfiguraciju.\n",
    "    model = configure_model(c_best)\n",
    "    \n",
    "    # Obucavamo model na celokupnim podacima\n",
    "    model.fit(x, y)\n",
    "    \n",
    "    return model"
   ]
  },
  {
   "cell_type": "markdown",
   "metadata": {},
   "source": [
    "Napisati funkciju koja deli skupove na trening, test i validacione u zadatim razmerama, zatim odredjuje \n",
    "najbolji model koriscenjem `train_valid_select()` funkcije i vraca ocenu njegove greske koriscenjem \n",
    "`train_test_eval()` funkcije."
   ]
  },
  {
   "cell_type": "code",
   "execution_count": 10,
   "metadata": {},
   "outputs": [],
   "source": [
    "def train_valid_test_eval(x, y, ratios, error_function, configure_model, configs):\n",
    "    # Delimo podatke na podatke za obucavanje/validaciju i testiranje.\n",
    "    x_train_validation, x_test, y_train_validation, y_test =\\\n",
    "        data_split(x, y, ratios[0] + ratios[1])\n",
    "\n",
    "    r = ratios[0] / (ratios[0] + ratios[1])\n",
    "    \n",
    "    # Trazimo model sa najboljom konfiguracijom.\n",
    "    model = train_valid_select(x_train_validation, y_train_validation,\\\n",
    "                               r, error_function, configure_model, configs)\n",
    "    \n",
    "    # Evaluiramo dobijeni model na zasebnom skupu podataka za testiranje.\n",
    "    y_predicted = model.predict(x_test)\n",
    "    return model, error_function(y_test, y_predicted)"
   ]
  },
  {
   "cell_type": "markdown",
   "metadata": {},
   "source": [
    "Funkcija omotac kojom se moze konfigurisati logisticka regresija."
   ]
  },
  {
   "cell_type": "code",
   "execution_count": 11,
   "metadata": {},
   "outputs": [],
   "source": [
    "def configure_logistic_model(c):\n",
    "    return linear_model.LogisticRegression(C=c)"
   ]
  },
  {
   "cell_type": "markdown",
   "metadata": {},
   "source": [
    "Funkcija koja se moze koristiti za ocenu greske klasifikacije."
   ]
  },
  {
   "cell_type": "code",
   "execution_count": 12,
   "metadata": {},
   "outputs": [],
   "source": [
    "def classification_error(y_true, y_predicted):\n",
    "    return 1 - metrics.accuracy_score(y_true, y_predicted)"
   ]
  },
  {
   "cell_type": "markdown",
   "metadata": {},
   "source": [
    "Skup vrednosti koji se moze koristiti za konfiguraciju modela. "
   ]
  },
  {
   "cell_type": "code",
   "execution_count": 13,
   "metadata": {},
   "outputs": [],
   "source": [
    "configurations = [10**i for i in range(-5, 5)]"
   ]
  },
  {
   "cell_type": "markdown",
   "metadata": {},
   "source": [
    "Trazimo najbolju konfiguraciju za model i vracamo model koji je obucen sa tom najboljom konfiguracijom.\n",
    "\n",
    "Ipak ne znamo ovde kakva je preciznost modela koji ce vratiti funkcija (primer sluzi da prikaze koriscenje funkcije). Dalji koraci bi ovde bili da se `model` evaluira na skupu podataka koji do sada **nije vidjen niti koriscen**."
   ]
  },
  {
   "cell_type": "code",
   "execution_count": 14,
   "metadata": {},
   "outputs": [],
   "source": [
    "model = train_valid_select(x, y, 0.8, classification_error,\\\n",
    "                           configure_logistic_model, configurations)"
   ]
  },
  {
   "cell_type": "markdown",
   "metadata": {},
   "source": [
    "Vrsimo podelu na skupove za trening, validaciju i testiranje. Rezultat rada funkcije je\n",
    "evaluirana preciznost/greska modela kao i model obucen na uniji skupova za trening i validaciju."
   ]
  },
  {
   "cell_type": "code",
   "execution_count": 15,
   "metadata": {},
   "outputs": [
    {
     "name": "stdout",
     "output_type": "stream",
     "text": [
      "Error: 0.07018\n",
      "Accuracy: 0.9298\n"
     ]
    }
   ],
   "source": [
    "model, error = train_valid_test_eval(x, y, [0.6, 0.2, 0.2], classification_error,\\\n",
    "                      configure_logistic_model, configurations)\n",
    "print('Error: {:.4}'.format(error))\n",
    "print('Accuracy: {:.4}'.format(1-error))"
   ]
  },
  {
   "cell_type": "markdown",
   "metadata": {},
   "source": [
    "## Unakrsna validacija i ugnezdjena unakrsna validacija"
   ]
  },
  {
   "cell_type": "markdown",
   "metadata": {},
   "source": [
    "Napisati funkciju koja koriscenjem unakrsne validacija evaluira zadati model. \n",
    "\n",
    "Funkcija treba da vrati vrednost greske modela."
   ]
  },
  {
   "cell_type": "code",
   "execution_count": 16,
   "metadata": {},
   "outputs": [],
   "source": [
    "def cross_validation_evaluation(model, x, y, number_of_folds, error_function):\n",
    "    y_predicted = np.empty(y.size)\n",
    "    \n",
    "    # Generisemo indekse za odabir slojeva\n",
    "    ix = np.arange(0, x.shape[0]) % number_of_folds\n",
    "    \n",
    "    for i in range(number_of_folds):\n",
    "        x_train = x[ix != i, :]\n",
    "        y_train = y[ix != i]\n",
    "        \n",
    "        y_test = y[ix == i]\n",
    "        x_test = x[ix == i, :]\n",
    "        \n",
    "        model.fit(x_train, y_train)\n",
    "        y_predicted[ix == i] = model.predict(x_test)\n",
    "        \n",
    "    return error_function(y, y_predicted)"
   ]
  },
  {
   "cell_type": "markdown",
   "metadata": {},
   "source": [
    "#### Odabir najbolje konfiguracije koriscenjem unakrsne validacije"
   ]
  },
  {
   "cell_type": "markdown",
   "metadata": {},
   "source": [
    "Napisati funkciju koja koriscenjem unakrsne validacije bira najbolju konfiguraciju za zadati model.\n",
    "\n",
    "Funkcija vraca najbolji model. "
   ]
  },
  {
   "cell_type": "code",
   "execution_count": 17,
   "metadata": {},
   "outputs": [],
   "source": [
    "def cross_validation_selection(x, y, number_of_folds, error_function, configure_model, configs):\n",
    "    errors = []\n",
    "    \n",
    "    for c in configs:\n",
    "        model = configure_model(c)\n",
    "        error = cross_validation_evaluation(model, x, y, number_of_folds, error_function)\n",
    "        errors.append(error)\n",
    "        \n",
    "    errors = np.array(errors)\n",
    "    c_best = configs[np.argmin(errors)]\n",
    "    \n",
    "    model = configure_model(c_best)\n",
    "    model.fit(x, y)\n",
    "    \n",
    "    return model"
   ]
  },
  {
   "cell_type": "markdown",
   "metadata": {},
   "source": [
    "Uocite slicnost sa funkcijom `train_valid_select`."
   ]
  },
  {
   "cell_type": "markdown",
   "metadata": {},
   "source": [
    "#### Ugnezdjena unakrsna validacija\n",
    "Napisati funkciju koja koriscenjem ugnjezdene unakrsne velidacije daje ocenu greske modela."
   ]
  },
  {
   "cell_type": "code",
   "execution_count": 18,
   "metadata": {},
   "outputs": [],
   "source": [
    "def nested_cross_validation_evaluation(x, y, number_of_folds, error_function, configure_model, configs):\n",
    "    y_predicted = np.empty(y.size)\n",
    "    ix = np.arange(0, x.shape[0]) % number_of_folds\n",
    "    \n",
    "    for i in range(number_of_folds):\n",
    "        x_train_validation = x[ix != i]\n",
    "        y_train_validation = y[ix != i]\n",
    "        \n",
    "        x_test = x[ix == i]\n",
    "        y_test = y[ix == i]\n",
    "        \n",
    "        model = cross_validation_selection(x_train_validation, y_train_validation,\\\n",
    "                                           number_of_folds, error_function, configure_model, configs)\n",
    "        \n",
    "        y_predicted[ix == i] = model.predict(x_test)\n",
    "        \n",
    "    return error_function(y, y_predicted)"
   ]
  },
  {
   "cell_type": "code",
   "execution_count": 19,
   "metadata": {},
   "outputs": [
    {
     "data": {
      "text/plain": [
       "0.04393673110720564"
      ]
     },
     "execution_count": 19,
     "metadata": {},
     "output_type": "execute_result"
    }
   ],
   "source": [
    "nested_cross_validation_evaluation(x, y, 5, classification_error, configure_logistic_model, configurations)"
   ]
  }
 ],
 "metadata": {
  "kernelspec": {
   "display_name": "Python 3",
   "language": "python",
   "name": "python3"
  },
  "language_info": {
   "codemirror_mode": {
    "name": "ipython",
    "version": 3
   },
   "file_extension": ".py",
   "mimetype": "text/x-python",
   "name": "python",
   "nbconvert_exporter": "python",
   "pygments_lexer": "ipython3",
   "version": "3.7.0"
  }
 },
 "nbformat": 4,
 "nbformat_minor": 2
}
