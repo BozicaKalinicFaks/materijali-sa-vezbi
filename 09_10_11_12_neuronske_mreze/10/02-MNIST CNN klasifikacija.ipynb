{
 "cells": [
  {
   "cell_type": "markdown",
   "metadata": {},
   "source": [
    "# MNIST CNN klasifikacija"
   ]
  },
  {
   "cell_type": "markdown",
   "metadata": {},
   "source": [
    "U ovoj svesci bavićemo se, takođe, zadatkom klasifikacije MNIST slika. U pristupu ćemo koristiti konvolutivne neuronske mreže."
   ]
  },
  {
   "cell_type": "markdown",
   "metadata": {},
   "source": [
    "Prvo ćemo učitati sve neophodne biblioteke."
   ]
  },
  {
   "cell_type": "code",
   "execution_count": 26,
   "metadata": {},
   "outputs": [],
   "source": [
    "import numpy as np\n",
    "from matplotlib import pyplot as plt"
   ]
  },
  {
   "cell_type": "code",
   "execution_count": 18,
   "metadata": {},
   "outputs": [],
   "source": [
    "import keras\n",
    "from keras.datasets import mnist\n",
    "from keras.models import Sequential\n",
    "from keras.layers import Dense, Dropout, Flatten\n",
    "from keras.layers import Conv2D, MaxPooling2D\n",
    "from keras import optimizers\n",
    "from keras import utils\n",
    "from keras import backend as K"
   ]
  },
  {
   "cell_type": "code",
   "execution_count": 27,
   "metadata": {},
   "outputs": [],
   "source": [
    "np.random.seed(7)"
   ]
  },
  {
   "cell_type": "markdown",
   "metadata": {},
   "source": [
    "## Korak 1: Učitavanje skupa podataka"
   ]
  },
  {
   "cell_type": "markdown",
   "metadata": {},
   "source": [
    "Da bismo učitali podatke, iskoristićemo podršku Keras biblioteke."
   ]
  },
  {
   "cell_type": "code",
   "execution_count": 3,
   "metadata": {},
   "outputs": [],
   "source": [
    "(X_train, y_train), (X_test, y_test) = mnist.load_data()"
   ]
  },
  {
   "cell_type": "markdown",
   "metadata": {},
   "source": [
    "Prilikom obrade slika ulazi u mrežu treba da budu 4D tenzori. Uzimaju se u obzir širina i visina slike, broj kanala (jedan za monohromatske ili tri za RGB slike) i broj instacni. Stoga je učitane podatke potrebno transformisati na ovaj oblik. "
   ]
  },
  {
   "cell_type": "markdown",
   "metadata": {},
   "source": [
    "<img src='assets/4D_tensor.png'>"
   ]
  },
  {
   "cell_type": "markdown",
   "metadata": {},
   "source": [
    "Postoje dve konvencije zapisa slika. `Channels last` zapis je oblika `(samples, height, width, color_depth)`, a `chanell first` oblika `(samples, color_depth, height, width)`. Keras biblioteka (i TensorFlow) podrazumevano koriste `Channel last` zapis. Tako se, na primer, paketić veličine 128 koji sadrži crno-bele slike dimenzija 256x256 opisuje tenzorom dimenzija (128, 256, 256, 1), a recimo, paketić veličine 128 slika koje su u RGB modu tenzorom dimenzija (128, 256, 256, 3)."
   ]
  },
  {
   "cell_type": "markdown",
   "metadata": {},
   "source": [
    "Sledeći kod proverava koje od ovih podešavanja važi. U daljem radu se svakako možemo osloniti na podrazumevana podešavanja."
   ]
  },
  {
   "cell_type": "markdown",
   "metadata": {},
   "source": [
    "Dimenzije slike ćemo sačuvati na nivou `img_rows` i `img_cols` promenljivih."
   ]
  },
  {
   "cell_type": "code",
   "execution_count": 4,
   "metadata": {},
   "outputs": [],
   "source": [
    "img_rows = 28\n",
    "img_cols = 28"
   ]
  },
  {
   "cell_type": "code",
   "execution_count": 5,
   "metadata": {},
   "outputs": [],
   "source": [
    "if K.image_data_format() == 'channels_first':\n",
    "    X_train = X_train.reshape(X_train.shape[0], 1, img_rows, img_cols)\n",
    "    X_test = X_test.reshape(X_test.shape[0], 1, img_rows, img_cols)\n",
    "    input_shape = (1, img_rows, img_cols)\n",
    "else:\n",
    "    X_train = X_train.reshape(X_train.shape[0], img_rows, img_cols, 1)\n",
    "    X_test = X_test.reshape(X_test.shape[0], img_rows, img_cols, 1)\n",
    "    input_shape = (img_rows, img_cols, 1)"
   ]
  },
  {
   "cell_type": "code",
   "execution_count": null,
   "metadata": {},
   "outputs": [],
   "source": []
  },
  {
   "cell_type": "markdown",
   "metadata": {},
   "source": [
    "## Korak 2: Priprema podataka"
   ]
  },
  {
   "cell_type": "markdown",
   "metadata": {},
   "source": [
    "Slike ćemo pripremiti tako što ćemo ih normalizovati, tj. svesti vrednosti pojedinačnih piksela na vrednost iz intervala iz [0, 1]. Prethodno ćemo promeniti tip elemenata matrice sa uint8 na float32 kako bi mogli da sačuvamo realne vrednosti."
   ]
  },
  {
   "cell_type": "code",
   "execution_count": 6,
   "metadata": {},
   "outputs": [],
   "source": [
    "X_train = X_train.astype('float32')\n",
    "X_train /= 255"
   ]
  },
  {
   "cell_type": "code",
   "execution_count": 7,
   "metadata": {},
   "outputs": [],
   "source": [
    "X_test = X_test.astype('float32')\n",
    "X_test /= 255"
   ]
  },
  {
   "cell_type": "code",
   "execution_count": 8,
   "metadata": {},
   "outputs": [
    {
     "data": {
      "text/plain": [
       "(60000, 28, 28, 1)"
      ]
     },
     "execution_count": 8,
     "metadata": {},
     "output_type": "execute_result"
    }
   ],
   "source": [
    "X_train.shape"
   ]
  },
  {
   "cell_type": "code",
   "execution_count": 9,
   "metadata": {},
   "outputs": [
    {
     "data": {
      "text/plain": [
       "(10000, 28, 28, 1)"
      ]
     },
     "execution_count": 9,
     "metadata": {},
     "output_type": "execute_result"
    }
   ],
   "source": [
    "X_test.shape"
   ]
  },
  {
   "cell_type": "code",
   "execution_count": null,
   "metadata": {},
   "outputs": [],
   "source": []
  },
  {
   "cell_type": "markdown",
   "metadata": {},
   "source": [
    "Vrednosti ciljne promenljive ćemo pripremiti tako što ćemo ih transformisati u vektore dužine 10 sa jedinicom na poziciji koja odgovara vrednosti cifre (takozvano *one-hot* kodiranje). Na primer, broj 3 će biti transformisan u vektor \\[0, 0, 0, 1, 0, 0, 0, 0, 0, 0\\] sa jedinicom na poziciji tri. \n",
    "\n",
    "Za ovu transformaciju iskoristićemo funkciju `to_categorical` paketa `keras.utils`."
   ]
  },
  {
   "cell_type": "code",
   "execution_count": 10,
   "metadata": {},
   "outputs": [],
   "source": [
    "number_of_classes = 10\n",
    "\n",
    "y_train = utils.to_categorical(y_train, number_of_classes)\n",
    "y_test = utils.to_categorical(y_test, number_of_classes)"
   ]
  },
  {
   "cell_type": "markdown",
   "metadata": {},
   "source": [
    "## Korak 3: Pravljenje modela"
   ]
  },
  {
   "cell_type": "markdown",
   "metadata": {},
   "source": [
    "Naš model će se sastojati iz više konvolutivnih i agregacionih slojeva. "
   ]
  },
  {
   "cell_type": "markdown",
   "metadata": {},
   "source": [
    "Konvolutivni slojevi `Conv2D` se konfigurišu tako što se prvo navede broj filtera (parametar `filters`, obično neimenovan), zatim veličine kernela (`kernel_size` parametar), veličina pomeraja (parametar `strides`) i uokvirenje (`padding` parametar). <img src='assets/convolution_operation.gif' style='height: 300px'>"
   ]
  },
  {
   "cell_type": "markdown",
   "metadata": {},
   "source": [
    "Na primer, na slici je prikazan kernel veličine 3x3 koji prolazi kroz ulaz sa horizontalnim i vertikalnim pomerajem veličine 2. Dodati beli skup kvadrata predstavlja uokvirenje i u zavisnosti od njegovog prisustva veličina izlazne slike može biti istih dimenzija (u Keras biblioteci se ovo naglašava vrednošću same) ili nešto manja (u Keras biblioteci se ovo naglašava vrednošću valid). "
   ]
  },
  {
   "cell_type": "markdown",
   "metadata": {},
   "source": [
    "Agregacioni slojevi (`MaxPooling2D` i `AvgPooling2D`) vrše redukciju slojeva svođenjem blokova zadatih večina na njihove maksimalne ili prosečne vrednosti. Veličina bloka zadaje se parametrom `pool_size`. <img src='assets/pooling.png' style='width: 300px'>"
   ]
  },
  {
   "cell_type": "code",
   "execution_count": null,
   "metadata": {},
   "outputs": [],
   "source": []
  },
  {
   "cell_type": "markdown",
   "metadata": {},
   "source": [
    "Prilikom treniranja koristićemo i `Dropout` tehniku regularizacije. Podsetimo se da na ovaj način isključujemo nasumično odabrane neurone i omogućavamo drugačiji protok podataka kroz mrežu. <img src='assets/dropout.png'>"
   ]
  },
  {
   "cell_type": "markdown",
   "metadata": {},
   "source": [
    "Funkcija `Flatten` se koristi za transformisanje matrica u vektore i obično se koristi kao priprema za dalji gusti deo mreže. "
   ]
  },
  {
   "cell_type": "code",
   "execution_count": 12,
   "metadata": {},
   "outputs": [],
   "source": [
    "model = Sequential()\n",
    "model.add(Conv2D(32, kernel_size=(3, 3), strides=(1, 1), padding='same', activation='relu', input_shape=input_shape))\n",
    "model.add(Conv2D(64, (3, 3), strides=(1, 1), padding='same', activation='relu'))\n",
    "model.add(MaxPooling2D(pool_size=(2, 2)))\n",
    "model.add(Dropout(0.25))\n",
    "model.add(Flatten())\n",
    "model.add(Dense(128, activation='relu'))\n",
    "model.add(Dropout(0.5))\n",
    "model.add(Dense(number_of_classes, activation='softmax'))"
   ]
  },
  {
   "cell_type": "markdown",
   "metadata": {},
   "source": [
    "Prikaz modela i uvid u broj parametara koje mreža treba da nauči možemo da dobijemo pozivom funkcije `summary`."
   ]
  },
  {
   "cell_type": "code",
   "execution_count": 13,
   "metadata": {},
   "outputs": [
    {
     "name": "stdout",
     "output_type": "stream",
     "text": [
      "Model: \"sequential_2\"\n",
      "_________________________________________________________________\n",
      "Layer (type)                 Output Shape              Param #   \n",
      "=================================================================\n",
      "conv2d_3 (Conv2D)            (None, 28, 28, 32)        320       \n",
      "_________________________________________________________________\n",
      "conv2d_4 (Conv2D)            (None, 28, 28, 64)        18496     \n",
      "_________________________________________________________________\n",
      "max_pooling2d_2 (MaxPooling2 (None, 14, 14, 64)        0         \n",
      "_________________________________________________________________\n",
      "dropout_3 (Dropout)          (None, 14, 14, 64)        0         \n",
      "_________________________________________________________________\n",
      "flatten_2 (Flatten)          (None, 12544)             0         \n",
      "_________________________________________________________________\n",
      "dense_2 (Dense)              (None, 128)               1605760   \n",
      "_________________________________________________________________\n",
      "dropout_4 (Dropout)          (None, 128)               0         \n",
      "_________________________________________________________________\n",
      "dense_3 (Dense)              (None, 10)                1290      \n",
      "=================================================================\n",
      "Total params: 1,625,866\n",
      "Trainable params: 1,625,866\n",
      "Non-trainable params: 0\n",
      "_________________________________________________________________\n"
     ]
    }
   ],
   "source": [
    "model.summary()"
   ]
  },
  {
   "cell_type": "markdown",
   "metadata": {},
   "source": [
    "Arhitekturu modela mreže možemo prikazati i u formi usmerenog grafa. Za to će nam trebati biblioteke `pydot` i `graphviz`  koji se mogu instalirati, redom, komandama `conda install -c anaconda pydot` i `conda install -c anaconda graphviz`. Ova dva paketa omogućavaju rad sa `DOT` jezikom koji se koristi za opis grafova. "
   ]
  },
  {
   "cell_type": "code",
   "execution_count": 14,
   "metadata": {},
   "outputs": [],
   "source": [
    "import pydot\n",
    "from IPython.display import SVG\n",
    "from keras.utils.vis_utils import model_to_dot"
   ]
  },
  {
   "cell_type": "markdown",
   "metadata": {},
   "source": [
    "Funkcija `model_to_dot` se koristi za transformisanje modela u `DOT` zapis koji se zatim funkcijom `create` transformiše u SVG sličicu. Za prikaz SVG slika koristimo `display` funkcionalnost IPython-a."
   ]
  },
  {
   "cell_type": "code",
   "execution_count": 16,
   "metadata": {},
   "outputs": [
    {
     "data": {
      "image/svg+xml": [
       "<svg height=\"568pt\" viewBox=\"0.00 0.00 220.00 629.00\" width=\"199pt\" xmlns=\"http://www.w3.org/2000/svg\" xmlns:xlink=\"http://www.w3.org/1999/xlink\">\n",
       "<g class=\"graph\" id=\"graph0\" transform=\"scale(.9028 .9028) rotate(0) translate(4 625)\">\n",
       "<title>G</title>\n",
       "<polygon fill=\"#ffffff\" points=\"-4,4 -4,-625 216,-625 216,4 -4,4\" stroke=\"transparent\"/>\n",
       "<!-- 26711913488 -->\n",
       "<g class=\"node\" id=\"node1\">\n",
       "<title>26711913488</title>\n",
       "<polygon fill=\"none\" points=\"17.5,-584.5 17.5,-620.5 194.5,-620.5 194.5,-584.5 17.5,-584.5\" stroke=\"#000000\"/>\n",
       "<text fill=\"#000000\" font-family=\"Times,serif\" font-size=\"14.00\" text-anchor=\"middle\" x=\"106\" y=\"-598.8\">conv2d_3_input: InputLayer</text>\n",
       "</g>\n",
       "<!-- 26711965520 -->\n",
       "<g class=\"node\" id=\"node2\">\n",
       "<title>26711965520</title>\n",
       "<polygon fill=\"none\" points=\"42.5,-511.5 42.5,-547.5 169.5,-547.5 169.5,-511.5 42.5,-511.5\" stroke=\"#000000\"/>\n",
       "<text fill=\"#000000\" font-family=\"Times,serif\" font-size=\"14.00\" text-anchor=\"middle\" x=\"106\" y=\"-525.8\">conv2d_3: Conv2D</text>\n",
       "</g>\n",
       "<!-- 26711913488&#45;&gt;26711965520 -->\n",
       "<g class=\"edge\" id=\"edge1\">\n",
       "<title>26711913488-&gt;26711965520</title>\n",
       "<path d=\"M106,-584.4551C106,-576.3828 106,-566.6764 106,-557.6817\" fill=\"none\" stroke=\"#000000\"/>\n",
       "<polygon fill=\"#000000\" points=\"109.5001,-557.5903 106,-547.5904 102.5001,-557.5904 109.5001,-557.5903\" stroke=\"#000000\"/>\n",
       "</g>\n",
       "<!-- 26711964624 -->\n",
       "<g class=\"node\" id=\"node3\">\n",
       "<title>26711964624</title>\n",
       "<polygon fill=\"none\" points=\"42.5,-438.5 42.5,-474.5 169.5,-474.5 169.5,-438.5 42.5,-438.5\" stroke=\"#000000\"/>\n",
       "<text fill=\"#000000\" font-family=\"Times,serif\" font-size=\"14.00\" text-anchor=\"middle\" x=\"106\" y=\"-452.8\">conv2d_4: Conv2D</text>\n",
       "</g>\n",
       "<!-- 26711965520&#45;&gt;26711964624 -->\n",
       "<g class=\"edge\" id=\"edge2\">\n",
       "<title>26711965520-&gt;26711964624</title>\n",
       "<path d=\"M106,-511.4551C106,-503.3828 106,-493.6764 106,-484.6817\" fill=\"none\" stroke=\"#000000\"/>\n",
       "<polygon fill=\"#000000\" points=\"109.5001,-484.5903 106,-474.5904 102.5001,-484.5904 109.5001,-484.5903\" stroke=\"#000000\"/>\n",
       "</g>\n",
       "<!-- 26716003984 -->\n",
       "<g class=\"node\" id=\"node4\">\n",
       "<title>26716003984</title>\n",
       "<polygon fill=\"none\" points=\"0,-365.5 0,-401.5 212,-401.5 212,-365.5 0,-365.5\" stroke=\"#000000\"/>\n",
       "<text fill=\"#000000\" font-family=\"Times,serif\" font-size=\"14.00\" text-anchor=\"middle\" x=\"106\" y=\"-379.8\">max_pooling2d_2: MaxPooling2D</text>\n",
       "</g>\n",
       "<!-- 26711964624&#45;&gt;26716003984 -->\n",
       "<g class=\"edge\" id=\"edge3\">\n",
       "<title>26711964624-&gt;26716003984</title>\n",
       "<path d=\"M106,-438.4551C106,-430.3828 106,-420.6764 106,-411.6817\" fill=\"none\" stroke=\"#000000\"/>\n",
       "<polygon fill=\"#000000\" points=\"109.5001,-411.5903 106,-401.5904 102.5001,-411.5904 109.5001,-411.5903\" stroke=\"#000000\"/>\n",
       "</g>\n",
       "<!-- 26714209360 -->\n",
       "<g class=\"node\" id=\"node5\">\n",
       "<title>26714209360</title>\n",
       "<polygon fill=\"none\" points=\"42,-292.5 42,-328.5 170,-328.5 170,-292.5 42,-292.5\" stroke=\"#000000\"/>\n",
       "<text fill=\"#000000\" font-family=\"Times,serif\" font-size=\"14.00\" text-anchor=\"middle\" x=\"106\" y=\"-306.8\">dropout_3: Dropout</text>\n",
       "</g>\n",
       "<!-- 26716003984&#45;&gt;26714209360 -->\n",
       "<g class=\"edge\" id=\"edge4\">\n",
       "<title>26716003984-&gt;26714209360</title>\n",
       "<path d=\"M106,-365.4551C106,-357.3828 106,-347.6764 106,-338.6817\" fill=\"none\" stroke=\"#000000\"/>\n",
       "<polygon fill=\"#000000\" points=\"109.5001,-338.5903 106,-328.5904 102.5001,-338.5904 109.5001,-338.5903\" stroke=\"#000000\"/>\n",
       "</g>\n",
       "<!-- 26714840656 -->\n",
       "<g class=\"node\" id=\"node6\">\n",
       "<title>26714840656</title>\n",
       "<polygon fill=\"none\" points=\"50,-219.5 50,-255.5 162,-255.5 162,-219.5 50,-219.5\" stroke=\"#000000\"/>\n",
       "<text fill=\"#000000\" font-family=\"Times,serif\" font-size=\"14.00\" text-anchor=\"middle\" x=\"106\" y=\"-233.8\">flatten_2: Flatten</text>\n",
       "</g>\n",
       "<!-- 26714209360&#45;&gt;26714840656 -->\n",
       "<g class=\"edge\" id=\"edge5\">\n",
       "<title>26714209360-&gt;26714840656</title>\n",
       "<path d=\"M106,-292.4551C106,-284.3828 106,-274.6764 106,-265.6817\" fill=\"none\" stroke=\"#000000\"/>\n",
       "<polygon fill=\"#000000\" points=\"109.5001,-265.5903 106,-255.5904 102.5001,-265.5904 109.5001,-265.5903\" stroke=\"#000000\"/>\n",
       "</g>\n",
       "<!-- 26711929808 -->\n",
       "<g class=\"node\" id=\"node7\">\n",
       "<title>26711929808</title>\n",
       "<polygon fill=\"none\" points=\"53.5,-146.5 53.5,-182.5 158.5,-182.5 158.5,-146.5 53.5,-146.5\" stroke=\"#000000\"/>\n",
       "<text fill=\"#000000\" font-family=\"Times,serif\" font-size=\"14.00\" text-anchor=\"middle\" x=\"106\" y=\"-160.8\">dense_2: Dense</text>\n",
       "</g>\n",
       "<!-- 26714840656&#45;&gt;26711929808 -->\n",
       "<g class=\"edge\" id=\"edge6\">\n",
       "<title>26714840656-&gt;26711929808</title>\n",
       "<path d=\"M106,-219.4551C106,-211.3828 106,-201.6764 106,-192.6817\" fill=\"none\" stroke=\"#000000\"/>\n",
       "<polygon fill=\"#000000\" points=\"109.5001,-192.5903 106,-182.5904 102.5001,-192.5904 109.5001,-192.5903\" stroke=\"#000000\"/>\n",
       "</g>\n",
       "<!-- 26722699728 -->\n",
       "<g class=\"node\" id=\"node8\">\n",
       "<title>26722699728</title>\n",
       "<polygon fill=\"none\" points=\"42,-73.5 42,-109.5 170,-109.5 170,-73.5 42,-73.5\" stroke=\"#000000\"/>\n",
       "<text fill=\"#000000\" font-family=\"Times,serif\" font-size=\"14.00\" text-anchor=\"middle\" x=\"106\" y=\"-87.8\">dropout_4: Dropout</text>\n",
       "</g>\n",
       "<!-- 26711929808&#45;&gt;26722699728 -->\n",
       "<g class=\"edge\" id=\"edge7\">\n",
       "<title>26711929808-&gt;26722699728</title>\n",
       "<path d=\"M106,-146.4551C106,-138.3828 106,-128.6764 106,-119.6817\" fill=\"none\" stroke=\"#000000\"/>\n",
       "<polygon fill=\"#000000\" points=\"109.5001,-119.5903 106,-109.5904 102.5001,-119.5904 109.5001,-119.5903\" stroke=\"#000000\"/>\n",
       "</g>\n",
       "<!-- 26725832144 -->\n",
       "<g class=\"node\" id=\"node9\">\n",
       "<title>26725832144</title>\n",
       "<polygon fill=\"none\" points=\"53.5,-.5 53.5,-36.5 158.5,-36.5 158.5,-.5 53.5,-.5\" stroke=\"#000000\"/>\n",
       "<text fill=\"#000000\" font-family=\"Times,serif\" font-size=\"14.00\" text-anchor=\"middle\" x=\"106\" y=\"-14.8\">dense_3: Dense</text>\n",
       "</g>\n",
       "<!-- 26722699728&#45;&gt;26725832144 -->\n",
       "<g class=\"edge\" id=\"edge8\">\n",
       "<title>26722699728-&gt;26725832144</title>\n",
       "<path d=\"M106,-73.4551C106,-65.3828 106,-55.6764 106,-46.6817\" fill=\"none\" stroke=\"#000000\"/>\n",
       "<polygon fill=\"#000000\" points=\"109.5001,-46.5903 106,-36.5904 102.5001,-46.5904 109.5001,-46.5903\" stroke=\"#000000\"/>\n",
       "</g>\n",
       "</g>\n",
       "</svg>"
      ],
      "text/plain": [
       "<IPython.core.display.SVG object>"
      ]
     },
     "metadata": {},
     "output_type": "display_data"
    }
   ],
   "source": [
    "display(SVG(model_to_dot(model, dpi=65).create(prog='dot', format='svg')))"
   ]
  },
  {
   "cell_type": "markdown",
   "metadata": {},
   "source": [
    "Funkcija gubitka koju mreža minimizuje će biti `kategorička unakrsna entropija`. Za treniranje mreže ćemo koristiti optimizator `Adam` sa podešenim korakom učenja. "
   ]
  },
  {
   "cell_type": "code",
   "execution_count": 19,
   "metadata": {},
   "outputs": [],
   "source": [
    "model.compile(loss='categorical_crossentropy', optimizer=optimizers.Adam(learning_rate=0.001), metrics=['accuracy'])"
   ]
  },
  {
   "cell_type": "markdown",
   "metadata": {},
   "source": [
    "Mrežu ćemo trenirati koristeći paketiće veličine 128 u 12 epoha. Treniranje mreže će malo duže trajati."
   ]
  },
  {
   "cell_type": "code",
   "execution_count": 20,
   "metadata": {},
   "outputs": [],
   "source": [
    "batch_size = 128\n",
    "epochs = 12"
   ]
  },
  {
   "cell_type": "code",
   "execution_count": 22,
   "metadata": {},
   "outputs": [
    {
     "name": "stdout",
     "output_type": "stream",
     "text": [
      "WARNING:tensorflow:From /opt/anaconda3/lib/python3.7/site-packages/tensorflow/python/ops/math_ops.py:3066: to_int32 (from tensorflow.python.ops.math_ops) is deprecated and will be removed in a future version.\n",
      "Instructions for updating:\n",
      "Use tf.cast instead.\n",
      "Train on 48000 samples, validate on 12000 samples\n",
      "Epoch 1/12\n",
      "48000/48000 [==============================] - 183s 4ms/step - loss: 0.2679 - accuracy: 0.9181 - val_loss: 0.0644 - val_accuracy: 0.9823\n",
      "Epoch 2/12\n",
      "48000/48000 [==============================] - 183s 4ms/step - loss: 0.0930 - accuracy: 0.9723 - val_loss: 0.0495 - val_accuracy: 0.9850\n",
      "Epoch 3/12\n",
      "48000/48000 [==============================] - 194s 4ms/step - loss: 0.0695 - accuracy: 0.9791 - val_loss: 0.0437 - val_accuracy: 0.9860\n",
      "Epoch 4/12\n",
      "48000/48000 [==============================] - 193s 4ms/step - loss: 0.0577 - accuracy: 0.9822 - val_loss: 0.0382 - val_accuracy: 0.9886\n",
      "Epoch 5/12\n",
      "48000/48000 [==============================] - 198s 4ms/step - loss: 0.0498 - accuracy: 0.9845 - val_loss: 0.0371 - val_accuracy: 0.9898\n",
      "Epoch 6/12\n",
      "48000/48000 [==============================] - 186s 4ms/step - loss: 0.0417 - accuracy: 0.9871 - val_loss: 0.0362 - val_accuracy: 0.9896\n",
      "Epoch 7/12\n",
      "48000/48000 [==============================] - 198s 4ms/step - loss: 0.0368 - accuracy: 0.9884 - val_loss: 0.0361 - val_accuracy: 0.9897\n",
      "Epoch 8/12\n",
      "48000/48000 [==============================] - 195s 4ms/step - loss: 0.0322 - accuracy: 0.9897 - val_loss: 0.0358 - val_accuracy: 0.9901\n",
      "Epoch 9/12\n",
      "48000/48000 [==============================] - 177s 4ms/step - loss: 0.0305 - accuracy: 0.9901 - val_loss: 0.0351 - val_accuracy: 0.9913\n",
      "Epoch 10/12\n",
      "48000/48000 [==============================] - 183s 4ms/step - loss: 0.0249 - accuracy: 0.9919 - val_loss: 0.0334 - val_accuracy: 0.9914\n",
      "Epoch 11/12\n",
      "48000/48000 [==============================] - 190s 4ms/step - loss: 0.0259 - accuracy: 0.9914 - val_loss: 0.0372 - val_accuracy: 0.9903\n",
      "Epoch 12/12\n",
      "48000/48000 [==============================] - 187s 4ms/step - loss: 0.0227 - accuracy: 0.9923 - val_loss: 0.0354 - val_accuracy: 0.9912\n"
     ]
    }
   ],
   "source": [
    "history = model.fit(X_train, y_train,\n",
    "                    batch_size=batch_size,\n",
    "                    epochs=epochs,\n",
    "                    verbose=1,\n",
    "                    validation_split=0.2)"
   ]
  },
  {
   "cell_type": "code",
   "execution_count": null,
   "metadata": {},
   "outputs": [],
   "source": []
  },
  {
   "cell_type": "markdown",
   "metadata": {},
   "source": [
    "Možemo i nacrtati grafike funkcije gubitka i tačnosti u toku treniranja."
   ]
  },
  {
   "cell_type": "code",
   "execution_count": 28,
   "metadata": {},
   "outputs": [
    {
     "data": {
      "text/plain": [
       "<matplotlib.legend.Legend at 0x63f0dab90>"
      ]
     },
     "execution_count": 28,
     "metadata": {},
     "output_type": "execute_result"
    },
    {
     "data": {
      "image/png": "[encoded data removed]",
      "text/plain": [
       "<Figure size 720x288 with 2 Axes>"
      ]
     },
     "metadata": {
      "needs_background": "light"
     },
     "output_type": "display_data"
    }
   ],
   "source": [
    "plt.figure(figsize=(10, 4))\n",
    "\n",
    "plt.subplot(1, 2, 1)\n",
    "plt.title('Loss')\n",
    "plt.plot(np.arange(0, epochs), history.history['loss'], label='train')\n",
    "plt.plot(np.arange(0, epochs), history.history['val_loss'], label='val')\n",
    "plt.legend(loc='best')\n",
    "\n",
    "plt.subplot(1, 2, 2)\n",
    "plt.title('Accuracy')\n",
    "plt.plot(np.arange(0, epochs), history.history['accuracy'], label='train')\n",
    "plt.plot(np.arange(0, epochs), history.history['val_accuracy'], label='val')\n",
    "plt.legend(loc='best')"
   ]
  },
  {
   "cell_type": "markdown",
   "metadata": {},
   "source": [
    "Na osnovu ovih grafika možemo primetiti da smo sa učenjem mogli završiti nešto ranije, na primer, već oko sedme epohe."
   ]
  },
  {
   "cell_type": "code",
   "execution_count": null,
   "metadata": {},
   "outputs": [],
   "source": []
  },
  {
   "cell_type": "markdown",
   "metadata": {},
   "source": [
    "## Korak 4: Analiza i evaluacija modela"
   ]
  },
  {
   "cell_type": "markdown",
   "metadata": {},
   "source": [
    "Mrežu ćemo evaluirati na test skupu. "
   ]
  },
  {
   "cell_type": "code",
   "execution_count": 24,
   "metadata": {},
   "outputs": [
    {
     "name": "stdout",
     "output_type": "stream",
     "text": [
      "Test loss: 0.028786243012373324\n",
      "Test accuracy: 0.9915000200271606\n"
     ]
    }
   ],
   "source": [
    "score = model.evaluate(X_test, y_test, verbose=0)\n",
    "print('Test loss:', score[0])\n",
    "print('Test accuracy:', score[1])"
   ]
  },
  {
   "cell_type": "code",
   "execution_count": null,
   "metadata": {},
   "outputs": [],
   "source": []
  },
  {
   "cell_type": "markdown",
   "metadata": {},
   "source": [
    "Ispisaćemo još matricu konfuzije našeg klasifikatora."
   ]
  },
  {
   "cell_type": "code",
   "execution_count": 32,
   "metadata": {},
   "outputs": [],
   "source": [
    "y_predicted = model.predict(X_test)\n",
    "y_predicted_classes = np.argmax(y_predicted, axis = 1) "
   ]
  },
  {
   "cell_type": "code",
   "execution_count": 33,
   "metadata": {},
   "outputs": [
    {
     "data": {
      "text/plain": [
       "(10000,)"
      ]
     },
     "execution_count": 33,
     "metadata": {},
     "output_type": "execute_result"
    }
   ],
   "source": [
    "y_predicted_classes.shape"
   ]
  },
  {
   "cell_type": "code",
   "execution_count": 37,
   "metadata": {},
   "outputs": [],
   "source": [
    "y_test_classes = np.argmax(y_test, axis = 1) "
   ]
  },
  {
   "cell_type": "code",
   "execution_count": 39,
   "metadata": {},
   "outputs": [
    {
     "data": {
      "text/plain": [
       "(10000,)"
      ]
     },
     "execution_count": 39,
     "metadata": {},
     "output_type": "execute_result"
    }
   ],
   "source": [
    "y_test_classes.shape"
   ]
  },
  {
   "cell_type": "code",
   "execution_count": 44,
   "metadata": {},
   "outputs": [],
   "source": [
    "from sklearn.metrics import confusion_matrix, classification_report"
   ]
  },
  {
   "cell_type": "code",
   "execution_count": 42,
   "metadata": {},
   "outputs": [],
   "source": [
    "confusion_matrix= confusion_matrix(y_test_classes, y_predicted_classes)"
   ]
  },
  {
   "cell_type": "code",
   "execution_count": 43,
   "metadata": {},
   "outputs": [
    {
     "name": "stdout",
     "output_type": "stream",
     "text": [
      "[[ 977    0    0    1    0    0    1    0    1    0]\n",
      " [   0 1130    1    1    0    0    0    2    1    0]\n",
      " [   2    0 1024    0    0    0    0    6    0    0]\n",
      " [   0    0    2 1002    0    4    0    1    1    0]\n",
      " [   0    0    0    0  975    0    0    0    2    5]\n",
      " [   1    0    0    4    0  886    1    0    0    0]\n",
      " [   6    2    0    0    2    4  942    0    2    0]\n",
      " [   0    1    5    0    0    0    0 1019    1    2]\n",
      " [   3    1    0    1    0    0    0    1  963    5]\n",
      " [   1    1    0    0    3    3    0    2    2  997]]\n"
     ]
    }
   ],
   "source": [
    "print(confusion_matrix)"
   ]
  },
  {
   "cell_type": "code",
   "execution_count": 45,
   "metadata": {},
   "outputs": [],
   "source": [
    "report = classification_report(y_test_classes, y_predicted_classes)"
   ]
  },
  {
   "cell_type": "code",
   "execution_count": 46,
   "metadata": {},
   "outputs": [
    {
     "name": "stdout",
     "output_type": "stream",
     "text": [
      "              precision    recall  f1-score   support\n",
      "\n",
      "           0       0.99      1.00      0.99       980\n",
      "           1       1.00      1.00      1.00      1135\n",
      "           2       0.99      0.99      0.99      1032\n",
      "           3       0.99      0.99      0.99      1010\n",
      "           4       0.99      0.99      0.99       982\n",
      "           5       0.99      0.99      0.99       892\n",
      "           6       1.00      0.98      0.99       958\n",
      "           7       0.99      0.99      0.99      1028\n",
      "           8       0.99      0.99      0.99       974\n",
      "           9       0.99      0.99      0.99      1009\n",
      "\n",
      "    accuracy                           0.99     10000\n",
      "   macro avg       0.99      0.99      0.99     10000\n",
      "weighted avg       0.99      0.99      0.99     10000\n",
      "\n"
     ]
    }
   ],
   "source": [
    "print(report)"
   ]
  },
  {
   "cell_type": "markdown",
   "metadata": {},
   "source": [
    "Vidimo da je ovaj model, po svojim performansama, bolji od prethodnog model na kojem smo radili."
   ]
  },
  {
   "cell_type": "code",
   "execution_count": null,
   "metadata": {},
   "outputs": [],
   "source": []
  },
  {
   "cell_type": "markdown",
   "metadata": {},
   "source": [
    "<div class='alert alert-info'>\n",
    "    Za dalje istraživanje: \n",
    "    <a href='https://cs231n.github.io/convolutional-networks/'> CNN for visual recognition </a>\n",
    "</div>"
   ]
  },
  {
   "cell_type": "code",
   "execution_count": null,
   "metadata": {},
   "outputs": [],
   "source": []
  }
 ],
 "metadata": {
  "kernelspec": {
   "display_name": "Python 3",
   "language": "python",
   "name": "python3"
  },
  "language_info": {
   "codemirror_mode": {
    "name": "ipython",
    "version": 3
   },
   "file_extension": ".py",
   "mimetype": "text/x-python",
   "name": "python",
   "nbconvert_exporter": "python",
   "pygments_lexer": "ipython3",
   "version": "3.7.6"
  }
 },
 "nbformat": 4,
 "nbformat_minor": 4
}
